{
 "cells": [
  {
   "cell_type": "code",
   "execution_count": 2,
   "metadata": {},
   "outputs": [],
   "source": [
    "import json\n",
    "import requests"
   ]
  },
  {
   "cell_type": "code",
   "execution_count": null,
   "metadata": {},
   "outputs": [],
   "source": []
  },
  {
   "cell_type": "code",
   "execution_count": null,
   "metadata": {},
   "outputs": [],
   "source": []
  },
  {
   "cell_type": "code",
   "execution_count": null,
   "metadata": {},
   "outputs": [],
   "source": []
  },
  {
   "cell_type": "code",
   "execution_count": 3,
   "metadata": {},
   "outputs": [],
   "source": [
    "url = 'https://maps.googleapis.com/maps/api/geocode/json?address=chicago&sensor=FALSE'\n",
    "response = requests.get(url)"
   ]
  },
  {
   "cell_type": "code",
   "execution_count": 4,
   "metadata": {},
   "outputs": [
    {
     "data": {
      "text/plain": [
       "'{\\n   \"results\" : [\\n      {\\n         \"address_components\" : [\\n            {\\n               \"long_name\" : \"Chicago\",\\n               \"short_name\" : \"Chicago\",\\n               \"types\" : [ \"locality\", \"political\" ]\\n            },\\n            {\\n               \"long_name\" : \"Cook County\",\\n               \"short_name\" : \"Cook County\",\\n               \"types\" : [ \"administrative_area_level_2\", \"political\" ]\\n            },\\n            {\\n               \"long_name\" : \"Illinois\",\\n               \"short_name\" : \"IL\",\\n               \"types\" : [ \"administrative_area_level_1\", \"political\" ]\\n            },\\n            {\\n               \"long_name\" : \"United States\",\\n               \"short_name\" : \"US\",\\n               \"types\" : [ \"country\", \"political\" ]\\n            }\\n         ],\\n         \"formatted_address\" : \"Chicago, IL, USA\",\\n         \"geometry\" : {\\n            \"bounds\" : {\\n               \"northeast\" : {\\n                  \"lat\" : 42.023131,\\n                  \"lng\" : -87.52366099999999\\n               },\\n               \"southwest\" : {\\n                  \"lat\" : 41.6443349,\\n                  \"lng\" : -87.9402669\\n               }\\n            },\\n            \"location\" : {\\n               \"lat\" : 41.8781136,\\n               \"lng\" : -87.6297982\\n            },\\n            \"location_type\" : \"APPROXIMATE\",\\n            \"viewport\" : {\\n               \"northeast\" : {\\n                  \"lat\" : 42.023131,\\n                  \"lng\" : -87.52366099999999\\n               },\\n               \"southwest\" : {\\n                  \"lat\" : 41.6443349,\\n                  \"lng\" : -87.9402669\\n               }\\n            }\\n         },\\n         \"place_id\" : \"ChIJ7cv00DwsDogRAMDACa2m4K8\",\\n         \"types\" : [ \"locality\", \"political\" ]\\n      }\\n   ],\\n   \"status\" : \"OK\"\\n}\\n'"
      ]
     },
     "execution_count": 4,
     "metadata": {},
     "output_type": "execute_result"
    }
   ],
   "source": [
    "response.text"
   ]
  },
  {
   "cell_type": "code",
   "execution_count": null,
   "metadata": {},
   "outputs": [],
   "source": []
  }
 ],
 "metadata": {
  "kernelspec": {
   "display_name": "Python 3",
   "language": "python",
   "name": "python3"
  },
  "language_info": {
   "codemirror_mode": {
    "name": "ipython",
    "version": 3
   },
   "file_extension": ".py",
   "mimetype": "text/x-python",
   "name": "python",
   "nbconvert_exporter": "python",
   "pygments_lexer": "ipython3",
   "version": "3.6.4"
  }
 },
 "nbformat": 4,
 "nbformat_minor": 2
}
