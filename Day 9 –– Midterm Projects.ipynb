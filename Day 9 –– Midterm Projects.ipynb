{
 "cells": [
  {
   "cell_type": "markdown",
   "metadata": {},
   "source": [
    "## Introduction"
   ]
  },
  {
   "cell_type": "markdown",
   "metadata": {},
   "source": [
    "We're going to try and run through an \"Example Project\" today. Basically, I'm going to try and run through the basics of a web scraping project within the next couple hours, and then you're going to be able to use that sort of for your own project. I'd like it if, in addition to what we cover tonight, you try and also incorporate material we've covered in past lectures (Plotly visualizations, e.g.).\n",
    "\n",
    "Following that we're going to touch on classification and what it is. If we have any time remaining, we're going to start work on our projects."
   ]
  },
  {
   "cell_type": "markdown",
   "metadata": {},
   "source": [
    "## Libraries Used"
   ]
  },
  {
   "cell_type": "code",
   "execution_count": 2,
   "metadata": {},
   "outputs": [
    {
     "data": {
      "text/html": [
       "<script>requirejs.config({paths: { 'plotly': ['https://cdn.plot.ly/plotly-latest.min']},});if(!window.Plotly) {{require(['plotly'],function(plotly) {window.Plotly=plotly;});}}</script>"
      ],
      "text/vnd.plotly.v1+html": [
       "<script>requirejs.config({paths: { 'plotly': ['https://cdn.plot.ly/plotly-latest.min']},});if(!window.Plotly) {{require(['plotly'],function(plotly) {window.Plotly=plotly;});}}</script>"
      ]
     },
     "metadata": {},
     "output_type": "display_data"
    }
   ],
   "source": [
    "import requests\n",
    "import pandas as pd\n",
    "from bs4 import BeautifulSoup\n",
    "\n",
    "import plotly.offline as p\n",
    "import plotly.graph_objs as go\n",
    "\n",
    "p.init_notebook_mode(connected=True)\n",
    "from IPython.display import Image"
   ]
  },
  {
   "cell_type": "markdown",
   "metadata": {},
   "source": [
    "## Project Rubric"
   ]
  },
  {
   "cell_type": "code",
   "execution_count": null,
   "metadata": {},
   "outputs": [],
   "source": [
    "Image('/Users/MattMecca/Documents/Work-related material/Flatiron School/Random Notes and Documents/grading-rubric.png')"
   ]
  },
  {
   "cell_type": "markdown",
   "metadata": {},
   "source": [
    "## Example Project"
   ]
  },
  {
   "cell_type": "markdown",
   "metadata": {},
   "source": [
    "Here we've got a website (**https://www.humblebundle.com/books/big-data-books?hmb_source=navbar&hmb_medium=product_tile&hmb_campaign=tile_index_4**) and we want to scrape specific data from the responses the website's API gives us.\n",
    "\n",
    "\"**Humble Bundle** is a distribution platform selling games, ebooks, software, and other digital content. Since Humble's founding in 2010, our mission has been to support charity (\"Humble\") while providing awesome content to customers at great prices (\"Bundle\"). We started by offering only game bundles, but have branched out to include an online storefront, a monthly subscription service, a publishing initiative, and lots more.\n",
    "\n",
    "The core of our bundle \"philosophy\" is flexible pricing. When you buy a bundle, you can choose the price you want to pay. You can even choose how your money is divided – between the creators, charity, Humble Partners, and Humble Bundle.\"\n",
    "\n",
    "**Humble Bundle** has \"bundle\" deals, each for a different rate (1 dollar or more, 8 dollar or more, or 15 dollar or more). Each successive \"bundle\" includes the \"bundle\" of whatever preceded it. Our analysis will involve these bundles mainly."
   ]
  },
  {
   "cell_type": "markdown",
   "metadata": {},
   "source": [
    "## Making our HTTP GET Request"
   ]
  },
  {
   "cell_type": "code",
   "execution_count": 3,
   "metadata": {},
   "outputs": [],
   "source": [
    "url = \"https://www.humblebundle.com/books/big-data-books\"\n",
    "    "
   ]
  },
  {
   "cell_type": "code",
   "execution_count": 4,
   "metadata": {},
   "outputs": [],
   "source": [
    "response = requests.get(url)"
   ]
  },
  {
   "cell_type": "code",
   "execution_count": 4,
   "metadata": {},
   "outputs": [
    {
     "data": {
      "text/plain": [
       "'\\n<!doctype html>\\n<html lang=\\'en\\' class=\"\">\\n<head>\\n  <title>Humble Book Bundle: Big Data by Packt (pay what you want and help charity)</title>\\n\\n  <meta http-equiv=\\'Content-Type\\' content=\\'text/html; charset=utf-8\\' />\\n  <meta name=\"application-name\" content=\"Humble Bundle\">\\n  <meta name=\"msapplication-TileColor\" content=\"rgb(218,222,230)\">\\n  <meta name=\"msapplication-TileImage\" content=\"https://humblebundle-a.akamaihd.net/static/hashed/49bccd0f2050e5fcfc3c442b269d4ff47b038ed9.png\">\\n  <meta name=\\'medium\\' content=\\'news\\' />\\n  <meta name=\"theme-color\" content=\"rgb(73,79,92)\">\\n  <meta property=\\'og:site_name\\' content=\\'Humble Bundle\\' />\\n  <meta property=\\'og:type\\' content=\\'website\\' />\\n  <meta property=\"fb:app_id\" content=\"101146256651042\" />\\n  <meta property=\"fb:profile_id\" content=\"162315830478396\" />\\n  <meta property=\"fb:pages\" content=\"162315830478396\"><meta name=\"viewport\" content=\"width=device-width, initial-scale=1.0, maximum-scale=1.0, minimum-scale=1.0, user-scalable=no\"/>\\n  \\n    <link rel=\\'canonical\\' href=\\'https://www.humblebundle.com/books/big-data-books\\' />\\n    <meta content=\"Humble Book Bundle: Big Data by Packt\" name=\"title\"/><meta content=\"Pay what you want for awesome ebooks and support charity!\" name=\"description\"/><meta content=\"Humble Book Bundle: Big Data by Packt\" property=\"og:title\"/><meta content=\"Pay what you want for awesome ebooks and support charity!\" property=\"og:description\"/><meta content=\"https://www.humblebundle.com/books/big-data-books\" property=\"og:url\"/><meta content=\"https://humblebundle.imgix.net/misc/files/hashed/f806d8ae71966b643003e9a256d2cf92f2f725a5.png?auto=compress&h=630&w=1200&s=873eaebcf3afde1e874749a6954059e0\" itemprop=\"image\"/><meta content=\"https://humblebundle.imgix.net/misc/files/hashed/f806d8ae71966b643003e9a256d2cf92f2f725a5.png?auto=compress&h=630&w=1200&s=873eaebcf3afde1e874749a6954059e0\" property=\"og:image\"/><link href=\"https://humblebundle.imgix.net/misc/files/hashed/f806d8ae71966b643003e9a256d2cf92f2f725a5.png?auto=compress&h=630&w=1200&s=873eaebcf3afde1e874749a6954059e0\" rel=\"image_src\"/><meta content=\"1200\" property=\"og:image:width\"/><meta content=\"630\" property=\"og:image:height\"/><meta content=\"@humble\" name=\"twitter:site\"/><meta content=\"Pay what you want for awesome ebooks and support charity!\" name=\"twitter:description\"/><meta content=\"https://www.humblebundle.com/books/big-data-books\" name=\"twitter:url\"/><meta content=\"Humble Book Bundle: Big Data by Packt\" name=\"twitter:title\"/><meta content=\"summary_large_image\" name=\"twitter:card\"/><meta content=\"https://humblebundle.imgix.net/misc/files/hashed/84db268f61fb7b908348cbe5eef9b8c9ad858446.png?auto=compress&h=512&w=1024&s=781121eafbdf6d58bcbe82f789b875c9\" name=\"twitter:image\"/>\\n  \\n\\n  <link rel=\"apple-touch-icon\" sizes=\"144x144\" href=\"https://humblebundle-a.akamaihd.net/static/hashed/03df0490a53d595fd930f9fff52038366d60a05d.png\">\\n  <link rel=\"icon\" type=\"image/png\" sizes=\"16x16\" href=\"https://humblebundle-a.akamaihd.net/static/hashed/4c8bbc6fc7b2b8a9fa21e895afe1157188e28bfb.png\">\\n  <link rel=\"icon\" type=\"image/png\" sizes=\"32x32\" href=\"https://humblebundle-a.akamaihd.net/static/hashed/46cf2ed85a0641bfdc052121786440c70da77d75.png\">\\n  <link rel=\"shortcut icon\" href=\"https://humblebundle-a.akamaihd.net/static/hashed/47e474eed38083df699b7dfd8d29d575e3398f1e.ico\">\\n  <link rel=\"search\" type=\"application/opensearchdescription+xml\" title=\"Humble Bundle Search\" href=\"https://humblebundle-a.akamaihd.net/static/hashed/734237ad071b57a64f3b131b3f86fc7ed670e794.xml\" />\\n  <link rel=\\'alternate\\' type=\\'application/rss+xml\\' title=\\'Humble Mumble\\' href=\\'http://blog.humblebundle.com/rss\\' />\\n\\n\\n  \\n  <style>\\n    \\n    .sk-circle { margin: 6px auto; width: 30px; height: 30px; position: relative; }\\n\\n.sk-circle .sk-child { width: 100%; height: 100%; position: absolute; left: 0; top: 0; }\\n\\n.sk-circle .sk-child:before { content: \\'\\'; display: block; margin: 0 auto; width: 15%; height: 15%; background-color: #A1A7B2; border-radius: 100%; -webkit-animation: sk-circleBounceDelay 1.2s infinite ease-in-out both; animation: sk-circleBounceDelay 1.2s infinite ease-in-out both; }\\n\\n.sk-circle .sk-circle2 { -webkit-transform: rotate(30deg); -ms-transform: rotate(30deg); transform: rotate(30deg); }\\n\\n.sk-circle .sk-circle3 { -webkit-transform: rotate(60deg); -ms-transform: rotate(60deg); transform: rotate(60deg); }\\n\\n.sk-circle .sk-circle4 { -webkit-transform: rotate(90deg); -ms-transform: rotate(90deg); transform: rotate(90deg); }\\n\\n.sk-circle .sk-circle5 { -webkit-transform: rotate(120deg); -ms-transform: rotate(120deg); transform: rotate(120deg); }\\n\\n.sk-circle .sk-circle6 { -webkit-transform: rotate(150deg); -ms-transform: rotate(150deg); transform: rotate(150deg); }\\n\\n.sk-circle .sk-circle7 { -webkit-transform: rotate(180deg); -ms-transform: rotate(180deg); transform: rotate(180deg); }\\n\\n.sk-circle .sk-circle8 { -webkit-transform: rotate(210deg); -ms-transform: rotate(210deg); transform: rotate(210deg); }\\n\\n.sk-circle .sk-circle9 { -webkit-transform: rotate(240deg); -ms-transform: rotate(240deg); transform: rotate(240deg); }\\n\\n.sk-circle .sk-circle10 { -webkit-transform: rotate(270deg); -ms-transform: rotate(270deg); transform: rotate(270deg); }\\n\\n.sk-circle .sk-circle11 { -webkit-transform: rotate(300deg); -ms-transform: rotate(300deg); transform: rotate(300deg); }\\n\\n.sk-circle .sk-circle12 { -webkit-transform: rotate(330deg); -ms-transform: rotate(330deg); transform: rotate(330deg); }\\n\\n.sk-circle .sk-circle2:before { -webkit-animation-delay: -1.1s; animation-delay: -1.1s; }\\n\\n.sk-circle .sk-circle3:before { -webkit-animation-delay: -1s; animation-delay: -1s; }\\n\\n.sk-circle .sk-circle4:before { -webkit-animation-delay: -0.9s; animation-delay: -0.9s; }\\n\\n.sk-circle .sk-circle5:before { -webkit-animation-delay: -0.8s; animation-delay: -0.8s; }\\n\\n.sk-circle .sk-circle6:before { -webkit-animation-delay: -0.7s; animation-delay: -0.7s; }\\n\\n.sk-circle .sk-circle7:before { -webkit-animation-delay: -0.6s; animation-delay: -0.6s; }\\n\\n.sk-circle .sk-circle8:before { -webkit-animation-delay: -0.5s; animation-delay: -0.5s; }\\n\\n.sk-circle .sk-circle9:before { -webkit-animation-delay: -0.4s; animation-delay: -0.4s; }\\n\\n.sk-circle .sk-circle10:before { -webkit-animation-delay: -0.3s; animation-delay: -0.3s; }\\n\\n.sk-circle .sk-circle11:before { -webkit-animation-delay: -0.2s; animation-delay: -0.2s; }\\n\\n.sk-circle .sk-circle12:before { -webkit-animation-delay: -0.1s; animation-delay: -0.1s; }\\n\\n@-webkit-keyframes sk-circleBounceDelay { 0%, 80%, 100% { -webkit-transform: scale(0); transform: scale(0); }\\n  40% { -webkit-transform: scale(1); transform: scale(1); } }\\n@keyframes sk-circleBounceDelay { 0%, 80%, 100% { -webkit-transform: scale(0); transform: scale(0); }\\n  40% { -webkit-transform: scale(1); transform: scale(1); } }\\n.fixed-height { margin: 0; height: 100% !important; overflow: auto !important; }\\n\\n.disabled.gray-button { background: #e4e4e4; cursor: default; }\\n\\n.generic-popup { font-size: 16px; }\\n\\n.generic-popup a { color: #535353; }\\n\\n.generic-popup.outer-shadow { box-shadow: 0 -1px 25px rgba(0, 0, 0, 0.3); left: 50%; top: 50%; margin-left: -200px; margin-top: -200px; position: absolute; z-index: 9999; border-radius: 7px; display: none; }\\n\\n.generic-popup.content { border-radius: 7px; color: #999999; padding: 20px; background: #f5f5f5; width: 360px; position: relative; text-align: center; }\\n.generic-popup.content .description { padding: 4px 0 25px 0; }\\n\\n.generic-popup .no-center { max-width: 360px; text-align: right; position: relative; }\\n\\n.generic-popup.content h1 { font-size: 24px; text-shadow: 0 0 1px #eee; color: #666; margin-bottom: 5px; }\\n\\n.generic-popup.content h1.noimg { margin-right: 0; line-height: 32px; }\\n\\n.generic-popup.content h1 img { position: relative; top: 5px; margin-right: 15px; }\\n\\n.generic-popup.content h1 span { display: inline-block; height: 25px; width: 25px; margin-right: 15px; position: relative; top: 5px; }\\n\\n.generic-popup.content h2 { font-size: 14px; font-weight: 300; text-shadow: 0 0 1px #eee; margin: 20px 0 0 0; color: #666; }\\n\\n.generic-popup.content .split-left { color: #666; display: inline-block; text-align: left; width: 180px; }\\n\\n.generic-popup.content .split-right { color: #666; display: inline-block; text-align: right; width: 180px; }\\n\\n.generic-popup input[type=\\'text\\'], .generic-popup input[type=\\'password\\'], .generic-popup input[type=\\'email\\'] { background: none; border: 1px solid #ccc; border-top: 1px solid #999; border-radius: 3px; box-shadow: 0 1px 2px #bbb inset; padding: 9px; font-size: 16px; color: #333; display: block; width: 342px; margin: 0; }\\n.generic-popup input[type=\\'text\\'].inline-input, .generic-popup input[type=\\'password\\'].inline-input, .generic-popup input[type=\\'email\\'].inline-input { width: 150px; display: inline; }\\n\\n@-moz-document url-prefix() { .generic-popup input[type=\\'text\\'], .generic-popup input[type=\\'password\\'], .generic-popup input[type=\\'email\\'] { padding-top: 7px; } }\\n.generic-popup form p { text-align: left; position: relative; }\\n\\n.account-infield { color: #999; font-size: 16px; font-weight: normal; position: absolute; top: 8px; left: 10px; z-index: 1; }\\n\\n.account-input { position: relative; z-index: 2; }\\n.account-input.always-caps { text-transform: uppercase; }\\n\\n.generic-popup .suggest-holder { color: #c66; display: block; font-size: 90%; margin-top: -28px; position: absolute; right: 0; width: 284px; }\\n\\n.generic-popup .suggest-holder a { color: #c66; }\\n\\n.green-button { background-image: linear-gradient(to bottom, #e0ffc2 0%, #b1e37f 100%); border: 1px solid #a7c28c; border-radius: 4px; box-shadow: inset 0 1px 0 0 rgba(255, 255, 255, 0.5), 0 1px 0 0 white; color: #42661e; cursor: pointer; display: inline-block; font-weight: bold; margin: 0 0 0 5px; min-width: 50px; padding: 5px 8px 5px 8px; text-align: center; text-shadow: 0 1px rgba(255, 255, 255, 0.6); }\\n.green-button:hover:not(disabled) { background: #b1e37f; }\\n.green-button:disabled, .green-button.disabled { cursor: default; opacity: 0.4; }\\n\\n.gray-button { background-image: linear-gradient(to bottom, #f5f5f5 0%, #dedede 100%); border: 1px solid #bbb; border-radius: 4px; box-shadow: inset 0 1px 0 0 rgba(255, 255, 255, 0.5), 0 1px 0 0 white; color: #444; cursor: pointer; display: inline-block; font-weight: bold; margin: 0 0 0 5px; min-width: 50px; padding: 5px 8px 5px 8px; text-align: center; text-shadow: 0 1px rgba(255, 255, 255, 0.6); }\\n\\na:hover .gray-button { background: #e4e4e4; }\\n\\n.button-link { cursor: pointer; text-decoration: none; }\\n.button-link:disabled, .button-link.disabled { pointer-events: none; }\\n\\ninput[type=\"number\"].classy-input, input[type=\"password\"].classy-input, input[type=\"tel\"].classy-input, input[type=\"text\"].classy-input { border: 1px solid #ccc; box-shadow: inset 0 1px 0 #eee,#fff 0 1px 0; margin: 0; padding: 7px; border-radius: 3px; background-color: white; color: #999; }\\n\\n.classy-input[disabled=\\'disabled\\'] { background: #ccc; color: #333; }\\n\\n.info-tooltip > i { font-size: .8em; opacity: 0.7; transition: all 0.1s linear; }\\n.info-tooltip:hover > i, .info-tooltip:focus > i { opacity: 1; }\\n\\n.small-link, .link-holder { font-size: 12px; font-weight: normal; line-height: 20px; }\\n\\n.generic-popup .small-link { margin: .3em; text-decoration: underline; }\\n\\n.link-holder { text-align: left; position: absolute; left: 2px; top: -2px; height: 20px; width: 200px; }\\n\\n.link-holder a, .generic-popup .small-link { color: #888; }\\n\\n.link-holder a { text-decoration: none; }\\n\\n.generic-popup .clearfix { clear: both; }\\n\\n.generic-popup .center { float: none; left: 0; }\\n\\n.generic-popup.content h2.subtitle { padding-bottom: 12px; text-align: center; margin-top: 0px; }\\n\\n.generic-popup .button-holder { margin-top: 20px; }\\n\\n.subtitle.warning { font-weight: bold; }\\n\\n.generic-popup .error-holder { color: #333; font-size: 14px; padding: 0 4px; position: absolute; left: -280px; text-align: right; z-index: 10; display: none; }\\n\\n.error-holder .errorlist { margin: 0; padding: 0 0 0 30px; }\\n\\n.arrow-holder { position: absolute; left: -525px; top: 0; width: 500px; height: 42px; }\\n\\n.arrow-error { float: right; padding: 12px 0 16px 16px; background: url(\"//humblebundle-a.akamaihd.net/static/hashed/2d10ad27ca2af9ebcc54fd4322657696e5e50dec.png\") no-repeat; margin-right: -5px; margin-top: -2px; font-size: 14px; color: white; font-weight: bold; text-align: right; display: none; position: absolute; right: 0; }\\n\\n.arrow-error-right { background: url(\"//humblebundle-a.akamaihd.net/static/hashed/d00e64d9e0b5a925c42404a41014b85aecb2f0ea.png\") no-repeat; width: 26px; height: 45px; position: absolute; right: -26px; top: 0; z-index: 100; }\\n\\n.arrow-error a { color: #fff; }\\n\\n#email-errors { top: 155px; }\\n\\n.generic-popup .errorlist .error-item { color: #c66; text-decoration: none; }\\n\\n.generic-popup .message-holder { margin-bottom: 20px; line-height: 22px; font-weight: normal; }\\n\\n.generic-popup p { margin: 0 0 20px 0; padding: 0; }\\n\\n.header-text { text-transform: uppercase; font-weight: bold; font-size: 15px; }\\n\\n.account-switch { background: #ddd; border-top: 1px solid #ccc; border-bottom-right-radius: 7px; border-bottom-left-radius: 7px; margin: 20px -20px -22px; font-weight: normal; font-size: 14px; color: #333; }\\n\\n.account-switch .account-creation { color: #333; display: block; padding: 12px; text-decoration: none; }\\n.account-switch .account-creation:hover { cursor: pointer; }\\n\\n.button-holder-msg { top: 0px; font-size: 12px; margin-top: 10px; margin-bottom: -10px; color: red; }\\n.button-holder-msg .arrow-error-right { display: none; }\\n\\n.account-switch .account-creation .create-inner { font-weight: bold; text-decoration: underline; }\\n\\n.grayout, .generic-bbm-wrapper { background: url(\"//humblebundle-a.akamaihd.net/static/hashed/cb322c1cdfcdae03f826d02c39b7d998800d15c6.png\"); }\\n\\n.grayout { position: fixed; top: 0; left: 0; z-index: 998; right: 0; bottom: 0; background: rgba(40, 44, 52, 0.85); display: none; }\\n\\n.grayout-inner { position: relative; width: 100%; height: 100%; }\\n\\n.slide-down { display: none; }\\n\\n.above-text-label { display: block; text-align: left; margin-bottom: 8px; }\\n\\n/* Modal positioning */\\n.generic-bbm-wrapper { position: fixed; left: 0; top: 0; width: 100%; height: 100%; z-index: 998; background: rgba(0, 0, 0, 0.5); overflow-x: auto; overflow-y: auto; }\\n\\n.generic-bbm-modal { position: relative; top: calc(50% - 250px); left: calc(50% - 200px); width: 276px; }\\n\\n.generic-bbm-modal.eula-modal { top: calc(50% - 360px); left: calc(50% - 300px); width: 600px; }\\n.generic-bbm-modal.eula-modal .generic-popup.content { width: 100%; height: 100%; }\\n.generic-bbm-modal.eula-modal .generic-popup.content .message-holder { max-height: 500px; text-align: left; white-space: pre-line; overflow-x: hidden; overflow-y: scroll; }\\n.generic-bbm-modal.eula-modal .generic-popup.content .noimg { font-size: 22px; margin: 0.25em 0; }\\n\\n.generic-bbm-views { width: 100%; }\\n\\n/* Modal theme */\\n.generic-bbm-wrapper { -webkit-transition: background-color 0.3s; }\\n\\n.generic-bbm-modal { border-radius: 3px; box-shadow: 0 -1px 25px rgba(0, 0, 0, 0.3); box-sizing: initial; }\\n\\n/* Animations */\\n/* Open modal */\\n@keyframes generic-bbm-open { 0% { transform: matrix(0.99126, 0, 0, 0.99126, 0, 43.8813); opacity: 0.1259; }\\n  4% { transform: matrix(0.99295, 0, 0, 0.99295, 0, 45.06809); opacity: 0.29544; }\\n  8% { transform: matrix(0.99467, 0, 0, 0.99467, 0, 46.26922); opacity: 0.46703; }\\n  12% { transform: matrix(0.99619, 0, 0, 0.99619, 0, 47.33355); opacity: 0.61908; }\\n  16% { transform: matrix(0.99743, 0, 0, 0.99743, 0, 48.19991); opacity: 0.74284; }\\n  20% { transform: matrix(0.99837, 0, 0, 0.99837, 0, 48.86067); opacity: 0.83724; }\\n  24% { transform: matrix(0.99905, 0, 0, 0.99905, 0, 49.33658); opacity: 0.90523; }\\n  28% { transform: matrix(0.99952, 0, 0, 0.99952, 0, 49.66049); opacity: 0.9515; }\\n  32% { transform: matrix(0.99981, 0, 0, 0.99981, 0, 49.8675); opacity: 0.98107; }\\n  36% { transform: matrix(0.99999, 0, 0, 0.99999, 0, 49.98966); opacity: 0.99852; }\\n  40% { transform: matrix(1.00008, 0, 0, 1.00008, 0, 50.05361); opacity: 1.00766; }\\n  44% { transform: matrix(1.00011, 0, 0, 1.00011, 0, 50.08); opacity: 1.01143; }\\n  48% { transform: matrix(1.00012, 0, 0, 1.00012, 0, 50.08394); opacity: 1.01199; }\\n  52% { transform: matrix(1.00011, 0, 0, 1.00011, 0, 50.07589); opacity: 1.01084; }\\n  56% { transform: matrix(1.00009, 0, 0, 1.00009, 0, 50.06265); opacity: 1.00895; }\\n  60% { transform: matrix(1.00007, 0, 0, 1.00007, 0, 50.04833); opacity: 1.0069; }\\n  64% { transform: matrix(1.00005, 0, 0, 1.00005, 0, 50.03518); opacity: 1.00503; }\\n  68% { transform: matrix(1.00004, 0, 0, 1.00004, 0, 50.02421); opacity: 1.00346; }\\n  72% { transform: matrix(1.00002, 0, 0, 1.00002, 0, 50.01567); opacity: 1.00224; }\\n  76% { transform: matrix(1.00001, 0, 0, 1.00001, 0, 50.00941); opacity: 1.00134; }\\n  80% { transform: matrix(1.00001, 0, 0, 1.00001, 0, 50.00506); opacity: 1.00072; }\\n  84% { transform: matrix(1, 0, 0, 1, 0, 50.00223); opacity: 1.00032; }\\n  88% { transform: matrix(1, 0, 0, 1, 0, 50.0005); opacity: 1.00007; }\\n  92% { transform: matrix(1, 0, 0, 1, 0, 49.99956); opacity: 0.99994; }\\n  96% { transform: matrix(1, 0, 0, 1, 0, 49.99913); opacity: 0.99988; }\\n  100% { transform: matrix(1, 0, 0, 1, 0, 50); opacity: 1; } }\\n.generic-bbm-modal--open { animation-duration: 0.3s; animation-name: generic-bbm-open; animation-timing-function: linear; animation-fill-mode: both; transform-origin: 50% 50%; backface-visibility: hidden; }\\n\\n/* Open a stacked modal */\\n@-webkit-keyframes generic-bbm-stacked { 0% { -webkit-transform: matrix(0.99874, 0, 0, 0.99874, 0, 49.1187); opacity: 0.93705; }\\n  4% { -webkit-transform: matrix(0.99705, 0, 0, 0.99705, 0, 47.93192); opacity: 0.85228; }\\n  8% { -webkit-transform: matrix(0.99533, 0, 0, 0.99533, 0, 46.73078); opacity: 0.76648; }\\n  12% { -webkit-transform: matrix(0.99381, 0, 0, 0.99381, 0, 45.66645); opacity: 0.69046; }\\n  16% { -webkit-transform: matrix(0.99257, 0, 0, 0.99257, 0, 44.80009); opacity: 0.62858; }\\n  20% { -webkit-transform: matrix(0.99163, 0, 0, 0.99163, 0, 44.13933); opacity: 0.58138; }\\n  24% { -webkit-transform: matrix(0.99095, 0, 0, 0.99095, 0, 43.66342); opacity: 0.54739; }\\n  28% { -webkit-transform: matrix(0.99049, 0, 0, 0.99049, 0, 43.33951); opacity: 0.52425; }\\n  32% { -webkit-transform: matrix(0.99019, 0, 0, 0.99019, 0, 43.1325); opacity: 0.50946; }\\n  36% { -webkit-transform: matrix(0.99002, 0, 0, 0.99002, 0, 43.01034); opacity: 0.50074; }\\n  40% { -webkit-transform: matrix(0.98992, 0, 0, 0.98992, 0, 42.94639); opacity: 0.49617; }\\n  44% { -webkit-transform: matrix(0.98989, 0, 0, 0.98989, 0, 42.92001); opacity: 0.49429; }\\n  48% { -webkit-transform: matrix(0.98988, 0, 0, 0.98988, 0, 42.91606); opacity: 0.494; }\\n  52% { -webkit-transform: matrix(0.98989, 0, 0, 0.98989, 0, 42.92411); opacity: 0.49458; }\\n  56% { -webkit-transform: matrix(0.98991, 0, 0, 0.98991, 0, 42.93736); opacity: 0.49553; }\\n  60% { -webkit-transform: matrix(0.98993, 0, 0, 0.98993, 0, 42.95167); opacity: 0.49655; }\\n  64% { -webkit-transform: matrix(0.98995, 0, 0, 0.98995, 0, 42.96482); opacity: 0.49749; }\\n  68% { -webkit-transform: matrix(0.98997, 0, 0, 0.98997, 0, 42.97579); opacity: 0.49827; }\\n  72% { -webkit-transform: matrix(0.98998, 0, 0, 0.98998, 0, 42.98433); opacity: 0.49888; }\\n  76% { -webkit-transform: matrix(0.98999, 0, 0, 0.98999, 0, 42.99059); opacity: 0.49933; }\\n  80% { -webkit-transform: matrix(0.98999, 0, 0, 0.98999, 0, 42.99494); opacity: 0.49964; }\\n  84% { -webkit-transform: matrix(0.99, 0, 0, 0.99, 0, 42.99777); opacity: 0.49984; }\\n  88% { -webkit-transform: matrix(0.99, 0, 0, 0.99, 0, 42.9995); opacity: 0.49996; }\\n  92% { -webkit-transform: matrix(0.99, 0, 0, 0.99, 0, 43.00044); opacity: 0.50003; }\\n  96% { -webkit-transform: matrix(0.99, 0, 0, 0.99, 0, 43.00088); opacity: 0.50006; }\\n  100% { -webkit-transform: matrix(0.99, 0, 0, 0.99, 0, 43); opacity: 0.5; } }\\n.generic-bbm-modal--stacked { -webkit-animation-duration: 0.43333s; -webkit-animation-name: generic-bbm-stacked; -webkit-animation-timing-function: linear; -webkit-animation-fill-mode: both; -webkit-transform-origin: 50% 50%; -webkit-backface-visibility: hidden; }\\n\\n/* Close a stacked modal */\\n@-webkit-keyframes generic-bbm-stacked-reverse { 0% { -webkit-transform: matrix(0.99123, 0, 0, 0.99123, 0, 43.86266); opacity: 0.56162; }\\n  4% { -webkit-transform: matrix(0.99293, 0, 0, 0.99293, 0, 45.05306); opacity: 0.64665; }\\n  8% { -webkit-transform: matrix(0.99465, 0, 0, 0.99465, 0, 46.25785); opacity: 0.7327; }\\n  12% { -webkit-transform: matrix(0.99618, 0, 0, 0.99618, 0, 47.32543); opacity: 0.80896; }\\n  16% { -webkit-transform: matrix(0.99742, 0, 0, 0.99742, 0, 48.19443); opacity: 0.87103; }\\n  20% { -webkit-transform: matrix(0.99837, 0, 0, 0.99837, 0, 48.8572); opacity: 0.91837; }\\n  24% { -webkit-transform: matrix(0.99905, 0, 0, 0.99905, 0, 49.33456); opacity: 0.95247; }\\n  28% { -webkit-transform: matrix(0.99951, 0, 0, 0.99951, 0, 49.65946); opacity: 0.97568; }\\n  32% { -webkit-transform: matrix(0.99981, 0, 0, 0.99981, 0, 49.8671); opacity: 0.99051; }\\n  36% { -webkit-transform: matrix(0.99999, 0, 0, 0.99999, 0, 49.98963); opacity: 0.99926; }\\n  40% { -webkit-transform: matrix(1.00008, 0, 0, 1.00008, 0, 50.05377); opacity: 1.00384; }\\n  44% { -webkit-transform: matrix(1.00012, 0, 0, 1.00012, 0, 50.08024); opacity: 1.00573; }\\n  48% { -webkit-transform: matrix(1.00012, 0, 0, 1.00012, 0, 50.08419); opacity: 1.00601; }\\n  52% { -webkit-transform: matrix(1.00011, 0, 0, 1.00011, 0, 50.07612); opacity: 1.00544; }\\n  56% { -webkit-transform: matrix(1.00009, 0, 0, 1.00009, 0, 50.06284); opacity: 1.00449; }\\n  60% { -webkit-transform: matrix(1.00007, 0, 0, 1.00007, 0, 50.04848); opacity: 1.00346; }\\n  64% { -webkit-transform: matrix(1.00005, 0, 0, 1.00005, 0, 50.03529); opacity: 1.00252; }\\n  68% { -webkit-transform: matrix(1.00004, 0, 0, 1.00004, 0, 50.02428); opacity: 1.00173; }\\n  72% { -webkit-transform: matrix(1.00002, 0, 0, 1.00002, 0, 50.01572); opacity: 1.00112; }\\n  76% { -webkit-transform: matrix(1.00001, 0, 0, 1.00001, 0, 50.00944); opacity: 1.00067; }\\n  80% { -webkit-transform: matrix(1.00001, 0, 0, 1.00001, 0, 50.00508); opacity: 1.00036; }\\n  84% { -webkit-transform: matrix(1, 0, 0, 1, 0, 50.00223); opacity: 1.00016; }\\n  88% { -webkit-transform: matrix(1, 0, 0, 1, 0, 50.0005); opacity: 1.00004; }\\n  92% { -webkit-transform: matrix(1, 0, 0, 1, 0, 49.99956); opacity: 0.99997; }\\n  96% { -webkit-transform: matrix(1, 0, 0, 1, 0, 49.99912); opacity: 0.99994; }\\n  100% { -webkit-transform: matrix(1, 0, 0, 1, 0, 50); opacity: 1; } }\\n.generic-bbm-modal--stacked-reverse { -webkit-animation-duration: 0.43333s; -webkit-animation-name: generic-bbm-stacked-reverse; -webkit-animation-timing-function: linear; -webkit-animation-fill-mode: both; -webkit-transform-origin: 50% 50%; -webkit-backface-visibility: hidden; }\\n\\n/* Close a modal */\\n@-webkit-keyframes generic-bbm-close { 0% { -webkit-transform: matrix(0.99874, 0, 0, 0.99874, 0, 49.1187); opacity: 0.8741; }\\n  4% { -webkit-transform: matrix(0.99705, 0, 0, 0.99705, 0, 47.93192); opacity: 0.70456; }\\n  8% { -webkit-transform: matrix(0.99533, 0, 0, 0.99533, 0, 46.73078); opacity: 0.53297; }\\n  12% { -webkit-transform: matrix(0.99381, 0, 0, 0.99381, 0, 45.66645); opacity: 0.38092; }\\n  16% { -webkit-transform: matrix(0.99257, 0, 0, 0.99257, 0, 44.80009); opacity: 0.25716; }\\n  20% { -webkit-transform: matrix(0.99163, 0, 0, 0.99163, 0, 44.13933); opacity: 0.16276; }\\n  24% { -webkit-transform: matrix(0.99095, 0, 0, 0.99095, 0, 43.66342); opacity: 0.09477; }\\n  28% { -webkit-transform: matrix(0.99049, 0, 0, 0.99049, 0, 43.33951); opacity: 0.0485; }\\n  32% { -webkit-transform: matrix(0.99019, 0, 0, 0.99019, 0, 43.1325); opacity: 0.01893; }\\n  36% { -webkit-transform: matrix(0.99002, 0, 0, 0.99002, 0, 43.01034); opacity: 0.00148; }\\n  40% { -webkit-transform: matrix(0.98992, 0, 0, 0.98992, 0, 42.94639); opacity: -0.00766; }\\n  44% { -webkit-transform: matrix(0.98989, 0, 0, 0.98989, 0, 42.92001); opacity: -0.01143; }\\n  48% { -webkit-transform: matrix(0.98988, 0, 0, 0.98988, 0, 42.91606); opacity: -0.01199; }\\n  52% { -webkit-transform: matrix(0.98989, 0, 0, 0.98989, 0, 42.92411); opacity: -0.01084; }\\n  56% { -webkit-transform: matrix(0.98991, 0, 0, 0.98991, 0, 42.93736); opacity: -0.00895; }\\n  60% { -webkit-transform: matrix(0.98993, 0, 0, 0.98993, 0, 42.95167); opacity: -0.0069; }\\n  64% { -webkit-transform: matrix(0.98995, 0, 0, 0.98995, 0, 42.96482); opacity: -0.00503; }\\n  68% { -webkit-transform: matrix(0.98997, 0, 0, 0.98997, 0, 42.97579); opacity: -0.00346; }\\n  72% { -webkit-transform: matrix(0.98998, 0, 0, 0.98998, 0, 42.98433); opacity: -0.00224; }\\n  76% { -webkit-transform: matrix(0.98999, 0, 0, 0.98999, 0, 42.99059); opacity: -0.00134; }\\n  80% { -webkit-transform: matrix(0.98999, 0, 0, 0.98999, 0, 42.99494); opacity: -0.00072; }\\n  84% { -webkit-transform: matrix(0.99, 0, 0, 0.99, 0, 42.99777); opacity: -0.00032; }\\n  88% { -webkit-transform: matrix(0.99, 0, 0, 0.99, 0, 42.9995); opacity: -7e -5; }\\n  92% { -webkit-transform: matrix(0.99, 0, 0, 0.99, 0, 43.00044); opacity: 6.0e-05; }\\n  96% { -webkit-transform: matrix(0.99, 0, 0, 0.99, 0, 43.00088); opacity: 0.00012; }\\n  100% { -webkit-transform: matrix(0.99, 0, 0, 0.99, 0, 43); opacity: 0; } }\\n.generic-bbm-modal--close { -webkit-animation-duration: 0.43333s; -webkit-animation-name: generic-bbm-close; -webkit-animation-timing-function: linear; -webkit-animation-fill-mode: both; -webkit-transform-origin: 50% 50%; -webkit-backface-visibility: hidden; }\\n\\n@media only screen and (min-device-width: 768px) and (max-device-width: 1024px) { .generic-bbm-modal--open, .generic-bbm-modal--stacked, .generic-bbm-modal--stacked-reverse, .generic-bbm-modal--destroy { -webkit-animation: none !important; } }\\n.inline-view { display: inline; }\\n\\n/* New account modal styling start */\\n.account-bbm-wrapper { position: fixed; left: 0; top: 0; width: 100%; height: 100%; z-index: 998; background: rgba(0, 0, 0, 0.5); }\\n\\n.account-bbm-modal { width: 100%; max-width: 375px; height: 80vh; max-height: 675px; overflow-y: auto; overflow-x: hidden; position: absolute; top: 50%; left: 50%; transform: translate(-50%, -50%); background-image: url(\"//humblebundle-a.akamaihd.net/static/hashed/68472f40232b1a949f998b169972fe01072d5cb4.jpg\"); background-position: center top; opacity: 0; }\\n\\n.account-modal-outer { display: flex; height: 100%; flex-direction: column; justify-content: space-between; background: linear-gradient(rgba(40, 44, 52, 0.4), #282c34); }\\n.account-modal-outer .top-bar { padding: 15px 8px; color: white; position: relative; }\\n.account-modal-outer .top-bar .logo { position: absolute; left: 15px; height: 40px; filter: opacity(0.6); }\\n.account-modal-outer .top-bar .close-modal { cursor: pointer; font-size: 40px; line-height: 0; width: 50px; height: 50px; position: absolute; text-align: right; right: 15px; top: 8px; }\\n.account-modal-outer.account-reveal-background-image { background: linear-gradient(rgba(40, 44, 52, 0), rgba(40, 44, 52, 0.5)); transition: background 1.5s linear; }\\n.account-modal-outer.account-reveal-background-image .logo { display: none; }\\n.account-modal-outer.account-reveal-background-image .full-logo { max-width: 70%; padding: 20px; margin: auto; }\\n\\n.account-modal-inner { display: flex; flex-direction: column; }\\n\\n.account-view { font-size: 14px; padding: 40px; box-sizing: border-box; color: white; }\\n.account-view .account-back-arrow { position: absolute; left: 0; top: calc(50% - 40px); cursor: pointer; font-size: 30px; padding: 20px 20px 20px 10px; }\\n.account-view .account-input { height: 50px; line-height: 50px; font-size: 16px; border: none; border-radius: 3px; padding: 0 10px; background: rgba(161, 167, 178, 0.3); }\\n.account-view .suggestion-popup { position: absolute; background: #97B147; width: 100%; bottom: 43px; padding: 10px 40px; box-sizing: border-box; text-align: center; display: none; }\\n.account-view .suggestion-popup .email-suggestion:hover { cursor: pointer; }\\n.account-view .account-label { padding: 5px 10px; }\\n.account-view .checkbox { text-align: center; font-size: 13px; }\\n.account-view .account-information { text-align: center; padding: 15px 10px; }\\n.account-view .account-information h1 { text-transform: uppercase; font-weight: bold; }\\n.account-view .account-information a, .account-view .account-information span { text-decoration: none; color: #A1A7B2; }\\n.account-view .account-information a:hover, .account-view .account-information span:hover { color: white; cursor: pointer; }\\n.account-view .account-fine-print { font-size: 11px; color: white; }\\n.account-view .account-fine-print a { font-weight: bold; color: white; }\\n.account-view .account-fine-print a:hover { color: #A1A7B2; }\\n.account-view .account-cta { text-transform: uppercase; font-weight: bold; font-size: 15px; text-shadow: 0px 1px 2px rgba(0, 0, 0, 0.2); width: 100%; }\\n.account-view .account-cta:disabled { border: 3px #A1A7B2 solid; border-radius: 6px; color: #A1A7B2 !important; background: transparent; font-size: 15px; line-height: 40px; /* balance out the 6px of border radius */ height: 46px; }\\n.account-view .account-support { padding: 5px 10px 15px; }\\n.account-view .account-support-split { display: flex; justify-content: space-between; }\\n.account-view .account-input-group { display: flex; flex-direction: column; position: relative; }\\n.account-view .account-input-group .error-triangle { color: #FF7C7A; position: absolute; right: 10px; bottom: 14px; z-index: 2; font-size: 14px; display: none; }\\n.account-view .account-input-group .error-triangle:hover { cursor: pointer; }\\n.account-view .error-box { background: #FF7C7A; height: 0; position: absolute; margin: 0 -40px; bottom: 0; z-index: 1000; width: 100%; overflow-y: hidden; display: flex; justify-content: center; align-items: center; transition: height .3s ease-in-out; text-transform: uppercase; font-weight: bold; text-align: center; text-shadow: 0px 1px 2px rgba(0, 0, 0, 0.2); padding: 0 60px; box-sizing: border-box; font-size: 16px; }\\n.account-view .error-box.slide-up { height: 90px; }\\n.account-view .error-box .close-message { position: absolute; top: 5px; right: 8px; font-size: 22px; }\\n.account-view .error-box .close-message:hover { cursor: pointer; }\\n\\n.account-confirmation { text-align: center; }\\n.account-confirmation h1 { text-transform: uppercase; font-weight: bold; }\\n.account-confirmation .account-success { padding: 0 30px; line-height: 2; }\\n.account-confirmation .account-success a { text-decoration: none; font-weight: bold; color: white; }\\n\\n.account-bbm-modal--open { transition: opacity .2s ease-in; opacity: 1; }\\n  #flash {\\n    position:fixed;\\n    right: 30px;\\n    top:10px;\\n    background: #eee;\\n    opacity: .8;\\n    border-radius: 10px;\\n    color: black;\\n    padding:20px;\\n    min-width: 200px;\\n    max-width: 400px;\\n    text-align: center;\\n    z-index: 99999;\\n    box-shadow: 1px 1px 5px #000;\\n    display:none;\\n  }\\nhtml, body {\\n  -webkit-font-smoothing: antialiased;\\n  -moz-osx-font-smoothing: grayscale;\\n}\\n\\nbody {\\n  font-family: \\'Sofia Pro\\', \\'Helvetica Neue\\', Helvetica, Arial, sans-serif;\\n  font-size: 14px;\\n  padding: 0;\\n}\\n\\n// Localize.js uses the <var> tag to indicate certain special things. However,\\n// some browsers apply special CSS to the <var> tag which we don\\'t want. This\\n// effectively removes any special CSS that the browser might apply to <var>.\\nvar {\\n  margin: 0;\\n  padding: 0;\\n  border: 0;\\n  font-size: 100%;\\n  font: inherit;\\n  vertical-align: baseline;\\n}\\n  </style>\\n  \\n  <style type=\"text/css\">@font-face { font-family: \\'hb-icons\\'; src: url(\"/static/hashed/d2d3e3183d0751e929a3dfe1236da7b723ce0a78.woff2\") format(\"woff2\"), url(\"/static/hashed/0b309b12fece6092b9d0c682039641c1d3d892f4.woff\") format(\"woff\"), url(\"/static/hashed/8a3bcd4f7fe2615eb84335e02d5f8e86330fc46f.ttf\") format(\"truetype\"), url(\"/static/hashed/d8e401beb4a75c9c73e20cab5f8a5120f9143df0.otf\") format(\"opentype\"); font-weight: normal; font-style: normal; }\\n/* Sophia Pro */\\n@font-face { font-family: \\'Sofia Pro\\'; src: url(\"/static/hashed/34c59909d0360e2d5e43bcb210176a753e1866b0.woff2\") format(\"woff2\"), url(\"/static/hashed/11d59a3ff5cdd3390fb93fbd9615dc0fb56a8c65.woff\") format(\"woff\"), url(\"/static/hashed/7e9bccdbfb3878e6a5453bf99993eed610d0e41d.ttf\") format(\"truetype\"), url(\"/static/hashed/18a648d337ad820b6dbf8145682d67d5259dcebd.otf\") format(\"opentype\"); font-weight: 300; font-style: normal; }\\n@font-face { font-family: \\'Sofia Pro\\'; src: url(\"/static/hashed/9e29ad97c24ce996ebe7aefbc55c0077ed0d8d2f.woff2\") format(\"woff2\"), url(\"/static/hashed/cbe7d774210bd1694c15df789ac02ccf3b2b4e92.woff\") format(\"woff\"), url(\"/static/hashed/c25e4297360ab6310322bcc95cf47b58fd6321bc.ttf\") format(\"truetype\"), url(\"/static/hashed/a294c7b2895267014ac902206c4bd4c75b586a04.otf\") format(\"opentype\"); font-weight: 900; font-style: normal; }\\n@font-face { font-family: \\'Sofia Pro\\'; src: url(\"/static/hashed/0052ab0bbfee0e88edc1e6c68494d9449016fd24.woff2\") format(\"woff2\"), url(\"/static/hashed/dcfc553e267fb5bb92a7510b6be35159fdadf57f.woff\") format(\"woff\"), url(\"/static/hashed/9370f719a25957b05ace466b39c2a2d4b33734c6.ttf\") format(\"truetype\"), url(\"/static/hashed/ab1f225985185b4ebb319b4c7f89b1d9b2b59848.otf\") format(\"opentype\"); font-weight: normal; font-style: normal; }\\n@font-face { font-family: \\'Sofia Pro\\'; src: url(\"/static/hashed/c294b2a2521169835a44953e87e2cc8900cee5ec.woff2\") format(\"woff2\"), url(\"/static/hashed/9322caa9a8ca9c74d5f0af655d789d1d7d63a24a.woff\") format(\"woff\"), url(\"/static/hashed/034595580ccc31b93f69fe336eb28bd519f5dc95.ttf\") format(\"truetype\"), url(\"/static/hashed/f4e4f58e25e1a1ad121ed70b9c4832bb69c941b3.otf\") format(\"opentype\"); font-weight: normal; font-style: italic; }</style>\\n  <style type=\"text/css\">#pay-early-modal .generic-popup.content { border: 3px solid rgba(161, 167, 178, 0.5); background-color: #494f5c; border-radius: 6px; color: white; padding: 2em 1.5em; }\\n#pay-early-modal h1 { font-size: 1.5em; font-weight: normal; color: white; text-shadow: none; margin: 0 0 1em; text-align: center; }\\n#pay-early-modal a { text-decoration: underline; }\\n#pay-early-modal table.pay-early-breakdown { width: 70%; margin: 0 auto 1.5em; }\\n#pay-early-modal table.pay-early-breakdown tr td:first-child { text-align: left; font-weight: bold; }\\n#pay-early-modal table.pay-early-breakdown tr td:last-child { text-align: right; }\\n#pay-early-modal .description { padding: 0; }\\n#pay-early-modal .error { background-color: #eb4747; padding: 0.5em; border-radius: 5px; }\\n#pay-early-modal .bottom { position: absolute; bottom: 0; left: 0; right: 0; margin-bottom: 10px; }\\n#pay-early-modal .buttons-container { width: 100%; text-align: center; }\\n#pay-early-modal .pay-early-spinner { margin: 0 auto; }\\n#pay-early-modal .popup-buttons-container { padding: 0.5em; position: absolute; top: 0; right: 0; line-height: 1; font-size: 1.3em; }\\n#pay-early-modal .popup-buttons-container .popup-button { cursor: pointer; }\\n\\n.banner { font-family: \\'Sofia Pro\\', \\'Helvetica Neue\\', Helvetica, Arial, sans-serif; width: 100%; position: relative; text-shadow: 1px 1px 5px rgba(0, 0, 0, 0.65); display: none; }\\n.banner .headline { font-size: 24px; font-weight: 800; line-height: 1.25em; margin: 0 0 0.75em 0; }\\n.banner .body { font-weight: 400; margin: 0 0 1em 0; }\\n.banner .logo { margin: 0 0 0.75em 0; }\\n.banner .cta { font-size: 18px; padding: 1em 1.2em; white-space: nowrap; }\\n.banner.is-stuck { position: fixed; z-index: 100; }\\n.banner.is-stuck.top { top: 0; }\\n.banner.is-stuck.bottom { bottom: 0; }\\n.banner.alert-banner .body { font-size: 18px; margin: 10px; }\\n.banner.small-banner { height: 125px; }\\n.banner.small-banner .body { font-size: 18px; line-height: 1.2em; }\\n.banner.small-banner .cta { padding: .8em 1.2em; }\\n.banner.medium-banner { height: 310px; }\\n.banner.medium-banner .body { font-size: 20px; line-height: 1.75em; }\\n.banner.large-banner { height: 450px; }\\n.banner.large-banner .body { font-size: 18px; line-height: 1.5em; }\\n.banner.large-banner .headline, .banner.large-banner .body { width: 500px; }\\n.banner.large-banner .logo, .banner.large-banner .cta { max-width: 500px; }\\n.banner.alert-banner .headline, .banner.alert-banner .body, .banner.small-banner .headline, .banner.small-banner .body, .banner.medium-banner .headline, .banner.medium-banner .body { width: 90%; }\\n.banner.alert-banner .logo, .banner.small-banner .logo, .banner.medium-banner .logo { max-height: 50px; }\\n.banner.small-banner, .banner.medium-banner, .banner.large-banner { background-position: center; background-repeat: no-repeat; background-size: cover; overflow: hidden; }\\n.banner.small-banner *:last-child, .banner.medium-banner *:last-child, .banner.large-banner *:last-child { margin-bottom: 0; }\\n@media (max-width: 500px) { .banner .headline, .banner .body, .banner .logo, .banner .cta { max-width: 320px; } }\\n.banner .dismiss-button { align-items: center; color: white; cursor: pointer; display: flex; font-size: 1.2em; height: 2em; justify-content: center; position: absolute; right: 0; text-align: center; text-decoration: none; top: 0; width: 2em; }\\n.banner .page-banner-link { align-items: center; color: white; display: flex; flex-direction: column; height: 100%; justify-content: center; position: relative; text-align: center; text-decoration: none; width: 100%; }\\n\\n.banner-pay-early:hover { cursor: pointer; }</style>\\n  <link rel=\"stylesheet\" href=\"https://humblebundle-a.akamaihd.net/static/hashed/69e428df2c973af57e829ec3ef7712f3caf9df18.css\" />\\n  <link rel=\"stylesheet\" href=\"https://humblebundle-a.akamaihd.net/static/hashed/2fa6bfc3e9ad5824a928475586048710ab394e54.css\" />\\n\\n<link rel=\"stylesheet\" href=\"https://humblebundle-a.akamaihd.net/static/hashed/c5800fa0356f36b6bab5852c99bb067312fc4ea6.css\" />\\n<style>\\n/*callout default*/\\n.game-boxes .subtitle {\\n\\tcolor: #ef9741;\\n\\tfont-size: 12px;\\n\\tfont-weight: bold;\\n\\tfont-style: normal;\\n}\\n\\n/*callout author*/\\n.subtitle .callout-author {\\n\\tfont-size: 12px;\\n\\tcolor: #D6D9E1;\\n\\tfont-style: italic;\\n\\tfont-weight: normal;\\n}\\n\\n/*callout msrp*/\\n.subtitle .callout-msrp {\\n    font-weight: normal;\\n    font-style: italic;\\n    color: white;\\n    margin-top: 3px;\\n}\\n\\n/*callout explicit normal*/\\n.subtitle .accolades {\\n\\tcolor: #ef9741;\\n\\tfont-size: 12px;\\n\\tfont-weight: bold;\\n\\tfont-style: normal;\\n}\\n\\n/*Max size front page art*/\\nimg.dd-image-box-figure-img {\\n    max-width: none;\\n    max-height: none;\\n}\\n\\n/* Center regioning message in display items boxart */\\n.dd-unavailable-in-region-text {\\n\\ttop: 35%;\\n}\\n</style>\\n\\n  <script>\\n    \\n    window.app = window.app || {};\\n    window.pageData = {atTime: 1534831130 };\\n    window.models = window.models || {};\\n\\nwindow.models.product_json = {};\\nwindow.models.keyentity_json = {};\\n\\nwindow.models.user_json = {};\\n\\nwindow.models.request = {\\n  country_code: \"US\",\\n  humble_guard_enabled: null,\\n  captcha_enabled: true\\n};\\n  </script>\\n\\n  \\n  <script src=\"https://humblebundle-a.akamaihd.net/static/hashed/230b5ad34db2149203fc119b74fb96ba968bcef1.js\"></script>\\n  <script id=\"main-js\" data-dist_version=\"222117d8c767b52929adc6b7d4bda514b0a1ebc1\" src=\\'https://humblebundle-a.akamaihd.net/222117d8c767b52929adc6b7d4bda514b0a1ebc1/dist/main.min.js\\'></script>\\n  \\n  \\n\\n\\n\\n<style>.async-hide { opacity: 0 !important; }</style>\\n<script>\\n\\n(function(a,s,y,n,c,h,i,d,e){s.className+=\\' \\'+y;h.start=1*new Date;\\nh.end=i=function(){s.className=s.className.replace(RegExp(\\' ?\\'+y),\\'\\')};\\n(a[n]=a[n]||[]).hide=h;setTimeout(function(){i();h.end=null},c);h.timeout=c;\\n})(window,document.documentElement,\\'async-hide\\',\\'dataLayer\\',4000,\\n{\\'GTM-M5CXJM2\\':true});\\n\\n\\n  (function(i,s,o,g,r,a,m){i[\\'GoogleAnalyticsObject\\']=r;i[r]=i[r]||function(){\\n    (i[r].q=i[r].q||[]).push(arguments)},i[r].l=1*new Date();a=s.createElement(o),\\n      m=s.getElementsByTagName(o)[0];a.async=1;a.src=g;m.parentNode.insertBefore(a,m)\\n  })(window,document,\\'script\\',\\'//www.google-analytics.com/analytics.js\\',\\'ga\\');\\n  ga(\\'create\\', \\'UA-467050-6\\', \\'auto\\');\\n  ga(\\'set\\', \\'dimension4\\', \"ZZpyqU840M\");\\n\\nga(\\'require\\', \\'GTM-M5CXJM2\\');\\n  ga(\\'require\\', \\'displayfeatures\\');\\n  ga(\\'require\\', \\'ecommerce\\');\\n  ga(\\'require\\', \\'linkid\\', \\'linkid.js\\');\\n\\n  window._hbga = function(verb) {\\n    ga.apply(this, arguments);\\n  };\\n  _hbga(\\'set\\', \\'metric1\\', 14.13);\\n  _hbga(\\'set\\', \\'dimension1\\', 14.13);\\n\\n\\n\\n  var expiry = new Date();\\n  expiry.setTime(expiry.getTime() + 24*60*60*1000*7);  // 7 days in the future\\n\\n_hbga(\\'send\\', \\'pageview\\', {\\n  \\'hitCallback\\': function() {\\n    if (window.gaData && window.gaData[\\'UA-467050-6\\'] && window.gaData[\\'UA-467050-6\\'][\\'experiments\\']) {\\n      var expData = window.gaData[\\'UA-467050-6\\'][\\'experiments\\'];\\n      for (var experimentId in expData) {\\n        var experimentVariant = expData[experimentId];\\n        document.cookie = \\'hmb_medium=goptimize_\\' + escape(experimentId) + \\';path=/;expires=\\' + expiry.toUTCString();\\n        document.cookie = \\'hmb_campaign=goptimize_\\' + escape(experimentVariant) + \\';path=/;expires=\\' + expiry.toUTCString();\\n      }\\n    }\\n  },\\n});\\n\\n\\n\\n\\n  window._gaTrackEvent = function(category, action, opt_label, opt_value, opts) {\\n    category = category || (\\'/\\' + window.location.pathname.split(\\'/\\')[1]);\\n    _hbga(\\'send\\', \\'event\\', category, action, opt_label, opt_value, opts);\\n  };\\n  window._gaTrackPageview = function(page) {\\n    _hbga(\\'send\\', \\'pageview\\', page);\\n  };\\n  window._gaTrackEventNoninteractive = function(category, action, opt_label, opt_value) {\\n    _gaTrackEvent(category, action, opt_label, opt_value, {\\'nonInteraction\\': 1})\\n  };\\n\\n</script>\\n\\n<script>\\n\\n  \\n  $(\\'<script>\\').attr(\\'src\\', \\'https://www.googletagmanager.com/gtag/js?id=AW-991337814\\').appendTo(\\'head\\');\\n\\n  window.dataLayer = window.dataLayer || [];\\n  window.gtag = function(){dataLayer.push(arguments);}\\n  gtag(\\'js\\', new Date());\\n  gtag(\\'config\\', \\'AW-991337814\\');\\n\\n\\n\\n  !function(f,b,e,v,n,t,s)\\n  {if(f.fbq)return;n=f.fbq=function(){n.callMethod?\\n  n.callMethod.apply(n,arguments):n.queue.push(arguments)};\\n  if(!f._fbq)f._fbq=n;n.push=n;n.loaded=!0;n.version=\\'2.0\\';\\n  n.queue=[];t=b.createElement(e);t.async=!0;\\n  t.src=v;s=b.getElementsByTagName(e)[0];\\n  s.parentNode.insertBefore(t,s)}(window,document,\\'script\\',\\n  \\'https://connect.facebook.net/en_US/fbevents.js\\');\\n  fbq(\\'init\\', \\'1658430177760250\\');\\n  fbq(\\'track\\', \\'PageView\\');\\n  \\n\\n\\n  \\n\\n</script>\\n\\n\\n  <script></script>\\n<script type=\"application/ld+json\">\\n  {\\n    \"@context\": \"http://schema.org\",\\n    \"@type\": \"WebSite\",\\n    \"url\": \"https://www.humblebundle.com/\",\\n    \"potentialAction\": {\\n      \"@type\": \"SearchAction\",\\n      \"target\": \"https://www.humblebundle.com/store/search?search={search_term}\",\\n      \"query-input\": \"required name=search_term\"\\n    }\\n  }\\n</script>\\n\\n</head>\\n\\n<body>\\n  <div class=\"page-wrap\">\\n  \\n\\n\\n  \\n\\n  \\n  \\n\\n<div class=\"js-navigation-tracker\"></div>  <!-- Used by Headroom to track where the navigation offset is in the pageflow, even when the navigation container is fixed. -->\\n<div class=\"navigation-container-v2 js-navigation-container-v2\">\\n  <nav class=\"navbar js-navbar\">\\n    <div class=\"navbar-content\">\\n\\n      \\n      <a class=\"navbar-item logo-navbar-item mobile\" href=\"/\">\\n        <img src=\"https://humblebundle-a.akamaihd.net/static/hashed/5d84c488c1df9afdfbcb0846f137e90a24c3f6cb.svg\">  <!-- TODO size correctly or add as icon -->\\n      </a>\\n\\n      <a class=\"navbar-item logo-navbar-item desktop\" href=\"/\">\\n        <img src=\"https://humblebundle-a.akamaihd.net/static/hashed/ed07bcc932d64a94f69c405c09514ad91af079b3.svg\">  <!-- TODO size correctly -->\\n      </a>\\n\\n      \\n      \\n<section class=\"tabs tabs-navbar-item js-tabs-navbar-item js-maintain-scrollbar-on-dropdown\">\\n  \\n  <div class=\"navbar-item button-title\">\\n    <div class=\"js-dropdown-underlay dropdown-underlay\"></div>\\n    <div class=\"dropdown-button\">\\n      <div class=\"js-bundle-dropdown js-navbar-dropdown button-title\" data-dropdown-type=\"bundle-dropdown\">6 Bundles <i class=\"hb hb-caret-down\"></i>\\n      </div>\\n    </div>\\n  </div>\\n    \\n  <div class=\"monthly-hover-dropdown-container\">\\n    <div class=\"navbar-item navbar-item-dropdown dropdown-button button-title\" onclick=\"location.href=\\'/monthly\\';\">\\n      <i class=\"navbar-item-icon hb hb-calender-o\"></i>Monthly</div>\\n    <div class=\"navbar-item-dropdown-container monthly-hover-dropdown desktop js-monthly-hover-dropdown\"></div>\\n  </div>\\n    \\n  <a class=\"navbar-item not-dropdown button-title\\n      \"\\n    href=\"/store\">Store</a>\\n    \\n  <div class=\"about-dropdown-container\">\\n    <div class=\"js-about-item-dropdown-toggle js-navbar-dropdown navbar-item navbar-item-dropdown dropdown-button button-title\" data-dropdown-type=\"about-dropdown\">About <i class=\"hb hb-caret-down secondary-caret about-item-dropdown-caret\"></i>\\n    </div>\\n  </div>\\n    \\n</section>\\n\\n\\n      \\n      \\n  <li class=\"navbar-item site-search js-site-search\">\\n    <span class=\"js-site-minisearch site-minisearch-view\">\\n        <span class=\"site-searchbar-holder js-navbar-dropdown js-search-item-dropdown-toggle\" data-dropdown-type=\"search-dropdown\">\\n        <div class=\"searchbar\">\\n          <input class=\"site-search js-search\" placeholder=\"Search\"/>\\n          <a href=\"#\" class=\"clear-search-button js-clear-search-button\">\\n            <i class=\"hb hb-search\"></i>\\n          </a>\\n        </div>\\n      </span>\\n      <div class=\"site-search-results-holder js-search-holder\">\\n        <div class=\"site-search-message js-message\"></div>\\n        <div class=\"site-search-results js-results js-disable-body-scroll\"></div>\\n        <div class=\"site-search-navigation js-search-navigation\">\\n          <a class=\"page-navigation js-prev-page\">\\n            <i class=\"hb hb-angle-double-left hb-2x\"></i>\\n          </a>\\n          <div class=\"site-search-information\">\\n            <a class=\"site-search-link js-search-link\"></a>\\n            <a class=\"site-search-paging js-search-paging\"></a>\\n          </div>\\n          <a class=\"page-navigation js-next-page\">\\n            <i class=\"hb hb-angle-double-right hb-2x\"></i>\\n          </a>\\n        </div>\\n      </div>\\n    </span>\\n  </li>\\n\\n\\n      \\n      \\n\\n\\n<div class=\"navbar-item navbar-item-dropdown js-user-navbar-item user-navbar-item logged-out mobile button-title js-navbar-item-account-button\">\\n  <span class=\"\" href=\"#\">\\n    <span class=\"display-name\">\\n      <i class=\"navbar-item-icon hb hb-user\"></i>\\n    </span>\\n  </span>\\n</div>\\n\\n<span class=\\'navbar-item js-user-navbar-item user-navbar-item js-account-login logged-out desktop button-title navbar-login\\' href=\\'#\\'>\\n  <span class=\"navbar-item-text\">\\n    <i class=\"navbar-item-icon hb hb-user\"></i>\\n    Log in\\n  </span>\\n</span>\\n<span class=\\'navbar-item js-user-navbar-item user-navbar-item js-create-account logged-out desktop button-title navbar-create-account\\' href=\\'#\\'>\\n  <span class=\"navbar-item-text\">Sign Up</span>\\n</span>\\n\\n    </div>\\n  </nav>\\n  <nav class=\"bottom-navbar js-bottom-navbar\">\\n      <div class=\"navbar-content\"></div>\\n  </nav>\\n</div><script async src=\\'https://checkout.stripe.com/checkout.js\\'></script>\\n\\n    <div class=\"base-main-wrapper\">\\n      <div class=\"page_title\"></div>\\n      <div class=\"inner-main-wrapper\">\\n<div id=\"page-top-messages\"></div>\\n\\n<div class=\"hr-hero-tile-container\">\\n  <div class=\"hr-hero-tile\"></div>\\n</div>\\n\\n        \\n<div class=\"main-content-row dd-game-row js-nav-row\">\\n  <div class=\"u-constrain-width\">\\n    \\n    \\n      \\n    \\n\\n    \\n\\n    \\n<div class=\"dd-header\">\\n  <h2 class=\"dd-header-headline\">\\n    Pay $1 or more!\\n  </h2>\\n  <h3 class=\"dd-header-subheader\">\\n    \\n  </h3>\\n</div>\\n\\n    \\n<div class=\"dd-image-box-list\">\\n    \\n  \\n  <div class=\"dd-image-box game-boxes hoverable desktop\">\\n    <div class=\"dd-image-box-figure u-lazy-load\" data-slideout=\"masteringapachespark2_x\" >\\n      <div class=\"dd-image-box-badge-holder u-hide-onerror\">\\n  \\n      </div>\\n      <div class=\"dd-image-holder\">\\n        <img class=\"dd-image-box-figure-img\"\\n             data-src=\"https://humblebundle.imgix.net/misc/files/hashed/a883a6da28992ae6e1772b6e5c6045ef2c335239.png?auto=format&amp;fit=crop&amp;fm=png&amp;h=218&amp;w=150&amp;s=cf7161ce312f788bbebc8546c8425596\"\\n             data-retina-src=\"https://humblebundle.imgix.net/misc/files/hashed/a883a6da28992ae6e1772b6e5c6045ef2c335239.png?auto=format&amp;dpr=2&amp;fit=clip&amp;h=240&amp;w=180&amp;s=0241b3b7926c52ad30063b6289e3bafb\">\\n      </div>\\n    \\n<span class=\"hover-black-overlay u-hide-onerror\"></span>\\n  \\n<div class=\"hover-icon-holder u-hide-onerror\">\\n  <i class=\"hb hb-search hover-icon u-center\"></i>\\n</div>\\n  \\n\\n  \\n    <div class=\"dd-gradient-overlay u-hide-onerror\"></div>\\n  \\n  </div>\\n  <div class=\"dd-image-box-caption-container\">\\n    <div class=\"dd-captions s-no-platform-icons\">\\n      \\n    \\n    <div class=\"dd-image-box-caption dd-image-box-text dd-image-box-white\\n         \">\\n      <i class=\"hb hb-lock dd-caption-lock\"></i>\\n    \\n    Mastering Apache Spark 2.x\\n  </div>\\n  \\n  \\n      <div class=\"dd-callout subtitle\"><div class=\"accolades\">Second Edition</div></div>\\n  \\n  \\n    </div>\\n  </div>\\n</div>\\n    \\n  \\n  <div class=\"dd-image-box game-boxes hoverable desktop\">\\n    <div class=\"dd-image-box-figure u-lazy-load\" data-slideout=\"splunkessentials\" >\\n      <div class=\"dd-image-box-badge-holder u-hide-onerror\">\\n  \\n      </div>\\n      <div class=\"dd-image-holder\">\\n        <img class=\"dd-image-box-figure-img\"\\n             data-src=\"https://humblebundle.imgix.net/misc/files/hashed/a8fbb831f4bcb7df3929b69b052c7d7f9e86f2a3.png?auto=format&amp;fit=crop&amp;fm=png&amp;h=218&amp;w=150&amp;s=3a765f9e379e5b98080790d9dff17a6f\"\\n             data-retina-src=\"https://humblebundle.imgix.net/misc/files/hashed/a8fbb831f4bcb7df3929b69b052c7d7f9e86f2a3.png?auto=format&amp;dpr=2&amp;fit=clip&amp;h=240&amp;w=180&amp;s=dee43e24645eca5e533fa74b5da05259\">\\n      </div>\\n    \\n<span class=\"hover-black-overlay u-hide-onerror\"></span>\\n  \\n<div class=\"hover-icon-holder u-hide-onerror\">\\n  <i class=\"hb hb-search hover-icon u-center\"></i>\\n</div>\\n  \\n\\n  \\n    <div class=\"dd-gradient-overlay u-hide-onerror\"></div>\\n  \\n  </div>\\n  <div class=\"dd-image-box-caption-container\">\\n    <div class=\"dd-captions s-no-platform-icons\">\\n      \\n    \\n    <div class=\"dd-image-box-caption dd-image-box-text dd-image-box-white\\n         \">\\n      <i class=\"hb hb-lock dd-caption-lock\"></i>\\n    \\n    Splunk Essentials\\n  </div>\\n  \\n  \\n      <div class=\"dd-callout subtitle\"><div class=\"accolades\">Second Edition</div></div>\\n  \\n  \\n    </div>\\n  </div>\\n</div>\\n    \\n  \\n  <div class=\"dd-image-box game-boxes hoverable desktop\">\\n    <div class=\"dd-image-box-figure u-lazy-load\" data-slideout=\"mongodbcookbook\" >\\n      <div class=\"dd-image-box-badge-holder u-hide-onerror\">\\n  \\n      </div>\\n      <div class=\"dd-image-holder\">\\n        <img class=\"dd-image-box-figure-img\"\\n             data-src=\"https://humblebundle.imgix.net/misc/files/hashed/f8dd17c1cf75d8c0766bcbce6d76ffedca8c7595.png?auto=format&amp;fit=crop&amp;fm=png&amp;h=218&amp;w=150&amp;s=7b6aafc9d43a215404d3e06188ecda0a\"\\n             data-retina-src=\"https://humblebundle.imgix.net/misc/files/hashed/f8dd17c1cf75d8c0766bcbce6d76ffedca8c7595.png?auto=format&amp;dpr=2&amp;fit=clip&amp;h=240&amp;w=180&amp;s=fcbf514774ba0b69068a9773933609c4\">\\n      </div>\\n    \\n<span class=\"hover-black-overlay u-hide-onerror\"></span>\\n  \\n<div class=\"hover-icon-holder u-hide-onerror\">\\n  <i class=\"hb hb-search hover-icon u-center\"></i>\\n</div>\\n  \\n\\n  \\n    <div class=\"dd-gradient-overlay u-hide-onerror\"></div>\\n  \\n  </div>\\n  <div class=\"dd-image-box-caption-container\">\\n    <div class=\"dd-captions s-no-platform-icons\">\\n      \\n    \\n    <div class=\"dd-image-box-caption dd-image-box-text dd-image-box-white\\n         \">\\n      <i class=\"hb hb-lock dd-caption-lock\"></i>\\n    \\n    MongoDB Cookbook\\n  </div>\\n  \\n  \\n      <div class=\"dd-callout subtitle\"><div class=\"accolades\">Second Edition</div></div>\\n  \\n  \\n    </div>\\n  </div>\\n</div>\\n    \\n  \\n  <div class=\"dd-image-box game-boxes hoverable desktop\">\\n    <div class=\"dd-image-box-figure u-lazy-load\" data-slideout=\"gettingstartedwithhadoop2_x_video\" >\\n      <div class=\"dd-image-box-badge-holder u-hide-onerror\">\\n  \\n      </div>\\n      <div class=\"dd-image-holder\">\\n        <img class=\"dd-image-box-figure-img\"\\n             data-src=\"https://humblebundle.imgix.net/misc/files/hashed/6722b320fd05df5d0b521c94b4ae072053126a61.png?auto=format&amp;fit=crop&amp;fm=png&amp;h=218&amp;w=150&amp;s=8c9aab0913ffaf527ca6510f8bf6c98c\"\\n             data-retina-src=\"https://humblebundle.imgix.net/misc/files/hashed/6722b320fd05df5d0b521c94b4ae072053126a61.png?auto=format&amp;dpr=2&amp;fit=clip&amp;h=240&amp;w=180&amp;s=ba7e006578eeee7ad3ff9b3be36bdf2e\">\\n      </div>\\n    \\n<span class=\"hover-black-overlay u-hide-onerror\"></span>\\n  \\n<div class=\"hover-icon-holder u-hide-onerror\">\\n  <i class=\"hb hb-search hover-icon u-center\"></i>\\n</div>\\n  \\n\\n  \\n    <div class=\"dd-gradient-overlay u-hide-onerror\"></div>\\n  \\n  </div>\\n  <div class=\"dd-image-box-caption-container\">\\n    <div class=\"dd-captions s-no-platform-icons\">\\n      \\n    \\n    <div class=\"dd-image-box-caption dd-image-box-text dd-image-box-white\\n         \">\\n      <i class=\"hb hb-lock dd-caption-lock\"></i>\\n    \\n    Getting Started with Hadoop 2.x\\n  </div>\\n  \\n  \\n      <div class=\"dd-callout subtitle\">Video</div>\\n  \\n  \\n    </div>\\n  </div>\\n</div>\\n    \\n  \\n  <div class=\"dd-image-box game-boxes hoverable desktop\">\\n    <div class=\"dd-image-box-figure u-lazy-load\" data-slideout=\"learningelasticsearch5_0_video\" >\\n      <div class=\"dd-image-box-badge-holder u-hide-onerror\">\\n  \\n      </div>\\n      <div class=\"dd-image-holder\">\\n        <img class=\"dd-image-box-figure-img\"\\n             data-src=\"https://humblebundle.imgix.net/misc/files/hashed/3a861d0e0507e835b2ec47ff70ede2968096d85c.png?auto=format&amp;fit=crop&amp;fm=png&amp;h=218&amp;w=150&amp;s=3f122cdbe97bf97de1f91e25c389c753\"\\n             data-retina-src=\"https://humblebundle.imgix.net/misc/files/hashed/3a861d0e0507e835b2ec47ff70ede2968096d85c.png?auto=format&amp;dpr=2&amp;fit=clip&amp;h=240&amp;w=180&amp;s=7b550134a4d77b71374a0e7f16e38d26\">\\n      </div>\\n    \\n<span class=\"hover-black-overlay u-hide-onerror\"></span>\\n  \\n<div class=\"hover-icon-holder u-hide-onerror\">\\n  <i class=\"hb hb-search hover-icon u-center\"></i>\\n</div>\\n  \\n\\n  \\n    <div class=\"dd-gradient-overlay u-hide-onerror\"></div>\\n  \\n  </div>\\n  <div class=\"dd-image-box-caption-container\">\\n    <div class=\"dd-captions s-no-platform-icons\">\\n      \\n    \\n    <div class=\"dd-image-box-caption dd-image-box-text dd-image-box-white\\n         \">\\n      <i class=\"hb hb-lock dd-caption-lock\"></i>\\n    \\n    Learning ElasticSearch 5.0\\n  </div>\\n  \\n  \\n      <div class=\"dd-callout subtitle\">Video</div>\\n  \\n  \\n    </div>\\n  </div>\\n</div>\\n    \\n  \\n  <div class=\"dd-image-box game-boxes hoverable desktop\">\\n    <div class=\"dd-image-box-figure u-lazy-load\" data-slideout=\"3for30dollars_maptsubscription\" >\\n      <div class=\"dd-image-box-badge-holder u-hide-onerror\">\\n  \\n      </div>\\n      <div class=\"dd-image-holder\">\\n        <img class=\"dd-image-box-figure-img\"\\n             data-src=\"https://humblebundle.imgix.net/misc/files/hashed/179df826a5be87fa7dc30b1b9c1a64582904b197.png?auto=format&amp;fit=crop&amp;fm=png&amp;h=218&amp;w=150&amp;s=f34cacd375102f957e9a0e625ffe53e2\"\\n             data-retina-src=\"https://humblebundle.imgix.net/misc/files/hashed/179df826a5be87fa7dc30b1b9c1a64582904b197.png?auto=format&amp;dpr=2&amp;fit=clip&amp;h=240&amp;w=180&amp;s=13ab1ee44279199b531fbcfebd079d69\">\\n      </div>\\n    \\n<span class=\"hover-black-overlay u-hide-onerror\"></span>\\n  \\n<div class=\"hover-icon-holder u-hide-onerror\">\\n  <i class=\"hb hb-search hover-icon u-center\"></i>\\n</div>\\n  \\n\\n  \\n    <div class=\"dd-gradient-overlay u-hide-onerror\"></div>\\n  \\n  </div>\\n  <div class=\"dd-image-box-caption-container\">\\n    <div class=\"dd-captions s-no-platform-icons\">\\n      \\n    \\n    <div class=\"dd-image-box-caption dd-image-box-text dd-image-box-white\\n         \">\\n      <i class=\"hb hb-lock dd-caption-lock\"></i>\\n    \\n    <span data-sheets-value=\"{&quot;1&quot;:2,&quot;2&quot;:&quot;Three Months of  Mapt Pro for $30 Coupon&quot;}\" data-sheets-userformat=\"{&quot;2&quot;:15235,&quot;3&quot;:{&quot;1&quot;:0},&quot;4&quot;:[null,2,11982760],&quot;10&quot;:2,&quot;11&quot;:4,&quot;12&quot;:0,&quot;14&quot;:[null,2,0],&quot;15&quot;:&quot;Calibri&quot;,&quot;16&quot;:11}\">Three Months of Mapt Pro for $30 Coupon</span>\\n  </div>\\n  \\n  \\n      <div class=\"dd-callout subtitle\"><p class=\"default\"><strong>Access every Packt eBook and Video ever published!</strong></p></div>\\n  \\n  \\n    </div>\\n  </div>\\n</div>\\n</div>\\n  </div>\\n</div>\\n        \\n<div class=\"main-content-row dd-game-row js-nav-row\">\\n  <div class=\"u-constrain-width\">\\n    \\n    \\n      \\n    \\n\\n    \\n\\n    \\n<div class=\"dd-header\">\\n  <h2 class=\"dd-header-headline\">\\n    Pay $8 or more to also unlock!\\n  </h2>\\n  <h3 class=\"dd-header-subheader\">\\n    \\n  </h3>\\n</div>\\n\\n    \\n<div class=\"dd-image-box-list\">\\n    \\n  \\n  <div class=\"dd-image-box game-boxes hoverable desktop\">\\n    <div class=\"dd-image-box-figure u-lazy-load\" data-slideout=\"modernbigdataprocessingwithhadoop\" >\\n      <div class=\"dd-image-box-badge-holder u-hide-onerror\">\\n  \\n      </div>\\n      <div class=\"dd-image-holder\">\\n        <img class=\"dd-image-box-figure-img\"\\n             data-src=\"https://humblebundle.imgix.net/misc/files/hashed/1ed4da77e803fa00d0028ae9277e2d5b7951b394.png?auto=format&amp;fit=crop&amp;fm=png&amp;h=218&amp;w=150&amp;s=1f1318e959c4519e50a8b1de67cc0fc3\"\\n             data-retina-src=\"https://humblebundle.imgix.net/misc/files/hashed/1ed4da77e803fa00d0028ae9277e2d5b7951b394.png?auto=format&amp;dpr=2&amp;fit=clip&amp;h=240&amp;w=180&amp;s=33e2743635d9fd2740b73f432f015b37\">\\n      </div>\\n    \\n<span class=\"hover-black-overlay u-hide-onerror\"></span>\\n  \\n<div class=\"hover-icon-holder u-hide-onerror\">\\n  <i class=\"hb hb-search hover-icon u-center\"></i>\\n</div>\\n  \\n\\n  \\n    <div class=\"dd-gradient-overlay u-hide-onerror\"></div>\\n  \\n  </div>\\n  <div class=\"dd-image-box-caption-container\">\\n    <div class=\"dd-captions s-no-platform-icons\">\\n      \\n    \\n    <div class=\"dd-image-box-caption dd-image-box-text dd-image-box-white\\n         \">\\n      <i class=\"hb hb-lock dd-caption-lock\"></i>\\n    \\n    Modern Big Data Processing with Hadoop\\n  </div>\\n  \\n  \\n  \\n    </div>\\n  </div>\\n</div>\\n    \\n  \\n  <div class=\"dd-image-box game-boxes hoverable desktop\">\\n    <div class=\"dd-image-box-figure u-lazy-load\" data-slideout=\"apachehiveessentials\" >\\n      <div class=\"dd-image-box-badge-holder u-hide-onerror\">\\n  \\n      </div>\\n      <div class=\"dd-image-holder\">\\n        <img class=\"dd-image-box-figure-img\"\\n             data-src=\"https://humblebundle.imgix.net/misc/files/hashed/e7921f0f804eba2fb9b4427654fac414549331cb.png?auto=format&amp;fit=crop&amp;fm=png&amp;h=218&amp;w=150&amp;s=1c4744229aeb368b8d02b2a6fa8f1dfd\"\\n             data-retina-src=\"https://humblebundle.imgix.net/misc/files/hashed/e7921f0f804eba2fb9b4427654fac414549331cb.png?auto=format&amp;dpr=2&amp;fit=clip&amp;h=240&amp;w=180&amp;s=bbe2f5c507cc30df739f84217e79f381\">\\n      </div>\\n    \\n<span class=\"hover-black-overlay u-hide-onerror\"></span>\\n  \\n<div class=\"hover-icon-holder u-hide-onerror\">\\n  <i class=\"hb hb-search hover-icon u-center\"></i>\\n</div>\\n  \\n\\n  \\n    <div class=\"dd-gradient-overlay u-hide-onerror\"></div>\\n  \\n  </div>\\n  <div class=\"dd-image-box-caption-container\">\\n    <div class=\"dd-captions s-no-platform-icons\">\\n      \\n    \\n    <div class=\"dd-image-box-caption dd-image-box-text dd-image-box-white\\n         \">\\n      <i class=\"hb hb-lock dd-caption-lock\"></i>\\n    \\n    Apache Hive Essentials\\n  </div>\\n  \\n  \\n      <div class=\"dd-callout subtitle\"><div class=\"accolades\">Second Edition</div></div>\\n  \\n  \\n    </div>\\n  </div>\\n</div>\\n    \\n  \\n  <div class=\"dd-image-box game-boxes hoverable desktop\">\\n    <div class=\"dd-image-box-figure u-lazy-load\" data-slideout=\"learningelasticstack6\" >\\n      <div class=\"dd-image-box-badge-holder u-hide-onerror\">\\n  \\n      </div>\\n      <div class=\"dd-image-holder\">\\n        <img class=\"dd-image-box-figure-img\"\\n             data-src=\"https://humblebundle.imgix.net/misc/files/hashed/8ba8cf0f826b835430081025756210489dfcfaab.png?auto=format&amp;fit=crop&amp;fm=png&amp;h=218&amp;w=150&amp;s=a792eb0fd9b596f4645e15f25cc951a5\"\\n             data-retina-src=\"https://humblebundle.imgix.net/misc/files/hashed/8ba8cf0f826b835430081025756210489dfcfaab.png?auto=format&amp;dpr=2&amp;fit=clip&amp;h=240&amp;w=180&amp;s=dfb2ee4a316e7c5cb57e055f4c211830\">\\n      </div>\\n    \\n<span class=\"hover-black-overlay u-hide-onerror\"></span>\\n  \\n<div class=\"hover-icon-holder u-hide-onerror\">\\n  <i class=\"hb hb-search hover-icon u-center\"></i>\\n</div>\\n  \\n\\n  \\n    <div class=\"dd-gradient-overlay u-hide-onerror\"></div>\\n  \\n  </div>\\n  <div class=\"dd-image-box-caption-container\">\\n    <div class=\"dd-captions s-no-platform-icons\">\\n      \\n    \\n    <div class=\"dd-image-box-caption dd-image-box-text dd-image-box-white\\n         \">\\n      <i class=\"hb hb-lock dd-caption-lock\"></i>\\n    \\n    Learning Elastic Stack 6.0\\n  </div>\\n  \\n  \\n  \\n    </div>\\n  </div>\\n</div>\\n    \\n  \\n  <div class=\"dd-image-box game-boxes hoverable desktop\">\\n    <div class=\"dd-image-box-figure u-lazy-load\" data-slideout=\"learninghadoop2\" >\\n      <div class=\"dd-image-box-badge-holder u-hide-onerror\">\\n  \\n      </div>\\n      <div class=\"dd-image-holder\">\\n        <img class=\"dd-image-box-figure-img\"\\n             data-src=\"https://humblebundle.imgix.net/misc/files/hashed/35d2485d5e45aabb576a846897d618b9997dd0f0.png?auto=format&amp;fit=crop&amp;fm=png&amp;h=218&amp;w=150&amp;s=49a7b9fa3c9283306877016d73dc4c91\"\\n             data-retina-src=\"https://humblebundle.imgix.net/misc/files/hashed/35d2485d5e45aabb576a846897d618b9997dd0f0.png?auto=format&amp;dpr=2&amp;fit=clip&amp;h=240&amp;w=180&amp;s=2ccf1926711dfa9f4f5e52884758542c\">\\n      </div>\\n    \\n<span class=\"hover-black-overlay u-hide-onerror\"></span>\\n  \\n<div class=\"hover-icon-holder u-hide-onerror\">\\n  <i class=\"hb hb-search hover-icon u-center\"></i>\\n</div>\\n  \\n\\n  \\n    <div class=\"dd-gradient-overlay u-hide-onerror\"></div>\\n  \\n  </div>\\n  <div class=\"dd-image-box-caption-container\">\\n    <div class=\"dd-captions s-no-platform-icons\">\\n      \\n    \\n    <div class=\"dd-image-box-caption dd-image-box-text dd-image-box-white\\n         \">\\n      <i class=\"hb hb-lock dd-caption-lock\"></i>\\n    \\n    Learning Hadoop 2\\n  </div>\\n  \\n  \\n  \\n    </div>\\n  </div>\\n</div>\\n    \\n  \\n  <div class=\"dd-image-box game-boxes hoverable desktop\">\\n    <div class=\"dd-image-box-figure u-lazy-load\" data-slideout=\"apachesparkwithscala_video\" >\\n      <div class=\"dd-image-box-badge-holder u-hide-onerror\">\\n  \\n      </div>\\n      <div class=\"dd-image-holder\">\\n        <img class=\"dd-image-box-figure-img\"\\n             data-src=\"https://humblebundle.imgix.net/misc/files/hashed/ba67b011072203791859dcc82506a6276bdc37cf.png?auto=format&amp;fit=crop&amp;fm=png&amp;h=218&amp;w=150&amp;s=1b9ccb142bc423af75e321ee66e8b22a\"\\n             data-retina-src=\"https://humblebundle.imgix.net/misc/files/hashed/ba67b011072203791859dcc82506a6276bdc37cf.png?auto=format&amp;dpr=2&amp;fit=clip&amp;h=240&amp;w=180&amp;s=3a8cbbb966b66c2567cb48fb7e5d6295\">\\n      </div>\\n    \\n<span class=\"hover-black-overlay u-hide-onerror\"></span>\\n  \\n<div class=\"hover-icon-holder u-hide-onerror\">\\n  <i class=\"hb hb-search hover-icon u-center\"></i>\\n</div>\\n  \\n\\n  \\n    <div class=\"dd-gradient-overlay u-hide-onerror\"></div>\\n  \\n  </div>\\n  <div class=\"dd-image-box-caption-container\">\\n    <div class=\"dd-captions s-no-platform-icons\">\\n      \\n    \\n    <div class=\"dd-image-box-caption dd-image-box-text dd-image-box-white\\n         \">\\n      <i class=\"hb hb-lock dd-caption-lock\"></i>\\n    \\n    Apache Spark with Scala\\n  </div>\\n  \\n  \\n      <div class=\"dd-callout subtitle\">Video</div>\\n  \\n  \\n    </div>\\n  </div>\\n</div>\\n    \\n  \\n  <div class=\"dd-image-box game-boxes hoverable desktop\">\\n    <div class=\"dd-image-box-figure u-lazy-load\" data-slideout=\"workingwithbigdatainpython_video\" >\\n      <div class=\"dd-image-box-badge-holder u-hide-onerror\">\\n  \\n      </div>\\n      <div class=\"dd-image-holder\">\\n        <img class=\"dd-image-box-figure-img\"\\n             data-src=\"https://humblebundle.imgix.net/misc/files/hashed/6a2f50db37b138a254cd4764450a70c3f305e160.png?auto=format&amp;fit=crop&amp;fm=png&amp;h=218&amp;w=150&amp;s=3e5027f53b5857d6e0ea471b0aeb2c0a\"\\n             data-retina-src=\"https://humblebundle.imgix.net/misc/files/hashed/6a2f50db37b138a254cd4764450a70c3f305e160.png?auto=format&amp;dpr=2&amp;fit=clip&amp;h=240&amp;w=180&amp;s=66a8309132cd36518a263d7a0bba75a1\">\\n      </div>\\n    \\n<span class=\"hover-black-overlay u-hide-onerror\"></span>\\n  \\n<div class=\"hover-icon-holder u-hide-onerror\">\\n  <i class=\"hb hb-search hover-icon u-center\"></i>\\n</div>\\n  \\n\\n  \\n    <div class=\"dd-gradient-overlay u-hide-onerror\"></div>\\n  \\n  </div>\\n  <div class=\"dd-image-box-caption-container\">\\n    <div class=\"dd-captions s-no-platform-icons\">\\n      \\n    \\n    <div class=\"dd-image-box-caption dd-image-box-text dd-image-box-white\\n         \">\\n      <i class=\"hb hb-lock dd-caption-lock\"></i>\\n    \\n    Working with Big Data in Python\\n  </div>\\n  \\n  \\n      <div class=\"dd-callout subtitle\">Video</div>\\n  \\n  \\n    </div>\\n  </div>\\n</div>\\n    \\n  \\n  <div class=\"dd-image-box game-boxes hoverable desktop\">\\n    <div class=\"dd-image-box-figure u-lazy-load\" data-slideout=\"statisticsfordatascience\" >\\n      <div class=\"dd-image-box-badge-holder u-hide-onerror\">\\n  \\n      </div>\\n      <div class=\"dd-image-holder\">\\n        <img class=\"dd-image-box-figure-img\"\\n             data-src=\"https://humblebundle.imgix.net/misc/files/hashed/c37e934966b8afc39cea1edb91be7209c7e0b578.png?auto=format&amp;fit=crop&amp;fm=png&amp;h=218&amp;w=150&amp;s=b0ebca421cbe9cf301f7164561fa7174\"\\n             data-retina-src=\"https://humblebundle.imgix.net/misc/files/hashed/c37e934966b8afc39cea1edb91be7209c7e0b578.png?auto=format&amp;dpr=2&amp;fit=clip&amp;h=240&amp;w=180&amp;s=617f60b6c27d2ef97ecbfc66ff1852fc\">\\n      </div>\\n    \\n<span class=\"hover-black-overlay u-hide-onerror\"></span>\\n  \\n<div class=\"hover-icon-holder u-hide-onerror\">\\n  <i class=\"hb hb-search hover-icon u-center\"></i>\\n</div>\\n  \\n\\n  \\n    <div class=\"dd-gradient-overlay u-hide-onerror\"></div>\\n  \\n  </div>\\n  <div class=\"dd-image-box-caption-container\">\\n    <div class=\"dd-captions s-no-platform-icons\">\\n      \\n    \\n    <div class=\"dd-image-box-caption dd-image-box-text dd-image-box-white\\n         \">\\n      <i class=\"hb hb-lock dd-caption-lock\"></i>\\n    \\n    Statistics for Data Science\\n  </div>\\n  \\n  \\n  \\n    </div>\\n  </div>\\n</div>\\n    \\n  \\n  <div class=\"dd-image-box game-boxes hoverable desktop\">\\n    <div class=\"dd-image-box-figure u-lazy-load\" data-slideout=\"pythondataanalysis\" >\\n      <div class=\"dd-image-box-badge-holder u-hide-onerror\">\\n  \\n      </div>\\n      <div class=\"dd-image-holder\">\\n        <img class=\"dd-image-box-figure-img\"\\n             data-src=\"https://humblebundle.imgix.net/misc/files/hashed/53310684edf1347b090c5cc8785b48fa7dbad9bd.png?auto=format&amp;fit=crop&amp;fm=png&amp;h=218&amp;w=150&amp;s=7f6afbfb22ef34a709b302fe1a57b5a7\"\\n             data-retina-src=\"https://humblebundle.imgix.net/misc/files/hashed/53310684edf1347b090c5cc8785b48fa7dbad9bd.png?auto=format&amp;dpr=2&amp;fit=clip&amp;h=240&amp;w=180&amp;s=e07113f9da4d60f71599b056f9cf1a9c\">\\n      </div>\\n    \\n<span class=\"hover-black-overlay u-hide-onerror\"></span>\\n  \\n<div class=\"hover-icon-holder u-hide-onerror\">\\n  <i class=\"hb hb-search hover-icon u-center\"></i>\\n</div>\\n  \\n\\n  \\n    <div class=\"dd-gradient-overlay u-hide-onerror\"></div>\\n  \\n  </div>\\n  <div class=\"dd-image-box-caption-container\">\\n    <div class=\"dd-captions s-no-platform-icons\">\\n      \\n    \\n    <div class=\"dd-image-box-caption dd-image-box-text dd-image-box-white\\n         \">\\n      <i class=\"hb hb-lock dd-caption-lock\"></i>\\n    \\n    Python Data Analysis\\n  </div>\\n  \\n  \\n      <div class=\"dd-callout subtitle\"><div class=\"accolades\">Second Edition</div></div>\\n  \\n  \\n    </div>\\n  </div>\\n</div>\\n    \\n  \\n  <div class=\"dd-image-box game-boxes hoverable desktop\">\\n    <div class=\"dd-image-box-figure u-lazy-load\" data-slideout=\"learningrfordatavisualization_video\" >\\n      <div class=\"dd-image-box-badge-holder u-hide-onerror\">\\n  \\n      </div>\\n      <div class=\"dd-image-holder\">\\n        <img class=\"dd-image-box-figure-img\"\\n             data-src=\"https://humblebundle.imgix.net/misc/files/hashed/71336120764ca045bb37f04a5db098af7e32f9bd.png?auto=format&amp;fit=crop&amp;fm=png&amp;h=218&amp;w=150&amp;s=2ff7feb26ebb3f9c2a2a5943502a0e3a\"\\n             data-retina-src=\"https://humblebundle.imgix.net/misc/files/hashed/71336120764ca045bb37f04a5db098af7e32f9bd.png?auto=format&amp;dpr=2&amp;fit=clip&amp;h=240&amp;w=180&amp;s=b4449974187319776fef1f0597444fc2\">\\n      </div>\\n    \\n<span class=\"hover-black-overlay u-hide-onerror\"></span>\\n  \\n<div class=\"hover-icon-holder u-hide-onerror\">\\n  <i class=\"hb hb-search hover-icon u-center\"></i>\\n</div>\\n  \\n\\n  \\n    <div class=\"dd-gradient-overlay u-hide-onerror\"></div>\\n  \\n  </div>\\n  <div class=\"dd-image-box-caption-container\">\\n    <div class=\"dd-captions s-no-platform-icons\">\\n      \\n    \\n    <div class=\"dd-image-box-caption dd-image-box-text dd-image-box-white\\n         \">\\n      <i class=\"hb hb-lock dd-caption-lock\"></i>\\n    \\n    Learning R for Data Visualization\\n  </div>\\n  \\n  \\n      <div class=\"dd-callout subtitle\">Video</div>\\n  \\n  \\n    </div>\\n  </div>\\n</div>\\n</div>\\n  </div>\\n</div>\\n        \\n<div class=\"main-content-row dd-game-row js-nav-row\">\\n  <div class=\"u-constrain-width\">\\n    \\n    \\n      \\n    \\n\\n    \\n\\n    \\n<div class=\"dd-header\">\\n  <h2 class=\"dd-header-headline\">\\n    Pay $15 or more to also unlock!\\n  </h2>\\n  <h3 class=\"dd-header-subheader\">\\n    \\n  </h3>\\n</div>\\n\\n    \\n<div class=\"dd-image-box-list\">\\n    \\n  \\n  <div class=\"dd-image-box game-boxes hoverable desktop\">\\n    <div class=\"dd-image-box-figure u-lazy-load\" data-slideout=\"bigdataanalyticswithhadoop3\" >\\n      <div class=\"dd-image-box-badge-holder u-hide-onerror\">\\n  \\n      </div>\\n      <div class=\"dd-image-holder\">\\n        <img class=\"dd-image-box-figure-img\"\\n             data-src=\"https://humblebundle.imgix.net/misc/files/hashed/a973f83a1481f4047af07f8381947ef8ad966ff9.png?auto=format&amp;fit=crop&amp;fm=png&amp;h=218&amp;w=150&amp;s=ab005fe02d43a5fe96fb25a4ff34d3b5\"\\n             data-retina-src=\"https://humblebundle.imgix.net/misc/files/hashed/a973f83a1481f4047af07f8381947ef8ad966ff9.png?auto=format&amp;dpr=2&amp;fit=clip&amp;h=240&amp;w=180&amp;s=2a498c5a401d7536e02bfaed6c84557d\">\\n      </div>\\n    \\n<span class=\"hover-black-overlay u-hide-onerror\"></span>\\n  \\n<div class=\"hover-icon-holder u-hide-onerror\">\\n  <i class=\"hb hb-search hover-icon u-center\"></i>\\n</div>\\n  \\n\\n  \\n    <div class=\"dd-gradient-overlay u-hide-onerror\"></div>\\n  \\n  </div>\\n  <div class=\"dd-image-box-caption-container\">\\n    <div class=\"dd-captions s-no-platform-icons\">\\n      \\n    \\n    <div class=\"dd-image-box-caption dd-image-box-text dd-image-box-white\\n         \">\\n      <i class=\"hb hb-lock dd-caption-lock\"></i>\\n    \\n    Big Data Analytics with Hadoop 3\\n  </div>\\n  \\n  \\n  \\n    </div>\\n  </div>\\n</div>\\n    \\n  \\n  <div class=\"dd-image-box game-boxes hoverable desktop\">\\n    <div class=\"dd-image-box-figure u-lazy-load\" data-slideout=\"masteringmongodb3_x\" >\\n      <div class=\"dd-image-box-badge-holder u-hide-onerror\">\\n  \\n      </div>\\n      <div class=\"dd-image-holder\">\\n        <img class=\"dd-image-box-figure-img\"\\n             data-src=\"https://humblebundle.imgix.net/misc/files/hashed/078a568190e5efd5fd4dbd4c91a633ca6b5cc09b.png?auto=format&amp;fit=crop&amp;fm=png&amp;h=218&amp;w=150&amp;s=f7de19892adff127e220025a63f5b23b\"\\n             data-retina-src=\"https://humblebundle.imgix.net/misc/files/hashed/078a568190e5efd5fd4dbd4c91a633ca6b5cc09b.png?auto=format&amp;dpr=2&amp;fit=clip&amp;h=240&amp;w=180&amp;s=bcae1bd542190e86a1befb39acdfb586\">\\n      </div>\\n    \\n<span class=\"hover-black-overlay u-hide-onerror\"></span>\\n  \\n<div class=\"hover-icon-holder u-hide-onerror\">\\n  <i class=\"hb hb-search hover-icon u-center\"></i>\\n</div>\\n  \\n\\n  \\n    <div class=\"dd-gradient-overlay u-hide-onerror\"></div>\\n  \\n  </div>\\n  <div class=\"dd-image-box-caption-container\">\\n    <div class=\"dd-captions s-no-platform-icons\">\\n      \\n    \\n    <div class=\"dd-image-box-caption dd-image-box-text dd-image-box-white\\n         \">\\n      <i class=\"hb hb-lock dd-caption-lock\"></i>\\n    \\n    Mastering MongoDB 3.x\\n  </div>\\n  \\n  \\n  \\n    </div>\\n  </div>\\n</div>\\n    \\n  \\n  <div class=\"dd-image-box game-boxes hoverable desktop\">\\n    <div class=\"dd-image-box-figure u-lazy-load\" data-slideout=\"artificialintelligenceforbigdata\" >\\n      <div class=\"dd-image-box-badge-holder u-hide-onerror\">\\n  \\n      </div>\\n      <div class=\"dd-image-holder\">\\n        <img class=\"dd-image-box-figure-img\"\\n             data-src=\"https://humblebundle.imgix.net/misc/files/hashed/406fc49d820d94b5b7a64c94083c80cb2860a006.png?auto=format&amp;fit=crop&amp;fm=png&amp;h=218&amp;w=150&amp;s=b7e7a5180d517e8b0fc020b3a50476ba\"\\n             data-retina-src=\"https://humblebundle.imgix.net/misc/files/hashed/406fc49d820d94b5b7a64c94083c80cb2860a006.png?auto=format&amp;dpr=2&amp;fit=clip&amp;h=240&amp;w=180&amp;s=8a8e06f56ce55f7f1cf6d0a0d30ec24f\">\\n      </div>\\n    \\n<span class=\"hover-black-overlay u-hide-onerror\"></span>\\n  \\n<div class=\"hover-icon-holder u-hide-onerror\">\\n  <i class=\"hb hb-search hover-icon u-center\"></i>\\n</div>\\n  \\n\\n  \\n    <div class=\"dd-gradient-overlay u-hide-onerror\"></div>\\n  \\n  </div>\\n  <div class=\"dd-image-box-caption-container\">\\n    <div class=\"dd-captions s-no-platform-icons\">\\n      \\n    \\n    <div class=\"dd-image-box-caption dd-image-box-text dd-image-box-white\\n         \">\\n      <i class=\"hb hb-lock dd-caption-lock\"></i>\\n    \\n    Artificial Intelligence for Big Data\\n  </div>\\n  \\n  \\n  \\n    </div>\\n  </div>\\n</div>\\n    \\n  \\n  <div class=\"dd-image-box game-boxes hoverable desktop\">\\n    <div class=\"dd-image-box-figure u-lazy-load\" data-slideout=\"bigdataarchitectshandbook\" >\\n      <div class=\"dd-image-box-badge-holder u-hide-onerror\">\\n  \\n      </div>\\n      <div class=\"dd-image-holder\">\\n        <img class=\"dd-image-box-figure-img\"\\n             data-src=\"https://humblebundle.imgix.net/misc/files/hashed/380be0f12108d3cb78b2325a3d6356d52740cc0c.png?auto=format&amp;fit=crop&amp;fm=png&amp;h=218&amp;w=150&amp;s=9946bd7102eecd2f0a04d8e9b5667ac1\"\\n             data-retina-src=\"https://humblebundle.imgix.net/misc/files/hashed/380be0f12108d3cb78b2325a3d6356d52740cc0c.png?auto=format&amp;dpr=2&amp;fit=clip&amp;h=240&amp;w=180&amp;s=384b04373653baff55392671d5fcf070\">\\n      </div>\\n    \\n<span class=\"hover-black-overlay u-hide-onerror\"></span>\\n  \\n<div class=\"hover-icon-holder u-hide-onerror\">\\n  <i class=\"hb hb-search hover-icon u-center\"></i>\\n</div>\\n  \\n\\n  \\n    <div class=\"dd-gradient-overlay u-hide-onerror\"></div>\\n  \\n  </div>\\n  <div class=\"dd-image-box-caption-container\">\\n    <div class=\"dd-captions s-no-platform-icons\">\\n      \\n    \\n    <div class=\"dd-image-box-caption dd-image-box-text dd-image-box-white\\n         \">\\n      <i class=\"hb hb-lock dd-caption-lock\"></i>\\n    \\n    Big Data Architect\\'s Handbook\\n  </div>\\n  \\n  \\n  \\n    </div>\\n  </div>\\n</div>\\n    \\n  \\n  <div class=\"dd-image-box game-boxes hoverable desktop\">\\n    <div class=\"dd-image-box-figure u-lazy-load\" data-slideout=\"hadoopreal-worldsolutionscookbook\" >\\n      <div class=\"dd-image-box-badge-holder u-hide-onerror\">\\n  \\n      </div>\\n      <div class=\"dd-image-holder\">\\n        <img class=\"dd-image-box-figure-img\"\\n             data-src=\"https://humblebundle.imgix.net/misc/files/hashed/c33fc82526ede7b6fbb9c1a32103e4785a885fab.png?auto=format&amp;fit=crop&amp;fm=png&amp;h=218&amp;w=150&amp;s=7d620f70e7bffcaed17396cdf9f64215\"\\n             data-retina-src=\"https://humblebundle.imgix.net/misc/files/hashed/c33fc82526ede7b6fbb9c1a32103e4785a885fab.png?auto=format&amp;dpr=2&amp;fit=clip&amp;h=240&amp;w=180&amp;s=f498460d671db270ded36da918fac72a\">\\n      </div>\\n    \\n<span class=\"hover-black-overlay u-hide-onerror\"></span>\\n  \\n<div class=\"hover-icon-holder u-hide-onerror\">\\n  <i class=\"hb hb-search hover-icon u-center\"></i>\\n</div>\\n  \\n\\n  \\n    <div class=\"dd-gradient-overlay u-hide-onerror\"></div>\\n  \\n  </div>\\n  <div class=\"dd-image-box-caption-container\">\\n    <div class=\"dd-captions s-no-platform-icons\">\\n      \\n    \\n    <div class=\"dd-image-box-caption dd-image-box-text dd-image-box-white\\n         \">\\n      <i class=\"hb hb-lock dd-caption-lock\"></i>\\n    \\n    Hadoop Real-World Solutions Cookbook\\n  </div>\\n  \\n  \\n      <div class=\"dd-callout subtitle\"><div class=\"accolades\">Second Edition</div></div>\\n  \\n  \\n    </div>\\n  </div>\\n</div>\\n    \\n  \\n  <div class=\"dd-image-box game-boxes hoverable desktop\">\\n    <div class=\"dd-image-box-figure u-lazy-load\" data-slideout=\"buildscalableapplicationswithapachekafka_video\" >\\n      <div class=\"dd-image-box-badge-holder u-hide-onerror\">\\n  \\n      </div>\\n      <div class=\"dd-image-holder\">\\n        <img class=\"dd-image-box-figure-img\"\\n             data-src=\"https://humblebundle.imgix.net/misc/files/hashed/6e99e372a7e8615270c59b594f9d13d59fdca358.png?auto=format&amp;fit=crop&amp;fm=png&amp;h=218&amp;w=150&amp;s=1960c5b78077d3ea9a5d9b49e09844f5\"\\n             data-retina-src=\"https://humblebundle.imgix.net/misc/files/hashed/6e99e372a7e8615270c59b594f9d13d59fdca358.png?auto=format&amp;dpr=2&amp;fit=clip&amp;h=240&amp;w=180&amp;s=ca52e45b2eb67ffaa6f9826218c390a8\">\\n      </div>\\n    \\n<span class=\"hover-black-overlay u-hide-onerror\"></span>\\n  \\n<div class=\"hover-icon-holder u-hide-onerror\">\\n  <i class=\"hb hb-search hover-icon u-center\"></i>\\n</div>\\n  \\n\\n  \\n    <div class=\"dd-gradient-overlay u-hide-onerror\"></div>\\n  \\n  </div>\\n  <div class=\"dd-image-box-caption-container\">\\n    <div class=\"dd-captions s-no-platform-icons\">\\n      \\n    \\n    <div class=\"dd-image-box-caption dd-image-box-text dd-image-box-white\\n         \">\\n      <i class=\"hb hb-lock dd-caption-lock\"></i>\\n    \\n    Build scalable applications with Apache Kafka\\n  </div>\\n  \\n  \\n      <div class=\"dd-callout subtitle\">Video</div>\\n  \\n  \\n    </div>\\n  </div>\\n</div>\\n    \\n  \\n  <div class=\"dd-image-box game-boxes hoverable desktop\">\\n    <div class=\"dd-image-box-figure u-lazy-load\" data-slideout=\"learningapachecassandra_video\" >\\n      <div class=\"dd-image-box-badge-holder u-hide-onerror\">\\n  \\n      </div>\\n      <div class=\"dd-image-holder\">\\n        <img class=\"dd-image-box-figure-img\"\\n             data-src=\"https://humblebundle.imgix.net/misc/files/hashed/97e863caef8c1b8125e4783e6a70789caeaeca67.png?auto=format&amp;fit=crop&amp;fm=png&amp;h=218&amp;w=150&amp;s=9be4b49ead094b37e8a97e7e20b614cb\"\\n             data-retina-src=\"https://humblebundle.imgix.net/misc/files/hashed/97e863caef8c1b8125e4783e6a70789caeaeca67.png?auto=format&amp;dpr=2&amp;fit=clip&amp;h=240&amp;w=180&amp;s=166e6298add0068794398ea05840b5c0\">\\n      </div>\\n    \\n<span class=\"hover-black-overlay u-hide-onerror\"></span>\\n  \\n<div class=\"hover-icon-holder u-hide-onerror\">\\n  <i class=\"hb hb-search hover-icon u-center\"></i>\\n</div>\\n  \\n\\n  \\n    <div class=\"dd-gradient-overlay u-hide-onerror\"></div>\\n  \\n  </div>\\n  <div class=\"dd-image-box-caption-container\">\\n    <div class=\"dd-captions s-no-platform-icons\">\\n      \\n    \\n    <div class=\"dd-image-box-caption dd-image-box-text dd-image-box-white\\n         \">\\n      <i class=\"hb hb-lock dd-caption-lock\"></i>\\n    \\n    Learning Apache Cassandra\\n  </div>\\n  \\n  \\n      <div class=\"dd-callout subtitle\">Video</div>\\n  \\n  \\n    </div>\\n  </div>\\n</div>\\n    \\n  \\n  <div class=\"dd-image-box game-boxes hoverable desktop\">\\n    <div class=\"dd-image-box-figure u-lazy-load\" data-slideout=\"datasciencealgorithmsinaweek\" >\\n      <div class=\"dd-image-box-badge-holder u-hide-onerror\">\\n  \\n      </div>\\n      <div class=\"dd-image-holder\">\\n        <img class=\"dd-image-box-figure-img\"\\n             data-src=\"https://humblebundle.imgix.net/misc/files/hashed/0925f563469d423c32284e80da292afb65789090.png?auto=format&amp;fit=crop&amp;fm=png&amp;h=218&amp;w=150&amp;s=5c61411759b7dd6757f6bfbd170be6b1\"\\n             data-retina-src=\"https://humblebundle.imgix.net/misc/files/hashed/0925f563469d423c32284e80da292afb65789090.png?auto=format&amp;dpr=2&amp;fit=clip&amp;h=240&amp;w=180&amp;s=ef3831fe0efb74fc0bc7f1ff7183b02e\">\\n      </div>\\n    \\n<span class=\"hover-black-overlay u-hide-onerror\"></span>\\n  \\n<div class=\"hover-icon-holder u-hide-onerror\">\\n  <i class=\"hb hb-search hover-icon u-center\"></i>\\n</div>\\n  \\n\\n  \\n    <div class=\"dd-gradient-overlay u-hide-onerror\"></div>\\n  \\n  </div>\\n  <div class=\"dd-image-box-caption-container\">\\n    <div class=\"dd-captions s-no-platform-icons\">\\n      \\n    \\n    <div class=\"dd-image-box-caption dd-image-box-text dd-image-box-white\\n         \">\\n      <i class=\"hb hb-lock dd-caption-lock\"></i>\\n    \\n    Data Science Algorithms in a Week\\n  </div>\\n  \\n  \\n  \\n    </div>\\n  </div>\\n</div>\\n    \\n  \\n  <div class=\"dd-image-box game-boxes hoverable desktop\">\\n    <div class=\"dd-image-box-figure u-lazy-load\" data-slideout=\"pythondatascienceessentials\" >\\n      <div class=\"dd-image-box-badge-holder u-hide-onerror\">\\n  \\n      </div>\\n      <div class=\"dd-image-holder\">\\n        <img class=\"dd-image-box-figure-img\"\\n             data-src=\"https://humblebundle.imgix.net/misc/files/hashed/33b1d756f4a2fa548ea137f41a4589193050f169.png?auto=format&amp;fit=crop&amp;fm=png&amp;h=218&amp;w=150&amp;s=2d508000a5043d4970116449ce305f84\"\\n             data-retina-src=\"https://humblebundle.imgix.net/misc/files/hashed/33b1d756f4a2fa548ea137f41a4589193050f169.png?auto=format&amp;dpr=2&amp;fit=clip&amp;h=240&amp;w=180&amp;s=c3fa44f7cc73ea60894931f66b703dfb\">\\n      </div>\\n    \\n<span class=\"hover-black-overlay u-hide-onerror\"></span>\\n  \\n<div class=\"hover-icon-holder u-hide-onerror\">\\n  <i class=\"hb hb-search hover-icon u-center\"></i>\\n</div>\\n  \\n\\n  \\n    <div class=\"dd-gradient-overlay u-hide-onerror\"></div>\\n  \\n  </div>\\n  <div class=\"dd-image-box-caption-container\">\\n    <div class=\"dd-captions s-no-platform-icons\">\\n      \\n    \\n    <div class=\"dd-image-box-caption dd-image-box-text dd-image-box-white\\n         \">\\n      <i class=\"hb hb-lock dd-caption-lock\"></i>\\n    \\n    Python Data Science Essentials\\n  </div>\\n  \\n  \\n      <div class=\"dd-callout subtitle\">Second Edition</div>\\n  \\n  \\n    </div>\\n  </div>\\n</div>\\n    \\n  \\n  <div class=\"dd-image-box game-boxes hoverable desktop\">\\n    <div class=\"dd-image-box-figure u-lazy-load\" data-slideout=\"masteringtableau10_video\" >\\n      <div class=\"dd-image-box-badge-holder u-hide-onerror\">\\n  \\n      </div>\\n      <div class=\"dd-image-holder\">\\n        <img class=\"dd-image-box-figure-img\"\\n             data-src=\"https://humblebundle.imgix.net/misc/files/hashed/23ad1fca23a22042a4a5d0d2c290306208765c09.png?auto=format&amp;fit=crop&amp;fm=png&amp;h=218&amp;w=150&amp;s=3638df41c275f1db693690a96ca0f703\"\\n             data-retina-src=\"https://humblebundle.imgix.net/misc/files/hashed/23ad1fca23a22042a4a5d0d2c290306208765c09.png?auto=format&amp;dpr=2&amp;fit=clip&amp;h=240&amp;w=180&amp;s=3c082b192b92a323e9fa2c4219a31121\">\\n      </div>\\n    \\n<span class=\"hover-black-overlay u-hide-onerror\"></span>\\n  \\n<div class=\"hover-icon-holder u-hide-onerror\">\\n  <i class=\"hb hb-search hover-icon u-center\"></i>\\n</div>\\n  \\n\\n  \\n    <div class=\"dd-gradient-overlay u-hide-onerror\"></div>\\n  \\n  </div>\\n  <div class=\"dd-image-box-caption-container\">\\n    <div class=\"dd-captions s-no-platform-icons\">\\n      \\n    \\n    <div class=\"dd-image-box-caption dd-image-box-text dd-image-box-white\\n         \">\\n      <i class=\"hb hb-lock dd-caption-lock\"></i>\\n    \\n    Mastering Tableau 10\\n  </div>\\n  \\n  \\n      <div class=\"dd-callout subtitle\">Video</div>\\n  \\n  \\n    </div>\\n  </div>\\n</div>\\n    \\n  \\n  <div class=\"dd-image-box game-boxes hoverable desktop\">\\n    <div class=\"dd-image-box-figure u-lazy-load\" data-slideout=\"javafordatascience\" >\\n      <div class=\"dd-image-box-badge-holder u-hide-onerror\">\\n  \\n      </div>\\n      <div class=\"dd-image-holder\">\\n        <img class=\"dd-image-box-figure-img\"\\n             data-src=\"https://humblebundle.imgix.net/misc/files/hashed/54b9251a30c36afc7671179411e3d4cb1484ed88.png?auto=format&amp;fit=crop&amp;fm=png&amp;h=218&amp;w=150&amp;s=0c2d13e982769972f427ff6c94976a59\"\\n             data-retina-src=\"https://humblebundle.imgix.net/misc/files/hashed/54b9251a30c36afc7671179411e3d4cb1484ed88.png?auto=format&amp;dpr=2&amp;fit=clip&amp;h=240&amp;w=180&amp;s=ad2b60286a440ef14fc2747dcc63ccb0\">\\n      </div>\\n    \\n<span class=\"hover-black-overlay u-hide-onerror\"></span>\\n  \\n<div class=\"hover-icon-holder u-hide-onerror\">\\n  <i class=\"hb hb-search hover-icon u-center\"></i>\\n</div>\\n  \\n\\n  \\n    <div class=\"dd-gradient-overlay u-hide-onerror\"></div>\\n  \\n  </div>\\n  <div class=\"dd-image-box-caption-container\">\\n    <div class=\"dd-captions s-no-platform-icons\">\\n      \\n    \\n    <div class=\"dd-image-box-caption dd-image-box-text dd-image-box-white\\n         \">\\n      <i class=\"hb hb-lock dd-caption-lock\"></i>\\n    \\n    Java for Data Science\\n  </div>\\n  \\n  \\n  \\n    </div>\\n  </div>\\n</div>\\n</div>\\n  </div>\\n</div>\\n        \\n  \\n<div class=\"main-content-row dd-game-row\">\\n  <div class=\"u-constrain-width\">\\n    <div class=\"fi-row desktop\">\\n      <div class=\"fi-image u-lazy-load\">\\n        <img data-src=\"https://humblebundle.imgix.net/misc/files/hashed/f703cd0527e80bfeec62629795c0cd1052bde060.jpg?auto=format&amp;fit=clip&amp;h=240&amp;w=180&amp;s=8545d2536be576bccecc7baa447fe8df\"\\n            data-retina-src=\"https://humblebundle.imgix.net/misc/files/hashed/f703cd0527e80bfeec62629795c0cd1052bde060.jpg?auto=format&amp;dpr=2&amp;fit=clip&amp;h=240&amp;w=180&amp;s=1e8f89792f6a8527ad7bb5dc7e9d13ff\"\\n            alt=\"Humble Trekkie Bundle Promo\">\\n      </div>\\n      <div class=\"fi-content\">\\n        <h1 class=\"fi-content-header\"><p><b>FREE Humble exclusive for <i>Star Trek Online</i>!</b></p></h1>\\n        <div class=\"fi-content-body\">\\n        <p><em>Star Trek Online </em>is the premier free-to-play MMORPG. Explore the stories and expanded universe of Star Trek in space and on the ground with fully customizable captains, ships, and crew.</p>\\n<p>Join a galaxy full of players with the <strong>Humble Trekkie Pack</strong> – a bundle of goodies including Phoenix Lock Boxes, Mercenary Uniform, XP Boost, and Bridge Officer. Beam up and enjoy, Captains!<br><br>NOTE: Please note that if you redeem your code for this game, Humble Bundle may receive a commission or fee.</p>\\n        </div>\\n        <form class=\"fi-form\" action=\"/humbler/submit\" method=\"post\">\\n          <div class=\"fi-signup-box\">\\n            <input type=\"hidden\" name=\"amount\" value=\"0\">\\n            <input type=\"hidden\" name=\"product\" value=\"bigdata_bookbundle\" />\\n            <input type=\"hidden\" name=\"split-humblebundle\" value=\"100\" />\\n            <input type=\"hidden\" name=\"processor\" value=\"free\" />\\n            <div id=\"free-purchase-popup-captcha\"></div>\\n            <div class=\"standard-signup-box\">\\n              <input class=\"standard-signup-box-input\"\\n                     type=\"email\"\\n                     name=\"email\"\\n                     placeholder=\"youremail@example.com\"/>\\n              <button class=\"standard-signup-box-submit js-free-purchase-submit\" type=\"submit\">Submit</button>\\n            </div>\\n            <div class=\"fi-subscribe-checkboxes\">\\n              <div class=\"fi-subscribe-checkbox\">\\n                <input id=\"fi-subscribe\" class=\"fi-subscribe-checkbox-input\" type=\"checkbox\" name=\"subscribe\" checked />\\n                <label class=\"fi-subscribe-checkbox-label\" for=\"fi-subscribe\">\\n                Subscribe me to the Humble Bundle newsletter!\\n                </label>\\n              </div>\\n      \\n            </div>\\n          </div>\\n        </form>\\n      </div>\\n    </div>\\n  </div>\\n</div>\\n  \\n<div class=\"js-desktop-bonus-container\"></div>\\n\\n\\n<div class=\"ch-main main-content-row js-nav-row js-charity-scroll-target\">\\n  <div class=\"u-constrain-width\">\\n    <div class=\"ch-body\" data-slideout=\"giving_fund\">\\n      \\n<div class=\"dd-header\">\\n  <h2 class=\"dd-header-headline\">\\n    Support Charity\\n  </h2>\\n  <h3 class=\"dd-header-subheader\">\\n    \\n  </h3>\\n</div>\\n\\n    </div>\\n    <div class=\"charity-grid\">\\n      <div class=\"charity-item-wrapper\">\\n        <div class=\"charity-item\" data-display-modal=\"mentalheathfoundation\">\\n          <div class=\"charity-image-wrapper\">\\n            <img class=\"u-lazy-load\"\\n                 data-src=\"https://humblebundle.imgix.net/misc/files/hashed/9236d065f3d553b751dd89b82ab4dd121f8c2d06.png?auto=format&amp;s=d7282472045872577d1c4149bd4d6b15\"\\n                 data-retina-src=\"https://humblebundle.imgix.net/misc/files/hashed/9236d065f3d553b751dd89b82ab4dd121f8c2d06.png?auto=format&amp;s=d7282472045872577d1c4149bd4d6b15\"\\n                 alt=\"Mental Health Foundation\"\\n                 title=\"Mental Health Foundation\" />\\n          </div>\\n        </div>\\n        <span>\\xa0</span>\\n      </div>\\n    </div>\\n    \\n<div class=\"dd-header\">\\n  <h2 class=\"dd-header-headline\">\\n    \\n  </h2>\\n  <h3 class=\"dd-header-subheader\">\\n    We feature a different charity every month. Or choose your own!\\n  </h3>\\n</div>\\n\\n    <div class=\"cyoc-holder js-cyoc-holder u-constrain-width\"></div>\\n    <div class=\"charity-page-link\">\\n      <a href=\"/charities\" target=\"_blank\">Learn more about our work with charities</a>\\n    </div>\\n  </div>\\n</div>\\n\\n<div class=\"hs-mailing-list-main main-content-row\">\\n  <div class=\"u-constrain-width\">\\n    <form class=\"hs-mailing-list-form\" action=\"/newsletter-signup\" method=\"post\" id=\"newsletter-form\">\\n      \\n      <label class=\"hs-mailing-list-form-label\">Get notified of upcoming promotions:</label>\\n      <div class=\"standard-signup-box\">\\n        <input name=\"category\" value=\"ebook_emails\" type=\"hidden\"></input>\\n        <input class=\"standard-signup-box-input\" name=\"email\" placeholder=\"your@email.com\" type=\"email\" required></input>\\n        <button class=\"standard-signup-box-submit\" type=\"submit\">Subscribe</button>\\n        <div id=\"newsletter-captcha\"></div>\\n      </div>\\n    </form>\\n  </div>\\n</div>\\n\\n  \\n\\n<div class=\"bundle-info-container\">\\n  <div class=\"bundle-info\">\\n    <h3 class=\"bundle-info-heading\">\\n      The Humble Book Bundle: Big Data by Packt\\n    </h3>\\n    <div>\\n      <input type=\"checkbox\" class=\"bundle-info-text-expand\" id=\"info-expand\" />\\n      <div class=\"bundle-info-text editable-html\">\\n        <p><b>This is big. Real big.</b><span style=\"font-weight: 400;\"> We\\'ve teamed up with Packt for a big ol\\' big data bundle! Get titles like </span><i><span style=\"font-weight: 400;\">Mastering MongoDB 3.x, Learning Elastic Stack 6.0, and Mastering Tableau 10</span></i><span style=\"font-weight: 400;\">. Plus, your purchase will support Mental Health Foundation – and a charity of your choice!</span></p>\\n<p><b>Pay what you want.</b><span style=\"font-weight: 400;\"> All together, these ebooks and videos would cost over $1479. Here at Humble Bundle, you choose the price and increase your contribution to upgrade your bundle! This bundle has a minimum $1 purchase.</span></p>\\n<p><b>Read them anywhere.</b><span style=\"font-weight: 400;\"> The books in this bundle are available in PDF, ePUB, and MOBI formats, meaning you can read them anywhere at any time. Instructions and a list of recommended reading programs can be found </span><a href=\"https://support.humblebundle.com/hc/en-us/articles/202712300-How-do-I-read-the-eBook-on-my-Android-NOOK-and-iOS-devices-\"><span style=\"font-weight: 400;\">here</span></a><span style=\"font-weight: 400;\">. </span></p>\\n<p><b>Support charity.</b><span style=\"font-weight: 400;\"> Choose where the money goes – between the publisher, the Mental Health Foundation, and, if you\\'d like, a charity of your choice via the </span><a href=\"https://support.humblebundle.com/hc/en-us/articles/205183597\"><span style=\"font-weight: 400;\">PayPal Giving Fund</span></a><span style=\"font-weight: 400;\">. If you like what we do, you can leave us a Humble Tip too!</span></p>\\n      </div>\\n      <div class=\"bundle-info-text-expand-wrapper\">\\n        <label for=\"info-expand\" class=\"bundle-info-text-expand-trigger\"></label>\\n      </div>\\n    </div>\\n  </div>\\n</div>\\n\\n<div class=\"st-container js-nav-row\">\\n  <div class=\"st-content u-constrain-width\">\\n    <div class=\"st-column\">\\n      <div class=\"st-header\">\\n        Numbers\\n      </div>\\n      <div class=\"st-body\">\\n        \\n<table class=\"st-numbers-table\">\\n  <tr>\\n    <th class=\"st-th\">total payments</th>\\n    <td class=\"st-td js-statistics-total-payments\">$185,658.80</td>\\n  </tr>\\n  <tr>\\n    <th class=\"st-th\">purchases</th>\\n    <td class=\"st-td js-statistics-num-purchases\">13,143</td>\\n  </tr>\\n  <tr>\\n    <th class=\"st-th\">average purchase</th>\\n    <td class=\"st-td js-statistics-average-purchase\">$14.13</td>\\n  </tr>\\n</table>\\n      </div>\\n    </div>\\n    <div class=\"st-column\">\\n      <div class=\"st-header\">\\n        Top Contributors\\n      </div>\\n      <div class=\"st-body\">\\n  \\n        \\n<div class=\"st-leaderboard-row\">\\n  <div class=\"st-leaderboard-row-left\">\\n    <span class=\"st-circled-number\">1</span>\\n    <span class=\"st-leaderboard-name\" title=\"Anonymous\">\\n      Anonymous\\n    </span>\\n  </div>\\n  <div class=\"st-leaderboard-row-right\">\\n    <span class=\"st-leaderboard-amount\">$75.00</span>\\n  </div>\\n  <div class=\"u-clear\"></div>\\n</div>\\n  \\n        \\n<div class=\"st-leaderboard-row\">\\n  <div class=\"st-leaderboard-row-left\">\\n    <span class=\"st-circled-number\">2</span>\\n    <span class=\"st-leaderboard-name\" title=\"Vasilios\">\\n      Vasilios\\n    </span>\\n  </div>\\n  <div class=\"st-leaderboard-row-right\">\\n    <span class=\"st-leaderboard-amount\">$75.00</span>\\n  </div>\\n  <div class=\"u-clear\"></div>\\n</div>\\n  \\n        \\n<div class=\"st-leaderboard-row\">\\n  <div class=\"st-leaderboard-row-left\">\\n    <span class=\"st-circled-number\">3</span>\\n    <span class=\"st-leaderboard-name\" title=\"Anonymous\">\\n      Anonymous\\n    </span>\\n  </div>\\n  <div class=\"st-leaderboard-row-right\">\\n    <span class=\"st-leaderboard-amount\">$75.00</span>\\n  </div>\\n  <div class=\"u-clear\"></div>\\n</div>\\n  \\n        \\n<div class=\"st-leaderboard-row\">\\n  <div class=\"st-leaderboard-row-left\">\\n    <span class=\"st-circled-number\">4</span>\\n    <span class=\"st-leaderboard-name\" title=\"Anonymous\">\\n      Anonymous\\n    </span>\\n  </div>\\n  <div class=\"st-leaderboard-row-right\">\\n    <span class=\"st-leaderboard-amount\">$60.00</span>\\n  </div>\\n  <div class=\"u-clear\"></div>\\n</div>\\n  \\n        \\n<div class=\"st-leaderboard-row\">\\n  <div class=\"st-leaderboard-row-left\">\\n    <span class=\"st-circled-number\">5</span>\\n    <span class=\"st-leaderboard-name\" title=\"swifts\">\\n      swifts\\n    </span>\\n  </div>\\n  <div class=\"st-leaderboard-row-right\">\\n    <span class=\"st-leaderboard-amount\">$50.00</span>\\n  </div>\\n  <div class=\"u-clear\"></div>\\n</div>\\n  \\n      </div>\\n    </div>\\n    <div class=\"st-column\">\\n      <div class=\"st-header\"></div>\\n      <div class=\"st-body\">\\n  \\n        \\n<div class=\"st-leaderboard-row\">\\n  <div class=\"st-leaderboard-row-left\">\\n    <span class=\"st-circled-number\">6</span>\\n    <span class=\"st-leaderboard-name\" title=\"Anonymous\">\\n      Anonymous\\n    </span>\\n  </div>\\n  <div class=\"st-leaderboard-row-right\">\\n    <span class=\"st-leaderboard-amount\">$50.00</span>\\n  </div>\\n  <div class=\"u-clear\"></div>\\n</div>\\n  \\n        \\n<div class=\"st-leaderboard-row\">\\n  <div class=\"st-leaderboard-row-left\">\\n    <span class=\"st-circled-number\">7</span>\\n    <span class=\"st-leaderboard-name\" title=\"Anonymous\">\\n      Anonymous\\n    </span>\\n  </div>\\n  <div class=\"st-leaderboard-row-right\">\\n    <span class=\"st-leaderboard-amount\">$50.00</span>\\n  </div>\\n  <div class=\"u-clear\"></div>\\n</div>\\n  \\n        \\n<div class=\"st-leaderboard-row\">\\n  <div class=\"st-leaderboard-row-left\">\\n    <span class=\"st-circled-number\">8</span>\\n    <span class=\"st-leaderboard-name\" title=\"Anonymous\">\\n      Anonymous\\n    </span>\\n  </div>\\n  <div class=\"st-leaderboard-row-right\">\\n    <span class=\"st-leaderboard-amount\">$50.00</span>\\n  </div>\\n  <div class=\"u-clear\"></div>\\n</div>\\n  \\n        \\n<div class=\"st-leaderboard-row\">\\n  <div class=\"st-leaderboard-row-left\">\\n    <span class=\"st-circled-number\">9</span>\\n    <span class=\"st-leaderboard-name\" title=\"Anonymous\">\\n      Anonymous\\n    </span>\\n  </div>\\n  <div class=\"st-leaderboard-row-right\">\\n    <span class=\"st-leaderboard-amount\">$50.00</span>\\n  </div>\\n  <div class=\"u-clear\"></div>\\n</div>\\n  \\n        \\n<div class=\"st-leaderboard-row\">\\n  <div class=\"st-leaderboard-row-left\">\\n    <span class=\"st-circled-number\">10</span>\\n    <span class=\"st-leaderboard-name\" title=\"Anonymous\">\\n      Anonymous\\n    </span>\\n  </div>\\n  <div class=\"st-leaderboard-row-right\">\\n    <span class=\"st-leaderboard-amount\">$50.00</span>\\n  </div>\\n  <div class=\"u-clear\"></div>\\n</div>\\n  \\n      </div>\\n    </div>\\n    <div class=\"u-clear\"></div>\\n  </div>\\n</div>\\n<div id=\"js-navbar-hidden-area\">\\n  \\n  \\n  <a class=\"js-checkout-scroll-target\" name=\"contribute\"></a>\\n  <div id=\"order-form-container\" class=\"order-form-container js-order-form-container\"></div></div>\\n</div>\\n  \\n</div>\\n\\n\\n\\n<div class=\\'grayout\\'>\\n  <div class=\\'grayout-inner\\'>\\n  </div>\\n</div>\\n\\n<div id=\\'site-modal\\'></div>\\n\\n<script>\\n/* v1.0.1 */(function(b){b.fn.mailcheck=function(a,b){var d=\"yahoo.com,google.com,hotmail.com,gmail.com,me.com,aol.com,mac.com,live.com,comcast.net,googlemail.com,msn.com,hotmail.co.uk,yahoo.co.uk,facebook.com,verizon.net,sbcglobal.net,att.net,gmx.com,mail.com\".split(\",\");if(\"object\"===typeof a&&void 0===b)a.domains=a.domains||d;else{var e=a,a=b;a.domains=e||d}(d=Kicksend.mailcheck.suggest(encodeURI(this.val()),a.domains))?a.suggested&&a.suggested(this,d):a.empty&&a.empty(this)}})(jQuery);\\nvar Kicksend={mailcheck:{threshold:3,suggest:function(b,a){var b=b.toLowerCase(),c=this.splitEmail(b),d=this.findClosestDomain(c.domain,a);return d?{address:c.address,domain:d,full:c.address+\"@\"+d}:!1},findClosestDomain:function(b,a){for(var c,d=99,e=null,f=0;f<a.length;f++){if(b===a[f])return!1;c=this.stringDistance(b,a[f]);c<d&&(d=c,e=a[f])}return d<=this.threshold&&null!==e?e:!1},stringDistance:function(b,a){if(null==b||0===b.length)return null==a||0===a.length?0:a.length;if(null==a||0===a.length)return b.length;\\nfor(var c=0,d=0,e=0,f=0;c+d<b.length&&c+e<a.length;){if(b[c+d]==a[c+e])f++;else for(var g=e=d=0;5>g;g++){if(c+g<b.length&&b[c+g]==a[c]){d=g;break}if(c+g<a.length&&b[c]==a[c+g]){e=g;break}}c++}return(b.length+a.length)/2-f},splitEmail:function(b){b=b.split(\"@\");if(2>b.length)return!1;for(var a=0;a<b.length;a++)if(\"\"===b[a])return!1;return{domain:b.pop(),address:b.join(\"@\")}}}};\\n</script>\\n<script>\\nwindow.modal_attributes = {\\n  request_reason: \"\",\\n  base_url_secure: \"https://www.humblebundle.com\",\\n  goto: \"\",\\n  qs: \"\",\\n  is_eu_country: false,\\n  isMobile: false\\n};\\n</script>\\n<div ssl=\\'on\\' id=\\'pubnub\\'></div>\\n<script>\\n// log all calls and be able to play them back on another object\\n// sort of like a more generic version of the _gaq object\\nfunction Replayer(methods) {\\n  this._log = [];\\n  var self = this;\\n\\n  methods.forEach(function(method) {\\n    self[method] = function() {\\n      self._log.push([method, Array.prototype.slice.call(arguments)]);\\n    };\\n  });\\n\\n  this._playback = function (obj) {\\n    self._log.forEach(function(entry) {\\n      methodname = entry[0];\\n      args = entry[1];\\n      method = obj[methodname];\\n      method.apply(obj, args);\\n    });\\n  };\\n}\\n\\nwindow.pubnub_client = new Replayer([\\'subscribe\\', \\'history\\']);\\n\\nvar pubnub_async_loader = function(PUBNUB) {\\n  if (typeof PUBNUB === \"string\") {\\n    PUBNUB = window.PUBNUB;\\n  }\\n\\n  var pubnub_callbacks = {};\\n  /* {\\n   \\'stats\\': [callback1, callback2]\\n   \\'thanks\\': [thankscallback]\\n   }\\n   */\\n\\n  var register_pubnub_handler = function (channel, callback) {\\n    var channel_callbacks = pubnub_callbacks[channel];\\n    if (channel_callbacks == undefined) {\\n      channel_callbacks = [];\\n    }\\n    channel_callbacks.push(callback);\\n    pubnub_callbacks[channel] = channel_callbacks;\\n  };\\n\\n  var pubnub_delegator = function (message, envelope, channel) {\\n    var callbacks = pubnub_callbacks[channel];\\n    for (var i = 0; i < callbacks.length; i++) {\\n      callbacks[i](message);\\n    }\\n  };\\n\\n  var original_pubnub_client = PUBNUB.init({\\n    noleave: true,\\n    ssl: true,\\n    subscribe_key: \\'sub-c-c9437e20-7978-11e8-9f59-fec9626a7085\\'\\n  });\\n\\n  var multiplexed_pubnub_client = {};\\n  $.extend(multiplexed_pubnub_client, original_pubnub_client);\\n  multiplexed_pubnub_client.subscribe = function(options) {\\n    var callback = options[\\'callback\\'];\\n    var channel = options[\\'channel\\'];\\n    delete options[\\'callback\\'];\\n    register_pubnub_handler(channel, callback);\\n    options[\\'callback\\'] = pubnub_delegator;\\n    return original_pubnub_client.subscribe(options);\\n  };\\n  multiplexed_pubnub_client.ready();  // since we fire after the ready event, trigger it on the pubnub object\\n  window.pubnub_client._playback(multiplexed_pubnub_client);\\n  window.pubnub_client = multiplexed_pubnub_client;\\n};\\n// Using requirejs instead of require because it appears that the ACE editor has some sort of conflict.\\nif (typeof requirejs === \\'function\\') {\\n  requirejs([\\'https://humblebundle-a.akamaihd.net/static/hashed/998cdf8d471fa4ae7935c0bc267cae547fa8826e.js\\'], pubnub_async_loader)\\n} else {\\n  asyncJs(\\'https://humblebundle-a.akamaihd.net/static/hashed/998cdf8d471fa4ae7935c0bc267cae547fa8826e.js\\', pubnub_async_loader);\\n}\\n</script>\\n\\n\\n<div id=\\'flash\\'></div>\\n  <script>\\n    var _user_id = \"\";\\nvar _session_id = \"ZZpyqU840M\";\\n\\nvar _sift = _sift || [];\\n_sift.push([\\'_setAccount\\', \\'fa5602386c\\']);\\n_sift.push([\\'_setUserId\\', _user_id]);\\n_sift.push([\\'_setSessionId\\', _session_id]);\\n_sift.push([\\'_trackPageview\\']);\\n(function () {\\n  function ls() {\\n    var e = document.createElement(\\'script\\');\\n    e.type = \\'text/javascript\\';\\n    e.async = true;\\n    e.src = (\\'https:\\' == document.location.protocol ? \\'https://\\' : \\'http://\\') + \\'cdn.siftscience.com/s.js\\';\\n    var s = document.getElementsByTagName(\\'script\\')[0];\\n    s.parentNode.insertBefore(e, s);\\n  }\\n\\n  if (window.attachEvent) {\\n    window.attachEvent(\\'onload\\', ls);\\n  } else {\\n    window.addEventListener(\\'load\\', ls, false);\\n  }\\n})();\\n  </script>\\n  <script>\\n(function() {\\n  \\'use strict\\';\\n\\n  var pubnubOptions = {\\n    credentials: {\\n      noleave: true,\\n      ssl: true,\\n      subscribe_key: \\'sub-c-c9437e20-7978-11e8-9f59-fec9626a7085\\',\\n    },\\n    preamble: \"\"\\n  };\\n\\n  require([\\'pubnub\\'], function(PubNub) {\\n    PubNub.initialize(pubnubOptions);\\n  });\\n})();$(window).load(function() {\\n  (function() {\\n    var new_script_tag = document.createElement(\"script\"),\\n        s = document.getElementsByTagName(\\'script\\')[0];\\n\\n    new_script_tag.type = \"text/javascript\";\\n    new_script_tag.async = true;\\n\\n    new_script_tag.src = \"https://static-na.payments-amazon.com/OffAmazonPayments/us/js/Widgets.js\";\\n\\n    s.parentNode.insertBefore(new_script_tag, s);\\n  })();\\n});\\nwindow.isMobile = false;\\n</script>\\n\\n  <script>\\n    \\nvar runanalytics = function() {\\n  var analyze = function(id) {\\n    if (!id) return;\\n    var storage = getLocalStorage();\\n    var previds = storage.getItem(\\'hbprevids\\') || \\'\\';\\n    if (previds.match(id)) return;\\n\\n    $.post(\\'/analytics\\', {\\'id\\':id}, function(data) {\\n      var gaData;\\n\\n      if (data.complete) {\\n        storage.setItem(\\'hbprevids\\', previds + \\',\\' + id);\\n      }\\n\\n      if (!data.uid) {\\n        return;\\n      }\\n\\n      gaData = {\\n        id: data.uid,\\n        revenue: data.amount\\n      };\\n      _hbga(\\'ecommerce:addTransaction\\', gaData);\\n      _hbga(\\'send\\', {\\n        hitType: \\'event\\',\\n        eventCategory: \\'Purchase\\',\\n        eventAction: data.category,\\n        eventLabel: data.product,\\n        eventValue: data.pennies\\n      });\\n      for (var i = 0; i < data.items.length; i++) {\\n        var item = data.items[i];\\n\\n        gaData = {\\n          id: data.uid,\\n          name: item.kind,\\n          sku: data.product,\\n          category: item.kind,\\n          price: item.amount,\\n          quantity: \\'1\\'\\n        };\\n        _hbga(\\'ecommerce:addItem\\', gaData);\\n      }\\n\\n      _hbga(\\'ecommerce:send\\');\\n    },\\'json\\');\\n  };\\n\\n\\n  analyze($.cookie(\\'hbuid\\'));\\n\\n  var partnerId = $.cookie(\\'partner_id\\');\\n  if (partnerId) {\\n    _hbga(\\'set\\', \\'dimension2\\', partnerId);\\n  }\\n};\\nrunanalytics();\\n\\n/*\\n *\\tTypeWatch 2.0 - Original by Denny Ferrassoli / Refactored by Charles Christolini\\n *\\n *\\tExamples/Docs: www.dennydotnet.com\\n *\\n *  Copyright(c) 2007 Denny Ferrassoli - DennyDotNet.com\\n *  Coprright(c) 2008 Charles Christolini - BinaryPie.com\\n *\\n *  Dual licensed under the MIT and GPL licenses:\\n *  http://www.opensource.org/licenses/mit-license.php\\n *  http://www.gnu.org/licenses/gpl.html\\n */\\n\\n(function(jQuery) {\\n  jQuery.fn.typeWatch = function(o) {\\n    // Options\\n    var options = jQuery.extend({\\n      wait : 750,\\n      callback : function() {\\n      },\\n      highlight : true,\\n      captureLength : 2\\n    }, o);\\n\\n    function checkElement(timer, override) {\\n      var elTxt = jQuery(timer.el).val();\\n\\n      // Fire if text > options.captureLength AND text != saved txt OR if override AND text > options.captureLength\\n      if ((elTxt.length > options.captureLength && elTxt.toUpperCase() != timer.text)\\n              || (override && elTxt.length > options.captureLength)) {\\n        timer.text = elTxt.toUpperCase();\\n        timer.cb(elTxt);\\n      }\\n    };\\n\\n    function watchElement(elem) {\\n      // Must be text or textarea\\n      if (elem.type.toUpperCase() == \"TEXT\" || elem.nodeName.toUpperCase() == \"TEXTAREA\") {\\n\\n        // Allocate timer element\\n        var timer = {\\n          timer : null,\\n          text : jQuery(elem).val().toUpperCase(),\\n          cb : options.callback,\\n          el : elem,\\n          wait : options.wait\\n        };\\n\\n        // Set focus action (highlight)\\n        if (options.highlight) {\\n          jQuery(elem).focus(\\n                  function() {\\n                    this.select();\\n                  });\\n        }\\n\\n        // Key watcher / clear and reset the timer\\n        var startWatch = function(evt) {\\n          var timerWait = timer.wait;\\n          var overrideBool = false;\\n\\n          if (evt.keyCode == 13 && this.type.toUpperCase() == \"TEXT\") {\\n            timerWait = 1;\\n            overrideBool = true;\\n          }\\n\\n          var timerCallbackFx = function() {\\n            checkElement(timer, overrideBool)\\n          }\\n\\n          // Clear timer\\n          clearTimeout(timer.timer);\\n          timer.timer = setTimeout(timerCallbackFx, timerWait);\\n\\n        };\\n\\n        jQuery(elem).keydown(startWatch);\\n        // HTML5 adds an \"input\" event which is a more reliable way of telling\\n        // when the field has changed -- it fires for things like browser\\n        // autofill (where there is no keydown event). For browsers that support\\n        // it, we bind startWatch to fire here too.\\n        jQuery(elem).bind(\\'input\\', startWatch);\\n      }\\n    }\\n\\n    ;\\n\\n    // Watch Each Element\\n    return this.each(function(index) {\\n      watchElement(this);\\n    });\\n\\n  };\\n\\n})(jQuery);\\nvar MAILCHECK_DOMAINS = [\\'gmail.com\\', \\'hotmail.com\\', \\'yahoo.com\\', \\'hotmail.co.uk\\', \\'googlemail.com\\', \\'gmx.de\\', \\'live.com\\', \\'live.ca\\', \\'web.de\\', \\'aol.com\\', \\'msn.com\\', \\'comcast.net\\', \\'me.com\\', \\'gmx.net\\', \\'hotmail.fr\\', \\'mail.ru\\', \\'yahoo.co.uk\\', \\'live.co.uk\\', \\'yandex.ru\\', \\'mac.com\\', \\'yahoo.de\\', \\'yahoo.fr\\'];\\n\\n\\n\\nfunction isValidEmail(e) {\\n  return (e != \\'\\') && /.+@.+\\\\..+/.test(e);\\n}\\n\\nfunction live_email_check($field, setEmailMessage) {\\n  var emailValid = false;\\n  $field.mailcheck({\\n    domains: MAILCHECK_DOMAINS,\\n    suggested: function($input, suggestion) {\\n      // set the error text to the suggested correction\\n      var message = \\'Did you mean <a href=\"#\" class=\"suggested-email\" data-email=\"\\' + suggestion[\\'full\\'] + \\'\">\\' + suggestion[\\'address\\'] + \\'@<strong>\\' + suggestion[\\'domain\\'] + \\'</strong></a>?\\'\\n      var $msgField = setEmailMessage($field, message);\\n      $msgField.find(\\'.suggested-email\\').click(function(e) {\\n        e.preventDefault();\\n        $input.val($(this).data(\\'email\\'));\\n        live_email_check($field, setEmailMessage, false);\\n      });\\n      emailValid = true;\\n    },\\n    empty: function($input) {\\n      // no suggested domain correction, check if the email address looks valid\\n      var email = $input.val();\\n      emailValid = isValidEmail(email);\\n      if (emailValid) {\\n        setEmailMessage($field, false);\\n      } else {\\n        setEmailMessage($field, \\'Email address is not valid\\', true);\\n      }\\n    }\\n });\\n  return emailValid;\\n}\\n// this method will set up email \"validation\" and error correction.\\n// Parameters:\\n//   $field is the input field to bind to\\n//   setEmailMessage is a function that takes the input field the error is related to and a message to set.\\n//     It sets the message then returns the error holder.\\nfunction bindEmailField($field, setEmailMessage){\\n  function bound_live_email_check () {\\n    live_email_check($field, setEmailMessage);\\n  }\\n  $field.typeWatch({\\n    callback: bound_live_email_check,\\n    captureLength: -1,\\n    highlight: false,\\n    wait: 500\\n  });\\n}\\nvar flash = $(\\'#flash\\');\\n\\nfunction show_flash(message){\\n  flash.text(message)\\n  flash.show();\\n\\n  setTimeout(function() {\\n    flash.fadeOut();\\n  },5000);\\n}\\n\\nfunction set_flash(message) {\\n  $.cookie(\\'hbflash\\', message, {path: \\'/\\'});\\n}\\n\\n$(function(){\\n  function show_flash(message){\\n    flash.text(message)\\n    flash.show();\\n\\n    setTimeout(function() {\\n      flash.fadeOut();\\n    },5000);\\n  }\\n\\n  var flashmessage = $.cookie(\\'hbflash\\');\\n  if (flashmessage == \\'None\\') {\\n    flashmessage = \\'\\';\\n  }\\n\\n  if (flashmessage) {\\n    show_flash(flashmessage);\\n    $.cookie(\\'hbflash\\', \\'None\\', {path: \\'/\\'});\\n  }\\n\\n  flash.click(function(){\\n    flash.fadeOut();\\n  });\\n});\\n// When CSS4 is widely-supported by all the modern browsers, detecting touch support may not be necessary depending on the usage of the touch.\\n$(function(){\\n  // Class assignment can be used for touch screen problems. Such as :hover.\\n  if (\\'ontouchstart\\' in window) {\\n    $(\\'body\\').addClass(\\'touch-support\\');\\n  }\\n});\\n\\n  var ravenOptions = {\\n    ignoreErrors: [\\n      \\'QuotaExceededError\\',  // [ENG-14431] Thrown by Chrome when localStorage is full\\n      \\'AbortError\\',  // [ENG-15625] Refer goo.gl/LdLk22 for details\\n    ],\\n    shouldSendCallback: function(data) {\\n      var userAgent = data.request.headers[\\'User-Agent\\'] || \\'\\';\\n      // Only report data to Sentry from Chrome.\\n      // Opera and Edge add Chrome as a compatibility extension in its user agent.\\n      if (userAgent.indexOf(\\'Chrome\\') != -1 && userAgent.indexOf(\\'OPR\\') == -1 && userAgent.indexOf(\\'Edge\\') == -1) {\\n        return data;\\n      }\\n      return false;\\n    },\\n    tags: {\\n      country_code: \"US\",\\n    },\\n    whitelistUrls: [\\n      /humblebundle\\\\.com/,\\n      /pubnub\\\\.com/,\\n      /stripe\\\\.com/,\\n      /.*humblebundle\\\\.appspot\\\\.com/,  // non-default\\n    ]\\n  };\\n\\n  // Corresponds to Production Javascript project in Sentry\\n  Raven.config(\\'https://66f1d77a834744b7baccac297f6992c1@sentry.io/14291\\', ravenOptions).install();\\n\\n  /*\\n    Note for testing Sentry in Dev:\\n    Sentry is currently disabled on dev since it\\'s spammy and not useful.\\n    To enable Sentry on devserver, replace the config url with the below\\n    https://sentry.io/humblebundle/testing-javascript/settings/keys/\\n    and add localhost to the whitelist urls. (Corresponds to the key of the\\n    Testing Javascript project)\\n\\n    There is also an issue our config where Ravenjs won\\'t detect errors in\\n    webpack code because of cross origin issues on dev.\\n    https://docs.sentry.io/clients/javascript/usage/#cors\\n\\n    When Sentry doesn\\'t capture errors, add an event listener for window.onerror:\\n      window.onerror = function(message, source, lineno, colno, error) { ... }\\n    If the resulting \"message\" is \"Script error\", Raven drops the error since\\n    it can\\'t the source because of CORS.\\n  */\\n\\n(function() {\\n  \\'use strict\\';\\n\\n  var pubnubOptions = {\\n    credentials: {\\n      noleave: true,\\n      ssl: true,\\n      subscribe_key: \\'sub-c-c9437e20-7978-11e8-9f59-fec9626a7085\\',\\n    },\\n    preamble: \"\"\\n  };\\n\\n  require([\\'pubnub\\'], function(PubNub) {\\n    PubNub.initialize(pubnubOptions);\\n  });\\n})();\\nrequire([\\'lib/require-domReady\\', \\'util/captchaUtil\\'], function(domReady, CaptchaUtil) {\\n  domReady(function() {\\n    CaptchaUtil.noAjaxInit({\\n      formId: \\'newsletter-form\\',\\n      captchaId: \\'newsletter-captcha\\'\\n    });\\n  });\\n});\\n  </script>\\n\\n   \\n  </div>\\n\\n\\n  \\n<div style=\"display:none;\">\\n  None\\n</div>\\n<footer class=\"site-footer\">\\n  <div class=\"max-width-wrapper\">\\n    <div class=\"brand\"><a href=\"/\"><img src=\"https://humblebundle-a.akamaihd.net/static/hashed/ed07bcc932d64a94f69c405c09514ad91af079b3.svg\"></a></div>\\n    <div class=\"footer-content\">\\n      <section class=\"footer-link-section\">\\n        <div class=\"refer-container\">\\n          <p class=\"refer-message\">Limited time offer&mdash;Get $8 Wallet credit to spend on your next store purchase!</p>\\n          <a href=\"/refer?hmb_source=footer&hmb_medium=footer_refer&hmb_campaign=refer_a_friend\" class=\"refer-link\">Invite a Friend</a>\\n        </div>\\n        <ul class=\"responsive-column list footerrow1\">\\n          <li><a href=\"http://blog.humblebundle.com\" target=\"_blank\">Blog</a></li>\\n          <li><a href=\"https://support.humblebundle.com\" target=\"_blank\">Support</a></li>\\n          <li><a href=\"/resender\" target=\"_blank\">Order Resender</a></li>\\n          <li><a href=\"/developer\" target=\"_blank\">Developer</a></li>\\n          <li><a href=\"/terms\" target=\"_blank\">Terms of Service</a></li>\\n          <li><a href=\"/privacy\" target=\"_blank\">Privacy Policy</a></li>\\n          <li><a href=\"/cookie-policy\" target=\"_blank\">Cookie Policy</a></li>\\n        </ul>\\n      </section>\\n      <section class=\"second-column\">\\n        <div class=\"socialcontainer\">\\n          <a href=\"https://www.facebook.com/humblebundle/\" class=\"social-temp\"><i class=\"hb hb-facebook\"></i></a>\\n          <a href=\"https://twitter.com/humble\" class=\"social-temp\"><i class=\"hb hb-twitter\"></i></a>\\n          <a href=\"https://plus.google.com/+HumbleBundle\" class=\"social-temp\"><i class=\"hb hb-google-plus\"></i></a>\\n          <a href=\"https://www.instagram.com/humblebundle\" class=\"social-temp\"><i class=\"hb hb-instagram\"></i></a>\\n          <a href=\"http://blog.humblebundle.com/\" class=\"social-temp\"><i class=\"hb hb-tumblr\"></i></a>\\n        </div>\\n        <p>The Humble community has contributed over $131 million to charity since 2010, making an amazing difference to causes all over the world.</p>\\n      </section>\\n    </div>\\n  </div>\\n</footer>\\n\\n<script id=\"base-webpack-json-data\" type=\"application/json\">\\n  {\"banner\": {\\n      \"banner_to_render\": null,\\n      \"id_to_init\": null\\n    },\"navbar\": {\\n      \"algoliaInfo\": {\\n        \"indexName\": \"slave_product_query_site_search\",\\n        \"publicKey\": \"AYSZEWDAZ2\",\\n        \"searchKey\": \"e287f1da94f143ba1c4a5ec357135623\"\\n      },\\n      \"productTiles\": [{\"tile_logo_information\": {\"config\": {\"image_type\": \"gcs\", \"gcs\": \"images/logos/essentialknowledge_books_logo-product-retina.png\", \"static\": \"\", \"imgix\": {\"args\": {}, \"master_image\": {\"image_type\": \"static\", \"gcs\": \"\", \"static\": \"\", \"imgix\": {}}}}}, \"product_variables\": {\"msrp\": \"$287\"}, \"machine_name\": \"essentialknowledge_bookbundle\", \"high_res_tile_image\": \"https://humblebundle.imgix.net/misc/files/hashed/a69661b5d3c787e2ea5550a64541f2a6ce9353d9.png?auto=compress&fit=crop&fm=jpg&h=600&w=1200&s=0edfcdbc33b1169310f2503874d0bb1c\", \"disable_hero_tile\": false, \"marketing_blurb\": \"A library of modern essentials like Open Access, Memes in Digital Culture & more!\", \"hover_title\": \"Pay What You Want\", \"product_url\": \"/books/essential-knowledge-books\", \"tile_image\": \"https://humblebundle.imgix.net/misc/files/hashed/a69661b5d3c787e2ea5550a64541f2a6ce9353d9.png?auto=compress&fit=crop&fm=jpg&h=353&w=616&s=1a7c3a4b713b05dccd0298142887998e\", \"cached_content_events\": [{\"identifier\": \"freepromo\", \"display_counter\": false, \"type\": \"price\", \"price\": 0.0, \"has_subproducts\": true, \"start\": null, \"mpa_time\": null, \"section_identifiers\": [], \"has_tpkds\": true, \"max_price\": null, \"is_base\": false}, {\"identifier\": \"freepromo_region_message\", \"display_counter\": false, \"type\": \"base\", \"price\": null, \"has_subproducts\": true, \"start\": null, \"mpa_time\": null, \"section_identifiers\": [], \"has_tpkds\": false, \"max_price\": null, \"is_base\": false}, {\"identifier\": \"lessthan1\", \"display_counter\": false, \"type\": \"base\", \"price\": null, \"has_subproducts\": true, \"start\": null, \"mpa_time\": null, \"section_identifiers\": [], \"has_tpkds\": false, \"max_price\": null, \"is_base\": false}, {\"identifier\": \"initial\", \"display_counter\": false, \"type\": \"price\", \"price\": 1.0, \"has_subproducts\": true, \"start\": null, \"mpa_time\": null, \"section_identifiers\": [\"core_tier\"], \"has_tpkds\": false, \"max_price\": null, \"is_base\": false}, {\"identifier\": \"bt8\", \"display_counter\": false, \"type\": \"price\", \"price\": 8.0, \"has_subproducts\": true, \"start\": null, \"mpa_time\": null, \"section_identifiers\": [\"bt8_tier\"], \"has_tpkds\": false, \"max_price\": null, \"is_base\": false}, {\"identifier\": \"bt15\", \"display_counter\": false, \"type\": \"price\", \"price\": 15.0, \"has_subproducts\": true, \"start\": null, \"mpa_time\": null, \"section_identifiers\": [\"bt15_tier\"], \"has_tpkds\": false, \"max_price\": null, \"is_base\": false}], \"bundle_machine_name\": \"essentialknowledge_bookbundle\", \"high_res_tile_image_information\": {\"config\": {\"image_type\": \"gcs\", \"gcs\": \"images/humble_home/essentialknowledge_bookbundle-product.png\", \"static\": \"\", \"imgix\": {\"args\": {}, \"master_image\": {\"image_type\": \"static\", \"gcs\": \"\", \"static\": \"\", \"imgix\": {}}}}}, \"hero_highlights\": [{\"heading\": \"{msrp} worth of digital books\", \"tooltip\": \"Get ebooks collectively valued at up to {msrp}.\"}, {\"heading\": \"Pay what you want\", \"tooltip\": \"Name your price of $1 or more and increase your contribution to upgrade your bundle.\"}, {\"heading\": \"DRM-free\", \"tooltip\": \"Download these books onto your favorite device to enjoy anywhere, anytime.\"}, {\"heading\": \"Multi-format\", \"tooltip\": \"These books come in PDF, ePUB, and MOBI/CBZ file types to support many devices.\"}], \"end_date\": \"2018-09-03T18:00:00\", \"highlights\": [\"Pay What You Want\", \"18 books\", \"$287 Value\", \"Support Charity\"], \"supports_partners\": true, \"short_marketing_blurb\": \"Get books from the MIT Press Essential Knowledge series!\", \"detailed_marketing_blurb\": \"MIT Press is back with an bundle of ebooks from their Essential Knowledge series! This series offers accessible, concise, beautifully produced books on subjects that range from the cultural and the historical to the scientific and the technical.\", \"blocked_territories\": [], \"tile_logo\": \"https://humblebundle.imgix.net/misc/files/hashed/6a87831a60ccc41df9388ae1f3d2fe8019408f04.png?auto=compress&h=170&w=1200&s=06e67f23998e1e3003b28e26992bc9b1\", \"tile_short_name\": \"Essential Knowledge by MIT Press\", \"start_date\": \"2018-08-20T18:00:01\", \"tab_end\": \"2018-09-03T18:00:00\", \"hover_highlights\": [\"18 books\", \"$287 Value\"], \"is_active\": false, \"tile_stamp\": \"books\", \"tile_name\": \"Humble Book Bundle: Essential Knowledge by MIT Press\", \"bundles_sold\": \"2413\", \"tile_image_information\": {\"config\": {\"image_type\": \"gcs\", \"gcs\": \"images/humble_home/essentialknowledge_bookbundle-product.png\", \"static\": \"\", \"imgix\": {\"args\": {}, \"master_image\": {\"image_type\": \"static\", \"gcs\": \"\", \"static\": \"\", \"imgix\": {}}}}}, \"url\": \"books/essential-knowledge-books\", \"type\": \"bundle\", \"human_name\": \"Essential Knowledge by MIT Press\"}, {\"tile_logo_information\": {\"config\": {\"image_type\": \"gcs\", \"gcs\": \"images/logos/jackboxparty_bundle-logo-product-retina.png\", \"static\": \"\", \"imgix\": {\"args\": {}, \"master_image\": {\"image_type\": \"static\", \"gcs\": \"\", \"static\": \"\", \"imgix\": {}}}}}, \"product_variables\": {\"msrp\": \"$159\"}, \"machine_name\": \"jackboxparty_bundle\", \"high_res_tile_image\": \"https://humblebundle.imgix.net/misc/files/hashed/c0811c06d1ae46bcc0388ca964c6dd3cb7e94153.png?auto=compress&fit=crop&fm=jpg&h=600&w=1200&s=489245562bb8a7eaab2f9158eb050af8\", \"disable_hero_tile\": false, \"marketing_blurb\": \"Get The Jackbox Party Pack 1-3 and more party games in this fun bundle. Fun-dle.\", \"hover_title\": \"Pay What You Want\", \"product_url\": \"/games/jackbox-party-bundle\", \"tile_image\": \"https://humblebundle.imgix.net/misc/files/hashed/c0811c06d1ae46bcc0388ca964c6dd3cb7e94153.png?auto=compress&fit=crop&fm=jpg&h=353&w=616&s=a4d09b8ed5acc6a820ad7a1d9eb9f3f2\", \"cached_content_events\": [{\"identifier\": \"freepromo\", \"display_counter\": false, \"type\": \"price\", \"price\": 0.0, \"has_subproducts\": true, \"start\": null, \"mpa_time\": null, \"section_identifiers\": [], \"has_tpkds\": true, \"max_price\": null, \"is_base\": false}, {\"identifier\": \"freepromo_region_message\", \"display_counter\": false, \"type\": \"base\", \"price\": null, \"has_subproducts\": true, \"start\": null, \"mpa_time\": null, \"section_identifiers\": [], \"has_tpkds\": false, \"max_price\": null, \"is_base\": false}, {\"identifier\": \"initial\", \"display_counter\": false, \"type\": \"price\", \"price\": 0.01, \"has_subproducts\": true, \"start\": null, \"mpa_time\": null, \"section_identifiers\": [\"core_tier\"], \"has_tpkds\": false, \"max_price\": null, \"is_base\": false}, {\"identifier\": \"bt1\", \"display_counter\": false, \"type\": \"price\", \"price\": 1.0, \"has_subproducts\": false, \"start\": null, \"mpa_time\": null, \"section_identifiers\": [], \"has_tpkds\": true, \"max_price\": null, \"is_base\": false}, {\"identifier\": \"bta1\", \"display_counter\": false, \"type\": \"average\", \"price\": null, \"has_subproducts\": true, \"start\": null, \"mpa_time\": null, \"section_identifiers\": [\"bta_tier\"], \"has_tpkds\": true, \"max_price\": null, \"is_base\": false}, {\"identifier\": \"bt12\", \"display_counter\": false, \"type\": \"price\", \"price\": 12.0, \"has_subproducts\": false, \"start\": null, \"mpa_time\": null, \"section_identifiers\": [\"bt12_tier\"], \"has_tpkds\": true, \"max_price\": null, \"is_base\": false}, {\"identifier\": \"requires_subscription\", \"display_counter\": false, \"type\": \"price\", \"price\": 12.0, \"has_subproducts\": false, \"start\": null, \"mpa_time\": null, \"section_identifiers\": [], \"has_tpkds\": false, \"max_price\": null, \"is_base\": false}], \"bundle_machine_name\": \"jackboxparty_bundle\", \"high_res_tile_image_information\": {\"config\": {\"image_type\": \"gcs\", \"gcs\": \"images/humble_home/jackboxparty_bundle-product.png\", \"static\": \"\", \"imgix\": {\"args\": {}, \"master_image\": {\"image_type\": \"static\", \"gcs\": \"\", \"static\": \"\", \"imgix\": {}}}}}, \"hero_highlights\": [{\"heading\": \"$159 worth of awesome stuff\", \"tooltip\": \"Get games collectively valued at up to $159.\"}, {\"heading\": \"Pay what you want\", \"tooltip\": \"Name your price and increase your contribution to upgrade your bundle.\"}, {\"heading\": \"Redeem on Steam\", \"tooltip\": \"Pay $1 or more for access to content on Steam.\"}], \"end_date\": \"2018-08-28T18:00:00\", \"highlights\": [\"Pay What You Want\", \"11 games\", \"$159 Value\", \"Support Charity\"], \"supports_partners\": true, \"short_marketing_blurb\": \"Get a fun-dle of games to play with friends!\", \"detailed_marketing_blurb\": \"We\\'ve teamed up with Jackbox Games for a bundle of fun! Get The Jackbox Party Pack 1-3, Drawful 2, Fibbage XL, and more games to play with friends. If you don\\'t have any of those, we\\'ve heard Quiplash can turn enemies into friends.\", \"blocked_territories\": [], \"tile_logo\": \"https://humblebundle.imgix.net/misc/files/hashed/248fcfcdc11c927841733d6c1dd1a5e90b183b7c.png?auto=compress&h=170&w=1200&s=1a05c3b1f578d43fabfb9eb000b1c201\", \"tile_short_name\": \"Jackbox Party\", \"start_date\": \"2018-08-14T18:00:00\", \"tab_end\": \"2018-08-28T18:00:00\", \"hover_highlights\": [\"11 games\", \"$159 Value\"], \"is_active\": false, \"tile_stamp\": \"games\", \"tile_name\": \"Humble Jackbox Party Bundle\", \"bundles_sold\": \"51540\", \"tile_image_information\": {\"config\": {\"image_type\": \"gcs\", \"gcs\": \"images/humble_home/jackboxparty_bundle-product.png\", \"static\": \"\", \"imgix\": {\"args\": {}, \"master_image\": {\"image_type\": \"static\", \"gcs\": \"\", \"static\": \"\", \"imgix\": {}}}}}, \"url\": \"games/jackbox-party-bundle\", \"type\": \"bundle\", \"human_name\": \"Jackbox Party\"}, {\"tile_logo_information\": {\"config\": {\"image_type\": \"imgix\", \"gcs\": \"\", \"static\": \"\", \"imgix\": {\"args\": {\"w\": 650}, \"master_image\": {\"image_type\": \"gcs\", \"gcs\": \"images/humble_home/3x_earlyunlock_monthly_logo.png\", \"static\": \"\", \"imgix\": {}}}}}, \"machine_name\": \"september_2018_monthly\", \"high_res_tile_image\": \"https://humblebundle.imgix.net/misc/files/hashed/e1df7cd2bd74450d7418a89889f066d4f0b14dce.jpg?auto=compress&fit=crop&fm=jpg&h=600&w=1200&s=a217c9f8aeaa55468df83a021ebc049b\", \"marketing_blurb\": \"Get Sniper Elite 4, Tales of Berseria, Staxel, and more for just $12/month!\", \"hover_title\": \"Subscribe and Get a Lot of Games\", \"product_url\": \"/monthly\", \"short_marketing_blurb\": \"Get Sniper Elite 4 and more for just $12/month!\", \"bundle_machine_name\": \"september_2018_monthly\", \"high_res_tile_image_information\": {\"config\": {\"image_type\": \"gcs\", \"gcs\": \"images/subscription/september2018-earlyunlock-bg.jpg\", \"static\": \"\", \"imgix\": {\"args\": {}, \"master_image\": {\"image_type\": \"static\", \"gcs\": \"\", \"static\": \"\", \"imgix\": {}}}}}, \"hover_highlights\": [\"Keep Everything\", \"10% off Store\", \"Great Value\"], \"highlights\": [\"Redeem on Steam\", \"10% off Store\", \"Support Charity\"], \"supports_partners\": true, \"detailed_marketing_blurb\": \"Get Sniper Elite 4, Tales of Berseria, Staxel, and more for just $12/month!\", \"blocked_territories\": [], \"tile_logo\": \"https://humblebundle.imgix.net/misc/files/hashed/4445dd69680bd8049082aef7c9cec2f2c27c6d14.png?auto=compress&h=170&w=650&s=8cc0dcac3e793647b72fb9b49f0c416e\", \"type\": \"monthly\", \"start_date\": \"2018-08-03T17:00:00\", \"tab_end\": \"2018-09-07T17:00:00\", \"end_date\": \"2018-09-07T17:00:00\", \"is_active\": false, \"tile_stamp\": \"monthly_stamp\", \"tile_name\": \"September 2018 Humble Monthly\", \"tile_image\": \"https://humblebundle.imgix.net/misc/files/hashed/e1df7cd2bd74450d7418a89889f066d4f0b14dce.jpg?auto=compress&fit=crop&fm=jpg&h=353&w=616&s=0e5fe26ab37af875765b5908d7d7b250\", \"early_unlock_string\": \"Sniper Elite 4, Tales of Berseria\\\\u2122, and Staxel\", \"tile_image_information\": {\"config\": {\"image_type\": \"gcs\", \"gcs\": \"images/subscription/september2018-earlyunlock-bg.jpg\", \"static\": \"\", \"imgix\": {\"args\": {}, \"master_image\": {\"image_type\": \"static\", \"gcs\": \"\", \"static\": \"\", \"imgix\": {}}}}}, \"url\": \"/monthly\", \"human_name\": \"September 2018\"}, {\"tile_logo_information\": {\"config\": {\"image_type\": \"gcs\", \"gcs\": \"images/logos/bigdata_books_logo-product-retina.png\", \"static\": \"\", \"imgix\": {\"args\": {}, \"master_image\": {\"image_type\": \"static\", \"gcs\": \"\", \"static\": \"\", \"imgix\": {}}}}}, \"product_variables\": {\"msrp\": \"$1479\"}, \"machine_name\": \"bigdata_bookbundle\", \"high_res_tile_image\": \"https://humblebundle.imgix.net/misc/files/hashed/fcc101516173e97c3d60da2623e480ff836c4ce0.png?auto=compress&fit=crop&fm=jpg&h=600&w=1200&s=3c81790738b1d0501236a241014a690c\", \"disable_hero_tile\": false, \"marketing_blurb\": \"Get Artificial Intelligence for Big Data, Python Data Science Essentials, and more!\", \"hover_title\": \"Pay What You Want\", \"product_url\": \"/books/big-data-books\", \"tile_image\": \"https://humblebundle.imgix.net/misc/files/hashed/fcc101516173e97c3d60da2623e480ff836c4ce0.png?auto=compress&fit=crop&fm=jpg&h=353&w=616&s=185b5f584397b26095520a4999468b33\", \"cached_content_events\": [{\"identifier\": \"freepromo\", \"display_counter\": false, \"type\": \"price\", \"price\": 0.0, \"has_subproducts\": true, \"start\": null, \"mpa_time\": null, \"section_identifiers\": [], \"has_tpkds\": true, \"max_price\": null, \"is_base\": false}, {\"identifier\": \"freepromo_region_message\", \"display_counter\": false, \"type\": \"base\", \"price\": null, \"has_subproducts\": true, \"start\": null, \"mpa_time\": null, \"section_identifiers\": [], \"has_tpkds\": false, \"max_price\": null, \"is_base\": false}, {\"identifier\": \"initial\", \"display_counter\": false, \"type\": \"price\", \"price\": 1.0, \"has_subproducts\": true, \"start\": null, \"mpa_time\": null, \"section_identifiers\": [\"core_tier\"], \"has_tpkds\": false, \"max_price\": null, \"is_base\": false}, {\"identifier\": \"bt8\", \"display_counter\": false, \"type\": \"price\", \"price\": 8.0, \"has_subproducts\": true, \"start\": null, \"mpa_time\": null, \"section_identifiers\": [\"bt8_tier\"], \"has_tpkds\": false, \"max_price\": null, \"is_base\": false}, {\"identifier\": \"bt15\", \"display_counter\": false, \"type\": \"price\", \"price\": 15.0, \"has_subproducts\": true, \"start\": null, \"mpa_time\": null, \"section_identifiers\": [\"bt15_tier\"], \"has_tpkds\": false, \"max_price\": null, \"is_base\": false}], \"bundle_machine_name\": \"bigdata_bookbundle\", \"high_res_tile_image_information\": {\"config\": {\"image_type\": \"gcs\", \"gcs\": \"images/humble_home/bigdata_bookbundle-product.png\", \"static\": \"\", \"imgix\": {\"args\": {}, \"master_image\": {\"image_type\": \"static\", \"gcs\": \"\", \"static\": \"\", \"imgix\": {}}}}}, \"hero_highlights\": [{\"heading\": \"{msrp} worth of digital books\", \"tooltip\": \"Get ebooks collectively valued at up to {msrp}.\"}, {\"heading\": \"Pay what you want\", \"tooltip\": \"Name your price of $1 or more and increase your contribution to upgrade your bundle.\"}, {\"heading\": \"DRM-free\", \"tooltip\": \"Download these ebooks onto your favorite reading device to peruse anywhere, anytime.\"}, {\"heading\": \"Multi-format\", \"tooltip\": \"These books come in PDF, ePUB, and MOBI file types to support many devices.\"}], \"end_date\": \"2018-08-27T18:00:01\", \"highlights\": [\"Pay What You Want\", \"25 items\", \"$1479 Value\", \"Support Charity\"], \"supports_partners\": true, \"short_marketing_blurb\": \"Get a big ol\\' ebook bundle on big data from Packt!\", \"detailed_marketing_blurb\": \"We\\'ve teamed up with Packt for a big ol\\' big data bundle! Get titles like Artificial Intelligence for Big Data, Hadoop Real-World Solutions Cookbook, Big Data Architect\\'s Handbook, and more. It\\'s time to start wrangling.\", \"blocked_territories\": [], \"tile_logo\": \"https://humblebundle.imgix.net/misc/files/hashed/ab84ed5263a11c226e01bddf3c0cf7db370664bf.png?auto=compress&h=170&w=1200&s=8aaf20a4abc2704495a0ac420a505b57\", \"tile_short_name\": \"Big Data Books by Packt\", \"start_date\": \"2018-08-13T18:00:01\", \"tab_end\": \"2018-08-27T18:00:01\", \"hover_highlights\": [\"25 items\", \"$1479 Value\"], \"is_active\": true, \"tile_stamp\": \"books\", \"tile_name\": \"Humble Book Bundle: Big Data by Packt\", \"bundles_sold\": \"13143\", \"tile_image_information\": {\"config\": {\"image_type\": \"gcs\", \"gcs\": \"images/humble_home/bigdata_bookbundle-product.png\", \"static\": \"\", \"imgix\": {\"args\": {}, \"master_image\": {\"image_type\": \"static\", \"gcs\": \"\", \"static\": \"\", \"imgix\": {}}}}}, \"url\": \"books/big-data-books\", \"type\": \"bundle\", \"human_name\": \"Big Data Books by Packt\"}, {\"tile_logo_information\": {\"config\": {\"image_type\": \"gcs\", \"gcs\": \"images/logos/valiantuniverse_bookbundle_logo_product-retina.png\", \"static\": \"\", \"imgix\": {\"args\": {}, \"master_image\": {\"image_type\": \"static\", \"gcs\": \"\", \"static\": \"\", \"imgix\": {}}}}}, \"product_variables\": {\"msrp\": \"$476\"}, \"machine_name\": \"valiantuniverse_bookbundle\", \"high_res_tile_image\": \"https://humblebundle.imgix.net/misc/files/hashed/b8dc119d305e4b107d9037ca67a57600eed10db6.png?auto=compress&fit=crop&fm=jpg&h=600&w=1200&s=fbec12135c651b1c04723851d56d3153\", \"disable_hero_tile\": false, \"marketing_blurb\": \"Get Faith and the Future Force, X-O Manowar Deluxe Edition, and more comics!\", \"hover_title\": \"Pay What You Want\", \"product_url\": \"/books/valiant-universe-books\", \"tile_image\": \"https://humblebundle.imgix.net/misc/files/hashed/b8dc119d305e4b107d9037ca67a57600eed10db6.png?auto=compress&fit=crop&fm=jpg&h=353&w=616&s=79dd7758f938be95302f17617df32e7a\", \"cached_content_events\": [{\"identifier\": \"freepromo\", \"display_counter\": false, \"type\": \"price\", \"price\": 0.0, \"has_subproducts\": true, \"start\": null, \"mpa_time\": null, \"section_identifiers\": [], \"has_tpkds\": true, \"max_price\": null, \"is_base\": false}, {\"identifier\": \"freepromo_region_message\", \"display_counter\": false, \"type\": \"base\", \"price\": null, \"has_subproducts\": true, \"start\": null, \"mpa_time\": null, \"section_identifiers\": [], \"has_tpkds\": false, \"max_price\": null, \"is_base\": false}, {\"identifier\": \"lessthan1\", \"display_counter\": false, \"type\": \"base\", \"price\": null, \"has_subproducts\": true, \"start\": null, \"mpa_time\": null, \"section_identifiers\": [], \"has_tpkds\": false, \"max_price\": null, \"is_base\": false}, {\"identifier\": \"initial\", \"display_counter\": false, \"type\": \"price\", \"price\": 1.0, \"has_subproducts\": true, \"start\": null, \"mpa_time\": null, \"section_identifiers\": [\"core_tier\"], \"has_tpkds\": false, \"max_price\": null, \"is_base\": false}, {\"identifier\": \"bt8\", \"display_counter\": false, \"type\": \"price\", \"price\": 8.0, \"has_subproducts\": true, \"start\": null, \"mpa_time\": null, \"section_identifiers\": [\"bt8_tier\"], \"has_tpkds\": false, \"max_price\": null, \"is_base\": false}, {\"identifier\": \"bt15\", \"display_counter\": false, \"type\": \"price\", \"price\": 15.0, \"has_subproducts\": true, \"start\": null, \"mpa_time\": null, \"section_identifiers\": [\"bt15_tier\"], \"has_tpkds\": false, \"max_price\": null, \"is_base\": false}, {\"identifier\": \"bt1_discount\", \"display_counter\": false, \"type\": \"price\", \"price\": 1.0, \"has_subproducts\": true, \"start\": null, \"mpa_time\": null, \"section_identifiers\": [], \"has_tpkds\": false, \"max_price\": 7.9900000000000002, \"is_base\": false}, {\"identifier\": \"bt8_discount\", \"display_counter\": false, \"type\": \"price\", \"price\": 8.0, \"has_subproducts\": true, \"start\": null, \"mpa_time\": null, \"section_identifiers\": [], \"has_tpkds\": false, \"max_price\": 14.99, \"is_base\": false}], \"bundle_machine_name\": \"valiantuniverse_bookbundle\", \"high_res_tile_image_information\": {\"config\": {\"image_type\": \"gcs\", \"gcs\": \"images/humble_home/valiantuniverse_bookbundle-product.png\", \"static\": \"\", \"imgix\": {\"args\": {}, \"master_image\": {\"image_type\": \"static\", \"gcs\": \"\", \"static\": \"\", \"imgix\": {}}}}}, \"hero_highlights\": [{\"heading\": \"{msrp} worth of digital comics\", \"tooltip\": \"Get comics collectively valued at up to {msrp}.\"}, {\"heading\": \"Pay what you want\", \"tooltip\": \"Name your price of $1 or more and increase your contribution to upgrade your bundle.\"}, {\"heading\": \"DRM-free\", \"tooltip\": \"Download these comics onto your favorite reading device to peruse anywhere, anytime.\"}, {\"heading\": \"Multi-format\", \"tooltip\": \"These comics come in PDF and CBZ file types to support many devices.\"}], \"end_date\": \"2018-08-22T18:00:00\", \"highlights\": [\"Pay What You Want\", \"21 comics\", \"$476 Value\", \"Support Charity\"], \"supports_partners\": true, \"short_marketing_blurb\": \"Get a bundle of comics from the Valiant Universe!\", \"detailed_marketing_blurb\": \"A whole universe of comics at your fingertips! Explore the wide world of Valiant Comics in this bundle. Get Faith and the Future Force, X-O Manowar Deluxe Edition, Generation Zero Vol. 1., and lots more. \", \"blocked_territories\": [], \"tile_logo\": \"https://humblebundle.imgix.net/misc/files/hashed/28470f6ab2fe8f30a164cf751eab8bc091e4448f.png?auto=compress&h=170&w=1200&s=08070f29d31a46918d0e72bbfc65911c\", \"tile_short_name\": \"Valiant Universe\", \"start_date\": \"2018-08-08T18:00:00\", \"tab_end\": \"2018-08-22T18:00:00\", \"hover_highlights\": [\"21 comics\", \"$476 Value\"], \"is_active\": false, \"tile_stamp\": \"comics\", \"tile_name\": \"Humble Comics Bundle: Valiant Universe\", \"bundles_sold\": \"4468\", \"tile_image_information\": {\"config\": {\"image_type\": \"gcs\", \"gcs\": \"images/humble_home/valiantuniverse_bookbundle-product.png\", \"static\": \"\", \"imgix\": {\"args\": {}, \"master_image\": {\"image_type\": \"static\", \"gcs\": \"\", \"static\": \"\", \"imgix\": {}}}}}, \"url\": \"books/valiant-universe-books\", \"type\": \"bundle\", \"human_name\": \"Valiant Universe\"}, {\"tile_logo_information\": {\"config\": {\"image_type\": \"gcs\", \"gcs\": \"images/logos/moredoctorwho_torchwoodaudio_bookbundle-logo-product-retina.png\", \"static\": \"\", \"imgix\": {\"args\": {}, \"master_image\": {\"image_type\": \"static\", \"gcs\": \"\", \"static\": \"\", \"imgix\": {}}}}}, \"product_variables\": {\"msrp\": \"$371\"}, \"machine_name\": \"moredoctorwho_torchwoodaudio_bookbundle\", \"high_res_tile_image\": \"https://humblebundle.imgix.net/misc/files/hashed/2e10e2e33408df55dfbc4cac02d397a8767e53a7.png?auto=compress&fit=crop&fm=jpg&h=600&w=1200&s=847e552e1a5238e8e3efd7d21ca03c79\", \"disable_hero_tile\": false, \"marketing_blurb\": \"The Torchwood & Doctor Who audiobook bundle has regenerated with new titles!\", \"hover_title\": \"Pay What You Want\", \"product_url\": \"/books/more-torchwood-doctor-who-audiobooks\", \"tile_image\": \"https://humblebundle.imgix.net/misc/files/hashed/2e10e2e33408df55dfbc4cac02d397a8767e53a7.png?auto=compress&fit=crop&fm=jpg&h=353&w=616&s=7e6f387a0e005dd1935fdf226a91af0b\", \"cached_content_events\": [{\"identifier\": \"freepromo\", \"display_counter\": false, \"type\": \"price\", \"price\": 0.0, \"has_subproducts\": true, \"start\": null, \"mpa_time\": null, \"section_identifiers\": [], \"has_tpkds\": true, \"max_price\": null, \"is_base\": false}, {\"identifier\": \"freepromo_region_message\", \"display_counter\": false, \"type\": \"base\", \"price\": null, \"has_subproducts\": true, \"start\": null, \"mpa_time\": null, \"section_identifiers\": [], \"has_tpkds\": false, \"max_price\": null, \"is_base\": false}, {\"identifier\": \"initial\", \"display_counter\": false, \"type\": \"price\", \"price\": 1.0, \"has_subproducts\": true, \"start\": null, \"mpa_time\": null, \"section_identifiers\": [\"core_tier\"], \"has_tpkds\": false, \"max_price\": null, \"is_base\": false}, {\"identifier\": \"bt8\", \"display_counter\": false, \"type\": \"price\", \"price\": 8.0, \"has_subproducts\": true, \"start\": null, \"mpa_time\": null, \"section_identifiers\": [\"bt8_tier\"], \"has_tpkds\": false, \"max_price\": null, \"is_base\": false}, {\"identifier\": \"bt15\", \"display_counter\": false, \"type\": \"price\", \"price\": 15.0, \"has_subproducts\": true, \"start\": null, \"mpa_time\": null, \"section_identifiers\": [\"bt15_tier\"], \"has_tpkds\": false, \"max_price\": null, \"is_base\": false}], \"bundle_machine_name\": \"moredoctorwho_torchwoodaudio_bookbundle\", \"high_res_tile_image_information\": {\"config\": {\"image_type\": \"gcs\", \"gcs\": \"images/humble_home/moredoctorwho_torchwoodaudio_bookbundle-product.png\", \"static\": \"\", \"imgix\": {\"args\": {}, \"master_image\": {\"image_type\": \"static\", \"gcs\": \"\", \"static\": \"\", \"imgix\": {}}}}}, \"hero_highlights\": [{\"heading\": \"{msrp} worth of digital audiobooks\", \"tooltip\": \"Get audiobooks collectively valued at up to {msrp}.\"}, {\"heading\": \"Pay what you want\", \"tooltip\": \"Name your price of $1 or more and increase your contribution to upgrade your bundle.\"}, {\"heading\": \"DRM-free\", \"tooltip\": \"Download these audiobooks onto your favorite listening device to enjoy anywhere, anytime.\"}, {\"heading\": \"Multi-format\", \"tooltip\": \"These audiobooks come in FLAC and MP3 file types to support many devices.\"}], \"end_date\": \"2018-08-29T18:00:01\", \"highlights\": [\"Pay What You Want\", \"16 books\", \"$371 Value\", \"Support Charity\"], \"supports_partners\": true, \"short_marketing_blurb\": \"This audiobook bundle has regenerated with new titles!\", \"detailed_marketing_blurb\": \"The Torchwood & Doctor Who audiobook bundle has regenerated! Get a new lineup of titles including Doctor Who - 8th Doctor Adventures: Dark Eyes 1, Big Finish Audiobooks: Tom Baker at 80, and Torchwood - Special Releases: The Torchwood Archive. You know, you\\'re supposed to Torchwood for good luck.\", \"blocked_territories\": [], \"tile_logo\": \"https://humblebundle.imgix.net/misc/files/hashed/f46a7c7ac52ed60ce8aea027abd3401d9a0f6232.png?auto=compress&h=170&w=1200&s=44914536e39079043f3367cfacaf85fc\", \"tile_short_name\": \"More Torchwood & Doctor Who Audiobooks\", \"start_date\": \"2018-08-15T18:00:01\", \"tab_end\": \"2018-08-29T18:00:01\", \"hover_highlights\": [\"16 books\", \"$371 Value\"], \"is_active\": false, \"tile_stamp\": \"audiobook\", \"tile_name\": \"Humble Audiobook Bundle: More Torchwood & Doctor Who presented by Big Finish\", \"bundles_sold\": \"4964\", \"tile_image_information\": {\"config\": {\"image_type\": \"gcs\", \"gcs\": \"images/humble_home/moredoctorwho_torchwoodaudio_bookbundle-product.png\", \"static\": \"\", \"imgix\": {\"args\": {}, \"master_image\": {\"image_type\": \"static\", \"gcs\": \"\", \"static\": \"\", \"imgix\": {}}}}}, \"url\": \"books/more-torchwood-doctor-who-audiobooks\", \"type\": \"bundle\", \"human_name\": \"More Torchwood & Doctor Who Audiobooks\"}],\\n      \"searchOptions\": {\\n        \"pricing_constants\": {\\n          \"current_country\": \"US\",\\n          \"currencies\": [\"USD\", \"EUR\", \"GBP\"],\\n          \"exchange_rates\": {\"USD\": 1.0, \"IDR\": 14590.0, \"BGN\": 1.7126094570928196, \"ISK\": 107.70577933450087, \"ILS\": 3.6614711033274956, \"GBP\": 0.78352014010507876, \"DKK\": 6.5313485113835377, \"CAD\": 1.3070928196147111, \"JPY\": 110.55166374781086, \"HUF\": 283.30122591943956, \"RON\": 4.0709281961471104, \"MYR\": 4.1005253940455342, \"SEK\": 9.1872154115586682, \"SGD\": 1.3717162872154116, \"HKD\": 7.8498248686514884, \"AUD\": 1.3687390542907181, \"CHF\": 0.99527145359019265, \"KRW\": 1122.3204903677758, \"CNY\": 6.8608581436077056, \"TRY\": 6.1176007005253936, \"HRK\": 6.4947460595446582, \"NZD\": 1.5109457092819614, \"THB\": 33.035026269702279, \"EUR\": 0.87565674255691772, \"NOK\": 8.4693520140105072, \"RUB\": 67.183450087565674, \"INR\": 69.824868651488615, \"MXN\": 18.94045534150613, \"CZK\": 22.509632224168126, \"BRL\": 3.9245183887915935, \"PLN\": 3.7685639229422065, \"PHP\": 53.373905429071804, \"ZAR\": 14.585026269702277},\\n          \"euro_countries\": [\"BE\", \"FR\", \"BG\", \"DK\", \"HR\", \"DE\", \"HU\", \"FI\", \"BA\", \"NL\", \"PT\", \"RS\", \"LI\", \"LV\", \"LT\", \"LU\", \"RO\", \"PL\", \"VA\", \"CH\", \"GR\", \"EE\", \"IT\", \"AL\", \"CZ\", \"CY\", \"AT\", \"AD\", \"IE\", \"ES\", \"ME\", \"EUROPE_EURO\", \"MC\", \"NO\", \"MK\", \"SK\", \"MT\", \"SI\", \"SM\", \"SE\"],\\n          \"gbp_countries\": [\"GS\", \"GG\", \"SH\", \"IM\", \"GB\", \"UK\", \"JE\", \"EUROPE_GBP\", \"BQ\"]\\n        },\\n        \"bundle_icon\": \"https://humblebundle-a.akamaihd.net/static/hashed/40f0b827c9d1c12cfc3dfd358ec39cc34e5dd3a7.jpg\",\\n        \"subscriptioncontent_icon\": \"https://humblebundle-a.akamaihd.net/static/hashed/ac7ab70a9a2116ba9fae8feead3ba35fe1c609f5.jpg\"\\n      },\\n      \"userDropdown\": {\\n        \"logoutUrl\": \"/logout?goto=/books/big-data-books&qs=\",\\n        \"hasDashboard\": false,\\n        \"isPartner\": false\\n      },\"userMonthlyPerkStatus\": \"inactive\"\\n    }\\n  }\\n</script>\\n\\n<script id=\"webpack-bundle-data\" type=\"application/json\">\\n  {\\n    \"bundleVars\": {\"bonus_data\": [], \"product_machine_name\": \"bigdata_bookbundle\", \"timing_info\": {\"digits\": [\"0\", \"6\", \"1\", \"2\", \"0\", \"1\", \"1\", \"0\"], \"hourlydigits\": [\"1\", \"5\", \"0\", \"1\", \"1\", \"0\"], \"timing\": \"{\\\\\"start\\\\\": 1534183201, \\\\\"end\\\\\": 1535392801}\"}, \"countdown_timer_vars\": {\"at_time\": \"2018-08-21T05:58:50.512670\", \"end_time\": \"2018-08-27T18:00:01\"}, \"has_free_keys\": true, \"charity_constants\": {\"disallowed_charity_ids\": [], \"CHARITY_SEARCH_PARAMS\": {\"category\": {\"Health and Medicine\": \"Health and Medicine\", \"Employment and Professional Associations\": \"Employment and Professional Associations\", \"Arts and Culture\": \"Arts and Culture\", \"Animals\": \"Animals\", \"Schools and Education\": \"Schools and Education\", \"Science and Research\": \"Science and Research\", \"Sports and Recreation\": \"Sports and Recreation\", \"Society and Communities\": \"Society and Communities\", \"Religion and Spirituality\": \"Religion and Spirituality\", \"Environment\": \"Environment\", \"Human Services\": \"Human Services\", \"Children and Youth Development\": \"Children and Youth Development\", \"Philanthropy, Grants and Other\": \"Philanthropy, Grants and Other\", \"International\": \"International\", \"Crime Prevention and Justice\": \"Crime Prevention and Justice\", \"Military and Veterans\": \"Military and Veterans\", \"Housing, Homelessness and Hunger\": \"Housing, Homelessness and Hunger\", \"Disaster Relief\": \"Disaster Relief\"}, \"country\": {\"GB\": \"United Kingdom\", \"US\": \"United States\"}, \"state\": {\"WA\": \"Washington\", \"WI\": \"Wisconsin\", \"WV\": \"West Virginia\", \"FL\": \"Florida\", \"WY\": \"Wyoming\", \"NH\": \"New Hampshire\", \"NJ\": \"New Jersey\", \"NM\": \"New Mexico\", \"NC\": \"North Carolina\", \"ND\": \"North Dakota\", \"NE\": \"Nebraska\", \"NY\": \"New York\", \"RI\": \"Rhode Island\", \"NV\": \"Nevada\", \"CO\": \"Colorado\", \"CA\": \"California\", \"GA\": \"Georgia\", \"CT\": \"Connecticut\", \"OK\": \"Oklahoma\", \"OH\": \"Ohio\", \"KS\": \"Kansas\", \"SC\": \"South Carolina\", \"KY\": \"Kentucky\", \"OR\": \"Oregon\", \"SD\": \"South Dakota\", \"DE\": \"Delaware\", \"DC\": \"District of Columbia\", \"HI\": \"Hawaii\", \"TX\": \"Texas\", \"LA\": \"Louisiana\", \"TN\": \"Tennessee\", \"PA\": \"Pennsylvania\", \"VA\": \"Virginia\", \"AK\": \"Alaska\", \"AL\": \"Alabama\", \"AR\": \"Arkansas\", \"VT\": \"Vermont\", \"IL\": \"Illinois\", \"IN\": \"Indiana\", \"IA\": \"Iowa\", \"AZ\": \"Arizona\", \"ID\": \"Idaho\", \"ME\": \"Maine\", \"MD\": \"Maryland\", \"MA\": \"Massachusetts\", \"UT\": \"Utah\", \"MO\": \"Missouri\", \"MN\": \"Minnesota\", \"MI\": \"Michigan\", \"MT\": \"Montana\", \"MS\": \"Mississippi\"}}, \"featured_charities\": [{\"category\": \"Human Services\", \"city\": \"Washington\", \"description\": \"Help people affected by disasters like storms and countless other crises by making a gift to American Red Cross Disaster Relief. Your gift enables the Red Cross to prepare for, respond to and help people recover from disasters big and small.\\\\r\\\\n\\\\r\\\\n\", \"url\": \"http://www.redcross.org\", \"country\": \"US\", \"charity_id\": \"3843\", \"state\": \"DC\", \"keywords\": \"disaster,armed forces,first aid,emergency response,floods, red cross, american red cross\", \"human_name\": \"American Red Cross\", \"logo_url\": \"https://pics.paypal.com/00/s/Mjk5MDliMzktMzYwOC00ZDRjLWIyNGQtZDc3N2I3Nzc3ZDQy/file.JPG\"}, {\"category\": \"Arts and Culture\", \"city\": \"Redmond\", \"description\": \"Child\\\\u0027s Play seeks to improve the lives of children in hospitals and healthcare facilities around the world through the kindness and generosity of the video game industry and the power of play.\", \"url\": \"\", \"country\": \"US\", \"charity_id\": \"12277\", \"state\": \"WA\", \"keywords\": \"child\\\\u0027s play,childs play,penny arcade,penny-arcade,charity\", \"human_name\": \"Child\\\\u0027s Play\", \"logo_url\": \"https://pics.paypal.com/00/s/NzczNDIyZGItYWRhOC00YmM5LWI5ZWItNjk3OGE3ZDhkZWE3/file.PNG\"}, {\"category\": \"Schools and Education\", \"city\": \"San Francisco\", \"description\": \"The mission of the Wikimedia Foundation is to empower people around the world to collect and develop educational content under a free license or in the public domain, and to disseminate it globally. In collaboration with a network of chapters, the Foundation provides the essential infrastructure and organizational framework for the support and development of multilingual projects, such as Wikipedia, Wiktionary, Wikiquote, Wikibooks, Wikisource, Wikinews, Wikiversity, Wikispecies, and Wikimedia Commons.\", \"url\": \"http://www.wikimediafoundation.org/\", \"country\": \"US\", \"charity_id\": \"25618\", \"state\": \"CA\", \"keywords\": \"Encyclopedia,Collaborative,Open Source,Free,Knowledge\", \"human_name\": \"Wikimedia Foundation, Inc.\", \"logo_url\": \"https://pics.paypal.com/00/s/ZWZjYjUzODQtN2Q5Yy00NDkxLTkxNTYtNjJjMTA3MmVmNGY2/file.PNG\"}, {\"category\": \"Philanthropy, Grants, Other\", \"city\": \"Bristol\", \"description\": \"GamesAid acts as a broker of charitable activity on behalf of individuals and companies within the UK\\\\r\\\\nvideo games industry. Funds are distributed to a diverse range of charities as nominated and\\\\r\\\\nvoted for by its members.\\\\r\\\\n\\\\r\\\\n\", \"url\": \"http://www.gamesaid.org\", \"country\": \"GB\", \"charity_id\": \"31075\", \"state\": \"Avon\", \"keywords\": \"Computer Games, Software Downloads, Disabled Children\", \"human_name\": \"GamesAid\", \"logo_url\": \"https://pics.paypal.com/00/s/ZmQ4NmQyMjQtMjI1OC00MjRkLWIxNzYtYjdlOThlYjYyOTUz/file.PNG\"}, {\"category\": \"Human Services\", \"city\": \"New York\", \"description\": \"Right now, 663 million people don\\\\u0027t have access to clean water. That\\\\u0027s 1 in 10 of us.\\\\r\\\\n\\\\r\\\\ncharity: water is a non-profit organization on a mission to bring clean and safe drinking water to every person on the planet. 100% of all public donations directly fund water project costs, we prove every project we build using photos and GPS coordinates on Google Maps, and we work with strong local implementing partners to build and maintain projects.\", \"url\": \"http://www.charitywater.org\", \"country\": \"US\", \"charity_id\": \"24627\", \"state\": \"NY\", \"keywords\": \"charity,water,sanitation,Africa,India\", \"human_name\": \"charity: water\", \"logo_url\": \"https://pics.paypal.com/00/s/Yjc4NmNmMDQtNDZlZi00ZmE5LThmZTItMWMxMzgxMTk0NDdl/file.JPG\"}, {\"category\": \"Environment\", \"city\": \"Chippenham\", \"description\": \"WDC, Whale and Dolphin Conservation (formerly WDCS) is the leading global charity dedicated to the conservation and protection of whales and dolphins. We defend these remarkable creatures against the many threats they face through campaigns, lobbying, advising governments, conservation projects, field research and rescue. Our vision is a world where every whale and dolphin is safe and free.\", \"url\": \"\", \"country\": \"GB\", \"charity_id\": \"16618\", \"state\": \"Wiltshire\", \"featured\": true, \"keywords\": \"Whale, Dolphin, Orca, Conservation, Wildlife\", \"human_name\": \"WDC, Whale and Dolphin Conservation\", \"logo_url\": \"https://pics.paypal.com/00/s/YzQwZmU4MmQtODlkNy00ZTU4LTlmZDQtNzhiYzFjYmU1OTI5/file.JPG\"}], \"user_charity_id\": null, \"FEATURED_CHARITY_IDS\": [\"3843\", \"12277\", \"25618\", \"31075\", \"24627\", \"16618\"], \"CHARITY_SEARCH_PARAM_ORDER\": [\"query\", \"category\", \"country\", \"state\", \"page\"]}, \"upsells\": [{\"category\": \"subscriptionplan\", \"machine_name\": \"monthly_basic\", \"description\": \"Sniper Elite 4, Tales of Berseria\\\\u2122, and Staxel\", \"discount_percentage\": 10.0, \"price\": {\"currency\": \"USD\", \"amount\": 10.800000000000001}, \"subscription_content_product\": \"september_2018_monthly\", \"full_price\": {\"currency\": \"USD\", \"amount\": 12.0}, \"image_url\": \"https://humblebundle.imgix.net/misc/files/hashed/e1df7cd2bd74450d7418a89889f066d4f0b14dce.jpg?auto\\\\u003dcompress\\\\u0026fit\\\\u003dcrop\\\\u0026fm\\\\u003djpg\\\\u0026h\\\\u003d353\\\\u0026w\\\\u003d616\\\\u0026s\\\\u003d0e5fe26ab37af875765b5908d7d7b250\", \"renewal_date\": \"September 28, 2018\", \"human_name\": \"Month to Month Plan\", \"upsell_text\": \"Sniper Elite 4, Tales of Berseria\\\\u2122, and Staxel\", \"discount_amount\": null}], \"product_human_name\": \"Humble Book Bundle: Big Data by Packt\", \"streamlabs_enabled\": false, \"slideout_data\": {\"display_items\": {\"mongodbcookbook\": {\"publishers\": [{\"publisher_name\": \"Packt\", \"publisher_url\": \"https://www.packtpub.com/big-data-and-business-intelligence/mongodb-cookbook-second-edition\"}], \"machine_name\": \"mongodbcookbook\", \"youtube_link\": null, \"soundtrack_listing\": {\"hide_listing\": null, \"tracks\": []}, \"availability_icons\": null, \"description_text\": \"\\\\u003cp\\\\u003eKey Features\\\\u003c/p\\\\u003e\\\\u003cul\\\\u003e\\\\u003cli\\\\u003eGet to grips with the latest features of MongoDB 3\\\\u003c/li\\\\u003e\\\\u003cli\\\\u003eInteract with the MongoDB server and perform a wide range of query operations from the shell \\\\u003c/li\\\\u003e\\\\u003cli\\\\u003eFrom administration to automation, this cookbook keeps you up to date with the world\\\\u0026#8217;s leading NoSQL database\\\\u003c/li\\\\u003e\\\\u003c/ul\\\\u003e\\\\u003cp\\\\u003eWho This Book Is For\\\\u003c/p\\\\u003e\\\\u003cp\\\\u003eThis book is engineered for anyone who is interested in managing data in an easy and efficient way using MongoDB. You do not need any prior knowledge of MongoDB, but it would be helpful if you have some programming experience in either Java or Python.\\\\u003c/p\\\\u003e\", \"preview_image\": \"https://humblebundle.imgix.net/misc/files/hashed/5568b0a80178559b5e40e67af424fc720a662128.jpg?auto\\\\u003dcompress\\\\u0026fit\\\\u003dclip\\\\u0026fm\\\\u003djpg\\\\u0026h\\\\u003d280\\\\u0026w\\\\u003d500\\\\u0026s\\\\u003d4b86138e3a2f0d1c96ab770b0f0bd6dc\", \"is_clickable\": true, \"rating_info\": null, \"human_name\": \"MongoDB Cookbook\", \"developers\": [{\"developer_name\": \"Cyrus Dasadia, Amol Nayakis\", \"developer_url\": null}], \"book_preview\": {\"preview_file_size\": \"83 KB\", \"preview_prefix\": null, \"preview_file_type\": \"PDF\", \"unsigned_url\": \"ops/pdfs/mongodbcookbook_preview.pdf\", \"preview_icon\": \"pdf\", \"preview_file_link\": \"https://dl.humble.com/ops/pdfs/mongodbcookbook_preview.pdf?ttl\\\\u003d1534917530\\\\u0026t\\\\u003dde0159a6ca4a3a6783319f90dbc29abf\"}}, \"masteringapachespark2_x\": {\"publishers\": [{\"publisher_name\": \"Packt\", \"publisher_url\": \"https://www.packtpub.com/big-data-and-business-intelligence/mastering-apache-spark-2x-second-edition\"}], \"machine_name\": \"masteringapachespark2_x\", \"youtube_link\": null, \"soundtrack_listing\": {\"hide_listing\": null, \"tracks\": []}, \"availability_icons\": null, \"description_text\": \"\\\\u003cp\\\\u003eKey Features\\\\u003c/p\\\\u003e\\\\u003cul\\\\u003e\\\\u003cli\\\\u003eMaster the art of real-time Big Data processing using Apache Spark 2.x\\\\u003c/li\\\\u003e\\\\u003cli\\\\u003ePerform machine learning, deep learning and streaming data analytics by extending the most up-to-date functionalities of Apache Spark\\\\u003c/li\\\\u003e\\\\u003cli\\\\u003eAn advanced guide with a unique combination of tips, instructions and practical examples on using Apache Spark effectively\\\\u003c/li\\\\u003e\\\\u003c/ul\\\\u003e\\\\u003cp\\\\u003eWho This Book Is For\\\\u003c/p\\\\u003e\\\\u003cp\\\\u003eIf you are an intermediate-level Spark developer looking to master the advanced capabilities and use-cases of Apache Spark 2.x, this book is for you. Big Data professionals who wish to know how to integrate and use the features of Apache Spark to build a strong Big Data pipeline will also find this book to be a useful resource. A fundamental knowledge of Apache Spark and the Scala programming language is assumed.\\\\u003c/p\\\\u003e\", \"preview_image\": \"https://humblebundle.imgix.net/misc/files/hashed/38c38b1e8dc1febe384e8e6c9d3e3b2f36139747.jpg?auto\\\\u003dcompress\\\\u0026fit\\\\u003dclip\\\\u0026fm\\\\u003djpg\\\\u0026h\\\\u003d280\\\\u0026w\\\\u003d500\\\\u0026s\\\\u003d4c01aa777b2ca5ae953dc8348a312c55\", \"is_clickable\": true, \"rating_info\": null, \"human_name\": \"Mastering Apache Spark 2.x\", \"developers\": [{\"developer_name\": \"Romeo Kienzler\", \"developer_url\": null}], \"book_preview\": {\"preview_file_size\": \"187 KB\", \"preview_prefix\": null, \"preview_file_type\": \"PDF\", \"unsigned_url\": \"ops/pdfs/masteringapachespark2_x_preview.pdf\", \"preview_icon\": \"pdf\", \"preview_file_link\": \"https://dl.humble.com/ops/pdfs/masteringapachespark2_x_preview.pdf?ttl\\\\u003d1534917530\\\\u0026t\\\\u003d9899be0f3a5235aa726a64879034844e\"}}, \"datasciencealgorithmsinaweek\": {\"publishers\": [{\"publisher_name\": \"Packt\", \"publisher_url\": \"https://www.packtpub.com/big-data-and-business-intelligence/data-science-algorithms-week\"}], \"machine_name\": \"datasciencealgorithmsinaweek\", \"youtube_link\": null, \"soundtrack_listing\": {\"hide_listing\": null, \"tracks\": []}, \"availability_icons\": null, \"description_text\": \"\\\\u003cp\\\\u003eKey Features\\\\u003c/p\\\\u003e\\\\u003cul\\\\u003e\\\\u003cli\\\\u003eGet to know seven algorithms for your data science needs in this concise, insightful guide\\\\u003c/li\\\\u003e\\\\u003cli\\\\u003eEnsure you\\\\u0026#8217;re confident in the basics by learning when and where to use various data science algorithms\\\\u003c/li\\\\u003e\\\\u003cli\\\\u003eLearn to use machine learning algorithms in a period of just 7 days\\\\u003c/li\\\\u003e\\\\u003c/ul\\\\u003e\\\\u003cp\\\\u003eWho This Book Is For\\\\u003c/p\\\\u003e\\\\u003cp\\\\u003eThis book is for aspiring data science professionals who are familiar with Python and have a statistics background. It is ideal for developers who are currently implementing one or two data science algorithms and want to learn more to expand their skill set.\\\\u003c/p\\\\u003e\", \"preview_image\": \"https://humblebundle.imgix.net/misc/files/hashed/af2b1ab2f6fdd2512d23c171b63a15a765e4795f.jpg?auto\\\\u003dcompress\\\\u0026fit\\\\u003dclip\\\\u0026fm\\\\u003djpg\\\\u0026h\\\\u003d280\\\\u0026w\\\\u003d500\\\\u0026s\\\\u003d80f8a78e38ace74b67fadac7bdba76fe\", \"is_clickable\": true, \"rating_info\": null, \"human_name\": \"Data Science Algorithms in a Week\", \"developers\": [{\"developer_name\": \"Dvid Natingga\", \"developer_url\": null}], \"book_preview\": {\"preview_file_size\": \"717 KB\", \"preview_prefix\": null, \"preview_file_type\": \"PDF\", \"unsigned_url\": \"ops/pdfs/datasciencealgorithmsinaweek_preview.pdf\", \"preview_icon\": \"pdf\", \"preview_file_link\": \"https://dl.humble.com/ops/pdfs/datasciencealgorithmsinaweek_preview.pdf?ttl\\\\u003d1534917530\\\\u0026t\\\\u003d0df28f0311de7bb248270377965dc233\"}}, \"apachehiveessentials\": {\"publishers\": [{\"publisher_name\": \"Packt\", \"publisher_url\": \"https://www.packtpub.com/application-development/apache-hive-essentials-second-edition\"}], \"machine_name\": \"apachehiveessentials\", \"youtube_link\": null, \"soundtrack_listing\": {\"hide_listing\": null, \"tracks\": []}, \"availability_icons\": null, \"description_text\": \"\\\\u003cp\\\\u003eKey Features\\\\u003c/p\\\\u003e\\\\u003cul\\\\u003e\\\\u003cli\\\\u003eGrasp the skills needed to write efficient Hive queries to analyze the Big Data\\\\u003c/li\\\\u003e\\\\u003cli\\\\u003eDiscover how Hive can coexist and work with other tools within the Hadoop ecosystem\\\\u003c/li\\\\u003e\\\\u003cli\\\\u003eUses practical, example-oriented scenarios to cover all the newly released features of Apache Hive 2.3.3\\\\u003c/li\\\\u003e\\\\u003c/ul\\\\u003e\\\\u003cp\\\\u003eWho This Book Is For\\\\u003c/p\\\\u003e\\\\u003cp\\\\u003eIf you are a data analyst, developer, or simply someone who wants to quickly get started with Hive to explore and analyze Big Data in Hadoop, this is the book for you. Since Hive is an SQL-like language, some previous experience with SQL will be useful to get the most out of this book.\\\\u003c/p\\\\u003e\", \"preview_image\": \"https://humblebundle.imgix.net/misc/files/hashed/26be83dc68f4b4d99ec70cea7ca61136271390d0.jpg?auto\\\\u003dcompress\\\\u0026fit\\\\u003dclip\\\\u0026fm\\\\u003djpg\\\\u0026h\\\\u003d280\\\\u0026w\\\\u003d500\\\\u0026s\\\\u003d4e45eb369f210df2c39377533af044d3\", \"is_clickable\": true, \"rating_info\": null, \"human_name\": \"Apache Hive Essentials\", \"developers\": [{\"developer_name\": \"Dayong Du\", \"developer_url\": null}], \"book_preview\": {\"preview_file_size\": \"149 KB\", \"preview_prefix\": null, \"preview_file_type\": \"PDF\", \"unsigned_url\": \"ops/pdfs/apachehiveessentials_preview.pdf\", \"preview_icon\": \"pdf\", \"preview_file_link\": \"https://dl.humble.com/ops/pdfs/apachehiveessentials_preview.pdf?ttl\\\\u003d1534917530\\\\u0026t\\\\u003d4d49d2621f0e299618d606dca6204fb7\"}}, \"artificialintelligenceforbigdata\": {\"publishers\": [{\"publisher_name\": \"Packt\", \"publisher_url\": \"https://www.packtpub.com/big-data-and-business-intelligence/artificial-intelligence-big-data\"}], \"machine_name\": \"artificialintelligenceforbigdata\", \"youtube_link\": null, \"soundtrack_listing\": {\"hide_listing\": null, \"tracks\": []}, \"availability_icons\": null, \"description_text\": \"\\\\u003cp\\\\u003eKey Features\\\\u003c/p\\\\u003e\\\\u003cul\\\\u003e\\\\u003cli\\\\u003eImplement AI techniques to build smart applications using Deeplearning4j \\\\u003c/li\\\\u003e\\\\u003cli\\\\u003ePerform big data analytics to derive quality insights using Spark MLlib\\\\u003c/li\\\\u003e\\\\u003cli\\\\u003eCreate self-learning systems using neural networks, NLP, and reinforcement learning\\\\u003c/li\\\\u003e\\\\u003c/ul\\\\u003e\\\\u003cp\\\\u003eWho This Book Is For\\\\u003c/p\\\\u003e\\\\u003cp\\\\u003eThis book is for you if you are a data scientist, big data professional, or novice who has basic knowledge of big data and wish to get proficiency in Artificial Intelligence techniques for big data. Some competence in mathematics is an added advantage in the field of elementary linear algebra and calculus.\\\\u003c/p\\\\u003e\", \"preview_image\": \"https://humblebundle.imgix.net/misc/files/hashed/b6c23af9b55c59d6073653fdf93348d5850a6807.jpg?auto\\\\u003dcompress\\\\u0026fit\\\\u003dclip\\\\u0026fm\\\\u003djpg\\\\u0026h\\\\u003d280\\\\u0026w\\\\u003d500\\\\u0026s\\\\u003dda8da5203af6dd580f64c48c91db4c97\", \"is_clickable\": true, \"rating_info\": null, \"human_name\": \"Artificial Intelligence for Big Data\", \"developers\": [{\"developer_name\": \"Anand Deshpande, Manish Kumar\", \"developer_url\": null}], \"book_preview\": {\"preview_file_size\": \"189 KB\", \"preview_prefix\": null, \"preview_file_type\": \"PDF\", \"unsigned_url\": \"ops/pdfs/artificialintelligenceforbigdata_preview.pdf\", \"preview_icon\": \"pdf\", \"preview_file_link\": \"https://dl.humble.com/ops/pdfs/artificialintelligenceforbigdata_preview.pdf?ttl\\\\u003d1534917530\\\\u0026t\\\\u003d73ed47d0dd24bde87b603306749c6192\"}}, \"bigdataanalyticswithhadoop3\": {\"publishers\": [{\"publisher_name\": \"Packt\", \"publisher_url\": \"https://www.packtpub.com/big-data-and-business-intelligence/big-data-analytics-hadoop-3\"}], \"machine_name\": \"bigdataanalyticswithhadoop3\", \"youtube_link\": null, \"soundtrack_listing\": {\"hide_listing\": null, \"tracks\": []}, \"availability_icons\": null, \"description_text\": \"\\\\u003cp\\\\u003eKey Features\\\\u003c/p\\\\u003e\\\\u003cul\\\\u003e\\\\u003cli\\\\u003eLearn Hadoop 3 to build effective big data analytics solutions on-premise and on cloud\\\\u003c/li\\\\u003e\\\\u003cli\\\\u003eIntegrate Hadoop with other big data tools such as R, Python, Apache Spark, and Apache Flink\\\\u003c/li\\\\u003e\\\\u003cli\\\\u003eExploit big data using Hadoop 3 with real-world examples \\\\u003c/li\\\\u003e\\\\u003c/ul\\\\u003e\\\\u003cp\\\\u003eWho This Book Is For\\\\u003c/p\\\\u003e\\\\u003cp\\\\u003eBig Data Analytics with Hadoop 3 is for you if you are looking to build high-performance analytics solutions for your enterprise or business using Hadoop 3\\\\u0026#8217;s powerful features, or you\\\\u0026#8217;re new to big data analytics. A basic understanding of the Java programming language is required.\\\\u003c/p\\\\u003e\", \"preview_image\": \"https://humblebundle.imgix.net/misc/files/hashed/f40be3e65a3e3023f3ee22d6e7c636ebedd8a849.jpg?auto\\\\u003dcompress\\\\u0026fit\\\\u003dclip\\\\u0026fm\\\\u003djpg\\\\u0026h\\\\u003d280\\\\u0026w\\\\u003d500\\\\u0026s\\\\u003d26fe4271138f987654e8d0cd09f0f3d5\", \"is_clickable\": true, \"rating_info\": null, \"human_name\": \"Big Data Analytics with Hadoop 3\", \"developers\": [{\"developer_name\": \"Sridhar Alla\", \"developer_url\": null}], \"book_preview\": {\"preview_file_size\": \"194 KB\", \"preview_prefix\": null, \"preview_file_type\": \"PDF\", \"unsigned_url\": \"ops/pdfs/bigdataanalyticswithhadoop3_preview.pdf\", \"preview_icon\": \"pdf\", \"preview_file_link\": \"https://dl.humble.com/ops/pdfs/bigdataanalyticswithhadoop3_preview.pdf?ttl\\\\u003d1534917530\\\\u0026t\\\\u003d4a2147790846110e9855f8ad488bd880\"}}, \"giving_fund\": {\"description_text\": \"Humble Bundle is proud to partner with PayPal Giving Fund, a U.S. 501(c)(3) charity. Humble Bundle will contribute the amount you select - less PayPal Giving Fund\\\\u0027s administrative fee and, pro rata, applicable sales taxes, VAT, and payment processor fees (which typically average 6 to 7% across all transactions) - to the \\\\u003ca href\\\\u003d\\\\\"https://www.paypalgivingfund.org/index.html\\\\\" target\\\\u003d\\\\\"_blank\\\\\"\\\\u003ePayPal Giving Fund\\\\u003c/a\\\\u003e, with the direction that PayPal Giving Fund pay the funds to the charitable organizations as indicated by you. PayPal Giving Fund retains ultimate discretion and control over the use of the donations it receives from Humble Bundle. You will not be entitled to a tax deduction for contributions made by Humble Bundle to PayPal Giving Fund.\", \"human_name\": \"PayPal Giving Fund\", \"machine_name\": \"giving_fund\", \"preview_image\": \"https://humblebundle-a.akamaihd.net/static/hashed/94d27ed2ec4427e4513c9fbf118593a3fce94031.jpg\"}, \"hadoopreal-worldsolutionscookbook\": {\"publishers\": [{\"publisher_name\": \"Packt\", \"publisher_url\": \"https://www.packtpub.com/big-data-and-business-intelligence/hadoop-real-world-solutions-cookbook-second-edition\"}], \"machine_name\": \"hadoopreal-worldsolutionscookbook\", \"youtube_link\": null, \"soundtrack_listing\": {\"hide_listing\": null, \"tracks\": []}, \"availability_icons\": null, \"description_text\": \"\\\\u003cp\\\\u003eKey Features\\\\u003c/p\\\\u003e\\\\u003cul\\\\u003e\\\\u003cli\\\\u003eImplement outstanding Machine Learning use cases on your own analytics models and processes.\\\\u003c/li\\\\u003e\\\\u003cli\\\\u003eSolutions to common problems when working with the Hadoop ecosystem. \\\\u003c/li\\\\u003e\\\\u003cli\\\\u003eStep-by-step implementation of end-to-end big data use cases.\\\\u003c/li\\\\u003e\\\\u003c/ul\\\\u003e\\\\u003cp\\\\u003eWho This Book Is For\\\\u003c/p\\\\u003e\\\\u003cp\\\\u003e Readers who have a basic knowledge of big data systems and want to advance their knowledge with hands-on recipes. \\\\u003c/p\\\\u003e\", \"preview_image\": \"https://humblebundle.imgix.net/misc/files/hashed/6f37fbd55bf2eb5dd3bb8bcbcf21cd2fee9bad75.jpg?auto\\\\u003dcompress\\\\u0026fit\\\\u003dclip\\\\u0026fm\\\\u003djpg\\\\u0026h\\\\u003d280\\\\u0026w\\\\u003d500\\\\u0026s\\\\u003d3af9d419090ba26cfeb5ef487086c99c\", \"is_clickable\": true, \"rating_info\": null, \"human_name\": \"Hadoop Real-World Solutions Cookbook\", \"developers\": [{\"developer_name\": \"Tanmay Deshpand\", \"developer_url\": null}], \"book_preview\": {\"preview_file_size\": \"86 KB\", \"preview_prefix\": null, \"preview_file_type\": \"PDF\", \"unsigned_url\": \"ops/pdfs/hadoopreal-worldsolutionscookbook_preview.pdf\", \"preview_icon\": \"pdf\", \"preview_file_link\": \"https://dl.humble.com/ops/pdfs/hadoopreal-worldsolutionscookbook_preview.pdf?ttl\\\\u003d1534917530\\\\u0026t\\\\u003d5910bfdcb000b7bafe2ea0440414dfa5\"}}, \"learningelasticsearch5_0_video\": {\"publishers\": [{\"publisher_name\": \"Packt\", \"publisher_url\": \"https://www.packtpub.com/big-data-and-business-intelligence/learning-elasticsearch-50-video\"}], \"machine_name\": \"learningelasticsearch5_0_video\", \"youtube_link\": null, \"soundtrack_listing\": {\"hide_listing\": null, \"tracks\": []}, \"availability_icons\": null, \"description_text\": \"\\\\u003cp\\\\u003eKey Features\\\\u003c/p\\\\u003e\\\\u003cul\\\\u003e\\\\u003cli\\\\u003eGet the basics of ElasticSearch concepts, APIs and best use cases\\\\u003c/li\\\\u003e\\\\u003cli\\\\u003eCreate large-scale ElasticSearch clusters and build analytics using aggregation\\\\u003c/li\\\\u003e\\\\u003cli\\\\u003eImplement Elastic Search 5.0 in the logstash Apache web log analysis.\\\\u003c/li\\\\u003e\\\\u003c/ul\\\\u003e\\\\u003cp\\\\u003eWho This Video Is For\\\\u003c/p\\\\u003e\\\\u003cp\\\\u003eIf you\\\\u0027re a developer who wants to analyze and manipulate data, then this is the course for you. No previous knowledge of ElasticSearch 5.0 is required.\\\\u003c/p\\\\u003e\", \"preview_image\": \"https://humblebundle.imgix.net/misc/files/hashed/4152bdc21a7dc1d04322f92d564bbdb7fde53e76.jpg?auto\\\\u003dcompress\\\\u0026fit\\\\u003dclip\\\\u0026fm\\\\u003djpg\\\\u0026h\\\\u003d280\\\\u0026w\\\\u003d500\\\\u0026s\\\\u003daf9174fab18a762d32b2c993ac60cc4a\", \"is_clickable\": true, \"rating_info\": null, \"human_name\": \"Learning ElasticSearch 5.0\", \"developers\": [{\"developer_name\": \"Ethan Anthony\", \"developer_url\": null}], \"book_preview\": null}, \"mentalheathfoundation\": {\"publishers\": [], \"machine_name\": \"mentalheathfoundation\", \"youtube_link\": \"B4ZxMECJobo\", \"soundtrack_listing\": {\"hide_listing\": null, \"tracks\": []}, \"availability_icons\": null, \"description_text\": \"\\\\u003cp\\\\u003e\\\\u003cem\\\\u003ePayments to the\\\\u0026nbsp;Mental Health Foundation\\\\u0026nbsp;are made via the\\\\u0026nbsp;\\\\u003ca href\\\\u003d\\\\\"https://support.humblebundle.com/hc/en-us/articles/205183597\\\\\" target\\\\u003d\\\\\"_blank\\\\\"\\\\u003ePayPal Giving Fund\\\\u003c/a\\\\u003e.\\\\u003c/em\\\\u003e\\\\u003c/p\\\\u003e\\\\n\\\\u003cp\\\\u003e\\\\u003cspan\\\\u003ePrevention is at the heart of what we do, because the best way to deal with a crisis is to prevent it from happening in the first place. We inform and influence the development of evidence-based mental health policy at the national and local government level. In tandem we help people to access information about the steps they can take to reduce their mental health risks and increase their resilience. We want to empower people to take action when problems are at an early stage. This work is informed by our long history of working directly with people living with or at risk of developing mental health problems.\\\\u0026nbsp;\\\\u003c/span\\\\u003e\\\\u003c/p\\\\u003e\", \"preview_image\": \"https://humblebundle.imgix.net/misc/files/hashed/345ce6b22381090957260a6becee8418bd8a1c4a.png?auto\\\\u003dcompress\\\\u0026fit\\\\u003dclip\\\\u0026fm\\\\u003djpg\\\\u0026h\\\\u003d280\\\\u0026w\\\\u003d500\\\\u0026s\\\\u003ddbbd7ca96931d6271e91cca2d8fc73c7\", \"is_clickable\": true, \"rating_info\": null, \"human_name\": \"Mental Health Foundation\", \"developers\": [{\"developer_name\": \"www.mentalhealth.org.uk\", \"developer_url\": \"http://www.mentalhealth.org.uk\"}], \"book_preview\": null}, \"statisticsfordatascience\": {\"publishers\": [{\"publisher_name\": \"Packt\", \"publisher_url\": \"https://www.packtpub.com/big-data-and-business-intelligence/statistics-data-science\"}], \"machine_name\": \"statisticsfordatascience\", \"youtube_link\": null, \"soundtrack_listing\": {\"hide_listing\": null, \"tracks\": []}, \"availability_icons\": null, \"description_text\": \"\\\\u003cp\\\\u003eKey Features\\\\u003c/p\\\\u003e\\\\u003cul\\\\u003e\\\\u003cli\\\\u003eNo need to take a degree in statistics, read this book and get a strong statistics base for data science and real-world programs;\\\\u003c/li\\\\u003e\\\\u003cli\\\\u003eImplement statistics in data science tasks such as data cleaning, mining, and analysis\\\\u003c/li\\\\u003e\\\\u003cli\\\\u003eLearn all about probability, statistics, numerical computations, and more with the help of R programs\\\\u003c/li\\\\u003e\\\\u003c/ul\\\\u003e\\\\u003cp\\\\u003eWho This Book Is For\\\\u003c/p\\\\u003e\\\\u003cp\\\\u003eThis book is intended for those developers who are willing to enter the field of data science and are looking for concise information of statistics with the help of insightful programs and simple explanation. Some basic hands on R will be useful.\\\\u003c/p\\\\u003e\", \"preview_image\": \"https://humblebundle.imgix.net/misc/files/hashed/f2713d405ffd064de5ce8605e864fadb6c2658b4.jpg?auto\\\\u003dcompress\\\\u0026fit\\\\u003dclip\\\\u0026fm\\\\u003djpg\\\\u0026h\\\\u003d280\\\\u0026w\\\\u003d500\\\\u0026s\\\\u003def26c8535e6e28a0392f8b5203b5beef\", \"is_clickable\": true, \"rating_info\": null, \"human_name\": \"Statistics for Data Science\", \"developers\": [{\"developer_name\": \"James D. Miller\", \"developer_url\": null}], \"book_preview\": {\"preview_file_size\": \"133 KB\", \"preview_prefix\": null, \"preview_file_type\": \"PDF\", \"unsigned_url\": \"ops/pdfs/statisticsfordatascience_preview.pdf\", \"preview_icon\": \"pdf\", \"preview_file_link\": \"https://dl.humble.com/ops/pdfs/statisticsfordatascience_preview.pdf?ttl\\\\u003d1534917530\\\\u0026t\\\\u003db95e4871bd5a2f93590e47ac31150017\"}}, \"buildscalableapplicationswithapachekafka_video\": {\"publishers\": [{\"publisher_name\": \"Packt\", \"publisher_url\": \"https://www.packtpub.com/application-development/build-scalable-applications-apache-kafka-video\"}], \"machine_name\": \"buildscalableapplicationswithapachekafka_video\", \"youtube_link\": null, \"soundtrack_listing\": {\"hide_listing\": null, \"tracks\": []}, \"availability_icons\": null, \"description_text\": \"\\\\u003cp\\\\u003eKey Features\\\\u003c/p\\\\u003e\\\\u003cul\\\\u003e\\\\u003cli\\\\u003eBuild an application with Apache Kafka Architecture.\\\\u003c/li\\\\u003e\\\\u003cli\\\\u003eUse Apache Kafka and its API to learn to use Producers and Consumers API.\\\\u003c/li\\\\u003e\\\\u003cli\\\\u003eWe will learn how kafka is working under the hood - Kafka Internals.\\\\u003c/li\\\\u003e\\\\u003c/ul\\\\u003e\\\\u003cp\\\\u003eWho This Video Is For\\\\u003c/p\\\\u003e\\\\u003cp\\\\u003eSoftware Engineers with professional Experience in Java that wants to learn how to leverage full power of the Apache Kafka.\\\\u003c/p\\\\u003e\", \"preview_image\": \"https://humblebundle.imgix.net/misc/files/hashed/59a3f7fc4a40c1d4e475220ee1100efe5ab50225.jpg?auto\\\\u003dcompress\\\\u0026fit\\\\u003dclip\\\\u0026fm\\\\u003djpg\\\\u0026h\\\\u003d280\\\\u0026w\\\\u003d500\\\\u0026s\\\\u003d5d026fe1d6b597a63c1dabed0d5c583e\", \"is_clickable\": true, \"rating_info\": null, \"human_name\": \"Build scalable applications with Apache Kafka\", \"developers\": [{\"developer_name\": \"Tomasz Lelek\", \"developer_url\": null}], \"book_preview\": null}, \"learningelasticstack6\": {\"publishers\": [{\"publisher_name\": \"Packt\", \"publisher_url\": \"https://www.packtpub.com/big-data-and-business-intelligence/learning-elastic-stack-60\"}], \"machine_name\": \"learningelasticstack6\", \"youtube_link\": null, \"soundtrack_listing\": {\"hide_listing\": null, \"tracks\": []}, \"availability_icons\": null, \"description_text\": \"\\\\u003cp\\\\u003eKey Features\\\\u003c/p\\\\u003e\\\\u003cul\\\\u003e\\\\u003cli\\\\u003eGet to grips with the new features introduced in Elastic Stack 6.0\\\\u003c/li\\\\u003e\\\\u003cli\\\\u003eGet valuable insights from your data by working with the different components of the Elastic stack such as Elasticsearch, Logstash, Kibana, X-Pack, and Beats\\\\u003c/li\\\\u003e\\\\u003cli\\\\u003eIncludes handy tips and techniques to build, deploy and manage your Elastic applications efficiently on-premise or on the cloud\\\\u003c/li\\\\u003e\\\\u003c/ul\\\\u003e\\\\u003cp\\\\u003eWho This Book Is For\\\\u003c/p\\\\u003e\\\\u003cp\\\\u003eThis book is for data professionals who want to get amazing insights and business metrics from their data sources. If you want to get a fundamental understanding of the Elastic Stack for distributed, real-time processing of data, this book will help you. A fundamental knowledge of JSON would be useful, but is not mandatory. No previous experience with the Elastic Stack is required.\\\\u003c/p\\\\u003e\", \"preview_image\": \"https://humblebundle.imgix.net/misc/files/hashed/6a23c5d4c2973e4709369379b6d8677071f91eff.jpg?auto\\\\u003dcompress\\\\u0026fit\\\\u003dclip\\\\u0026fm\\\\u003djpg\\\\u0026h\\\\u003d280\\\\u0026w\\\\u003d500\\\\u0026s\\\\u003df58e70ae9ba59a87bb305051e5003314\", \"is_clickable\": true, \"rating_info\": null, \"human_name\": \"Learning Elastic Stack 6.0\", \"developers\": [{\"developer_name\": \"Pranav Shukla, Sharath Kumar M N\", \"developer_url\": null}], \"book_preview\": {\"preview_file_size\": \"143 KB\", \"preview_prefix\": null, \"preview_file_type\": \"PDF\", \"unsigned_url\": \"ops/pdfs/learningelasticstack6_preview.pdf\", \"preview_icon\": \"pdf\", \"preview_file_link\": \"https://dl.humble.com/ops/pdfs/learningelasticstack6_preview.pdf?ttl\\\\u003d1534917530\\\\u0026t\\\\u003d1fbf8f05e5c050f251c33c0823728e59\"}}, \"learningapachecassandra_video\": {\"publishers\": [{\"publisher_name\": \"Packt\", \"publisher_url\": \"https://www.packtpub.com/big-data-and-business-intelligence/learning-apache-cassandra-video\"}], \"machine_name\": \"learningapachecassandra_video\", \"youtube_link\": null, \"soundtrack_listing\": {\"hide_listing\": null, \"tracks\": []}, \"availability_icons\": null, \"description_text\": \"\\\\u003cp\\\\u003eKey Features\\\\u003c/p\\\\u003e\\\\u003cul\\\\u003e\\\\u003cli\\\\u003eMaster database operations \\\\u0026#8211; creating a database, creating a table, inserting data, and modelling data\\\\u003c/li\\\\u003e\\\\u003cli\\\\u003eCreate a powerful sample application\\\\u003c/li\\\\u003e\\\\u003cli\\\\u003eWork with Cassandra nodes to make functions work as per your wish\\\\u003c/li\\\\u003e\\\\u003c/ul\\\\u003e\\\\u003cp\\\\u003eWho This Video Is For\\\\u003c/p\\\\u003e\\\\u003cp\\\\u003eThis course is for anyone who wants to learn more about Apache Cassandra from the ground up and get a solid understanding of its workings.\\\\u003c/p\\\\u003e\", \"preview_image\": \"https://humblebundle.imgix.net/misc/files/hashed/accb8faf3b7dfae6c6e8e5ca3c56af771b9223dc.jpg?auto\\\\u003dcompress\\\\u0026fit\\\\u003dclip\\\\u0026fm\\\\u003djpg\\\\u0026h\\\\u003d280\\\\u0026w\\\\u003d500\\\\u0026s\\\\u003d4d56c52b19cea7dabb4c6498984fec90\", \"is_clickable\": true, \"rating_info\": null, \"human_name\": \"Learning Apache Cassandra\", \"developers\": [{\"developer_name\": \"Tomasz Lelek\", \"developer_url\": null}], \"book_preview\": null}, \"workingwithbigdatainpython_video\": {\"publishers\": [{\"publisher_name\": \"Packt\", \"publisher_url\": \"https://www.packtpub.com/application-development/working-big-data-python-video\"}], \"machine_name\": \"workingwithbigdatainpython_video\", \"youtube_link\": null, \"soundtrack_listing\": {\"hide_listing\": null, \"tracks\": []}, \"availability_icons\": null, \"description_text\": \"\\\\u003cp\\\\u003eKey Features\\\\u003c/p\\\\u003e\\\\u003cul\\\\u003e\\\\u003cli\\\\u003eA comprehensive introduction to the key concepts of MongoDB and Spark.\\\\u003c/li\\\\u003e\\\\u003cli\\\\u003eIntuitive examples of key operations in MongoDB and Spark using Python APIs\\\\u003c/li\\\\u003e\\\\u003cli\\\\u003eTwo working examples of realistic end-to-end data analyses using real world datasets\\\\u003c/li\\\\u003e\\\\u003c/ul\\\\u003e\\\\u003cp\\\\u003eWho This Video Is For\\\\u003c/p\\\\u003e\\\\u003cp\\\\u003eA one-stop course for data engineers, data scientists, and developers who have a working knowledge of Python and need to know how to efficiently ingest, query, and analyze data using MongoDB and Spark. By the end of the course, you will be able to combine MongoDB and Spark into your own Python data workflows.\\\\u003c/p\\\\u003e\", \"preview_image\": \"https://humblebundle.imgix.net/misc/files/hashed/c6ad2746ce601959ea64bda47e9e984e81557da4.jpg?auto\\\\u003dcompress\\\\u0026fit\\\\u003dclip\\\\u0026fm\\\\u003djpg\\\\u0026h\\\\u003d280\\\\u0026w\\\\u003d500\\\\u0026s\\\\u003d45652ec5cd902b613ffd6aa5230cbcf7\", \"is_clickable\": true, \"rating_info\": null, \"human_name\": \"Working with Big Data in Python\", \"developers\": [{\"developer_name\": \"Alexis Rutherford\", \"developer_url\": null}], \"book_preview\": null}, \"masteringtableau10_video\": {\"publishers\": [{\"publisher_name\": \"Packt\", \"publisher_url\": \"https://www.packtpub.com/big-data-and-business-intelligence/mastering-tableau-10-video\"}], \"machine_name\": \"masteringtableau10_video\", \"youtube_link\": null, \"soundtrack_listing\": {\"hide_listing\": null, \"tracks\": []}, \"availability_icons\": null, \"description_text\": \"\\\\u003cp\\\\u003eKey Features\\\\u003c/p\\\\u003e\\\\u003cul\\\\u003e\\\\u003cli\\\\u003eStop being a beginner and get the most out of Tableau with this engaging video tutorial\\\\u003c/li\\\\u003e\\\\u003cli\\\\u003eLeave mediocrity behind and become an expert Tableau user with the help of this example-rich video\\\\u003c/li\\\\u003e\\\\u003cli\\\\u003eLearn to leverage the full analytics and visualization potential of Tableau and create beautiful yet insightful visualizations\\\\u003c/li\\\\u003e\\\\u003cli\\\\u003eWith the help of this visually appealing guide, animate your visualizations with the latest features in Tableau 10\\\\u003c/li\\\\u003e\\\\u003c/ul\\\\u003e\\\\u003cp\\\\u003eWho This Book Is For\\\\u003c/p\\\\u003e\\\\u003cp\\\\u003eThis video is intended for users who have a basic familiarity with Tableau and now want to use it to build rich analytics and visualizations customized to the needs of their business.\\\\u003c/p\\\\u003e\", \"preview_image\": \"https://humblebundle.imgix.net/misc/files/hashed/392886a284e696555d483ebb7a0be62a9b14464d.jpg?auto\\\\u003dcompress\\\\u0026fit\\\\u003dclip\\\\u0026fm\\\\u003djpg\\\\u0026h\\\\u003d280\\\\u0026w\\\\u003d500\\\\u0026s\\\\u003d3d71fe311ade7fd7e991328833e35449\", \"is_clickable\": true, \"rating_info\": null, \"human_name\": \"Mastering Tableau 10\", \"developers\": [{\"developer_name\": \"Tim Messar\", \"developer_url\": null}], \"book_preview\": null}, \"pythondatascienceessentials\": {\"publishers\": [{\"publisher_name\": \"Packt\", \"publisher_url\": \"https://www.packtpub.com/big-data-and-business-intelligence/python-data-science-essentials-second-edition\"}], \"machine_name\": \"pythondatascienceessentials\", \"youtube_link\": null, \"soundtrack_listing\": {\"hide_listing\": null, \"tracks\": []}, \"availability_icons\": null, \"description_text\": \"\\\\u003cp\\\\u003eKey Features\\\\u003c/p\\\\u003e\\\\u003cul\\\\u003e\\\\u003cli\\\\u003eQuickly get familiar with data science using Python 3.5\\\\u003c/li\\\\u003e\\\\u003cli\\\\u003eSave time (and effort) with all the essential tools explained\\\\u003c/li\\\\u003e\\\\u003cli\\\\u003eCreate effective data science projects and avoid common pitfalls with the help of examples and hints dictated by experience\\\\u003c/li\\\\u003e\\\\u003c/ul\\\\u003e\\\\u003cp\\\\u003eWho This Book Is For\\\\u003c/p\\\\u003e\\\\u003cp\\\\u003eIf you are an aspiring data scientist and you have at least a working knowledge of data analysis and Python, this book will get you started in data science. Data analysts with experience of R or MATLAB will also find the book to be a comprehensive reference to enhance their data manipulation and machine learning skills.\\\\u003c/p\\\\u003e\", \"preview_image\": \"https://humblebundle.imgix.net/misc/files/hashed/f832efe0d05bd0b0b0d5cd35e8531ffe2c5250a4.jpg?auto\\\\u003dcompress\\\\u0026fit\\\\u003dclip\\\\u0026fm\\\\u003djpg\\\\u0026h\\\\u003d280\\\\u0026w\\\\u003d500\\\\u0026s\\\\u003d60f9d633da2100a14648792f4c6dff52\", \"is_clickable\": true, \"rating_info\": null, \"human_name\": \"Python Data Science Essentials\", \"developers\": [{\"developer_name\": \"Alberto Boschetti, Luca Massaron\", \"developer_url\": null}], \"book_preview\": {\"preview_file_size\": \"189 KB\", \"preview_prefix\": null, \"preview_file_type\": \"PDF\", \"unsigned_url\": \"ops/pdfs/pythondatascienceessentials_preview.pdf\", \"preview_icon\": \"pdf\", \"preview_file_link\": \"https://dl.humble.com/ops/pdfs/pythondatascienceessentials_preview.pdf?ttl\\\\u003d1534917530\\\\u0026t\\\\u003df98df8c328935b7f922759f93f4ee031\"}}, \"3for30dollars_maptsubscription\": {\"publishers\": [{\"publisher_name\": \"Packt\", \"publisher_url\": \"https://mapt.io/\"}], \"machine_name\": \"3for30dollars_maptsubscription\", \"youtube_link\": \"rljqYnpuQyg\", \"soundtrack_listing\": {\"hide_listing\": null, \"tracks\": []}, \"availability_icons\": null, \"description_text\": \"\\\\u003cp\\\\u003e\\\\u003cstrong\\\\u003eMapt \\\\u2013 Practical learning for experienced developers\\\\u003c/strong\\\\u003e\\\\u003c/p\\\\u003e\\\\n\\\\u003cp\\\\u003e\\\\u003cstrong\\\\u003eAccess every Packt eBook and Video ever published\\\\u003c/strong\\\\u003e. From Angular to Zurb, PHP to Python, read and watch over 5,000 eBooks and videos covering every key topic in tech. 50+ new titles published every month.\\\\u003c/p\\\\u003e\\\\n\\\\u003cp\\\\u003e\\\\u003cstrong\\\\u003eLearn better with Skill Plans built for you\\\\u003c/strong\\\\u003e.\\\\u0026nbsp;Whether you are learning new tech, checking your existing knowledge, or solving a problem, Skill Plans guide you to what you want to learn. Fast.\\\\u003c/p\\\\u003e\\\\n\\\\u003cp\\\\u003e\\\\u003cstrong\\\\u003eGet a DRM-free eBook or video every month\\\\u003c/strong\\\\u003e.\\\\u0026nbsp;Take out a Pro subscription and every month you\\\\u2019ll receive a token to download any eBook or video to keep forever, even if you cancel your subscription.\\\\u003c/p\\\\u003e\\\\n\\\\u003cp\\\\u003eWorking with over 3,000 technology experts, Mapt provides you with a reference library of eBooks and videos that keeps your skills up-to-date and provides you with practical solutions. No matter what situation you face, one of our authors has been there before.\\\\u003c/p\\\\u003e\\\\n\\\\u003cp\\\\u003eWhether they work for IBM or PayPal, our authors are from all over the world, and each one brings their own unique style to help you learn. What unites them is a passion for helping you put your learning into practice, as quickly as possible.\\\\u003cbr\\\\u003e\\\\u003cbr\\\\u003eNote:\\\\u0026nbsp;Offer expires September\\\\u0026nbsp;29th, 2018\\\\u003c/p\\\\u003e\", \"preview_image\": null, \"is_clickable\": true, \"rating_info\": null, \"human_name\": \"Three Months of Mapt Pro for $30 Coupon\", \"developers\": [], \"book_preview\": null}, \"masteringmongodb3_x\": {\"publishers\": [{\"publisher_name\": \"Packt\", \"publisher_url\": \"https://www.packtpub.com/big-data-and-business-intelligence/mastering-mongodb-3x\"}], \"machine_name\": \"masteringmongodb3_x\", \"youtube_link\": null, \"soundtrack_listing\": {\"hide_listing\": null, \"tracks\": []}, \"availability_icons\": null, \"description_text\": \"\\\\u003cp\\\\u003eKey Features\\\\u003c/p\\\\u003e\\\\u003cul\\\\u003e\\\\u003cli\\\\u003eMaster the advanced modeling, querying, and administration techniques in MongoDB and become a MongoDB expert\\\\u003c/li\\\\u003e\\\\u003cli\\\\u003eCovers the latest updates and Big Data features frequently used by professional MongoDB developers and administrators\\\\u003c/li\\\\u003e\\\\u003cli\\\\u003eIf your goal is to become a certified MongoDB professional, this book is your perfect companion\\\\u003c/li\\\\u003e\\\\u003c/ul\\\\u003e\\\\u003cp\\\\u003eWho This Book Is For\\\\u003c/p\\\\u003e\\\\u003cp\\\\u003eMastering MongoDB is a book for database developers, architects, and administrators who want to learn how to use MongoDB more effectively and productively.\\\\u003c/p\\\\u003e\\\\u003cp\\\\u003eIf you have experience in, and are interested in working with, NoSQL databases to build apps and websites, then this book is for you.\\\\u003c/p\\\\u003e\", \"preview_image\": \"https://humblebundle.imgix.net/misc/files/hashed/d140e03849a7b8a705c74e0d08764ba957fb546f.jpg?auto\\\\u003dcompress\\\\u0026fit\\\\u003dclip\\\\u0026fm\\\\u003djpg\\\\u0026h\\\\u003d280\\\\u0026w\\\\u003d500\\\\u0026s\\\\u003d086f6ea24e4f9d7a1d6091baa7ab1ae1\", \"is_clickable\": true, \"rating_info\": null, \"human_name\": \"Mastering MongoDB 3.x\", \"developers\": [{\"developer_name\": \"Alex Giamas\", \"developer_url\": null}], \"book_preview\": {\"preview_file_size\": \"479 KB\", \"preview_prefix\": null, \"preview_file_type\": \"PDF\", \"unsigned_url\": \"ops/pdfs/masteringmongodb3_x_preview.pdf\", \"preview_icon\": \"pdf\", \"preview_file_link\": \"https://dl.humble.com/ops/pdfs/masteringmongodb3_x_preview.pdf?ttl\\\\u003d1534917530\\\\u0026t\\\\u003d837f4e66f027a32cf4a083fa5879e9d8\"}}, \"javafordatascience\": {\"publishers\": [{\"publisher_name\": \"Packt\", \"publisher_url\": \"https://www.packtpub.com/big-data-and-business-intelligence/java-data-science\"}], \"machine_name\": \"javafordatascience\", \"youtube_link\": null, \"soundtrack_listing\": {\"hide_listing\": null, \"tracks\": []}, \"availability_icons\": null, \"description_text\": \"\\\\u003cp\\\\u003eKey Features\\\\u003c/p\\\\u003e\\\\u003cul\\\\u003e\\\\u003cli\\\\u003eYour entry ticket to the world of data science with the stability and power of Java\\\\u003c/li\\\\u003e\\\\u003cli\\\\u003eExplore, analyse, and visualize your data effectively using easy-to-follow examples\\\\u003c/li\\\\u003e\\\\u003cli\\\\u003eMake your Java applications more capable using machine learning\\\\u003c/li\\\\u003e\\\\u003c/ul\\\\u003e\\\\u003cp\\\\u003eWho This Book Is For\\\\u003c/p\\\\u003e\\\\u003cp\\\\u003eThis book is for Java developers who are comfortable developing applications in Java. Those who now want to enter the world of data science or wish to build intelligent applications will find this book ideal. Aspiring data scientists will also find this book very helpful.\\\\u003c/p\\\\u003e\", \"preview_image\": \"https://humblebundle.imgix.net/misc/files/hashed/8ebc39a3c1de3c39a69b6749b85fdb54fc19414d.jpg?auto\\\\u003dcompress\\\\u0026fit\\\\u003dclip\\\\u0026fm\\\\u003djpg\\\\u0026h\\\\u003d280\\\\u0026w\\\\u003d500\\\\u0026s\\\\u003dc93aecb12665c3b0baf007155fe9df91\", \"is_clickable\": true, \"rating_info\": null, \"human_name\": \"Java for Data Science\", \"developers\": [{\"developer_name\": \"Richard M. Reese\", \"developer_url\": null}], \"book_preview\": {\"preview_file_size\": \"174 KB\", \"preview_prefix\": null, \"preview_file_type\": \"PDF\", \"unsigned_url\": \"ops/pdfs/javafordatascience_preview.pdf\", \"preview_icon\": \"pdf\", \"preview_file_link\": \"https://dl.humble.com/ops/pdfs/javafordatascience_preview.pdf?ttl\\\\u003d1534917530\\\\u0026t\\\\u003d6638e1c15c3dd895617d3160041e2f7e\"}}, \"modernbigdataprocessingwithhadoop\": {\"publishers\": [{\"publisher_name\": \"Packt\", \"publisher_url\": \"https://www.packtpub.com/big-data-and-business-intelligence/modern-big-data-processing-hadoop\"}], \"machine_name\": \"modernbigdataprocessingwithhadoop\", \"youtube_link\": null, \"soundtrack_listing\": {\"hide_listing\": null, \"tracks\": []}, \"availability_icons\": null, \"description_text\": \"\\\\u003cp\\\\u003eKey Features\\\\u003c/p\\\\u003e\\\\u003cul\\\\u003e\\\\u003cli\\\\u003eGet an in-depth view of the Apache Hadoop ecosystem and an overview of the architectural patterns pertaining to the popular Big Data platform\\\\u003c/li\\\\u003e\\\\u003cli\\\\u003eConquer different data processing and analytics challenges using a multitude of tools such as Apache Spark, Elasticsearch, Tableau and more\\\\u003c/li\\\\u003e\\\\u003cli\\\\u003eA comprehensive, step-by-step guide that will teach you everything you need to know, to be an expert Hadoop Architect\\\\u003c/li\\\\u003e\\\\u003c/ul\\\\u003e\\\\u003cp\\\\u003eWho This Book Is For\\\\u003c/p\\\\u003e\\\\u003cp\\\\u003eThis book is for Big Data professionals who want to fast-track their career in the Hadoop industry and become an expert Big Data architect. Project managers and mainframe professionals looking forward to build a career in Big Data Hadoop will also find this book to be useful. Some understanding of Hadoop is required to get the best out of this book.\\\\u003c/p\\\\u003e\", \"preview_image\": \"https://humblebundle.imgix.net/misc/files/hashed/1dfd0341fee22dd45734fd29ebe767af17b33fb2.jpg?auto\\\\u003dcompress\\\\u0026fit\\\\u003dclip\\\\u0026fm\\\\u003djpg\\\\u0026h\\\\u003d280\\\\u0026w\\\\u003d500\\\\u0026s\\\\u003db40f953c83d42378e817f11b9c9bc7c7\", \"is_clickable\": true, \"rating_info\": null, \"human_name\": \"Modern Big Data Processing with Hadoop\", \"developers\": [{\"developer_name\": \"V. Naresh Kumar, Prashant Shindgikar\", \"developer_url\": null}], \"book_preview\": {\"preview_file_size\": \"186 KB\", \"preview_prefix\": null, \"preview_file_type\": \"PDF\", \"unsigned_url\": \"ops/pdfs/modernbigdataprocessingwithhadoop_preview.pdf\", \"preview_icon\": \"pdf\", \"preview_file_link\": \"https://dl.humble.com/ops/pdfs/modernbigdataprocessingwithhadoop_preview.pdf?ttl\\\\u003d1534917530\\\\u0026t\\\\u003d823457f6bf4fcbcc11ce7fee7d80fd30\"}}, \"splunkessentials\": {\"publishers\": [{\"publisher_name\": \"Packt\", \"publisher_url\": \"https://www.packtpub.com/big-data-and-business-intelligence/splunk-essentials-second-edition\"}], \"machine_name\": \"splunkessentials\", \"youtube_link\": null, \"soundtrack_listing\": {\"hide_listing\": null, \"tracks\": []}, \"availability_icons\": null, \"description_text\": \"\\\\u003cp\\\\u003eKey Features\\\\u003c/p\\\\u003e\\\\u003cul\\\\u003e\\\\u003cli\\\\u003eWant to get started with Splunk to analyze and visualize machine data? Open this book and step into the world of Splunk.\\\\u003c/li\\\\u003e\\\\u003cli\\\\u003eLeverage the exceptional analysis and visualization capabilities to make informed decisions for your business\\\\u003c/li\\\\u003e\\\\u003cli\\\\u003eThis easy-to-follow, practical book can be used by anyone, even if you have never managed any data before\\\\u003c/li\\\\u003e\\\\u003c/ul\\\\u003e\\\\u003cp\\\\u003eWho This Book Is For\\\\u003c/p\\\\u003e\\\\u003cp\\\\u003eThis book will be perfect for you if you are a Software engineer or developer or System administrators or Business analyst who seek to correlate machine data with business metrics and provide intuitive real-time and statistical visualizations. Some knowledge or experience of previous versions of Splunk will be helpful but not essential.\\\\u003c/p\\\\u003e\", \"preview_image\": \"https://humblebundle.imgix.net/misc/files/hashed/b9ad33b4beb7237df502699dec9fd5e48e342f58.jpg?auto\\\\u003dcompress\\\\u0026fit\\\\u003dclip\\\\u0026fm\\\\u003djpg\\\\u0026h\\\\u003d280\\\\u0026w\\\\u003d500\\\\u0026s\\\\u003d9b88e5fad82498922eaf1a56e7ee1a55\", \"is_clickable\": true, \"rating_info\": null, \"human_name\": \"Splunk Essentials\", \"developers\": [{\"developer_name\": \"Betsy Page Sigman, Erickson Delgado\", \"developer_url\": null}], \"book_preview\": {\"preview_file_size\": \"233 KB\", \"preview_prefix\": null, \"preview_file_type\": \"PDF\", \"unsigned_url\": \"ops/pdfs/splunkessentials_preview.pdf\", \"preview_icon\": \"pdf\", \"preview_file_link\": \"https://dl.humble.com/ops/pdfs/splunkessentials_preview.pdf?ttl\\\\u003d1534917530\\\\u0026t\\\\u003d6457404e262e8168652a1c9acc275e4f\"}}, \"learninghadoop2\": {\"publishers\": [{\"publisher_name\": \"Packt\", \"publisher_url\": \"https://www.packtpub.com//big-data-and-business-intelligence/learning-hadoop?login\\\\u003d1\"}], \"machine_name\": \"learninghadoop2\", \"youtube_link\": null, \"soundtrack_listing\": {\"hide_listing\": null, \"tracks\": []}, \"availability_icons\": null, \"description_text\": \"\\\\u003cp\\\\u003eKey Features\\\\u003c/p\\\\u003e\\\\u003cul\\\\u003e\\\\u003cli\\\\u003eConstruct state-of-the-art applications using higher-level interfaces and tools beyond the traditional MapReduce approach\\\\u003c/li\\\\u003e\\\\u003cli\\\\u003eUse the unique features of Hadoop 2 to model and analyze Twitter\\\\u0026#8217;s global stream of user generated data\\\\u003c/li\\\\u003e\\\\u003cli\\\\u003eDevelop a prototype on a local cluster and deploy to the cloud (Amazon Web Services)\\\\u003c/li\\\\u003e\\\\u003c/ul\\\\u003e\\\\u003cp\\\\u003eWho This Book Is For\\\\u003c/p\\\\u003e\\\\u003cp\\\\u003eThis book is a comprehensive guide to Hadoop 2, with each chapter illustrating a key component of Hadoop 2 using a hands-on approach involving use cases and best practices. Every topic is described in the context of data analysis or a processing application built around a dataset generated from Twitter\\\\u0026#8217;s message stream.\\\\u003c/p\\\\u003e\", \"preview_image\": \"https://humblebundle.imgix.net/misc/files/hashed/b24bebea141f93e2dc196631d369954c96ce17b5.jpg?auto\\\\u003dcompress\\\\u0026fit\\\\u003dclip\\\\u0026fm\\\\u003djpg\\\\u0026h\\\\u003d280\\\\u0026w\\\\u003d500\\\\u0026s\\\\u003d64dce0ec33a6fb5ca3fc8e7330b82896\", \"is_clickable\": true, \"rating_info\": null, \"human_name\": \"Learning Hadoop 2\", \"developers\": [{\"developer_name\": \"Garry Turkington, Gabriele Modena\", \"developer_url\": null}], \"book_preview\": {\"preview_file_size\": \"109 KB\", \"preview_prefix\": null, \"preview_file_type\": \"PDF\", \"unsigned_url\": \"ops/pdfs/learninghadoop2_preview.pdf\", \"preview_icon\": \"pdf\", \"preview_file_link\": \"https://dl.humble.com/ops/pdfs/learninghadoop2_preview.pdf?ttl\\\\u003d1534917530\\\\u0026t\\\\u003dd009fc958f549faeead358fd8affcab6\"}}, \"apachesparkwithscala_video\": {\"publishers\": [{\"publisher_name\": \"Packt\", \"publisher_url\": \"https://www.packtpub.com/big-data-and-business-intelligence/apache-spark-scala-video\"}], \"machine_name\": \"apachesparkwithscala_video\", \"youtube_link\": null, \"soundtrack_listing\": {\"hide_listing\": null, \"tracks\": []}, \"availability_icons\": null, \"description_text\": \"\\\\u003cp\\\\u003eKey Features\\\\u003c/p\\\\u003e\\\\u003cul\\\\u003e\\\\u003cli\\\\u003eUnderstand the fundamentals of Scala and the Apache Spark ecosystem\\\\u003c/li\\\\u003e\\\\u003cli\\\\u003eHandle large streams of data with Spark Streaming and perform Machine Learning in real time with Spark MLlib\\\\u003c/li\\\\u003e\\\\u003cli\\\\u003eComprehensive tutorial packed with practical examples to help you develop real-world Big Data applications with Spark with Scala\\\\u003c/li\\\\u003e\\\\u003c/ul\\\\u003e\\\\u003cp\\\\u003eWho This Video Is For\\\\u003c/p\\\\u003e\\\\u003cp\\\\u003eEngineers or budding data analysts and data scientists who want to get into the world of Big Data processing with Apache Spark will find this course to be useful. Some prior programming experience in Scala will be useful. A crash course in Scala is provided for those who want to quickly get up and running with it.\\\\u003c/p\\\\u003e\", \"preview_image\": \"https://humblebundle.imgix.net/misc/files/hashed/a5ba6a86dd813c2c8991a610a4237246744b5243.jpg?auto\\\\u003dcompress\\\\u0026fit\\\\u003dclip\\\\u0026fm\\\\u003djpg\\\\u0026h\\\\u003d280\\\\u0026w\\\\u003d500\\\\u0026s\\\\u003db86c65477f11fb86caf741786794f860\", \"is_clickable\": true, \"rating_info\": null, \"human_name\": \"Apache Spark with Scala\", \"developers\": [{\"developer_name\": \"Frank Kane\", \"developer_url\": null}], \"book_preview\": null}, \"learningrfordatavisualization_video\": {\"publishers\": [{\"publisher_name\": \"Packt\", \"publisher_url\": \"https://www.packtpub.com/big-data-and-business-intelligence/learning-r-data-visualization-video\"}], \"machine_name\": \"learningrfordatavisualization_video\", \"youtube_link\": null, \"soundtrack_listing\": {\"hide_listing\": null, \"tracks\": []}, \"availability_icons\": null, \"description_text\": \"\\\\u003cp\\\\u003eKey Features\\\\u003c/p\\\\u003e\\\\u003cul\\\\u003e\\\\u003cli\\\\u003eLearn how to visualize data and import/export in CSV, TXT, and Excel formats\\\\u003c/li\\\\u003e\\\\u003cli\\\\u003eDevelop a professionally-featured website using the best R has to offer\\\\u003c/li\\\\u003e\\\\u003cli\\\\u003eFocus on demonstrating customized visualization on your website\\\\u003c/li\\\\u003e\\\\u003c/ul\\\\u003e\\\\u003cp\\\\u003eWho This Video Is For\\\\u003c/p\\\\u003e\\\\u003cp\\\\u003eThis course is primarily intended for researchers and data analysts at every stage of their career. It covers some theoretical aspects of scientific plotting, which makes it ideal for undergraduates to improve on the skills they learned at college or university. More advanced viewers who already have a good understanding of scientific plots will benefit from a practical introduction to the statistical programming language R.\\\\u003c/p\\\\u003e\", \"preview_image\": \"https://humblebundle.imgix.net/misc/files/hashed/a20ded9389e8ff51e5d6973cb507a23bbf73ced2.jpg?auto\\\\u003dcompress\\\\u0026fit\\\\u003dclip\\\\u0026fm\\\\u003djpg\\\\u0026h\\\\u003d280\\\\u0026w\\\\u003d500\\\\u0026s\\\\u003dc4910ac012002d746c3f97757f495705\", \"is_clickable\": true, \"rating_info\": null, \"human_name\": \"Learning R for Data Visualization\", \"developers\": [{\"developer_name\": \"Fabio Veronesi\", \"developer_url\": null}], \"book_preview\": null}, \"humbletrekkiebundle_freepromo\": {\"publishers\": [], \"machine_name\": \"humbletrekkiebundle_freepromo\", \"youtube_link\": null, \"soundtrack_listing\": {\"hide_listing\": null, \"tracks\": []}, \"availability_icons\": null, \"description_text\": \"\\\\u003cp\\\\u003e\\\\u003cem\\\\u003eStar Trek Online \\\\u003c/em\\\\u003eis the premier free-to-play MMORPG. Explore the stories and expanded universe of Star Trek in space and on the ground with fully customizable captains, ships, and crew.\\\\u003c/p\\\\u003e\\\\n\\\\u003cp\\\\u003eJoin a galaxy full of players with the \\\\u003cstrong\\\\u003eHumble Trekkie Pack\\\\u003c/strong\\\\u003e \\\\u2013 a bundle of goodies including Phoenix Lock Boxes, Mercenary Uniform, XP Boost, and Bridge Officer. Beam up and enjoy, Captains!\\\\u003cbr\\\\u003e\\\\u003cbr\\\\u003eNOTE: Please note that if you redeem your code for this game, Humble Bundle may receive a commission or fee.\\\\u003c/p\\\\u003e\", \"preview_image\": null, \"is_clickable\": true, \"rating_info\": null, \"human_name\": \"Humble Trekkie Bundle Promo\", \"developers\": [], \"book_preview\": null}, \"bigdataarchitectshandbook\": {\"publishers\": [{\"publisher_name\": \"Packt\", \"publisher_url\": \"https://www.packtpub.com/big-data-and-business-intelligence/big-data-architects-handbook\"}], \"machine_name\": \"bigdataarchitectshandbook\", \"youtube_link\": null, \"soundtrack_listing\": {\"hide_listing\": null, \"tracks\": []}, \"availability_icons\": null, \"description_text\": \"\\\\u003cp\\\\u003eKey Features\\\\u003c/p\\\\u003e\\\\u003cul\\\\u003e\\\\u003cli\\\\u003eLearn to build and run a big data application with sample code\\\\u003c/li\\\\u003e\\\\u003cli\\\\u003eExplore examples to implement activities that a big data architect performs\\\\u003c/li\\\\u003e\\\\u003cli\\\\u003eUse Machine Learning and AI for structured and unstructured data\\\\u003c/li\\\\u003e\\\\u003c/ul\\\\u003e\\\\u003cp\\\\u003eWho This Book Is For\\\\u003c/p\\\\u003e\\\\u003cp\\\\u003eBig Data Architect\\\\u0026#8217;s Handbook is for you if you are an aspiring data professional, developer, or IT enthusiast who aims to be an all-round architect in big data. This book is your one-stop solution to enhance your knowledge and carry out easy to complex activities required to become a big data architect.\\\\u003c/p\\\\u003e\", \"preview_image\": \"https://humblebundle.imgix.net/misc/files/hashed/d112879dd3271b9b66ac6d597480583c13cd714b.jpg?auto\\\\u003dcompress\\\\u0026fit\\\\u003dclip\\\\u0026fm\\\\u003djpg\\\\u0026h\\\\u003d280\\\\u0026w\\\\u003d500\\\\u0026s\\\\u003d5a2a1a01ed5a026653a8981b38603ac8\", \"is_clickable\": true, \"rating_info\": null, \"human_name\": \"Big Data Architect\\\\u0027s Handbook\", \"developers\": [{\"developer_name\": \"Syed Muhammad Fahad Akhtar\", \"developer_url\": null}], \"book_preview\": {\"preview_file_size\": \"164 KB\", \"preview_prefix\": null, \"preview_file_type\": \"PDF\", \"unsigned_url\": \"ops/pdfs/bigdataarchitectshandbook_preview.pdf\", \"preview_icon\": \"pdf\", \"preview_file_link\": \"https://dl.humble.com/ops/pdfs/bigdataarchitectshandbook_preview.pdf?ttl\\\\u003d1534917530\\\\u0026t\\\\u003d12923faa240a8f2918ea4b43ef2c14e0\"}}, \"pythondataanalysis\": {\"publishers\": [{\"publisher_name\": \"Packt\", \"publisher_url\": \"https://www.packtpub.com/big-data-and-business-intelligence/python-data-analysis-second-edition\"}], \"machine_name\": \"pythondataanalysis\", \"youtube_link\": null, \"soundtrack_listing\": {\"hide_listing\": null, \"tracks\": []}, \"availability_icons\": null, \"description_text\": \"\\\\u003cp\\\\u003eKey Features\\\\u003c/p\\\\u003e\\\\u003cul\\\\u003e\\\\u003cli\\\\u003eFind, manipulate, and analyze your data using the Python 3.5 libraries\\\\u003c/li\\\\u003e\\\\u003cli\\\\u003ePerform advanced, high-performance linear algebra and mathematical calculations with clean and efficient Python code\\\\u003c/li\\\\u003e\\\\u003cli\\\\u003eAn easy-to-follow guide with realistic examples that are frequently used in real-world data analysis projects.\\\\u003c/li\\\\u003e\\\\u003c/ul\\\\u003e\\\\u003cp\\\\u003eWho This Book Is For\\\\u003c/p\\\\u003e\\\\u003cp\\\\u003eThis book is for programmers, scientists, and engineers who have the knowledge of Python and know the basics of data science. It is for those who wish to learn different data analysis methods using Python 3.5 and its libraries. This book contains all the basic ingredients you need to become an expert data analyst.\\\\u003c/p\\\\u003e\", \"preview_image\": \"https://humblebundle.imgix.net/misc/files/hashed/501f81553a890fd42e4a2d9af53fad01e7dd54db.jpg?auto\\\\u003dcompress\\\\u0026fit\\\\u003dclip\\\\u0026fm\\\\u003djpg\\\\u0026h\\\\u003d280\\\\u0026w\\\\u003d500\\\\u0026s\\\\u003de7c7ed202e305522dce3d860064fb118\", \"is_clickable\": true, \"rating_info\": null, \"human_name\": \"Python Data Analysis\", \"developers\": [{\"developer_name\": \"Armando Fandango\", \"developer_url\": null}], \"book_preview\": {\"preview_file_size\": \"299 KB\", \"preview_prefix\": null, \"preview_file_type\": \"PDF\", \"unsigned_url\": \"ops/pdfs/pythondataanalysis_preview.pdf\", \"preview_icon\": \"pdf\", \"preview_file_link\": \"https://dl.humble.com/ops/pdfs/pythondataanalysis_preview.pdf?ttl\\\\u003d1534917530\\\\u0026t\\\\u003d2d92e34cdcce1771ced83d7feff8b942\"}}, \"gettingstartedwithhadoop2_x_video\": {\"publishers\": [{\"publisher_name\": \"Packt\", \"publisher_url\": \"https://www.packtpub.com/networking-and-servers/getting-started-hadoop-2x-video\"}], \"machine_name\": \"gettingstartedwithhadoop2_x_video\", \"youtube_link\": null, \"soundtrack_listing\": {\"hide_listing\": null, \"tracks\": []}, \"availability_icons\": null, \"description_text\": \"\\\\u003cp\\\\u003eKey Features\\\\u003c/p\\\\u003e\\\\u003cul\\\\u003e\\\\u003cli\\\\u003eGet a better understanding of how to set up a HDFS cluster between local storage and the Hadoop filesystem\\\\u003c/li\\\\u003e\\\\u003cli\\\\u003eRun your own Hadoop clusters on your own machine or in the cloud\\\\u003c/li\\\\u003e\\\\u003cli\\\\u003eImplement the best practices for Hadoop development\\\\u003c/li\\\\u003e\\\\u003c/ul\\\\u003e\\\\u003cp\\\\u003eWho This Video Is For\\\\u003c/p\\\\u003e\\\\u003cp\\\\u003eThis book is for budding data scientists and data analysts with a firm understanding of Java.\\\\u003c/p\\\\u003e\", \"preview_image\": \"https://humblebundle.imgix.net/misc/files/hashed/c1cf9937e88b45a516a64d98d89db4774c170762.jpg?auto\\\\u003dcompress\\\\u0026fit\\\\u003dclip\\\\u0026fm\\\\u003djpg\\\\u0026h\\\\u003d280\\\\u0026w\\\\u003d500\\\\u0026s\\\\u003d38f51759505bd0c8ddb0fabbbe737281\", \"is_clickable\": true, \"rating_info\": null, \"human_name\": \"Getting Started with Hadoop 2.x\", \"developers\": [{\"developer_name\": \"A K M Zahiduzzaman\", \"developer_url\": null}], \"book_preview\": null}}, \"soundtrack_player_path\": \"https://humblebundle-a.akamaihd.net/static/hashed/682bac84e8df7e444ab9127ce8e22f626caf0e41.swf\"}, \"hash_for_stats\": \"lIBbkE6u1bi5O01xugt2TmgKqYHiuADQDLjVeBfbjuo.\", \"purchase_count\": 13143.0, \"hero_tile\": {\"tile_logo_information\": {\"config\": {\"image_type\": \"gcs\", \"gcs\": \"images/logos/bigdata_books_logo-product-retina.png\", \"static\": \"\", \"imgix\": {\"args\": {}, \"master_image\": {\"image_type\": \"static\", \"gcs\": \"\", \"static\": \"\", \"imgix\": {}}}}}, \"product_variables\": {\"msrp\": \"$1479\"}, \"machine_name\": \"bigdata_bookbundle\", \"high_res_tile_image\": \"https://humblebundle.imgix.net/misc/files/hashed/fcc101516173e97c3d60da2623e480ff836c4ce0.png?auto\\\\u003dcompress\\\\u0026fit\\\\u003dcrop\\\\u0026fm\\\\u003djpg\\\\u0026h\\\\u003d600\\\\u0026w\\\\u003d1200\\\\u0026s\\\\u003d3c81790738b1d0501236a241014a690c\", \"disable_hero_tile\": false, \"marketing_blurb\": \"Get Artificial Intelligence for Big Data, Python Data Science Essentials, and more!\", \"hover_title\": \"Pay What You Want\", \"product_url\": \"/books/big-data-books\", \"tile_image\": \"https://humblebundle.imgix.net/misc/files/hashed/fcc101516173e97c3d60da2623e480ff836c4ce0.png?auto\\\\u003dcompress\\\\u0026fit\\\\u003dcrop\\\\u0026fm\\\\u003djpg\\\\u0026h\\\\u003d353\\\\u0026w\\\\u003d616\\\\u0026s\\\\u003d185b5f584397b26095520a4999468b33\", \"cached_content_events\": [{\"identifier\": \"freepromo\", \"display_counter\": false, \"type\": \"price\", \"price\": 0.0, \"has_subproducts\": true, \"start\": null, \"mpa_time\": null, \"section_identifiers\": [], \"has_tpkds\": true, \"max_price\": null, \"is_base\": false}, {\"identifier\": \"freepromo_region_message\", \"display_counter\": false, \"type\": \"base\", \"price\": null, \"has_subproducts\": true, \"start\": null, \"mpa_time\": null, \"section_identifiers\": [], \"has_tpkds\": false, \"max_price\": null, \"is_base\": false}, {\"identifier\": \"initial\", \"display_counter\": false, \"type\": \"price\", \"price\": 1.0, \"has_subproducts\": true, \"start\": null, \"mpa_time\": null, \"section_identifiers\": [\"core_tier\"], \"has_tpkds\": false, \"max_price\": null, \"is_base\": false}, {\"identifier\": \"bt8\", \"display_counter\": false, \"type\": \"price\", \"price\": 8.0, \"has_subproducts\": true, \"start\": null, \"mpa_time\": null, \"section_identifiers\": [\"bt8_tier\"], \"has_tpkds\": false, \"max_price\": null, \"is_base\": false}, {\"identifier\": \"bt15\", \"display_counter\": false, \"type\": \"price\", \"price\": 15.0, \"has_subproducts\": true, \"start\": null, \"mpa_time\": null, \"section_identifiers\": [\"bt15_tier\"], \"has_tpkds\": false, \"max_price\": null, \"is_base\": false}], \"image_grid_item_width\": 150, \"high_res_tile_image_information\": {\"config\": {\"image_type\": \"gcs\", \"gcs\": \"images/humble_home/bigdata_bookbundle-product.png\", \"static\": \"\", \"imgix\": {\"args\": {}, \"master_image\": {\"image_type\": \"static\", \"gcs\": \"\", \"static\": \"\", \"imgix\": {}}}}}, \"hero_highlights\": [{\"heading\": \"$1479 worth of digital books\", \"tooltip\": \"Get ebooks collectively valued at up to $1479.\"}, {\"heading\": \"Pay what you want\", \"tooltip\": \"Name your price of $1 or more and increase your contribution to upgrade your bundle.\"}, {\"heading\": \"DRM-free\", \"tooltip\": \"Download these ebooks onto your favorite reading device to peruse anywhere, anytime.\"}, {\"heading\": \"Multi-format\", \"tooltip\": \"These books come in PDF, ePUB, and MOBI file types to support many devices.\"}], \"end_date\": \"2018-08-27T18:00:01\", \"highlights\": [\"Pay What You Want\", \"25 items\", \"$1479 Value\", \"Support Charity\"], \"supports_partners\": true, \"hero_tile_grid_info\": {\"width\": 150, \"displayitem_image_info\": {\"mongodbcookbook\": {\"url\": \"https://humblebundle.imgix.net/misc/files/hashed/f8dd17c1cf75d8c0766bcbce6d76ffedca8c7595.png?auto\\\\u003dformat\\\\u0026fit\\\\u003dcrop\\\\u0026fm\\\\u003dpng\\\\u0026h\\\\u003d218\\\\u0026w\\\\u003d150\\\\u0026s\\\\u003d7b6aafc9d43a215404d3e06188ecda0a\", \"blocked_territories\": [], \"allowed_territories\": null, \"hide_from_hero_tile\": null}, \"masteringapachespark2_x\": {\"url\": \"https://humblebundle.imgix.net/misc/files/hashed/a883a6da28992ae6e1772b6e5c6045ef2c335239.png?auto\\\\u003dformat\\\\u0026fit\\\\u003dcrop\\\\u0026fm\\\\u003dpng\\\\u0026h\\\\u003d218\\\\u0026w\\\\u003d150\\\\u0026s\\\\u003dcf7161ce312f788bbebc8546c8425596\", \"blocked_territories\": [], \"allowed_territories\": null, \"hide_from_hero_tile\": null}, \"datasciencealgorithmsinaweek\": {\"url\": \"https://humblebundle.imgix.net/misc/files/hashed/0925f563469d423c32284e80da292afb65789090.png?auto\\\\u003dformat\\\\u0026fit\\\\u003dcrop\\\\u0026fm\\\\u003dpng\\\\u0026h\\\\u003d218\\\\u0026w\\\\u003d150\\\\u0026s\\\\u003d5c61411759b7dd6757f6bfbd170be6b1\", \"blocked_territories\": [], \"allowed_territories\": null, \"hide_from_hero_tile\": null}, \"apachehiveessentials\": {\"url\": \"https://humblebundle.imgix.net/misc/files/hashed/e7921f0f804eba2fb9b4427654fac414549331cb.png?auto\\\\u003dformat\\\\u0026fit\\\\u003dcrop\\\\u0026fm\\\\u003dpng\\\\u0026h\\\\u003d218\\\\u0026w\\\\u003d150\\\\u0026s\\\\u003d1c4744229aeb368b8d02b2a6fa8f1dfd\", \"blocked_territories\": [], \"allowed_territories\": null, \"hide_from_hero_tile\": null}, \"artificialintelligenceforbigdata\": {\"url\": \"https://humblebundle.imgix.net/misc/files/hashed/406fc49d820d94b5b7a64c94083c80cb2860a006.png?auto\\\\u003dformat\\\\u0026fit\\\\u003dcrop\\\\u0026fm\\\\u003dpng\\\\u0026h\\\\u003d218\\\\u0026w\\\\u003d150\\\\u0026s\\\\u003db7e7a5180d517e8b0fc020b3a50476ba\", \"blocked_territories\": [], \"allowed_territories\": null, \"hide_from_hero_tile\": null}, \"bigdataanalyticswithhadoop3\": {\"url\": \"https://humblebundle.imgix.net/misc/files/hashed/a973f83a1481f4047af07f8381947ef8ad966ff9.png?auto\\\\u003dformat\\\\u0026fit\\\\u003dcrop\\\\u0026fm\\\\u003dpng\\\\u0026h\\\\u003d218\\\\u0026w\\\\u003d150\\\\u0026s\\\\u003dab005fe02d43a5fe96fb25a4ff34d3b5\", \"blocked_territories\": [], \"allowed_territories\": null, \"hide_from_hero_tile\": null}, \"hadoopreal-worldsolutionscookbook\": {\"url\": \"https://humblebundle.imgix.net/misc/files/hashed/c33fc82526ede7b6fbb9c1a32103e4785a885fab.png?auto\\\\u003dformat\\\\u0026fit\\\\u003dcrop\\\\u0026fm\\\\u003dpng\\\\u0026h\\\\u003d218\\\\u0026w\\\\u003d150\\\\u0026s\\\\u003d7d620f70e7bffcaed17396cdf9f64215\", \"blocked_territories\": [], \"allowed_territories\": null, \"hide_from_hero_tile\": null}, \"learningelasticsearch5_0_video\": {\"url\": \"https://humblebundle.imgix.net/misc/files/hashed/3a861d0e0507e835b2ec47ff70ede2968096d85c.png?auto\\\\u003dformat\\\\u0026fit\\\\u003dcrop\\\\u0026fm\\\\u003dpng\\\\u0026h\\\\u003d218\\\\u0026w\\\\u003d150\\\\u0026s\\\\u003d3f122cdbe97bf97de1f91e25c389c753\", \"blocked_territories\": [], \"allowed_territories\": null, \"hide_from_hero_tile\": null}, \"statisticsfordatascience\": {\"url\": \"https://humblebundle.imgix.net/misc/files/hashed/c37e934966b8afc39cea1edb91be7209c7e0b578.png?auto\\\\u003dformat\\\\u0026fit\\\\u003dcrop\\\\u0026fm\\\\u003dpng\\\\u0026h\\\\u003d218\\\\u0026w\\\\u003d150\\\\u0026s\\\\u003db0ebca421cbe9cf301f7164561fa7174\", \"blocked_territories\": [], \"allowed_territories\": null, \"hide_from_hero_tile\": null}, \"buildscalableapplicationswithapachekafka_video\": {\"url\": \"https://humblebundle.imgix.net/misc/files/hashed/6e99e372a7e8615270c59b594f9d13d59fdca358.png?auto\\\\u003dformat\\\\u0026fit\\\\u003dcrop\\\\u0026fm\\\\u003dpng\\\\u0026h\\\\u003d218\\\\u0026w\\\\u003d150\\\\u0026s\\\\u003d1960c5b78077d3ea9a5d9b49e09844f5\", \"blocked_territories\": [], \"allowed_territories\": null, \"hide_from_hero_tile\": null}, \"learningelasticstack6\": {\"url\": \"https://humblebundle.imgix.net/misc/files/hashed/8ba8cf0f826b835430081025756210489dfcfaab.png?auto\\\\u003dformat\\\\u0026fit\\\\u003dcrop\\\\u0026fm\\\\u003dpng\\\\u0026h\\\\u003d218\\\\u0026w\\\\u003d150\\\\u0026s\\\\u003da792eb0fd9b596f4645e15f25cc951a5\", \"blocked_territories\": [], \"allowed_territories\": null, \"hide_from_hero_tile\": null}, \"learningapachecassandra_video\": {\"url\": \"https://humblebundle.imgix.net/misc/files/hashed/97e863caef8c1b8125e4783e6a70789caeaeca67.png?auto\\\\u003dformat\\\\u0026fit\\\\u003dcrop\\\\u0026fm\\\\u003dpng\\\\u0026h\\\\u003d218\\\\u0026w\\\\u003d150\\\\u0026s\\\\u003d9be4b49ead094b37e8a97e7e20b614cb\", \"blocked_territories\": [], \"allowed_territories\": null, \"hide_from_hero_tile\": null}, \"workingwithbigdatainpython_video\": {\"url\": \"https://humblebundle.imgix.net/misc/files/hashed/6a2f50db37b138a254cd4764450a70c3f305e160.png?auto\\\\u003dformat\\\\u0026fit\\\\u003dcrop\\\\u0026fm\\\\u003dpng\\\\u0026h\\\\u003d218\\\\u0026w\\\\u003d150\\\\u0026s\\\\u003d3e5027f53b5857d6e0ea471b0aeb2c0a\", \"blocked_territories\": [], \"allowed_territories\": null, \"hide_from_hero_tile\": null}, \"masteringtableau10_video\": {\"url\": \"https://humblebundle.imgix.net/misc/files/hashed/23ad1fca23a22042a4a5d0d2c290306208765c09.png?auto\\\\u003dformat\\\\u0026fit\\\\u003dcrop\\\\u0026fm\\\\u003dpng\\\\u0026h\\\\u003d218\\\\u0026w\\\\u003d150\\\\u0026s\\\\u003d3638df41c275f1db693690a96ca0f703\", \"blocked_territories\": [], \"allowed_territories\": null, \"hide_from_hero_tile\": null}, \"pythondatascienceessentials\": {\"url\": \"https://humblebundle.imgix.net/misc/files/hashed/33b1d756f4a2fa548ea137f41a4589193050f169.png?auto\\\\u003dformat\\\\u0026fit\\\\u003dcrop\\\\u0026fm\\\\u003dpng\\\\u0026h\\\\u003d218\\\\u0026w\\\\u003d150\\\\u0026s\\\\u003d2d508000a5043d4970116449ce305f84\", \"blocked_territories\": [], \"allowed_territories\": null, \"hide_from_hero_tile\": null}, \"3for30dollars_maptsubscription\": {\"url\": \"https://humblebundle.imgix.net/misc/files/hashed/179df826a5be87fa7dc30b1b9c1a64582904b197.png?auto\\\\u003dformat\\\\u0026fit\\\\u003dcrop\\\\u0026fm\\\\u003dpng\\\\u0026h\\\\u003d218\\\\u0026w\\\\u003d150\\\\u0026s\\\\u003df34cacd375102f957e9a0e625ffe53e2\", \"blocked_territories\": [], \"allowed_territories\": null, \"hide_from_hero_tile\": null}, \"masteringmongodb3_x\": {\"url\": \"https://humblebundle.imgix.net/misc/files/hashed/078a568190e5efd5fd4dbd4c91a633ca6b5cc09b.png?auto\\\\u003dformat\\\\u0026fit\\\\u003dcrop\\\\u0026fm\\\\u003dpng\\\\u0026h\\\\u003d218\\\\u0026w\\\\u003d150\\\\u0026s\\\\u003df7de19892adff127e220025a63f5b23b\", \"blocked_territories\": [], \"allowed_territories\": null, \"hide_from_hero_tile\": null}, \"javafordatascience\": {\"url\": \"https://humblebundle.imgix.net/misc/files/hashed/54b9251a30c36afc7671179411e3d4cb1484ed88.png?auto\\\\u003dformat\\\\u0026fit\\\\u003dcrop\\\\u0026fm\\\\u003dpng\\\\u0026h\\\\u003d218\\\\u0026w\\\\u003d150\\\\u0026s\\\\u003d0c2d13e982769972f427ff6c94976a59\", \"blocked_territories\": [], \"allowed_territories\": null, \"hide_from_hero_tile\": null}, \"modernbigdataprocessingwithhadoop\": {\"url\": \"https://humblebundle.imgix.net/misc/files/hashed/1ed4da77e803fa00d0028ae9277e2d5b7951b394.png?auto\\\\u003dformat\\\\u0026fit\\\\u003dcrop\\\\u0026fm\\\\u003dpng\\\\u0026h\\\\u003d218\\\\u0026w\\\\u003d150\\\\u0026s\\\\u003d1f1318e959c4519e50a8b1de67cc0fc3\", \"blocked_territories\": [], \"allowed_territories\": null, \"hide_from_hero_tile\": null}, \"splunkessentials\": {\"url\": \"https://humblebundle.imgix.net/misc/files/hashed/a8fbb831f4bcb7df3929b69b052c7d7f9e86f2a3.png?auto\\\\u003dformat\\\\u0026fit\\\\u003dcrop\\\\u0026fm\\\\u003dpng\\\\u0026h\\\\u003d218\\\\u0026w\\\\u003d150\\\\u0026s\\\\u003d3a765f9e379e5b98080790d9dff17a6f\", \"blocked_territories\": [], \"allowed_territories\": null, \"hide_from_hero_tile\": null}, \"learninghadoop2\": {\"url\": \"https://humblebundle.imgix.net/misc/files/hashed/35d2485d5e45aabb576a846897d618b9997dd0f0.png?auto\\\\u003dformat\\\\u0026fit\\\\u003dcrop\\\\u0026fm\\\\u003dpng\\\\u0026h\\\\u003d218\\\\u0026w\\\\u003d150\\\\u0026s\\\\u003d49a7b9fa3c9283306877016d73dc4c91\", \"blocked_territories\": [], \"allowed_territories\": null, \"hide_from_hero_tile\": null}, \"apachesparkwithscala_video\": {\"url\": \"https://humblebundle.imgix.net/misc/files/hashed/ba67b011072203791859dcc82506a6276bdc37cf.png?auto\\\\u003dformat\\\\u0026fit\\\\u003dcrop\\\\u0026fm\\\\u003dpng\\\\u0026h\\\\u003d218\\\\u0026w\\\\u003d150\\\\u0026s\\\\u003d1b9ccb142bc423af75e321ee66e8b22a\", \"blocked_territories\": [], \"allowed_territories\": null, \"hide_from_hero_tile\": null}, \"learningrfordatavisualization_video\": {\"url\": \"https://humblebundle.imgix.net/misc/files/hashed/71336120764ca045bb37f04a5db098af7e32f9bd.png?auto\\\\u003dformat\\\\u0026fit\\\\u003dcrop\\\\u0026fm\\\\u003dpng\\\\u0026h\\\\u003d218\\\\u0026w\\\\u003d150\\\\u0026s\\\\u003d2ff7feb26ebb3f9c2a2a5943502a0e3a\", \"blocked_territories\": [], \"allowed_territories\": null, \"hide_from_hero_tile\": null}, \"bigdataarchitectshandbook\": {\"url\": \"https://humblebundle.imgix.net/misc/files/hashed/380be0f12108d3cb78b2325a3d6356d52740cc0c.png?auto\\\\u003dformat\\\\u0026fit\\\\u003dcrop\\\\u0026fm\\\\u003dpng\\\\u0026h\\\\u003d218\\\\u0026w\\\\u003d150\\\\u0026s\\\\u003d9946bd7102eecd2f0a04d8e9b5667ac1\", \"blocked_territories\": [], \"allowed_territories\": null, \"hide_from_hero_tile\": null}, \"pythondataanalysis\": {\"url\": \"https://humblebundle.imgix.net/misc/files/hashed/53310684edf1347b090c5cc8785b48fa7dbad9bd.png?auto\\\\u003dformat\\\\u0026fit\\\\u003dcrop\\\\u0026fm\\\\u003dpng\\\\u0026h\\\\u003d218\\\\u0026w\\\\u003d150\\\\u0026s\\\\u003d7f6afbfb22ef34a709b302fe1a57b5a7\", \"blocked_territories\": [], \"allowed_territories\": null, \"hide_from_hero_tile\": null}, \"gettingstartedwithhadoop2_x_video\": {\"url\": \"https://humblebundle.imgix.net/misc/files/hashed/6722b320fd05df5d0b521c94b4ae072053126a61.png?auto\\\\u003dformat\\\\u0026fit\\\\u003dcrop\\\\u0026fm\\\\u003dpng\\\\u0026h\\\\u003d218\\\\u0026w\\\\u003d150\\\\u0026s\\\\u003d8c9aab0913ffaf527ca6510f8bf6c98c\", \"blocked_territories\": [], \"allowed_territories\": null, \"hide_from_hero_tile\": null}}, \"height\": 218}, \"detailed_marketing_blurb\": \"We\\\\u0027ve teamed up with Packt for a big ol\\\\u0027 big data bundle! Get titles like Artificial Intelligence for Big Data, Hadoop Real-World Solutions Cookbook, Big Data Architect\\\\u0027s Handbook, and more. It\\\\u0027s time to start wrangling.\", \"blocked_territories\": [], \"image_grid_urls\": [\"https://humblebundle.imgix.net/misc/files/hashed/f8dd17c1cf75d8c0766bcbce6d76ffedca8c7595.png?auto\\\\u003dformat\\\\u0026fit\\\\u003dcrop\\\\u0026fm\\\\u003dpng\\\\u0026h\\\\u003d218\\\\u0026w\\\\u003d150\\\\u0026s\\\\u003d7b6aafc9d43a215404d3e06188ecda0a\", \"https://humblebundle.imgix.net/misc/files/hashed/a883a6da28992ae6e1772b6e5c6045ef2c335239.png?auto\\\\u003dformat\\\\u0026fit\\\\u003dcrop\\\\u0026fm\\\\u003dpng\\\\u0026h\\\\u003d218\\\\u0026w\\\\u003d150\\\\u0026s\\\\u003dcf7161ce312f788bbebc8546c8425596\", \"https://humblebundle.imgix.net/misc/files/hashed/0925f563469d423c32284e80da292afb65789090.png?auto\\\\u003dformat\\\\u0026fit\\\\u003dcrop\\\\u0026fm\\\\u003dpng\\\\u0026h\\\\u003d218\\\\u0026w\\\\u003d150\\\\u0026s\\\\u003d5c61411759b7dd6757f6bfbd170be6b1\", \"https://humblebundle.imgix.net/misc/files/hashed/e7921f0f804eba2fb9b4427654fac414549331cb.png?auto\\\\u003dformat\\\\u0026fit\\\\u003dcrop\\\\u0026fm\\\\u003dpng\\\\u0026h\\\\u003d218\\\\u0026w\\\\u003d150\\\\u0026s\\\\u003d1c4744229aeb368b8d02b2a6fa8f1dfd\", \"https://humblebundle.imgix.net/misc/files/hashed/406fc49d820d94b5b7a64c94083c80cb2860a006.png?auto\\\\u003dformat\\\\u0026fit\\\\u003dcrop\\\\u0026fm\\\\u003dpng\\\\u0026h\\\\u003d218\\\\u0026w\\\\u003d150\\\\u0026s\\\\u003db7e7a5180d517e8b0fc020b3a50476ba\", \"https://humblebundle.imgix.net/misc/files/hashed/a973f83a1481f4047af07f8381947ef8ad966ff9.png?auto\\\\u003dformat\\\\u0026fit\\\\u003dcrop\\\\u0026fm\\\\u003dpng\\\\u0026h\\\\u003d218\\\\u0026w\\\\u003d150\\\\u0026s\\\\u003dab005fe02d43a5fe96fb25a4ff34d3b5\", \"https://humblebundle.imgix.net/misc/files/hashed/c33fc82526ede7b6fbb9c1a32103e4785a885fab.png?auto\\\\u003dformat\\\\u0026fit\\\\u003dcrop\\\\u0026fm\\\\u003dpng\\\\u0026h\\\\u003d218\\\\u0026w\\\\u003d150\\\\u0026s\\\\u003d7d620f70e7bffcaed17396cdf9f64215\", \"https://humblebundle.imgix.net/misc/files/hashed/3a861d0e0507e835b2ec47ff70ede2968096d85c.png?auto\\\\u003dformat\\\\u0026fit\\\\u003dcrop\\\\u0026fm\\\\u003dpng\\\\u0026h\\\\u003d218\\\\u0026w\\\\u003d150\\\\u0026s\\\\u003d3f122cdbe97bf97de1f91e25c389c753\", \"https://humblebundle.imgix.net/misc/files/hashed/c37e934966b8afc39cea1edb91be7209c7e0b578.png?auto\\\\u003dformat\\\\u0026fit\\\\u003dcrop\\\\u0026fm\\\\u003dpng\\\\u0026h\\\\u003d218\\\\u0026w\\\\u003d150\\\\u0026s\\\\u003db0ebca421cbe9cf301f7164561fa7174\", \"https://humblebundle.imgix.net/misc/files/hashed/6e99e372a7e8615270c59b594f9d13d59fdca358.png?auto\\\\u003dformat\\\\u0026fit\\\\u003dcrop\\\\u0026fm\\\\u003dpng\\\\u0026h\\\\u003d218\\\\u0026w\\\\u003d150\\\\u0026s\\\\u003d1960c5b78077d3ea9a5d9b49e09844f5\", \"https://humblebundle.imgix.net/misc/files/hashed/8ba8cf0f826b835430081025756210489dfcfaab.png?auto\\\\u003dformat\\\\u0026fit\\\\u003dcrop\\\\u0026fm\\\\u003dpng\\\\u0026h\\\\u003d218\\\\u0026w\\\\u003d150\\\\u0026s\\\\u003da792eb0fd9b596f4645e15f25cc951a5\", \"https://humblebundle.imgix.net/misc/files/hashed/97e863caef8c1b8125e4783e6a70789caeaeca67.png?auto\\\\u003dformat\\\\u0026fit\\\\u003dcrop\\\\u0026fm\\\\u003dpng\\\\u0026h\\\\u003d218\\\\u0026w\\\\u003d150\\\\u0026s\\\\u003d9be4b49ead094b37e8a97e7e20b614cb\", \"https://humblebundle.imgix.net/misc/files/hashed/6a2f50db37b138a254cd4764450a70c3f305e160.png?auto\\\\u003dformat\\\\u0026fit\\\\u003dcrop\\\\u0026fm\\\\u003dpng\\\\u0026h\\\\u003d218\\\\u0026w\\\\u003d150\\\\u0026s\\\\u003d3e5027f53b5857d6e0ea471b0aeb2c0a\", \"https://humblebundle.imgix.net/misc/files/hashed/23ad1fca23a22042a4a5d0d2c290306208765c09.png?auto\\\\u003dformat\\\\u0026fit\\\\u003dcrop\\\\u0026fm\\\\u003dpng\\\\u0026h\\\\u003d218\\\\u0026w\\\\u003d150\\\\u0026s\\\\u003d3638df41c275f1db693690a96ca0f703\", \"https://humblebundle.imgix.net/misc/files/hashed/33b1d756f4a2fa548ea137f41a4589193050f169.png?auto\\\\u003dformat\\\\u0026fit\\\\u003dcrop\\\\u0026fm\\\\u003dpng\\\\u0026h\\\\u003d218\\\\u0026w\\\\u003d150\\\\u0026s\\\\u003d2d508000a5043d4970116449ce305f84\", \"https://humblebundle.imgix.net/misc/files/hashed/179df826a5be87fa7dc30b1b9c1a64582904b197.png?auto\\\\u003dformat\\\\u0026fit\\\\u003dcrop\\\\u0026fm\\\\u003dpng\\\\u0026h\\\\u003d218\\\\u0026w\\\\u003d150\\\\u0026s\\\\u003df34cacd375102f957e9a0e625ffe53e2\", \"https://humblebundle.imgix.net/misc/files/hashed/078a568190e5efd5fd4dbd4c91a633ca6b5cc09b.png?auto\\\\u003dformat\\\\u0026fit\\\\u003dcrop\\\\u0026fm\\\\u003dpng\\\\u0026h\\\\u003d218\\\\u0026w\\\\u003d150\\\\u0026s\\\\u003df7de19892adff127e220025a63f5b23b\", \"https://humblebundle.imgix.net/misc/files/hashed/54b9251a30c36afc7671179411e3d4cb1484ed88.png?auto\\\\u003dformat\\\\u0026fit\\\\u003dcrop\\\\u0026fm\\\\u003dpng\\\\u0026h\\\\u003d218\\\\u0026w\\\\u003d150\\\\u0026s\\\\u003d0c2d13e982769972f427ff6c94976a59\", \"https://humblebundle.imgix.net/misc/files/hashed/1ed4da77e803fa00d0028ae9277e2d5b7951b394.png?auto\\\\u003dformat\\\\u0026fit\\\\u003dcrop\\\\u0026fm\\\\u003dpng\\\\u0026h\\\\u003d218\\\\u0026w\\\\u003d150\\\\u0026s\\\\u003d1f1318e959c4519e50a8b1de67cc0fc3\", \"https://humblebundle.imgix.net/misc/files/hashed/a8fbb831f4bcb7df3929b69b052c7d7f9e86f2a3.png?auto\\\\u003dformat\\\\u0026fit\\\\u003dcrop\\\\u0026fm\\\\u003dpng\\\\u0026h\\\\u003d218\\\\u0026w\\\\u003d150\\\\u0026s\\\\u003d3a765f9e379e5b98080790d9dff17a6f\", \"https://humblebundle.imgix.net/misc/files/hashed/35d2485d5e45aabb576a846897d618b9997dd0f0.png?auto\\\\u003dformat\\\\u0026fit\\\\u003dcrop\\\\u0026fm\\\\u003dpng\\\\u0026h\\\\u003d218\\\\u0026w\\\\u003d150\\\\u0026s\\\\u003d49a7b9fa3c9283306877016d73dc4c91\", \"https://humblebundle.imgix.net/misc/files/hashed/ba67b011072203791859dcc82506a6276bdc37cf.png?auto\\\\u003dformat\\\\u0026fit\\\\u003dcrop\\\\u0026fm\\\\u003dpng\\\\u0026h\\\\u003d218\\\\u0026w\\\\u003d150\\\\u0026s\\\\u003d1b9ccb142bc423af75e321ee66e8b22a\", \"https://humblebundle.imgix.net/misc/files/hashed/71336120764ca045bb37f04a5db098af7e32f9bd.png?auto\\\\u003dformat\\\\u0026fit\\\\u003dcrop\\\\u0026fm\\\\u003dpng\\\\u0026h\\\\u003d218\\\\u0026w\\\\u003d150\\\\u0026s\\\\u003d2ff7feb26ebb3f9c2a2a5943502a0e3a\", \"https://humblebundle.imgix.net/misc/files/hashed/380be0f12108d3cb78b2325a3d6356d52740cc0c.png?auto\\\\u003dformat\\\\u0026fit\\\\u003dcrop\\\\u0026fm\\\\u003dpng\\\\u0026h\\\\u003d218\\\\u0026w\\\\u003d150\\\\u0026s\\\\u003d9946bd7102eecd2f0a04d8e9b5667ac1\", \"https://humblebundle.imgix.net/misc/files/hashed/53310684edf1347b090c5cc8785b48fa7dbad9bd.png?auto\\\\u003dformat\\\\u0026fit\\\\u003dcrop\\\\u0026fm\\\\u003dpng\\\\u0026h\\\\u003d218\\\\u0026w\\\\u003d150\\\\u0026s\\\\u003d7f6afbfb22ef34a709b302fe1a57b5a7\", \"https://humblebundle.imgix.net/misc/files/hashed/6722b320fd05df5d0b521c94b4ae072053126a61.png?auto\\\\u003dformat\\\\u0026fit\\\\u003dcrop\\\\u0026fm\\\\u003dpng\\\\u0026h\\\\u003d218\\\\u0026w\\\\u003d150\\\\u0026s\\\\u003d8c9aab0913ffaf527ca6510f8bf6c98c\"], \"tile_logo\": \"https://humblebundle.imgix.net/misc/files/hashed/ab84ed5263a11c226e01bddf3c0cf7db370664bf.png?auto\\\\u003dcompress\\\\u0026h\\\\u003d170\\\\u0026w\\\\u003d1200\\\\u0026s\\\\u003d8aaf20a4abc2704495a0ac420a505b57\", \"tile_short_name\": \"Big Data Books by Packt\", \"start_date\": \"2018-08-13T18:00:01\", \"image_grid_item_height\": 218, \"hover_highlights\": [\"25 items\", \"$1479 Value\"], \"tile_stamp\": \"books\", \"bundles_sold\": 13143.0, \"tile_name\": \"Humble Book Bundle: Big Data by Packt\", \"short_marketing_blurb\": \"Get a big ol\\\\u0027 ebook bundle on big data from Packt!\", \"tile_image_information\": {\"config\": {\"image_type\": \"gcs\", \"gcs\": \"images/humble_home/bigdata_bookbundle-product.png\", \"static\": \"\", \"imgix\": {\"args\": {}, \"master_image\": {\"image_type\": \"static\", \"gcs\": \"\", \"static\": \"\", \"imgix\": {}}}}}, \"type\": \"bundle\"}, \"remindme_hours\": 48, \"order_form\": {\"checkout_tiers\": [{\"is_bta\": false, \"thumbnails\": [\"https://humblebundle.imgix.net/misc/files/hashed/f703cd0527e80bfeec62629795c0cd1052bde060.jpg?auto\\\\u003dformat\\\\u0026fit\\\\u003dclip\\\\u0026h\\\\u003d240\\\\u0026w\\\\u003d180\\\\u0026s\\\\u003d8545d2536be576bccecc7baa447fe8df\"], \"retina_thumbnails\": [\"https://humblebundle.imgix.net/misc/files/hashed/f703cd0527e80bfeec62629795c0cd1052bde060.jpg?auto\\\\u003dformat\\\\u0026dpr\\\\u003d2\\\\u0026fit\\\\u003dclip\\\\u0026h\\\\u003d240\\\\u0026w\\\\u003d180\\\\u0026s\\\\u003d1e8f89792f6a8527ad7bb5dc7e9d13ff\"], \"is_initial_tier\": false, \"price\": 0.0, \"is_fixed\": true, \"top_header_text\": \"Free Stuff\", \"is_free\": true, \"formatted_cc_price\": null}, {\"is_bta\": false, \"thumbnails\": [\"https://humblebundle.imgix.net/misc/files/hashed/a883a6da28992ae6e1772b6e5c6045ef2c335239.png?auto\\\\u003dformat\\\\u0026fit\\\\u003dcrop\\\\u0026fm\\\\u003dpng\\\\u0026h\\\\u003d218\\\\u0026w\\\\u003d150\\\\u0026s\\\\u003dcf7161ce312f788bbebc8546c8425596\", \"https://humblebundle.imgix.net/misc/files/hashed/a8fbb831f4bcb7df3929b69b052c7d7f9e86f2a3.png?auto\\\\u003dformat\\\\u0026fit\\\\u003dcrop\\\\u0026fm\\\\u003dpng\\\\u0026h\\\\u003d218\\\\u0026w\\\\u003d150\\\\u0026s\\\\u003d3a765f9e379e5b98080790d9dff17a6f\", \"https://humblebundle.imgix.net/misc/files/hashed/f8dd17c1cf75d8c0766bcbce6d76ffedca8c7595.png?auto\\\\u003dformat\\\\u0026fit\\\\u003dcrop\\\\u0026fm\\\\u003dpng\\\\u0026h\\\\u003d218\\\\u0026w\\\\u003d150\\\\u0026s\\\\u003d7b6aafc9d43a215404d3e06188ecda0a\", \"https://humblebundle.imgix.net/misc/files/hashed/6722b320fd05df5d0b521c94b4ae072053126a61.png?auto\\\\u003dformat\\\\u0026fit\\\\u003dcrop\\\\u0026fm\\\\u003dpng\\\\u0026h\\\\u003d218\\\\u0026w\\\\u003d150\\\\u0026s\\\\u003d8c9aab0913ffaf527ca6510f8bf6c98c\"], \"retina_thumbnails\": [\"https://humblebundle.imgix.net/misc/files/hashed/a883a6da28992ae6e1772b6e5c6045ef2c335239.png?auto\\\\u003dformat\\\\u0026dpr\\\\u003d2\\\\u0026fit\\\\u003dclip\\\\u0026h\\\\u003d240\\\\u0026w\\\\u003d180\\\\u0026s\\\\u003d0241b3b7926c52ad30063b6289e3bafb\", \"https://humblebundle.imgix.net/misc/files/hashed/a8fbb831f4bcb7df3929b69b052c7d7f9e86f2a3.png?auto\\\\u003dformat\\\\u0026dpr\\\\u003d2\\\\u0026fit\\\\u003dclip\\\\u0026h\\\\u003d240\\\\u0026w\\\\u003d180\\\\u0026s\\\\u003ddee43e24645eca5e533fa74b5da05259\", \"https://humblebundle.imgix.net/misc/files/hashed/f8dd17c1cf75d8c0766bcbce6d76ffedca8c7595.png?auto\\\\u003dformat\\\\u0026dpr\\\\u003d2\\\\u0026fit\\\\u003dclip\\\\u0026h\\\\u003d240\\\\u0026w\\\\u003d180\\\\u0026s\\\\u003dfcbf514774ba0b69068a9773933609c4\", \"https://humblebundle.imgix.net/misc/files/hashed/6722b320fd05df5d0b521c94b4ae072053126a61.png?auto\\\\u003dformat\\\\u0026dpr\\\\u003d2\\\\u0026fit\\\\u003dclip\\\\u0026h\\\\u003d240\\\\u0026w\\\\u003d180\\\\u0026s\\\\u003dba7e006578eeee7ad3ff9b3be36bdf2e\"], \"is_initial_tier\": true, \"price\": 1.0, \"is_fixed\": true, \"top_header_text\": \"Pay $1+\", \"is_free\": false, \"formatted_cc_price\": null}, {\"is_bta\": false, \"thumbnails\": [\"https://humblebundle.imgix.net/misc/files/hashed/1ed4da77e803fa00d0028ae9277e2d5b7951b394.png?auto\\\\u003dformat\\\\u0026fit\\\\u003dcrop\\\\u0026fm\\\\u003dpng\\\\u0026h\\\\u003d218\\\\u0026w\\\\u003d150\\\\u0026s\\\\u003d1f1318e959c4519e50a8b1de67cc0fc3\", \"https://humblebundle.imgix.net/misc/files/hashed/e7921f0f804eba2fb9b4427654fac414549331cb.png?auto\\\\u003dformat\\\\u0026fit\\\\u003dcrop\\\\u0026fm\\\\u003dpng\\\\u0026h\\\\u003d218\\\\u0026w\\\\u003d150\\\\u0026s\\\\u003d1c4744229aeb368b8d02b2a6fa8f1dfd\", \"https://humblebundle.imgix.net/misc/files/hashed/8ba8cf0f826b835430081025756210489dfcfaab.png?auto\\\\u003dformat\\\\u0026fit\\\\u003dcrop\\\\u0026fm\\\\u003dpng\\\\u0026h\\\\u003d218\\\\u0026w\\\\u003d150\\\\u0026s\\\\u003da792eb0fd9b596f4645e15f25cc951a5\", \"https://humblebundle.imgix.net/misc/files/hashed/35d2485d5e45aabb576a846897d618b9997dd0f0.png?auto\\\\u003dformat\\\\u0026fit\\\\u003dcrop\\\\u0026fm\\\\u003dpng\\\\u0026h\\\\u003d218\\\\u0026w\\\\u003d150\\\\u0026s\\\\u003d49a7b9fa3c9283306877016d73dc4c91\"], \"retina_thumbnails\": [\"https://humblebundle.imgix.net/misc/files/hashed/1ed4da77e803fa00d0028ae9277e2d5b7951b394.png?auto\\\\u003dformat\\\\u0026dpr\\\\u003d2\\\\u0026fit\\\\u003dclip\\\\u0026h\\\\u003d240\\\\u0026w\\\\u003d180\\\\u0026s\\\\u003d33e2743635d9fd2740b73f432f015b37\", \"https://humblebundle.imgix.net/misc/files/hashed/e7921f0f804eba2fb9b4427654fac414549331cb.png?auto\\\\u003dformat\\\\u0026dpr\\\\u003d2\\\\u0026fit\\\\u003dclip\\\\u0026h\\\\u003d240\\\\u0026w\\\\u003d180\\\\u0026s\\\\u003dbbe2f5c507cc30df739f84217e79f381\", \"https://humblebundle.imgix.net/misc/files/hashed/8ba8cf0f826b835430081025756210489dfcfaab.png?auto\\\\u003dformat\\\\u0026dpr\\\\u003d2\\\\u0026fit\\\\u003dclip\\\\u0026h\\\\u003d240\\\\u0026w\\\\u003d180\\\\u0026s\\\\u003ddfb2ee4a316e7c5cb57e055f4c211830\", \"https://humblebundle.imgix.net/misc/files/hashed/35d2485d5e45aabb576a846897d618b9997dd0f0.png?auto\\\\u003dformat\\\\u0026dpr\\\\u003d2\\\\u0026fit\\\\u003dclip\\\\u0026h\\\\u003d240\\\\u0026w\\\\u003d180\\\\u0026s\\\\u003d2ccf1926711dfa9f4f5e52884758542c\"], \"is_initial_tier\": false, \"price\": 8.0, \"is_fixed\": true, \"top_header_text\": \"Pay $8+\", \"is_free\": false, \"formatted_cc_price\": null}, {\"is_bta\": false, \"thumbnails\": [\"https://humblebundle.imgix.net/misc/files/hashed/a973f83a1481f4047af07f8381947ef8ad966ff9.png?auto\\\\u003dformat\\\\u0026fit\\\\u003dcrop\\\\u0026fm\\\\u003dpng\\\\u0026h\\\\u003d218\\\\u0026w\\\\u003d150\\\\u0026s\\\\u003dab005fe02d43a5fe96fb25a4ff34d3b5\", \"https://humblebundle.imgix.net/misc/files/hashed/078a568190e5efd5fd4dbd4c91a633ca6b5cc09b.png?auto\\\\u003dformat\\\\u0026fit\\\\u003dcrop\\\\u0026fm\\\\u003dpng\\\\u0026h\\\\u003d218\\\\u0026w\\\\u003d150\\\\u0026s\\\\u003df7de19892adff127e220025a63f5b23b\", \"https://humblebundle.imgix.net/misc/files/hashed/406fc49d820d94b5b7a64c94083c80cb2860a006.png?auto\\\\u003dformat\\\\u0026fit\\\\u003dcrop\\\\u0026fm\\\\u003dpng\\\\u0026h\\\\u003d218\\\\u0026w\\\\u003d150\\\\u0026s\\\\u003db7e7a5180d517e8b0fc020b3a50476ba\", \"https://humblebundle.imgix.net/misc/files/hashed/380be0f12108d3cb78b2325a3d6356d52740cc0c.png?auto\\\\u003dformat\\\\u0026fit\\\\u003dcrop\\\\u0026fm\\\\u003dpng\\\\u0026h\\\\u003d218\\\\u0026w\\\\u003d150\\\\u0026s\\\\u003d9946bd7102eecd2f0a04d8e9b5667ac1\"], \"retina_thumbnails\": [\"https://humblebundle.imgix.net/misc/files/hashed/a973f83a1481f4047af07f8381947ef8ad966ff9.png?auto\\\\u003dformat\\\\u0026dpr\\\\u003d2\\\\u0026fit\\\\u003dclip\\\\u0026h\\\\u003d240\\\\u0026w\\\\u003d180\\\\u0026s\\\\u003d2a498c5a401d7536e02bfaed6c84557d\", \"https://humblebundle.imgix.net/misc/files/hashed/078a568190e5efd5fd4dbd4c91a633ca6b5cc09b.png?auto\\\\u003dformat\\\\u0026dpr\\\\u003d2\\\\u0026fit\\\\u003dclip\\\\u0026h\\\\u003d240\\\\u0026w\\\\u003d180\\\\u0026s\\\\u003dbcae1bd542190e86a1befb39acdfb586\", \"https://humblebundle.imgix.net/misc/files/hashed/406fc49d820d94b5b7a64c94083c80cb2860a006.png?auto\\\\u003dformat\\\\u0026dpr\\\\u003d2\\\\u0026fit\\\\u003dclip\\\\u0026h\\\\u003d240\\\\u0026w\\\\u003d180\\\\u0026s\\\\u003d8a8e06f56ce55f7f1cf6d0a0d30ec24f\", \"https://humblebundle.imgix.net/misc/files/hashed/380be0f12108d3cb78b2325a3d6356d52740cc0c.png?auto\\\\u003dformat\\\\u0026dpr\\\\u003d2\\\\u0026fit\\\\u003dclip\\\\u0026h\\\\u003d240\\\\u0026w\\\\u003d180\\\\u0026s\\\\u003d384b04373653baff55392671d5fcf070\"], \"is_initial_tier\": false, \"price\": 15.0, \"is_fixed\": true, \"top_header_text\": \"Pay $15+\", \"is_free\": false, \"formatted_cc_price\": null}], \"product_json\": {\"disclaimer_text\": null, \"machine_name\": \"bigdata_bookbundle\", \"monetary_content_event_data\": [{\"amount\": 1.0, \"warning_locked\": \"Warning: You must pay at least $1.00 for content!\", \"type\": \"price\"}, {\"amount\": 8.0, \"warning_locked\": \"Warning: You will not receive the $8 content! Add just \\\\u003c%\\\\u003d money_difference %\\\\u003e more to unlock!\", \"type\": \"price\"}, {\"amount\": 15.0, \"warning_locked\": \"Warning: You will not receive the $15 content! Add just \\\\u003c%\\\\u003d money_difference %\\\\u003e more to unlock!\", \"type\": \"price\"}], \"expand_default_split\": false, \"tpkd_cutoff_amount\": null, \"bundle_display_vars\": {\"active_content_events\": [\"freepromo\", \"freepromo_region_message\", \"initial\", \"bt8\", \"bt15\"], \"over\": false, \"cleanavg\": \"14.13\", \"pricing_tiers\": {\"initial\": 1.0, \"bt15\": 15.0, \"bt8\": 8.0, \"freepromo\": 0.0}}, \"split_disclaimer\": null, \"expand_subsplits\": false, \"giving_fund\": \"ppgf\", \"order_form_vars\": {\"country_code\": \"US\", \"splitsjson\": \"[{\\\\\"partner_split\\\\\": 0.59999999999999998, \\\\\"sibling_split\\\\\": 0.65000000000000002, \\\\\"class\\\\\": \\\\\"packt\\\\\", \\\\\"name\\\\\": \\\\\"Packt\\\\\"}, {\\\\\"name\\\\\": \\\\\"Charities\\\\\", \\\\\"partner_split\\\\\": 0.10000000000000001, \\\\\"sibling_split\\\\\": 0.14999999999999999, \\\\\"subsplit\\\\\": [{\\\\\"secondary_id\\\\\": \\\\\"19001\\\\\", \\\\\"sibling_split\\\\\": 0.5, \\\\\"class\\\\\": \\\\\"paypalgivingfund\\\\\", \\\\\"name\\\\\": \\\\\"Mental Health Foundation\\\\\"}, {\\\\\"secondary_id\\\\\": \\\\\"cyoc\\\\\", \\\\\"sibling_split\\\\\": 0.5, \\\\\"class\\\\\": \\\\\"paypalgivingfund\\\\\", \\\\\"name\\\\\": \\\\\"Choose Your Own Charity\\\\\"}], \\\\\"class\\\\\": \\\\\"charity\\\\\"}, {\\\\\"partner_split\\\\\": 0.14999999999999999, \\\\\"sibling_split\\\\\": 0.20000000000000001, \\\\\"class\\\\\": \\\\\"humblebundle\\\\\", \\\\\"name\\\\\": \\\\\"Humble Tip\\\\\"}]\", \"avguuid\": \"36tfitdMhuGFJSVY\", \"stripe_pubkey\": \"pk_live_Z77z5cJvv0rUOE1ayBDe1xHq\", \"is_order_adder\": false, \"min_leaderboard\": 50.0, \"avg\": \"14.12605949935326789926196454\", \"avghash\": \"OoUb/M4nPPZUPswbj6HxvC9IwNTPplVmXH9LWBqvJsg\\\\u003d\"}, \"default_dollar_price\": 25, \"human_name\": \"Humble Book Bundle: Big Data by Packt\", \"disallowed_payment_processors\": [], \"has_nonsteam_keys\": true, \"splits\": [{\"partner_split\": 0.59999999999999998, \"sibling_split\": 0.65000000000000002, \"class\": \"packt\", \"name\": \"Packt\"}, {\"name\": \"Charities\", \"partner_split\": 0.10000000000000001, \"sibling_split\": 0.14999999999999999, \"subsplit\": [{\"secondary_id\": \"19001\", \"sibling_split\": 0.5, \"class\": \"paypalgivingfund\", \"name\": \"Mental Health Foundation\"}, {\"secondary_id\": \"cyoc\", \"sibling_split\": 0.5, \"class\": \"paypalgivingfund\", \"name\": \"Choose Your Own Charity\"}], \"class\": \"charity\"}, {\"partner_split\": 0.14999999999999999, \"sibling_split\": 0.20000000000000001, \"class\": \"humblebundle\", \"name\": \"Humble Tip\"}], \"has_steam_keys\": false, \"product_title\": \"the Humble Book Bundle: Big Data by Packt\", \"category\": \"bundle\", \"pretty_path\": \"/books/big-data-books\", \"has_any_keys\": true, \"end\": \"2018-08-27T18:00:01\", \"auth_required_for_purchase_if_free\": false, \"slider_replacement_text\": \"All for one and one for all!\", \"start\": \"2018-08-13T18:00:01\", \"has_free_content\": true, \"eula\": null, \"has_free_keys\": true, \"media_type\": \"ebook\", \"cutoff_warning_override\": null}, \"request\": {\"humble_guard_enabled\": false, \"country_code\": \"US\"}}, \"choose_your_own_charity\": {\"featuredCharityId\": \"16618\", \"productHasCYOC\": true}, \"free_game_human_name\": \"Humble Trekkie Bundle Promo\", \"soft_region_lock\": {}, \"charity_row_modals\": [{\"machine_name\": \"mentalheathfoundation\", \"allowed_regions\": [], \"youtube_link\": \"B4ZxMECJobo\", \"soundtrack_listing\": {\"hide_listing\": null, \"tracks\": []}, \"user_ratings\": {}, \"limited_content\": null, \"availability_icons\": null, \"featured_image\": null, \"ppgf_info\": {\"category\": \"Human Services\", \"city\": \"london\", \"description\": \"The Mental Health Foundation is the UK\\\\u0027s Charity for everyone\\\\u0027s mental health. With prevention at the heart of what we do we aim to find and address the sources of mental health problems so that people and communities can thrive.\", \"url\": \"\", \"country\": \"GB\", \"charity_id\": \"19001\", \"state\": \"London\", \"keywords\": \"mental health,health charity,research,mental illness,UK Mental Health\", \"human_name\": \"Mental Health Foundation\", \"logo_url\": \"https://pics.paypal.com/00/s/ZmM4YWNmM2QtZjJmMS00YTMyLTk0MzktOTBiNmYzMTg2MDAx/file.PNG\"}, \"is_region_locked\": false, \"display_user_ratings\": null, \"blocked_regions\": [], \"rating_details\": \"\", \"front_page_art_enabled\": true, \"rating_info\": null, \"callout\": null, \"subscribe_text\": null, \"all_ratings\": {\"rar-rating\": null, \"esrb-rating\": null, \"pegi-rating\": null, \"oflc-nz-rating\": null, \"oflc-au-rating\": null, \"usk-rating\": null}, \"cta_badge\": null, \"book_preview\": null, \"publishers\": [], \"show_rating\": null, \"side_box_art_text\": null, \"subtitle_html\": null, \"is_clickable\": true, \"description_text\": \"\\\\u003cp\\\\u003e\\\\u003cem\\\\u003ePayments to the\\\\u0026nbsp;Mental Health Foundation\\\\u0026nbsp;are made via the\\\\u0026nbsp;\\\\u003ca href\\\\u003d\\\\\"https://support.humblebundle.com/hc/en-us/articles/205183597\\\\\" target\\\\u003d\\\\\"_blank\\\\\"\\\\u003ePayPal Giving Fund\\\\u003c/a\\\\u003e.\\\\u003c/em\\\\u003e\\\\u003c/p\\\\u003e\\\\n\\\\u003cp\\\\u003e\\\\u003cspan\\\\u003ePrevention is at the heart of what we do, because the best way to deal with a crisis is to prevent it from happening in the first place. We inform and influence the development of evidence-based mental health policy at the national and local government level. In tandem we help people to access information about the steps they can take to reduce their mental health risks and increase their resilience. We want to empower people to take action when problems are at an early stage. This work is informed by our long history of working directly with people living with or at risk of developing mental health problems.\\\\u0026nbsp;\\\\u003c/span\\\\u003e\\\\u003c/p\\\\u003e\", \"user_ratings_css_class\": \"none\", \"front_page_art\": {\"image_path\": \"images/displayitems/mentalhealthfoundation_sm.png\", \"title\": null, \"resolved_paths\": {}, \"image_text\": \"\\\\u00a0\", \"link\": null, \"badge_info\": {\"badge_tooltip\": null, \"badge_number\": null, \"badge_type\": null}}, \"preview_image\": \"images/popups/mentalhealthfoundation_lg.png\", \"developers\": [{\"developer-name\": \"www.mentalhealth.org.uk\", \"developer-url\": \"http://www.mentalhealth.org.uk\"}], \"use_front_page_art\": null, \"resolved_paths\": {\"featured_image\": null, \"front_page_art_gcs\": \"https://humblebundle.imgix.net/misc/files/hashed/9236d065f3d553b751dd89b82ab4dd121f8c2d06.png?auto\\\\u003dformat\\\\u0026s\\\\u003dd7282472045872577d1c4149bd4d6b15\", \"preview_image_bonus_retina\": \"https://humblebundle.imgix.net/misc/files/hashed/345ce6b22381090957260a6becee8418bd8a1c4a.png?auto\\\\u003dformat\\\\u0026dpr\\\\u003d2\\\\u0026fit\\\\u003dclip\\\\u0026h\\\\u003d100\\\\u0026w\\\\u003d100\\\\u0026s\\\\u003dff8c043cd2febbefc7c2134350f79a97\", \"preview_image_bonus\": \"https://humblebundle.imgix.net/misc/files/hashed/345ce6b22381090957260a6becee8418bd8a1c4a.png?auto\\\\u003dformat\\\\u0026fit\\\\u003dclip\\\\u0026h\\\\u003d100\\\\u0026w\\\\u003d100\\\\u0026s\\\\u003db19d5c5fa1b22253fb10966c47ba6768\", \"front_page_art_imgix_retina\": \"https://humblebundle.imgix.net/misc/files/hashed/9236d065f3d553b751dd89b82ab4dd121f8c2d06.png?auto\\\\u003dformat\\\\u0026dpr\\\\u003d2\\\\u0026fit\\\\u003dclip\\\\u0026h\\\\u003d240\\\\u0026w\\\\u003d180\\\\u0026s\\\\u003dba3578573db46901f57fc77d9bc4c143\", \"front_page_art_imgix\": \"https://humblebundle.imgix.net/misc/files/hashed/9236d065f3d553b751dd89b82ab4dd121f8c2d06.png?auto\\\\u003dformat\\\\u0026fit\\\\u003dclip\\\\u0026h\\\\u003d240\\\\u0026w\\\\u003d180\\\\u0026s\\\\u003dfbdce4e16d3da89425ae7b50a038fcf7\", \"preview_image\": \"https://humblebundle.imgix.net/misc/files/hashed/345ce6b22381090957260a6becee8418bd8a1c4a.png?auto\\\\u003dcompress\\\\u0026fit\\\\u003dclip\\\\u0026fm\\\\u003djpg\\\\u0026h\\\\u003d280\\\\u0026w\\\\u003d500\\\\u0026s\\\\u003ddbbd7ca96931d6271e91cca2d8fc73c7\"}, \"third_party_subscribe_text\": null, \"front_page_url\": null, \"human_name\": \"Mental Health Foundation\", \"payee_secondary_id\": \"19001\", \"wallet_credit\": {}}], \"allowed_payment_processors\": [\"amazonhp\", \"free\", \"paypal\", \"stripe\", \"alipay\"], \"purchases_per_content_event\": {}, \"sticky_navbar\": [\"Pay $1+\", \"Pay $8+\", \"Pay $15+\", \"Charity\", \"Stats\"]},\\n    \"userOptions\": {\"user_monthly_perk_status\": \"inactive\"},\\n    \"isEUCountry\": false,\\n    \"appConfig\": {\"CHANNEL_PREAMBLE\": \"\", \"is_mobile_browser\": null, \"static_url\": \"https://humblebundle-a.akamaihd.net\", \"ssl\": true}\\n  }\\n</script>\\n\\n\\n<script src=\"https://humblebundle-a.akamaihd.net/static/hashed/66c87ee2150c9ebebac044e60a4004f0de7871f7.js\"></script>\\n<script src=\"https://humblebundle-a.akamaihd.net/static/hashed/2afaf4e204201eb9f103ff7f42aeb17323cf01b0.js\"></script>\\n</body>\\n</html>'"
      ]
     },
     "execution_count": 4,
     "metadata": {},
     "output_type": "execute_result"
    }
   ],
   "source": [
    "response.text # The actual HTML document that we're gotten \n",
    "# back from humblebundle's server"
   ]
  },
  {
   "cell_type": "markdown",
   "metadata": {},
   "source": [
    "## Parsing our Text using BeautifulSoup"
   ]
  },
  {
   "cell_type": "code",
   "execution_count": 5,
   "metadata": {},
   "outputs": [],
   "source": [
    "beautsoup_object = BeautifulSoup(response.text, 'html.parser')\n",
    "# Tells BeautifulSoup that we'd like to use the 'html' parser"
   ]
  },
  {
   "cell_type": "code",
   "execution_count": null,
   "metadata": {},
   "outputs": [],
   "source": [
    "print(beautsoup_object)"
   ]
  },
  {
   "cell_type": "markdown",
   "metadata": {},
   "source": [
    "## Quick Question"
   ]
  },
  {
   "cell_type": "markdown",
   "metadata": {},
   "source": [
    "How can we make this \"prettier\"?"
   ]
  },
  {
   "cell_type": "code",
   "execution_count": null,
   "metadata": {},
   "outputs": [],
   "source": []
  },
  {
   "cell_type": "code",
   "execution_count": null,
   "metadata": {},
   "outputs": [],
   "source": []
  },
  {
   "cell_type": "code",
   "execution_count": null,
   "metadata": {},
   "outputs": [],
   "source": []
  },
  {
   "cell_type": "code",
   "execution_count": null,
   "metadata": {},
   "outputs": [],
   "source": []
  },
  {
   "cell_type": "code",
   "execution_count": null,
   "metadata": {},
   "outputs": [],
   "source": []
  },
  {
   "cell_type": "code",
   "execution_count": null,
   "metadata": {},
   "outputs": [],
   "source": [
    "print(beautsoup_object.prettify()[:4000])\n"
   ]
  },
  {
   "cell_type": "markdown",
   "metadata": {},
   "source": [
    "## Navigation Reminders"
   ]
  },
  {
   "cell_type": "markdown",
   "metadata": {},
   "source": [
    "What does this do?"
   ]
  },
  {
   "cell_type": "code",
   "execution_count": 1,
   "metadata": {},
   "outputs": [
    {
     "ename": "NameError",
     "evalue": "name 'beautsoup_object' is not defined",
     "output_type": "error",
     "traceback": [
      "\u001b[0;31m---------------------------------------------------------------------------\u001b[0m",
      "\u001b[0;31mNameError\u001b[0m                                 Traceback (most recent call last)",
      "\u001b[0;32m<ipython-input-1-f6255d99026d>\u001b[0m in \u001b[0;36m<module>\u001b[0;34m()\u001b[0m\n\u001b[0;32m----> 1\u001b[0;31m \u001b[0mbeautsoup_object\u001b[0m\u001b[0;34m.\u001b[0m\u001b[0ma\u001b[0m\u001b[0;34m\u001b[0m\u001b[0m\n\u001b[0m",
      "\u001b[0;31mNameError\u001b[0m: name 'beautsoup_object' is not defined"
     ]
    }
   ],
   "source": [
    "beautsoup_object.a "
   ]
  },
  {
   "cell_type": "code",
   "execution_count": null,
   "metadata": {},
   "outputs": [],
   "source": []
  },
  {
   "cell_type": "code",
   "execution_count": null,
   "metadata": {},
   "outputs": [],
   "source": []
  },
  {
   "cell_type": "markdown",
   "metadata": {},
   "source": [
    "Stands for < a >, or the **hyperlink** tag."
   ]
  },
  {
   "cell_type": "code",
   "execution_count": null,
   "metadata": {},
   "outputs": [],
   "source": [
    "beautsoup_object.p # 'p' stands for <p> or PARAGRAPH tags"
   ]
  },
  {
   "cell_type": "code",
   "execution_count": 51,
   "metadata": {},
   "outputs": [
    {
     "name": "stdout",
     "output_type": "stream",
     "text": [
      "<title>Humble Book Bundle: Big Data by Packt (pay what you want and help charity)</title>\n"
     ]
    }
   ],
   "source": [
    "print(beautsoup_object.title)"
   ]
  },
  {
   "cell_type": "code",
   "execution_count": 52,
   "metadata": {},
   "outputs": [
    {
     "name": "stdout",
     "output_type": "stream",
     "text": [
      "Humble Book Bundle: Big Data by Packt (pay what you want and help charity)\n"
     ]
    }
   ],
   "source": [
    "print(beautsoup_object.title.string)"
   ]
  },
  {
   "cell_type": "code",
   "execution_count": 54,
   "metadata": {},
   "outputs": [
    {
     "name": "stdout",
     "output_type": "stream",
     "text": [
      "head\n"
     ]
    }
   ],
   "source": [
    "print(beautsoup_object.title.parent.name)\n"
   ]
  },
  {
   "cell_type": "markdown",
   "metadata": {},
   "source": [
    "## Let's \"Inspect\" the Relevant Elements of our HTML  "
   ]
  },
  {
   "cell_type": "markdown",
   "metadata": {},
   "source": [
    "The elements we want seems to be of **class** \"dd-header-headline\" of *heading 2*, or h2.\n",
    "\n",
    "* **div** is an HTML element that groups other elements of the page together. \n",
    "\n",
    "* **class** is an attribute. All HTML elements can carry a **class** attribute. If your elements have a **class** attribute then you will be able to write some code in order to select that **class**. **Classes** are usually used to convey some sort of *style* to the webpage we're viewing. They are ***tags*** that we can search our document with."
   ]
  },
  {
   "cell_type": "code",
   "execution_count": 6,
   "metadata": {},
   "outputs": [
    {
     "data": {
      "text/plain": [
       "[]"
      ]
     },
     "execution_count": 6,
     "metadata": {},
     "output_type": "execute_result"
    }
   ],
   "source": [
    "beautsoup_object.find_all(\"dd-header-headline\")"
   ]
  },
  {
   "cell_type": "markdown",
   "metadata": {},
   "source": [
    "No buen. What if we used the **select()** method?"
   ]
  },
  {
   "cell_type": "code",
   "execution_count": 46,
   "metadata": {},
   "outputs": [
    {
     "data": {
      "text/plain": [
       "[<h2 class=\"dd-header-headline\">\n",
       "     Pay $1 or more!\n",
       "   </h2>, <h2 class=\"dd-header-headline\">\n",
       "     Pay $8 or more to also unlock!\n",
       "   </h2>, <h2 class=\"dd-header-headline\">\n",
       "     Pay $15 or more to also unlock!\n",
       "   </h2>, <h2 class=\"dd-header-headline\">\n",
       "     Support Charity\n",
       "   </h2>, <h2 class=\"dd-header-headline\">\n",
       " </h2>]"
      ]
     },
     "execution_count": 46,
     "metadata": {},
     "output_type": "execute_result"
    }
   ],
   "source": [
    "beautsoup_object.select(\".dd-header-headline\")"
   ]
  },
  {
   "cell_type": "markdown",
   "metadata": {},
   "source": [
    "The dot refers to us subsetting the class rather than the tag. E.g., this would also work:"
   ]
  },
  {
   "cell_type": "code",
   "execution_count": 47,
   "metadata": {},
   "outputs": [
    {
     "data": {
      "text/plain": [
       "[<h2 class=\"dd-header-headline\">\n",
       "     Pay $1 or more!\n",
       "   </h2>, <h2 class=\"dd-header-headline\">\n",
       "     Pay $8 or more to also unlock!\n",
       "   </h2>, <h2 class=\"dd-header-headline\">\n",
       "     Pay $15 or more to also unlock!\n",
       "   </h2>, <h2 class=\"dd-header-headline\">\n",
       "     Support Charity\n",
       "   </h2>, <h2 class=\"dd-header-headline\">\n",
       " </h2>]"
      ]
     },
     "execution_count": 47,
     "metadata": {},
     "output_type": "execute_result"
    }
   ],
   "source": [
    "beautsoup_object.select(\"h2.dd-header-headline\")"
   ]
  },
  {
   "cell_type": "code",
   "execution_count": 48,
   "metadata": {},
   "outputs": [
    {
     "data": {
      "text/plain": [
       "list"
      ]
     },
     "execution_count": 48,
     "metadata": {},
     "output_type": "execute_result"
    }
   ],
   "source": [
    "bundle_names = beautsoup_object.select(\".dd-header-headline\")\n",
    "type(bundle_names)"
   ]
  },
  {
   "cell_type": "markdown",
   "metadata": {},
   "source": [
    "**select** finds multiple instances and returns a list, whereas **find** (NOT **find_all**) finds the first, so they don't do the same thing. **select_one** would be the equivalent to **find**.\n",
    "\n",
    "If you want to search for tags that match two or more CSS classes, you should use a CSS **selector**."
   ]
  },
  {
   "cell_type": "markdown",
   "metadata": {},
   "source": [
    "## Question"
   ]
  },
  {
   "cell_type": "markdown",
   "metadata": {},
   "source": [
    "How do you think we could get it to work using the **.find_all()** method? ***Hint***:"
   ]
  },
  {
   "cell_type": "code",
   "execution_count": null,
   "metadata": {},
   "outputs": [],
   "source": [
    "?BeautifulSoup.find_all"
   ]
  },
  {
   "cell_type": "code",
   "execution_count": null,
   "metadata": {},
   "outputs": [],
   "source": []
  },
  {
   "cell_type": "code",
   "execution_count": null,
   "metadata": {},
   "outputs": [],
   "source": []
  },
  {
   "cell_type": "code",
   "execution_count": null,
   "metadata": {},
   "outputs": [],
   "source": []
  },
  {
   "cell_type": "code",
   "execution_count": null,
   "metadata": {},
   "outputs": [],
   "source": []
  },
  {
   "cell_type": "code",
   "execution_count": null,
   "metadata": {},
   "outputs": [],
   "source": []
  },
  {
   "cell_type": "code",
   "execution_count": null,
   "metadata": {},
   "outputs": [],
   "source": [
    "beautsoup_object.find_all('h2', class_ = \"dd-header-headline\")"
   ]
  },
  {
   "cell_type": "markdown",
   "metadata": {},
   "source": [
    "### Slicing and Dicing"
   ]
  },
  {
   "cell_type": "code",
   "execution_count": 49,
   "metadata": {},
   "outputs": [
    {
     "data": {
      "text/plain": [
       "<h2 class=\"dd-header-headline\">\n",
       "    Pay $1 or more!\n",
       "  </h2>"
      ]
     },
     "execution_count": 49,
     "metadata": {},
     "output_type": "execute_result"
    }
   ],
   "source": [
    "bundle_names[0]"
   ]
  },
  {
   "cell_type": "code",
   "execution_count": 50,
   "metadata": {},
   "outputs": [
    {
     "data": {
      "text/plain": [
       "'\\n    Pay $1 or more!\\n  '"
      ]
     },
     "execution_count": 50,
     "metadata": {},
     "output_type": "execute_result"
    }
   ],
   "source": [
    "bundle_names[0].text # Gives us the text without the tags around\n",
    "                   # it"
   ]
  },
  {
   "cell_type": "markdown",
   "metadata": {},
   "source": [
    "What if we want to get rid of the white space, though:"
   ]
  },
  {
   "cell_type": "code",
   "execution_count": 51,
   "metadata": {},
   "outputs": [
    {
     "data": {
      "text/plain": [
       "'Pay $1 or more!'"
      ]
     },
     "execution_count": 51,
     "metadata": {},
     "output_type": "execute_result"
    }
   ],
   "source": [
    "bundle_names[0].text.strip() # Much better"
   ]
  },
  {
   "cell_type": "code",
   "execution_count": 52,
   "metadata": {},
   "outputs": [
    {
     "name": "stdout",
     "output_type": "stream",
     "text": [
      "Pay $1 or more!\n",
      "Pay $8 or more to also unlock!\n",
      "Pay $15 or more to also unlock!\n",
      "Support Charity\n",
      "\n"
     ]
    }
   ],
   "source": [
    "for bundle in bundle_names:\n",
    "    print(bundle.text.strip())"
   ]
  },
  {
   "cell_type": "code",
   "execution_count": 53,
   "metadata": {},
   "outputs": [
    {
     "name": "stdout",
     "output_type": "stream",
     "text": [
      "Pay $1 or more!\n",
      "Pay $8 or more to also unlock!\n",
      "Pay $15 or more to also unlock!\n"
     ]
    }
   ],
   "source": [
    "# Could write it like this in order to get rid of 'Support Charity'\n",
    "\n",
    "for bundle in bundle_names[0:3]:\n",
    "    print(bundle.text.strip())"
   ]
  },
  {
   "cell_type": "markdown",
   "metadata": {},
   "source": [
    "What we want from each one of these bundles is the following:\n",
    "\n",
    "* The **bundle name** and the **bundle price**\n",
    "    * The **products** of each **bundle** "
   ]
  },
  {
   "cell_type": "markdown",
   "metadata": {},
   "source": [
    "With **list comprehensions** we make a **list** using some sort of object (does not need to be a **list**)\n",
    "\n",
    "The first mention is the **output**, or what we're going to do to the iterable, the second mention is usually the iterating process. See:\n",
    "\n",
    "* list_comprehension = [*output* **for** *elem* **in** *iterable*]\n",
    "\n",
    "You could write the following **for** loop as the **list comprehension** that follows:"
   ]
  },
  {
   "cell_type": "code",
   "execution_count": 54,
   "metadata": {},
   "outputs": [
    {
     "data": {
      "text/plain": [
       "['Pay $1 or more!',\n",
       " 'Pay $8 or more to also unlock!',\n",
       " 'Pay $15 or more to also unlock!']"
      ]
     },
     "execution_count": 54,
     "metadata": {},
     "output_type": "execute_result"
    }
   ],
   "source": [
    "stripped_bundles = []\n",
    "for bundle in bundle_names[0:3]:\n",
    "    stripped_bundles.append(bundle.text.strip())\n",
    "    \n",
    "stripped_bundles"
   ]
  },
  {
   "cell_type": "code",
   "execution_count": 55,
   "metadata": {},
   "outputs": [
    {
     "data": {
      "text/plain": [
       "['Pay $1 or more!',\n",
       " 'Pay $8 or more to also unlock!',\n",
       " 'Pay $15 or more to also unlock!']"
      ]
     },
     "execution_count": 55,
     "metadata": {},
     "output_type": "execute_result"
    }
   ],
   "source": [
    "stripped_bundles = [bundle.text.strip() for bundle in bundle_names[0:3]]\n",
    "stripped_bundles"
   ]
  },
  {
   "cell_type": "markdown",
   "metadata": {},
   "source": [
    "#### You could condense this code even further with the following:"
   ]
  },
  {
   "cell_type": "code",
   "execution_count": 56,
   "metadata": {},
   "outputs": [
    {
     "data": {
      "text/plain": [
       "['Pay $1 or more!',\n",
       " 'Pay $8 or more to also unlock!',\n",
       " 'Pay $15 or more to also unlock!',\n",
       " 'Support Charity',\n",
       " '']"
      ]
     },
     "execution_count": 56,
     "metadata": {},
     "output_type": "execute_result"
    }
   ],
   "source": [
    "stripped_bundles = [bundle.text.strip() for bundle in beautsoup_object.select(\"h2.dd-header-headline\")]\n",
    "stripped_bundles"
   ]
  },
  {
   "cell_type": "code",
   "execution_count": 57,
   "metadata": {},
   "outputs": [
    {
     "data": {
      "text/plain": [
       "list"
      ]
     },
     "execution_count": 57,
     "metadata": {},
     "output_type": "execute_result"
    }
   ],
   "source": [
    "type(stripped_bundles)"
   ]
  },
  {
   "cell_type": "markdown",
   "metadata": {},
   "source": [
    "## Getting the Product Names"
   ]
  },
  {
   "cell_type": "markdown",
   "metadata": {},
   "source": [
    "### Quick Question"
   ]
  },
  {
   "cell_type": "markdown",
   "metadata": {},
   "source": [
    "Here's the url: https://www.humblebundle.com/books/big-data-books?hmb_source=navbar&hmb_medium=product_tile&hmb_campaign=tile_index_4. How could we look at the page's HTML?"
   ]
  },
  {
   "cell_type": "code",
   "execution_count": 11,
   "metadata": {},
   "outputs": [],
   "source": [
    "product_url = 'https://www.humblebundle.com/books/big-data-books?hmb_source=navbar&hmb_medium=product_tile&hmb_campaign=tile_index_4'"
   ]
  },
  {
   "cell_type": "code",
   "execution_count": 15,
   "metadata": {},
   "outputs": [],
   "source": [
    "response02 = requests.get(product_url)\n",
    "    "
   ]
  },
  {
   "cell_type": "code",
   "execution_count": 25,
   "metadata": {},
   "outputs": [],
   "source": [
    "beautsoup_obj02 = BeautifulSoup(response02.text, 'html.parser')"
   ]
  },
  {
   "cell_type": "code",
   "execution_count": 28,
   "metadata": {},
   "outputs": [
    {
     "data": {
      "text/plain": [
       "[<div class=\"dd-image-box-caption dd-image-box-text dd-image-box-white \">\n",
       " <i class=\"hb hb-lock dd-caption-lock\"></i>\n",
       "     \n",
       "     Mastering Apache Spark 2.x\n",
       "   </div>,\n",
       " <div class=\"dd-image-box-caption dd-image-box-text dd-image-box-white \">\n",
       " <i class=\"hb hb-lock dd-caption-lock\"></i>\n",
       "     \n",
       "     Splunk Essentials\n",
       "   </div>,\n",
       " <div class=\"dd-image-box-caption dd-image-box-text dd-image-box-white \">\n",
       " <i class=\"hb hb-lock dd-caption-lock\"></i>\n",
       "     \n",
       "     MongoDB Cookbook\n",
       "   </div>,\n",
       " <div class=\"dd-image-box-caption dd-image-box-text dd-image-box-white \">\n",
       " <i class=\"hb hb-lock dd-caption-lock\"></i>\n",
       "     \n",
       "     Getting Started with Hadoop 2.x\n",
       "   </div>,\n",
       " <div class=\"dd-image-box-caption dd-image-box-text dd-image-box-white \">\n",
       " <i class=\"hb hb-lock dd-caption-lock\"></i>\n",
       "     \n",
       "     Learning ElasticSearch 5.0\n",
       "   </div>,\n",
       " <div class=\"dd-image-box-caption dd-image-box-text dd-image-box-white \">\n",
       " <i class=\"hb hb-lock dd-caption-lock\"></i>\n",
       " <span data-sheets-userformat='{\"2\":15235,\"3\":{\"1\":0},\"4\":[null,2,11982760],\"10\":2,\"11\":4,\"12\":0,\"14\":[null,2,0],\"15\":\"Calibri\",\"16\":11}' data-sheets-value='{\"1\":2,\"2\":\"Three Months of  Mapt Pro for $30 Coupon\"}'>Three Months of Mapt Pro for $30 Coupon</span>\n",
       " </div>,\n",
       " <div class=\"dd-image-box-caption dd-image-box-text dd-image-box-white \">\n",
       " <i class=\"hb hb-lock dd-caption-lock\"></i>\n",
       "     \n",
       "     Modern Big Data Processing with Hadoop\n",
       "   </div>,\n",
       " <div class=\"dd-image-box-caption dd-image-box-text dd-image-box-white \">\n",
       " <i class=\"hb hb-lock dd-caption-lock\"></i>\n",
       "     \n",
       "     Apache Hive Essentials\n",
       "   </div>,\n",
       " <div class=\"dd-image-box-caption dd-image-box-text dd-image-box-white \">\n",
       " <i class=\"hb hb-lock dd-caption-lock\"></i>\n",
       "     \n",
       "     Learning Elastic Stack 6.0\n",
       "   </div>,\n",
       " <div class=\"dd-image-box-caption dd-image-box-text dd-image-box-white \">\n",
       " <i class=\"hb hb-lock dd-caption-lock\"></i>\n",
       "     \n",
       "     Learning Hadoop 2\n",
       "   </div>,\n",
       " <div class=\"dd-image-box-caption dd-image-box-text dd-image-box-white \">\n",
       " <i class=\"hb hb-lock dd-caption-lock\"></i>\n",
       "     \n",
       "     Apache Spark with Scala\n",
       "   </div>,\n",
       " <div class=\"dd-image-box-caption dd-image-box-text dd-image-box-white \">\n",
       " <i class=\"hb hb-lock dd-caption-lock\"></i>\n",
       "     \n",
       "     Working with Big Data in Python\n",
       "   </div>,\n",
       " <div class=\"dd-image-box-caption dd-image-box-text dd-image-box-white \">\n",
       " <i class=\"hb hb-lock dd-caption-lock\"></i>\n",
       "     \n",
       "     Statistics for Data Science\n",
       "   </div>,\n",
       " <div class=\"dd-image-box-caption dd-image-box-text dd-image-box-white \">\n",
       " <i class=\"hb hb-lock dd-caption-lock\"></i>\n",
       "     \n",
       "     Python Data Analysis\n",
       "   </div>,\n",
       " <div class=\"dd-image-box-caption dd-image-box-text dd-image-box-white \">\n",
       " <i class=\"hb hb-lock dd-caption-lock\"></i>\n",
       "     \n",
       "     Learning R for Data Visualization\n",
       "   </div>,\n",
       " <div class=\"dd-image-box-caption dd-image-box-text dd-image-box-white \">\n",
       " <i class=\"hb hb-lock dd-caption-lock\"></i>\n",
       "     \n",
       "     Big Data Analytics with Hadoop 3\n",
       "   </div>,\n",
       " <div class=\"dd-image-box-caption dd-image-box-text dd-image-box-white \">\n",
       " <i class=\"hb hb-lock dd-caption-lock\"></i>\n",
       "     \n",
       "     Mastering MongoDB 3.x\n",
       "   </div>,\n",
       " <div class=\"dd-image-box-caption dd-image-box-text dd-image-box-white \">\n",
       " <i class=\"hb hb-lock dd-caption-lock\"></i>\n",
       "     \n",
       "     Artificial Intelligence for Big Data\n",
       "   </div>,\n",
       " <div class=\"dd-image-box-caption dd-image-box-text dd-image-box-white \">\n",
       " <i class=\"hb hb-lock dd-caption-lock\"></i>\n",
       "     \n",
       "     Big Data Architect's Handbook\n",
       "   </div>,\n",
       " <div class=\"dd-image-box-caption dd-image-box-text dd-image-box-white \">\n",
       " <i class=\"hb hb-lock dd-caption-lock\"></i>\n",
       "     \n",
       "     Hadoop Real-World Solutions Cookbook\n",
       "   </div>,\n",
       " <div class=\"dd-image-box-caption dd-image-box-text dd-image-box-white \">\n",
       " <i class=\"hb hb-lock dd-caption-lock\"></i>\n",
       "     \n",
       "     Build scalable applications with Apache Kafka\n",
       "   </div>,\n",
       " <div class=\"dd-image-box-caption dd-image-box-text dd-image-box-white \">\n",
       " <i class=\"hb hb-lock dd-caption-lock\"></i>\n",
       "     \n",
       "     Learning Apache Cassandra\n",
       "   </div>,\n",
       " <div class=\"dd-image-box-caption dd-image-box-text dd-image-box-white \">\n",
       " <i class=\"hb hb-lock dd-caption-lock\"></i>\n",
       "     \n",
       "     Data Science Algorithms in a Week\n",
       "   </div>,\n",
       " <div class=\"dd-image-box-caption dd-image-box-text dd-image-box-white \">\n",
       " <i class=\"hb hb-lock dd-caption-lock\"></i>\n",
       "     \n",
       "     Python Data Science Essentials\n",
       "   </div>,\n",
       " <div class=\"dd-image-box-caption dd-image-box-text dd-image-box-white \">\n",
       " <i class=\"hb hb-lock dd-caption-lock\"></i>\n",
       "     \n",
       "     Mastering Tableau 10\n",
       "   </div>,\n",
       " <div class=\"dd-image-box-caption dd-image-box-text dd-image-box-white \">\n",
       " <i class=\"hb hb-lock dd-caption-lock\"></i>\n",
       "     \n",
       "     Java for Data Science\n",
       "   </div>]"
      ]
     },
     "execution_count": 28,
     "metadata": {},
     "output_type": "execute_result"
    }
   ],
   "source": [
    "beautsoup_obj02.select(\".dd-image-box-caption\")"
   ]
  },
  {
   "cell_type": "code",
   "execution_count": 32,
   "metadata": {},
   "outputs": [
    {
     "data": {
      "text/plain": [
       "list"
      ]
     },
     "execution_count": 32,
     "metadata": {},
     "output_type": "execute_result"
    }
   ],
   "source": [
    "product_name = beautsoup_obj02.select(\".dd-image-box-caption\")\n",
    "type(product_name)"
   ]
  },
  {
   "cell_type": "code",
   "execution_count": 34,
   "metadata": {},
   "outputs": [
    {
     "data": {
      "text/plain": [
       "'Mastering Apache Spark 2.x'"
      ]
     },
     "execution_count": 34,
     "metadata": {},
     "output_type": "execute_result"
    }
   ],
   "source": [
    "product_name[0].text.strip()"
   ]
  },
  {
   "cell_type": "code",
   "execution_count": 35,
   "metadata": {},
   "outputs": [],
   "source": [
    "stripped_product = []\n",
    "for product in product_name:\n",
    "    stripped_product.append(product.text.strip())"
   ]
  },
  {
   "cell_type": "code",
   "execution_count": 36,
   "metadata": {},
   "outputs": [
    {
     "data": {
      "text/plain": [
       "['Mastering Apache Spark 2.x',\n",
       " 'Splunk Essentials',\n",
       " 'MongoDB Cookbook',\n",
       " 'Getting Started with Hadoop 2.x',\n",
       " 'Learning ElasticSearch 5.0',\n",
       " 'Three Months of Mapt Pro for $30 Coupon',\n",
       " 'Modern Big Data Processing with Hadoop',\n",
       " 'Apache Hive Essentials',\n",
       " 'Learning Elastic Stack 6.0',\n",
       " 'Learning Hadoop 2',\n",
       " 'Apache Spark with Scala',\n",
       " 'Working with Big Data in Python',\n",
       " 'Statistics for Data Science',\n",
       " 'Python Data Analysis',\n",
       " 'Learning R for Data Visualization',\n",
       " 'Big Data Analytics with Hadoop 3',\n",
       " 'Mastering MongoDB 3.x',\n",
       " 'Artificial Intelligence for Big Data',\n",
       " \"Big Data Architect's Handbook\",\n",
       " 'Hadoop Real-World Solutions Cookbook',\n",
       " 'Build scalable applications with Apache Kafka',\n",
       " 'Learning Apache Cassandra',\n",
       " 'Data Science Algorithms in a Week',\n",
       " 'Python Data Science Essentials',\n",
       " 'Mastering Tableau 10',\n",
       " 'Java for Data Science']"
      ]
     },
     "execution_count": 36,
     "metadata": {},
     "output_type": "execute_result"
    }
   ],
   "source": [
    "stripped_product"
   ]
  },
  {
   "cell_type": "code",
   "execution_count": 39,
   "metadata": {},
   "outputs": [
    {
     "data": {
      "text/plain": [
       "list"
      ]
     },
     "execution_count": 39,
     "metadata": {},
     "output_type": "execute_result"
    }
   ],
   "source": [
    "type(stripped_product)"
   ]
  },
  {
   "cell_type": "code",
   "execution_count": 41,
   "metadata": {},
   "outputs": [
    {
     "data": {
      "text/plain": [
       "['Mastering Apache Spark 2.x',\n",
       " 'Splunk Essentials',\n",
       " 'MongoDB Cookbook',\n",
       " 'Getting Started with Hadoop 2.x',\n",
       " 'Learning ElasticSearch 5.0',\n",
       " 'Three Months of Mapt Pro for $30 Coupon',\n",
       " 'Modern Big Data Processing with Hadoop',\n",
       " 'Apache Hive Essentials',\n",
       " 'Learning Elastic Stack 6.0',\n",
       " 'Learning Hadoop 2',\n",
       " 'Apache Spark with Scala',\n",
       " 'Working with Big Data in Python',\n",
       " 'Statistics for Data Science',\n",
       " 'Python Data Analysis',\n",
       " 'Learning R for Data Visualization',\n",
       " 'Big Data Analytics with Hadoop 3',\n",
       " 'Mastering MongoDB 3.x',\n",
       " 'Artificial Intelligence for Big Data',\n",
       " \"Big Data Architect's Handbook\",\n",
       " 'Hadoop Real-World Solutions Cookbook',\n",
       " 'Build scalable applications with Apache Kafka',\n",
       " 'Learning Apache Cassandra',\n",
       " 'Data Science Algorithms in a Week',\n",
       " 'Python Data Science Essentials',\n",
       " 'Mastering Tableau 10']"
      ]
     },
     "execution_count": 41,
     "metadata": {},
     "output_type": "execute_result"
    }
   ],
   "source": [
    "stripped_product[:25]"
   ]
  },
  {
   "cell_type": "markdown",
   "metadata": {},
   "source": [
    "When inspecting the HTML, we see the following:"
   ]
  },
  {
   "cell_type": "code",
   "execution_count": 62,
   "metadata": {},
   "outputs": [
    {
     "ename": "SyntaxError",
     "evalue": "invalid syntax (<ipython-input-62-d09952242e68>, line 1)",
     "output_type": "error",
     "traceback": [
      "\u001b[0;36m  File \u001b[0;32m\"<ipython-input-62-d09952242e68>\"\u001b[0;36m, line \u001b[0;32m1\u001b[0m\n\u001b[0;31m    <div class=\"dd-image-box-caption\">\u001b[0m\n\u001b[0m    ^\u001b[0m\n\u001b[0;31mSyntaxError\u001b[0m\u001b[0;31m:\u001b[0m invalid syntax\n"
     ]
    }
   ],
   "source": [
    "<div class=\"dd-image-box-caption\">\n"
   ]
  },
  {
   "cell_type": "code",
   "execution_count": 63,
   "metadata": {},
   "outputs": [
    {
     "data": {
      "text/plain": [
       "[<div class=\"dd-image-box-caption dd-image-box-text dd-image-box-white \">\n",
       " <i class=\"hb hb-lock dd-caption-lock\"></i>\n",
       "     \n",
       "     Mastering Apache Spark 2.x\n",
       "   </div>,\n",
       " <div class=\"dd-image-box-caption dd-image-box-text dd-image-box-white \">\n",
       " <i class=\"hb hb-lock dd-caption-lock\"></i>\n",
       "     \n",
       "     Splunk Essentials\n",
       "   </div>,\n",
       " <div class=\"dd-image-box-caption dd-image-box-text dd-image-box-white \">\n",
       " <i class=\"hb hb-lock dd-caption-lock\"></i>\n",
       "     \n",
       "     MongoDB Cookbook\n",
       "   </div>,\n",
       " <div class=\"dd-image-box-caption dd-image-box-text dd-image-box-white \">\n",
       " <i class=\"hb hb-lock dd-caption-lock\"></i>\n",
       "     \n",
       "     Getting Started with Hadoop 2.x\n",
       "   </div>,\n",
       " <div class=\"dd-image-box-caption dd-image-box-text dd-image-box-white \">\n",
       " <i class=\"hb hb-lock dd-caption-lock\"></i>\n",
       "     \n",
       "     Learning ElasticSearch 5.0\n",
       "   </div>,\n",
       " <div class=\"dd-image-box-caption dd-image-box-text dd-image-box-white \">\n",
       " <i class=\"hb hb-lock dd-caption-lock\"></i>\n",
       " <span data-sheets-userformat='{\"2\":15235,\"3\":{\"1\":0},\"4\":[null,2,11982760],\"10\":2,\"11\":4,\"12\":0,\"14\":[null,2,0],\"15\":\"Calibri\",\"16\":11}' data-sheets-value='{\"1\":2,\"2\":\"Three Months of  Mapt Pro for $30 Coupon\"}'>Three Months of Mapt Pro for $30 Coupon</span>\n",
       " </div>,\n",
       " <div class=\"dd-image-box-caption dd-image-box-text dd-image-box-white \">\n",
       " <i class=\"hb hb-lock dd-caption-lock\"></i>\n",
       "     \n",
       "     Modern Big Data Processing with Hadoop\n",
       "   </div>,\n",
       " <div class=\"dd-image-box-caption dd-image-box-text dd-image-box-white \">\n",
       " <i class=\"hb hb-lock dd-caption-lock\"></i>\n",
       "     \n",
       "     Apache Hive Essentials\n",
       "   </div>,\n",
       " <div class=\"dd-image-box-caption dd-image-box-text dd-image-box-white \">\n",
       " <i class=\"hb hb-lock dd-caption-lock\"></i>\n",
       "     \n",
       "     Learning Elastic Stack 6.0\n",
       "   </div>,\n",
       " <div class=\"dd-image-box-caption dd-image-box-text dd-image-box-white \">\n",
       " <i class=\"hb hb-lock dd-caption-lock\"></i>\n",
       "     \n",
       "     Learning Hadoop 2\n",
       "   </div>,\n",
       " <div class=\"dd-image-box-caption dd-image-box-text dd-image-box-white \">\n",
       " <i class=\"hb hb-lock dd-caption-lock\"></i>\n",
       "     \n",
       "     Apache Spark with Scala\n",
       "   </div>,\n",
       " <div class=\"dd-image-box-caption dd-image-box-text dd-image-box-white \">\n",
       " <i class=\"hb hb-lock dd-caption-lock\"></i>\n",
       "     \n",
       "     Working with Big Data in Python\n",
       "   </div>,\n",
       " <div class=\"dd-image-box-caption dd-image-box-text dd-image-box-white \">\n",
       " <i class=\"hb hb-lock dd-caption-lock\"></i>\n",
       "     \n",
       "     Statistics for Data Science\n",
       "   </div>,\n",
       " <div class=\"dd-image-box-caption dd-image-box-text dd-image-box-white \">\n",
       " <i class=\"hb hb-lock dd-caption-lock\"></i>\n",
       "     \n",
       "     Python Data Analysis\n",
       "   </div>,\n",
       " <div class=\"dd-image-box-caption dd-image-box-text dd-image-box-white \">\n",
       " <i class=\"hb hb-lock dd-caption-lock\"></i>\n",
       "     \n",
       "     Learning R for Data Visualization\n",
       "   </div>,\n",
       " <div class=\"dd-image-box-caption dd-image-box-text dd-image-box-white \">\n",
       " <i class=\"hb hb-lock dd-caption-lock\"></i>\n",
       "     \n",
       "     Big Data Analytics with Hadoop 3\n",
       "   </div>,\n",
       " <div class=\"dd-image-box-caption dd-image-box-text dd-image-box-white \">\n",
       " <i class=\"hb hb-lock dd-caption-lock\"></i>\n",
       "     \n",
       "     Mastering MongoDB 3.x\n",
       "   </div>,\n",
       " <div class=\"dd-image-box-caption dd-image-box-text dd-image-box-white \">\n",
       " <i class=\"hb hb-lock dd-caption-lock\"></i>\n",
       "     \n",
       "     Artificial Intelligence for Big Data\n",
       "   </div>,\n",
       " <div class=\"dd-image-box-caption dd-image-box-text dd-image-box-white \">\n",
       " <i class=\"hb hb-lock dd-caption-lock\"></i>\n",
       "     \n",
       "     Big Data Architect's Handbook\n",
       "   </div>,\n",
       " <div class=\"dd-image-box-caption dd-image-box-text dd-image-box-white \">\n",
       " <i class=\"hb hb-lock dd-caption-lock\"></i>\n",
       "     \n",
       "     Hadoop Real-World Solutions Cookbook\n",
       "   </div>,\n",
       " <div class=\"dd-image-box-caption dd-image-box-text dd-image-box-white \">\n",
       " <i class=\"hb hb-lock dd-caption-lock\"></i>\n",
       "     \n",
       "     Build scalable applications with Apache Kafka\n",
       "   </div>,\n",
       " <div class=\"dd-image-box-caption dd-image-box-text dd-image-box-white \">\n",
       " <i class=\"hb hb-lock dd-caption-lock\"></i>\n",
       "     \n",
       "     Learning Apache Cassandra\n",
       "   </div>,\n",
       " <div class=\"dd-image-box-caption dd-image-box-text dd-image-box-white \">\n",
       " <i class=\"hb hb-lock dd-caption-lock\"></i>\n",
       "     \n",
       "     Data Science Algorithms in a Week\n",
       "   </div>,\n",
       " <div class=\"dd-image-box-caption dd-image-box-text dd-image-box-white \">\n",
       " <i class=\"hb hb-lock dd-caption-lock\"></i>\n",
       "     \n",
       "     Python Data Science Essentials\n",
       "   </div>,\n",
       " <div class=\"dd-image-box-caption dd-image-box-text dd-image-box-white \">\n",
       " <i class=\"hb hb-lock dd-caption-lock\"></i>\n",
       "     \n",
       "     Mastering Tableau 10\n",
       "   </div>,\n",
       " <div class=\"dd-image-box-caption dd-image-box-text dd-image-box-white \">\n",
       " <i class=\"hb hb-lock dd-caption-lock\"></i>\n",
       "     \n",
       "     Java for Data Science\n",
       "   </div>]"
      ]
     },
     "execution_count": 63,
     "metadata": {},
     "output_type": "execute_result"
    }
   ],
   "source": [
    "prod_names = beautsoup_object.select(\".dd-image-box-caption\")\n",
    "prod_names[:1000]"
   ]
  },
  {
   "cell_type": "markdown",
   "metadata": {},
   "source": [
    "We see that we've got a bunch of Big Data books listed here:\n",
    "\n",
    "* Mastering Apache Spark 2.x;\n",
    "* Splunk Essentials;\n",
    "* MongoDB Cookbook;\n",
    "* Getting Started with Hadoop 2.x;\n",
    "* etc."
   ]
  },
  {
   "cell_type": "code",
   "execution_count": null,
   "metadata": {},
   "outputs": [],
   "source": [
    "type(prod_names)"
   ]
  },
  {
   "cell_type": "code",
   "execution_count": 46,
   "metadata": {},
   "outputs": [
    {
     "data": {
      "text/plain": [
       "['Mastering Apache Spark 2.x',\n",
       " 'Splunk Essentials',\n",
       " 'MongoDB Cookbook',\n",
       " 'Getting Started with Hadoop 2.x',\n",
       " 'Learning ElasticSearch 5.0',\n",
       " 'Three Months of Mapt Pro for $30 Coupon',\n",
       " 'Modern Big Data Processing with Hadoop',\n",
       " 'Apache Hive Essentials',\n",
       " 'Learning Elastic Stack 6.0',\n",
       " 'Learning Hadoop 2',\n",
       " 'Apache Spark with Scala',\n",
       " 'Working with Big Data in Python',\n",
       " 'Statistics for Data Science',\n",
       " 'Python Data Analysis',\n",
       " 'Learning R for Data Visualization',\n",
       " 'Big Data Analytics with Hadoop 3',\n",
       " 'Mastering MongoDB 3.x',\n",
       " 'Artificial Intelligence for Big Data',\n",
       " \"Big Data Architect's Handbook\",\n",
       " 'Hadoop Real-World Solutions Cookbook',\n",
       " 'Build scalable applications with Apache Kafka',\n",
       " 'Learning Apache Cassandra',\n",
       " 'Data Science Algorithms in a Week',\n",
       " 'Python Data Science Essentials',\n",
       " 'Mastering Tableau 10',\n",
       " 'Java for Data Science']"
      ]
     },
     "execution_count": 46,
     "metadata": {},
     "output_type": "execute_result"
    }
   ],
   "source": [
    "stripped_prod_names = [product.text.strip() for product in prod_names]\n",
    "stripped_prod_names"
   ]
  },
  {
   "cell_type": "markdown",
   "metadata": {},
   "source": [
    "Or:"
   ]
  },
  {
   "cell_type": "code",
   "execution_count": 47,
   "metadata": {},
   "outputs": [
    {
     "data": {
      "text/plain": [
       "['Mastering Apache Spark 2.x',\n",
       " 'Splunk Essentials',\n",
       " 'MongoDB Cookbook',\n",
       " 'Getting Started with Hadoop 2.x',\n",
       " 'Learning ElasticSearch 5.0',\n",
       " 'Three Months of Mapt Pro for $30 Coupon',\n",
       " 'Modern Big Data Processing with Hadoop',\n",
       " 'Apache Hive Essentials',\n",
       " 'Learning Elastic Stack 6.0',\n",
       " 'Learning Hadoop 2',\n",
       " 'Apache Spark with Scala',\n",
       " 'Working with Big Data in Python',\n",
       " 'Statistics for Data Science',\n",
       " 'Python Data Analysis',\n",
       " 'Learning R for Data Visualization',\n",
       " 'Big Data Analytics with Hadoop 3',\n",
       " 'Mastering MongoDB 3.x',\n",
       " 'Artificial Intelligence for Big Data',\n",
       " \"Big Data Architect's Handbook\",\n",
       " 'Hadoop Real-World Solutions Cookbook',\n",
       " 'Build scalable applications with Apache Kafka',\n",
       " 'Learning Apache Cassandra',\n",
       " 'Data Science Algorithms in a Week',\n",
       " 'Python Data Science Essentials',\n",
       " 'Mastering Tableau 10',\n",
       " 'Java for Data Science']"
      ]
     },
     "execution_count": 47,
     "metadata": {},
     "output_type": "execute_result"
    }
   ],
   "source": [
    "stripped_prod_names = []\n",
    "for product in prod_names:\n",
    "    stripped_prod_names.append(product.text.strip())\n",
    "    \n",
    "stripped_prod_names"
   ]
  },
  {
   "cell_type": "markdown",
   "metadata": {},
   "source": [
    "## Extracting the Price"
   ]
  },
  {
   "cell_type": "markdown",
   "metadata": {},
   "source": [
    "We see that the price is in the bundle name:"
   ]
  },
  {
   "cell_type": "code",
   "execution_count": 58,
   "metadata": {},
   "outputs": [
    {
     "data": {
      "text/plain": [
       "['Pay $1 or more!',\n",
       " 'Pay $8 or more to also unlock!',\n",
       " 'Pay $15 or more to also unlock!',\n",
       " 'Support Charity',\n",
       " '']"
      ]
     },
     "execution_count": 58,
     "metadata": {},
     "output_type": "execute_result"
    }
   ],
   "source": [
    "stripped_bundles"
   ]
  },
  {
   "cell_type": "code",
   "execution_count": 59,
   "metadata": {},
   "outputs": [
    {
     "data": {
      "text/plain": [
       "['$1', '$8', '$15']"
      ]
     },
     "execution_count": 59,
     "metadata": {},
     "output_type": "execute_result"
    }
   ],
   "source": [
    "[bundle.split()[1] for bundle in stripped_bundles if bundle.startswith(\"Pay\")]"
   ]
  },
  {
   "cell_type": "markdown",
   "metadata": {},
   "source": [
    "## Streamlining the Process"
   ]
  },
  {
   "cell_type": "markdown",
   "metadata": {},
   "source": [
    "Here, we'll target 'dd-game-row.' This'll allow us to **target** by each ***row***. For each ***row*** we'll be able to pull out the **title** and then the specific **product** of each bundle. This is the same as what we were doing before, but perhaps a bit more streamlined.\n",
    "\n",
    "Also, we'll see that, by creating a **nested dictionary**, we'll make a formidable data structure. It's from this that we can derive our insight."
   ]
  },
  {
   "cell_type": "code",
   "execution_count": 60,
   "metadata": {},
   "outputs": [
    {
     "data": {
      "text/plain": [
       "[<div class=\"main-content-row dd-game-row js-nav-row\">\n",
       " <div class=\"u-constrain-width\">\n",
       " <div class=\"dd-header\">\n",
       " <h2 class=\"dd-header-headline\">\n",
       "     Pay $1 or more!\n",
       "   </h2>\n",
       " <h3 class=\"dd-header-subheader\">\n",
       " </h3>\n",
       " </div>\n",
       " <div class=\"dd-image-box-list\">\n",
       " <div class=\"dd-image-box game-boxes hoverable desktop\">\n",
       " <div class=\"dd-image-box-figure u-lazy-load\" data-slideout=\"masteringapachespark2_x\">\n",
       " <div class=\"dd-image-box-badge-holder u-hide-onerror\">\n",
       " </div>\n",
       " <div class=\"dd-image-holder\">\n",
       " <img class=\"dd-image-box-figure-img\" data-retina-src=\"https://humblebundle.imgix.net/misc/files/hashed/a883a6da28992ae6e1772b6e5c6045ef2c335239.png?auto=format&amp;dpr=2&amp;fit=clip&amp;h=240&amp;w=180&amp;s=0241b3b7926c52ad30063b6289e3bafb\" data-src=\"https://humblebundle.imgix.net/misc/files/hashed/a883a6da28992ae6e1772b6e5c6045ef2c335239.png?auto=format&amp;fit=crop&amp;fm=png&amp;h=218&amp;w=150&amp;s=cf7161ce312f788bbebc8546c8425596\"/>\n",
       " </div>\n",
       " <span class=\"hover-black-overlay u-hide-onerror\"></span>\n",
       " <div class=\"hover-icon-holder u-hide-onerror\">\n",
       " <i class=\"hb hb-search hover-icon u-center\"></i>\n",
       " </div>\n",
       " <div class=\"dd-gradient-overlay u-hide-onerror\"></div>\n",
       " </div>\n",
       " <div class=\"dd-image-box-caption-container\">\n",
       " <div class=\"dd-captions s-no-platform-icons\">\n",
       " <div class=\"dd-image-box-caption dd-image-box-text dd-image-box-white \">\n",
       " <i class=\"hb hb-lock dd-caption-lock\"></i>\n",
       "     \n",
       "     Mastering Apache Spark 2.x\n",
       "   </div>\n",
       " <div class=\"dd-callout subtitle\"><div class=\"accolades\">Second Edition</div></div>\n",
       " </div>\n",
       " </div>\n",
       " </div>\n",
       " <div class=\"dd-image-box game-boxes hoverable desktop\">\n",
       " <div class=\"dd-image-box-figure u-lazy-load\" data-slideout=\"splunkessentials\">\n",
       " <div class=\"dd-image-box-badge-holder u-hide-onerror\">\n",
       " </div>\n",
       " <div class=\"dd-image-holder\">\n",
       " <img class=\"dd-image-box-figure-img\" data-retina-src=\"https://humblebundle.imgix.net/misc/files/hashed/a8fbb831f4bcb7df3929b69b052c7d7f9e86f2a3.png?auto=format&amp;dpr=2&amp;fit=clip&amp;h=240&amp;w=180&amp;s=dee43e24645eca5e533fa74b5da05259\" data-src=\"https://humblebundle.imgix.net/misc/files/hashed/a8fbb831f4bcb7df3929b69b052c7d7f9e86f2a3.png?auto=format&amp;fit=crop&amp;fm=png&amp;h=218&amp;w=150&amp;s=3a765f9e379e5b98080790d9dff17a6f\"/>\n",
       " </div>\n",
       " <span class=\"hover-black-overlay u-hide-onerror\"></span>\n",
       " <div class=\"hover-icon-holder u-hide-onerror\">\n",
       " <i class=\"hb hb-search hover-icon u-center\"></i>\n",
       " </div>\n",
       " <div class=\"dd-gradient-overlay u-hide-onerror\"></div>\n",
       " </div>\n",
       " <div class=\"dd-image-box-caption-container\">\n",
       " <div class=\"dd-captions s-no-platform-icons\">\n",
       " <div class=\"dd-image-box-caption dd-image-box-text dd-image-box-white \">\n",
       " <i class=\"hb hb-lock dd-caption-lock\"></i>\n",
       "     \n",
       "     Splunk Essentials\n",
       "   </div>\n",
       " <div class=\"dd-callout subtitle\"><div class=\"accolades\">Second Edition</div></div>\n",
       " </div>\n",
       " </div>\n",
       " </div>\n",
       " <div class=\"dd-image-box game-boxes hoverable desktop\">\n",
       " <div class=\"dd-image-box-figure u-lazy-load\" data-slideout=\"mongodbcookbook\">\n",
       " <div class=\"dd-image-box-badge-holder u-hide-onerror\">\n",
       " </div>\n",
       " <div class=\"dd-image-holder\">\n",
       " <img class=\"dd-image-box-figure-img\" data-retina-src=\"https://humblebundle.imgix.net/misc/files/hashed/f8dd17c1cf75d8c0766bcbce6d76ffedca8c7595.png?auto=format&amp;dpr=2&amp;fit=clip&amp;h=240&amp;w=180&amp;s=fcbf514774ba0b69068a9773933609c4\" data-src=\"https://humblebundle.imgix.net/misc/files/hashed/f8dd17c1cf75d8c0766bcbce6d76ffedca8c7595.png?auto=format&amp;fit=crop&amp;fm=png&amp;h=218&amp;w=150&amp;s=7b6aafc9d43a215404d3e06188ecda0a\"/>\n",
       " </div>\n",
       " <span class=\"hover-black-overlay u-hide-onerror\"></span>\n",
       " <div class=\"hover-icon-holder u-hide-onerror\">\n",
       " <i class=\"hb hb-search hover-icon u-center\"></i>\n",
       " </div>\n",
       " <div class=\"dd-gradient-overlay u-hide-onerror\"></div>\n",
       " </div>\n",
       " <div class=\"dd-image-box-caption-container\">\n",
       " <div class=\"dd-captions s-no-platform-icons\">\n",
       " <div class=\"dd-image-box-caption dd-image-box-text dd-image-box-white \">\n",
       " <i class=\"hb hb-lock dd-caption-lock\"></i>\n",
       "     \n",
       "     MongoDB Cookbook\n",
       "   </div>\n",
       " <div class=\"dd-callout subtitle\"><div class=\"accolades\">Second Edition</div></div>\n",
       " </div>\n",
       " </div>\n",
       " </div>\n",
       " <div class=\"dd-image-box game-boxes hoverable desktop\">\n",
       " <div class=\"dd-image-box-figure u-lazy-load\" data-slideout=\"gettingstartedwithhadoop2_x_video\">\n",
       " <div class=\"dd-image-box-badge-holder u-hide-onerror\">\n",
       " </div>\n",
       " <div class=\"dd-image-holder\">\n",
       " <img class=\"dd-image-box-figure-img\" data-retina-src=\"https://humblebundle.imgix.net/misc/files/hashed/6722b320fd05df5d0b521c94b4ae072053126a61.png?auto=format&amp;dpr=2&amp;fit=clip&amp;h=240&amp;w=180&amp;s=ba7e006578eeee7ad3ff9b3be36bdf2e\" data-src=\"https://humblebundle.imgix.net/misc/files/hashed/6722b320fd05df5d0b521c94b4ae072053126a61.png?auto=format&amp;fit=crop&amp;fm=png&amp;h=218&amp;w=150&amp;s=8c9aab0913ffaf527ca6510f8bf6c98c\"/>\n",
       " </div>\n",
       " <span class=\"hover-black-overlay u-hide-onerror\"></span>\n",
       " <div class=\"hover-icon-holder u-hide-onerror\">\n",
       " <i class=\"hb hb-search hover-icon u-center\"></i>\n",
       " </div>\n",
       " <div class=\"dd-gradient-overlay u-hide-onerror\"></div>\n",
       " </div>\n",
       " <div class=\"dd-image-box-caption-container\">\n",
       " <div class=\"dd-captions s-no-platform-icons\">\n",
       " <div class=\"dd-image-box-caption dd-image-box-text dd-image-box-white \">\n",
       " <i class=\"hb hb-lock dd-caption-lock\"></i>\n",
       "     \n",
       "     Getting Started with Hadoop 2.x\n",
       "   </div>\n",
       " <div class=\"dd-callout subtitle\">Video</div>\n",
       " </div>\n",
       " </div>\n",
       " </div>\n",
       " <div class=\"dd-image-box game-boxes hoverable desktop\">\n",
       " <div class=\"dd-image-box-figure u-lazy-load\" data-slideout=\"learningelasticsearch5_0_video\">\n",
       " <div class=\"dd-image-box-badge-holder u-hide-onerror\">\n",
       " </div>\n",
       " <div class=\"dd-image-holder\">\n",
       " <img class=\"dd-image-box-figure-img\" data-retina-src=\"https://humblebundle.imgix.net/misc/files/hashed/3a861d0e0507e835b2ec47ff70ede2968096d85c.png?auto=format&amp;dpr=2&amp;fit=clip&amp;h=240&amp;w=180&amp;s=7b550134a4d77b71374a0e7f16e38d26\" data-src=\"https://humblebundle.imgix.net/misc/files/hashed/3a861d0e0507e835b2ec47ff70ede2968096d85c.png?auto=format&amp;fit=crop&amp;fm=png&amp;h=218&amp;w=150&amp;s=3f122cdbe97bf97de1f91e25c389c753\"/>\n",
       " </div>\n",
       " <span class=\"hover-black-overlay u-hide-onerror\"></span>\n",
       " <div class=\"hover-icon-holder u-hide-onerror\">\n",
       " <i class=\"hb hb-search hover-icon u-center\"></i>\n",
       " </div>\n",
       " <div class=\"dd-gradient-overlay u-hide-onerror\"></div>\n",
       " </div>\n",
       " <div class=\"dd-image-box-caption-container\">\n",
       " <div class=\"dd-captions s-no-platform-icons\">\n",
       " <div class=\"dd-image-box-caption dd-image-box-text dd-image-box-white \">\n",
       " <i class=\"hb hb-lock dd-caption-lock\"></i>\n",
       "     \n",
       "     Learning ElasticSearch 5.0\n",
       "   </div>\n",
       " <div class=\"dd-callout subtitle\">Video</div>\n",
       " </div>\n",
       " </div>\n",
       " </div>\n",
       " <div class=\"dd-image-box game-boxes hoverable desktop\">\n",
       " <div class=\"dd-image-box-figure u-lazy-load\" data-slideout=\"3for30dollars_maptsubscription\">\n",
       " <div class=\"dd-image-box-badge-holder u-hide-onerror\">\n",
       " </div>\n",
       " <div class=\"dd-image-holder\">\n",
       " <img class=\"dd-image-box-figure-img\" data-retina-src=\"https://humblebundle.imgix.net/misc/files/hashed/179df826a5be87fa7dc30b1b9c1a64582904b197.png?auto=format&amp;dpr=2&amp;fit=clip&amp;h=240&amp;w=180&amp;s=13ab1ee44279199b531fbcfebd079d69\" data-src=\"https://humblebundle.imgix.net/misc/files/hashed/179df826a5be87fa7dc30b1b9c1a64582904b197.png?auto=format&amp;fit=crop&amp;fm=png&amp;h=218&amp;w=150&amp;s=f34cacd375102f957e9a0e625ffe53e2\"/>\n",
       " </div>\n",
       " <span class=\"hover-black-overlay u-hide-onerror\"></span>\n",
       " <div class=\"hover-icon-holder u-hide-onerror\">\n",
       " <i class=\"hb hb-search hover-icon u-center\"></i>\n",
       " </div>\n",
       " <div class=\"dd-gradient-overlay u-hide-onerror\"></div>\n",
       " </div>\n",
       " <div class=\"dd-image-box-caption-container\">\n",
       " <div class=\"dd-captions s-no-platform-icons\">\n",
       " <div class=\"dd-image-box-caption dd-image-box-text dd-image-box-white \">\n",
       " <i class=\"hb hb-lock dd-caption-lock\"></i>\n",
       " <span data-sheets-userformat='{\"2\":15235,\"3\":{\"1\":0},\"4\":[null,2,11982760],\"10\":2,\"11\":4,\"12\":0,\"14\":[null,2,0],\"15\":\"Calibri\",\"16\":11}' data-sheets-value='{\"1\":2,\"2\":\"Three Months of  Mapt Pro for $30 Coupon\"}'>Three Months of Mapt Pro for $30 Coupon</span>\n",
       " </div>\n",
       " <div class=\"dd-callout subtitle\"><p class=\"default\"><strong>Access every Packt eBook and Video ever published!</strong></p></div>\n",
       " </div>\n",
       " </div>\n",
       " </div>\n",
       " </div>\n",
       " </div>\n",
       " </div>, <div class=\"main-content-row dd-game-row js-nav-row\">\n",
       " <div class=\"u-constrain-width\">\n",
       " <div class=\"dd-header\">\n",
       " <h2 class=\"dd-header-headline\">\n",
       "     Pay $8 or more to also unlock!\n",
       "   </h2>\n",
       " <h3 class=\"dd-header-subheader\">\n",
       " </h3>\n",
       " </div>\n",
       " <div class=\"dd-image-box-list\">\n",
       " <div class=\"dd-image-box game-boxes hoverable desktop\">\n",
       " <div class=\"dd-image-box-figure u-lazy-load\" data-slideout=\"modernbigdataprocessingwithhadoop\">\n",
       " <div class=\"dd-image-box-badge-holder u-hide-onerror\">\n",
       " </div>\n",
       " <div class=\"dd-image-holder\">\n",
       " <img class=\"dd-image-box-figure-img\" data-retina-src=\"https://humblebundle.imgix.net/misc/files/hashed/1ed4da77e803fa00d0028ae9277e2d5b7951b394.png?auto=format&amp;dpr=2&amp;fit=clip&amp;h=240&amp;w=180&amp;s=33e2743635d9fd2740b73f432f015b37\" data-src=\"https://humblebundle.imgix.net/misc/files/hashed/1ed4da77e803fa00d0028ae9277e2d5b7951b394.png?auto=format&amp;fit=crop&amp;fm=png&amp;h=218&amp;w=150&amp;s=1f1318e959c4519e50a8b1de67cc0fc3\"/>\n",
       " </div>\n",
       " <span class=\"hover-black-overlay u-hide-onerror\"></span>\n",
       " <div class=\"hover-icon-holder u-hide-onerror\">\n",
       " <i class=\"hb hb-search hover-icon u-center\"></i>\n",
       " </div>\n",
       " <div class=\"dd-gradient-overlay u-hide-onerror\"></div>\n",
       " </div>\n",
       " <div class=\"dd-image-box-caption-container\">\n",
       " <div class=\"dd-captions s-no-platform-icons\">\n",
       " <div class=\"dd-image-box-caption dd-image-box-text dd-image-box-white \">\n",
       " <i class=\"hb hb-lock dd-caption-lock\"></i>\n",
       "     \n",
       "     Modern Big Data Processing with Hadoop\n",
       "   </div>\n",
       " </div>\n",
       " </div>\n",
       " </div>\n",
       " <div class=\"dd-image-box game-boxes hoverable desktop\">\n",
       " <div class=\"dd-image-box-figure u-lazy-load\" data-slideout=\"apachehiveessentials\">\n",
       " <div class=\"dd-image-box-badge-holder u-hide-onerror\">\n",
       " </div>\n",
       " <div class=\"dd-image-holder\">\n",
       " <img class=\"dd-image-box-figure-img\" data-retina-src=\"https://humblebundle.imgix.net/misc/files/hashed/e7921f0f804eba2fb9b4427654fac414549331cb.png?auto=format&amp;dpr=2&amp;fit=clip&amp;h=240&amp;w=180&amp;s=bbe2f5c507cc30df739f84217e79f381\" data-src=\"https://humblebundle.imgix.net/misc/files/hashed/e7921f0f804eba2fb9b4427654fac414549331cb.png?auto=format&amp;fit=crop&amp;fm=png&amp;h=218&amp;w=150&amp;s=1c4744229aeb368b8d02b2a6fa8f1dfd\"/>\n",
       " </div>\n",
       " <span class=\"hover-black-overlay u-hide-onerror\"></span>\n",
       " <div class=\"hover-icon-holder u-hide-onerror\">\n",
       " <i class=\"hb hb-search hover-icon u-center\"></i>\n",
       " </div>\n",
       " <div class=\"dd-gradient-overlay u-hide-onerror\"></div>\n",
       " </div>\n",
       " <div class=\"dd-image-box-caption-container\">\n",
       " <div class=\"dd-captions s-no-platform-icons\">\n",
       " <div class=\"dd-image-box-caption dd-image-box-text dd-image-box-white \">\n",
       " <i class=\"hb hb-lock dd-caption-lock\"></i>\n",
       "     \n",
       "     Apache Hive Essentials\n",
       "   </div>\n",
       " <div class=\"dd-callout subtitle\"><div class=\"accolades\">Second Edition</div></div>\n",
       " </div>\n",
       " </div>\n",
       " </div>\n",
       " <div class=\"dd-image-box game-boxes hoverable desktop\">\n",
       " <div class=\"dd-image-box-figure u-lazy-load\" data-slideout=\"learningelasticstack6\">\n",
       " <div class=\"dd-image-box-badge-holder u-hide-onerror\">\n",
       " </div>\n",
       " <div class=\"dd-image-holder\">\n",
       " <img class=\"dd-image-box-figure-img\" data-retina-src=\"https://humblebundle.imgix.net/misc/files/hashed/8ba8cf0f826b835430081025756210489dfcfaab.png?auto=format&amp;dpr=2&amp;fit=clip&amp;h=240&amp;w=180&amp;s=dfb2ee4a316e7c5cb57e055f4c211830\" data-src=\"https://humblebundle.imgix.net/misc/files/hashed/8ba8cf0f826b835430081025756210489dfcfaab.png?auto=format&amp;fit=crop&amp;fm=png&amp;h=218&amp;w=150&amp;s=a792eb0fd9b596f4645e15f25cc951a5\"/>\n",
       " </div>\n",
       " <span class=\"hover-black-overlay u-hide-onerror\"></span>\n",
       " <div class=\"hover-icon-holder u-hide-onerror\">\n",
       " <i class=\"hb hb-search hover-icon u-center\"></i>\n",
       " </div>\n",
       " <div class=\"dd-gradient-overlay u-hide-onerror\"></div>\n",
       " </div>\n",
       " <div class=\"dd-image-box-caption-container\">\n",
       " <div class=\"dd-captions s-no-platform-icons\">\n",
       " <div class=\"dd-image-box-caption dd-image-box-text dd-image-box-white \">\n",
       " <i class=\"hb hb-lock dd-caption-lock\"></i>\n",
       "     \n",
       "     Learning Elastic Stack 6.0\n",
       "   </div>\n",
       " </div>\n",
       " </div>\n",
       " </div>\n",
       " <div class=\"dd-image-box game-boxes hoverable desktop\">\n",
       " <div class=\"dd-image-box-figure u-lazy-load\" data-slideout=\"learninghadoop2\">\n",
       " <div class=\"dd-image-box-badge-holder u-hide-onerror\">\n",
       " </div>\n",
       " <div class=\"dd-image-holder\">\n",
       " <img class=\"dd-image-box-figure-img\" data-retina-src=\"https://humblebundle.imgix.net/misc/files/hashed/35d2485d5e45aabb576a846897d618b9997dd0f0.png?auto=format&amp;dpr=2&amp;fit=clip&amp;h=240&amp;w=180&amp;s=2ccf1926711dfa9f4f5e52884758542c\" data-src=\"https://humblebundle.imgix.net/misc/files/hashed/35d2485d5e45aabb576a846897d618b9997dd0f0.png?auto=format&amp;fit=crop&amp;fm=png&amp;h=218&amp;w=150&amp;s=49a7b9fa3c9283306877016d73dc4c91\"/>\n",
       " </div>\n",
       " <span class=\"hover-black-overlay u-hide-onerror\"></span>\n",
       " <div class=\"hover-icon-holder u-hide-onerror\">\n",
       " <i class=\"hb hb-search hover-icon u-center\"></i>\n",
       " </div>\n",
       " <div class=\"dd-gradient-overlay u-hide-onerror\"></div>\n",
       " </div>\n",
       " <div class=\"dd-image-box-caption-container\">\n",
       " <div class=\"dd-captions s-no-platform-icons\">\n",
       " <div class=\"dd-image-box-caption dd-image-box-text dd-image-box-white \">\n",
       " <i class=\"hb hb-lock dd-caption-lock\"></i>\n",
       "     \n",
       "     Learning Hadoop 2\n",
       "   </div>\n",
       " </div>\n",
       " </div>\n",
       " </div>\n",
       " <div class=\"dd-image-box game-boxes hoverable desktop\">\n",
       " <div class=\"dd-image-box-figure u-lazy-load\" data-slideout=\"apachesparkwithscala_video\">\n",
       " <div class=\"dd-image-box-badge-holder u-hide-onerror\">\n",
       " </div>\n",
       " <div class=\"dd-image-holder\">\n",
       " <img class=\"dd-image-box-figure-img\" data-retina-src=\"https://humblebundle.imgix.net/misc/files/hashed/ba67b011072203791859dcc82506a6276bdc37cf.png?auto=format&amp;dpr=2&amp;fit=clip&amp;h=240&amp;w=180&amp;s=3a8cbbb966b66c2567cb48fb7e5d6295\" data-src=\"https://humblebundle.imgix.net/misc/files/hashed/ba67b011072203791859dcc82506a6276bdc37cf.png?auto=format&amp;fit=crop&amp;fm=png&amp;h=218&amp;w=150&amp;s=1b9ccb142bc423af75e321ee66e8b22a\"/>\n",
       " </div>\n",
       " <span class=\"hover-black-overlay u-hide-onerror\"></span>\n",
       " <div class=\"hover-icon-holder u-hide-onerror\">\n",
       " <i class=\"hb hb-search hover-icon u-center\"></i>\n",
       " </div>\n",
       " <div class=\"dd-gradient-overlay u-hide-onerror\"></div>\n",
       " </div>\n",
       " <div class=\"dd-image-box-caption-container\">\n",
       " <div class=\"dd-captions s-no-platform-icons\">\n",
       " <div class=\"dd-image-box-caption dd-image-box-text dd-image-box-white \">\n",
       " <i class=\"hb hb-lock dd-caption-lock\"></i>\n",
       "     \n",
       "     Apache Spark with Scala\n",
       "   </div>\n",
       " <div class=\"dd-callout subtitle\">Video</div>\n",
       " </div>\n",
       " </div>\n",
       " </div>\n",
       " <div class=\"dd-image-box game-boxes hoverable desktop\">\n",
       " <div class=\"dd-image-box-figure u-lazy-load\" data-slideout=\"workingwithbigdatainpython_video\">\n",
       " <div class=\"dd-image-box-badge-holder u-hide-onerror\">\n",
       " </div>\n",
       " <div class=\"dd-image-holder\">\n",
       " <img class=\"dd-image-box-figure-img\" data-retina-src=\"https://humblebundle.imgix.net/misc/files/hashed/6a2f50db37b138a254cd4764450a70c3f305e160.png?auto=format&amp;dpr=2&amp;fit=clip&amp;h=240&amp;w=180&amp;s=66a8309132cd36518a263d7a0bba75a1\" data-src=\"https://humblebundle.imgix.net/misc/files/hashed/6a2f50db37b138a254cd4764450a70c3f305e160.png?auto=format&amp;fit=crop&amp;fm=png&amp;h=218&amp;w=150&amp;s=3e5027f53b5857d6e0ea471b0aeb2c0a\"/>\n",
       " </div>\n",
       " <span class=\"hover-black-overlay u-hide-onerror\"></span>\n",
       " <div class=\"hover-icon-holder u-hide-onerror\">\n",
       " <i class=\"hb hb-search hover-icon u-center\"></i>\n",
       " </div>\n",
       " <div class=\"dd-gradient-overlay u-hide-onerror\"></div>\n",
       " </div>\n",
       " <div class=\"dd-image-box-caption-container\">\n",
       " <div class=\"dd-captions s-no-platform-icons\">\n",
       " <div class=\"dd-image-box-caption dd-image-box-text dd-image-box-white \">\n",
       " <i class=\"hb hb-lock dd-caption-lock\"></i>\n",
       "     \n",
       "     Working with Big Data in Python\n",
       "   </div>\n",
       " <div class=\"dd-callout subtitle\">Video</div>\n",
       " </div>\n",
       " </div>\n",
       " </div>\n",
       " <div class=\"dd-image-box game-boxes hoverable desktop\">\n",
       " <div class=\"dd-image-box-figure u-lazy-load\" data-slideout=\"statisticsfordatascience\">\n",
       " <div class=\"dd-image-box-badge-holder u-hide-onerror\">\n",
       " </div>\n",
       " <div class=\"dd-image-holder\">\n",
       " <img class=\"dd-image-box-figure-img\" data-retina-src=\"https://humblebundle.imgix.net/misc/files/hashed/c37e934966b8afc39cea1edb91be7209c7e0b578.png?auto=format&amp;dpr=2&amp;fit=clip&amp;h=240&amp;w=180&amp;s=617f60b6c27d2ef97ecbfc66ff1852fc\" data-src=\"https://humblebundle.imgix.net/misc/files/hashed/c37e934966b8afc39cea1edb91be7209c7e0b578.png?auto=format&amp;fit=crop&amp;fm=png&amp;h=218&amp;w=150&amp;s=b0ebca421cbe9cf301f7164561fa7174\"/>\n",
       " </div>\n",
       " <span class=\"hover-black-overlay u-hide-onerror\"></span>\n",
       " <div class=\"hover-icon-holder u-hide-onerror\">\n",
       " <i class=\"hb hb-search hover-icon u-center\"></i>\n",
       " </div>\n",
       " <div class=\"dd-gradient-overlay u-hide-onerror\"></div>\n",
       " </div>\n",
       " <div class=\"dd-image-box-caption-container\">\n",
       " <div class=\"dd-captions s-no-platform-icons\">\n",
       " <div class=\"dd-image-box-caption dd-image-box-text dd-image-box-white \">\n",
       " <i class=\"hb hb-lock dd-caption-lock\"></i>\n",
       "     \n",
       "     Statistics for Data Science\n",
       "   </div>\n",
       " </div>\n",
       " </div>\n",
       " </div>\n",
       " <div class=\"dd-image-box game-boxes hoverable desktop\">\n",
       " <div class=\"dd-image-box-figure u-lazy-load\" data-slideout=\"pythondataanalysis\">\n",
       " <div class=\"dd-image-box-badge-holder u-hide-onerror\">\n",
       " </div>\n",
       " <div class=\"dd-image-holder\">\n",
       " <img class=\"dd-image-box-figure-img\" data-retina-src=\"https://humblebundle.imgix.net/misc/files/hashed/53310684edf1347b090c5cc8785b48fa7dbad9bd.png?auto=format&amp;dpr=2&amp;fit=clip&amp;h=240&amp;w=180&amp;s=e07113f9da4d60f71599b056f9cf1a9c\" data-src=\"https://humblebundle.imgix.net/misc/files/hashed/53310684edf1347b090c5cc8785b48fa7dbad9bd.png?auto=format&amp;fit=crop&amp;fm=png&amp;h=218&amp;w=150&amp;s=7f6afbfb22ef34a709b302fe1a57b5a7\"/>\n",
       " </div>\n",
       " <span class=\"hover-black-overlay u-hide-onerror\"></span>\n",
       " <div class=\"hover-icon-holder u-hide-onerror\">\n",
       " <i class=\"hb hb-search hover-icon u-center\"></i>\n",
       " </div>\n",
       " <div class=\"dd-gradient-overlay u-hide-onerror\"></div>\n",
       " </div>\n",
       " <div class=\"dd-image-box-caption-container\">\n",
       " <div class=\"dd-captions s-no-platform-icons\">\n",
       " <div class=\"dd-image-box-caption dd-image-box-text dd-image-box-white \">\n",
       " <i class=\"hb hb-lock dd-caption-lock\"></i>\n",
       "     \n",
       "     Python Data Analysis\n",
       "   </div>\n",
       " <div class=\"dd-callout subtitle\"><div class=\"accolades\">Second Edition</div></div>\n",
       " </div>\n",
       " </div>\n",
       " </div>\n",
       " <div class=\"dd-image-box game-boxes hoverable desktop\">\n",
       " <div class=\"dd-image-box-figure u-lazy-load\" data-slideout=\"learningrfordatavisualization_video\">\n",
       " <div class=\"dd-image-box-badge-holder u-hide-onerror\">\n",
       " </div>\n",
       " <div class=\"dd-image-holder\">\n",
       " <img class=\"dd-image-box-figure-img\" data-retina-src=\"https://humblebundle.imgix.net/misc/files/hashed/71336120764ca045bb37f04a5db098af7e32f9bd.png?auto=format&amp;dpr=2&amp;fit=clip&amp;h=240&amp;w=180&amp;s=b4449974187319776fef1f0597444fc2\" data-src=\"https://humblebundle.imgix.net/misc/files/hashed/71336120764ca045bb37f04a5db098af7e32f9bd.png?auto=format&amp;fit=crop&amp;fm=png&amp;h=218&amp;w=150&amp;s=2ff7feb26ebb3f9c2a2a5943502a0e3a\"/>\n",
       " </div>\n",
       " <span class=\"hover-black-overlay u-hide-onerror\"></span>\n",
       " <div class=\"hover-icon-holder u-hide-onerror\">\n",
       " <i class=\"hb hb-search hover-icon u-center\"></i>\n",
       " </div>\n",
       " <div class=\"dd-gradient-overlay u-hide-onerror\"></div>\n",
       " </div>\n",
       " <div class=\"dd-image-box-caption-container\">\n",
       " <div class=\"dd-captions s-no-platform-icons\">\n",
       " <div class=\"dd-image-box-caption dd-image-box-text dd-image-box-white \">\n",
       " <i class=\"hb hb-lock dd-caption-lock\"></i>\n",
       "     \n",
       "     Learning R for Data Visualization\n",
       "   </div>\n",
       " <div class=\"dd-callout subtitle\">Video</div>\n",
       " </div>\n",
       " </div>\n",
       " </div>\n",
       " </div>\n",
       " </div>\n",
       " </div>, <div class=\"main-content-row dd-game-row js-nav-row\">\n",
       " <div class=\"u-constrain-width\">\n",
       " <div class=\"dd-header\">\n",
       " <h2 class=\"dd-header-headline\">\n",
       "     Pay $15 or more to also unlock!\n",
       "   </h2>\n",
       " <h3 class=\"dd-header-subheader\">\n",
       " </h3>\n",
       " </div>\n",
       " <div class=\"dd-image-box-list\">\n",
       " <div class=\"dd-image-box game-boxes hoverable desktop\">\n",
       " <div class=\"dd-image-box-figure u-lazy-load\" data-slideout=\"bigdataanalyticswithhadoop3\">\n",
       " <div class=\"dd-image-box-badge-holder u-hide-onerror\">\n",
       " </div>\n",
       " <div class=\"dd-image-holder\">\n",
       " <img class=\"dd-image-box-figure-img\" data-retina-src=\"https://humblebundle.imgix.net/misc/files/hashed/a973f83a1481f4047af07f8381947ef8ad966ff9.png?auto=format&amp;dpr=2&amp;fit=clip&amp;h=240&amp;w=180&amp;s=2a498c5a401d7536e02bfaed6c84557d\" data-src=\"https://humblebundle.imgix.net/misc/files/hashed/a973f83a1481f4047af07f8381947ef8ad966ff9.png?auto=format&amp;fit=crop&amp;fm=png&amp;h=218&amp;w=150&amp;s=ab005fe02d43a5fe96fb25a4ff34d3b5\"/>\n",
       " </div>\n",
       " <span class=\"hover-black-overlay u-hide-onerror\"></span>\n",
       " <div class=\"hover-icon-holder u-hide-onerror\">\n",
       " <i class=\"hb hb-search hover-icon u-center\"></i>\n",
       " </div>\n",
       " <div class=\"dd-gradient-overlay u-hide-onerror\"></div>\n",
       " </div>\n",
       " <div class=\"dd-image-box-caption-container\">\n",
       " <div class=\"dd-captions s-no-platform-icons\">\n",
       " <div class=\"dd-image-box-caption dd-image-box-text dd-image-box-white \">\n",
       " <i class=\"hb hb-lock dd-caption-lock\"></i>\n",
       "     \n",
       "     Big Data Analytics with Hadoop 3\n",
       "   </div>\n",
       " </div>\n",
       " </div>\n",
       " </div>\n",
       " <div class=\"dd-image-box game-boxes hoverable desktop\">\n",
       " <div class=\"dd-image-box-figure u-lazy-load\" data-slideout=\"masteringmongodb3_x\">\n",
       " <div class=\"dd-image-box-badge-holder u-hide-onerror\">\n",
       " </div>\n",
       " <div class=\"dd-image-holder\">\n",
       " <img class=\"dd-image-box-figure-img\" data-retina-src=\"https://humblebundle.imgix.net/misc/files/hashed/078a568190e5efd5fd4dbd4c91a633ca6b5cc09b.png?auto=format&amp;dpr=2&amp;fit=clip&amp;h=240&amp;w=180&amp;s=bcae1bd542190e86a1befb39acdfb586\" data-src=\"https://humblebundle.imgix.net/misc/files/hashed/078a568190e5efd5fd4dbd4c91a633ca6b5cc09b.png?auto=format&amp;fit=crop&amp;fm=png&amp;h=218&amp;w=150&amp;s=f7de19892adff127e220025a63f5b23b\"/>\n",
       " </div>\n",
       " <span class=\"hover-black-overlay u-hide-onerror\"></span>\n",
       " <div class=\"hover-icon-holder u-hide-onerror\">\n",
       " <i class=\"hb hb-search hover-icon u-center\"></i>\n",
       " </div>\n",
       " <div class=\"dd-gradient-overlay u-hide-onerror\"></div>\n",
       " </div>\n",
       " <div class=\"dd-image-box-caption-container\">\n",
       " <div class=\"dd-captions s-no-platform-icons\">\n",
       " <div class=\"dd-image-box-caption dd-image-box-text dd-image-box-white \">\n",
       " <i class=\"hb hb-lock dd-caption-lock\"></i>\n",
       "     \n",
       "     Mastering MongoDB 3.x\n",
       "   </div>\n",
       " </div>\n",
       " </div>\n",
       " </div>\n",
       " <div class=\"dd-image-box game-boxes hoverable desktop\">\n",
       " <div class=\"dd-image-box-figure u-lazy-load\" data-slideout=\"artificialintelligenceforbigdata\">\n",
       " <div class=\"dd-image-box-badge-holder u-hide-onerror\">\n",
       " </div>\n",
       " <div class=\"dd-image-holder\">\n",
       " <img class=\"dd-image-box-figure-img\" data-retina-src=\"https://humblebundle.imgix.net/misc/files/hashed/406fc49d820d94b5b7a64c94083c80cb2860a006.png?auto=format&amp;dpr=2&amp;fit=clip&amp;h=240&amp;w=180&amp;s=8a8e06f56ce55f7f1cf6d0a0d30ec24f\" data-src=\"https://humblebundle.imgix.net/misc/files/hashed/406fc49d820d94b5b7a64c94083c80cb2860a006.png?auto=format&amp;fit=crop&amp;fm=png&amp;h=218&amp;w=150&amp;s=b7e7a5180d517e8b0fc020b3a50476ba\"/>\n",
       " </div>\n",
       " <span class=\"hover-black-overlay u-hide-onerror\"></span>\n",
       " <div class=\"hover-icon-holder u-hide-onerror\">\n",
       " <i class=\"hb hb-search hover-icon u-center\"></i>\n",
       " </div>\n",
       " <div class=\"dd-gradient-overlay u-hide-onerror\"></div>\n",
       " </div>\n",
       " <div class=\"dd-image-box-caption-container\">\n",
       " <div class=\"dd-captions s-no-platform-icons\">\n",
       " <div class=\"dd-image-box-caption dd-image-box-text dd-image-box-white \">\n",
       " <i class=\"hb hb-lock dd-caption-lock\"></i>\n",
       "     \n",
       "     Artificial Intelligence for Big Data\n",
       "   </div>\n",
       " </div>\n",
       " </div>\n",
       " </div>\n",
       " <div class=\"dd-image-box game-boxes hoverable desktop\">\n",
       " <div class=\"dd-image-box-figure u-lazy-load\" data-slideout=\"bigdataarchitectshandbook\">\n",
       " <div class=\"dd-image-box-badge-holder u-hide-onerror\">\n",
       " </div>\n",
       " <div class=\"dd-image-holder\">\n",
       " <img class=\"dd-image-box-figure-img\" data-retina-src=\"https://humblebundle.imgix.net/misc/files/hashed/380be0f12108d3cb78b2325a3d6356d52740cc0c.png?auto=format&amp;dpr=2&amp;fit=clip&amp;h=240&amp;w=180&amp;s=384b04373653baff55392671d5fcf070\" data-src=\"https://humblebundle.imgix.net/misc/files/hashed/380be0f12108d3cb78b2325a3d6356d52740cc0c.png?auto=format&amp;fit=crop&amp;fm=png&amp;h=218&amp;w=150&amp;s=9946bd7102eecd2f0a04d8e9b5667ac1\"/>\n",
       " </div>\n",
       " <span class=\"hover-black-overlay u-hide-onerror\"></span>\n",
       " <div class=\"hover-icon-holder u-hide-onerror\">\n",
       " <i class=\"hb hb-search hover-icon u-center\"></i>\n",
       " </div>\n",
       " <div class=\"dd-gradient-overlay u-hide-onerror\"></div>\n",
       " </div>\n",
       " <div class=\"dd-image-box-caption-container\">\n",
       " <div class=\"dd-captions s-no-platform-icons\">\n",
       " <div class=\"dd-image-box-caption dd-image-box-text dd-image-box-white \">\n",
       " <i class=\"hb hb-lock dd-caption-lock\"></i>\n",
       "     \n",
       "     Big Data Architect's Handbook\n",
       "   </div>\n",
       " </div>\n",
       " </div>\n",
       " </div>\n",
       " <div class=\"dd-image-box game-boxes hoverable desktop\">\n",
       " <div class=\"dd-image-box-figure u-lazy-load\" data-slideout=\"hadoopreal-worldsolutionscookbook\">\n",
       " <div class=\"dd-image-box-badge-holder u-hide-onerror\">\n",
       " </div>\n",
       " <div class=\"dd-image-holder\">\n",
       " <img class=\"dd-image-box-figure-img\" data-retina-src=\"https://humblebundle.imgix.net/misc/files/hashed/c33fc82526ede7b6fbb9c1a32103e4785a885fab.png?auto=format&amp;dpr=2&amp;fit=clip&amp;h=240&amp;w=180&amp;s=f498460d671db270ded36da918fac72a\" data-src=\"https://humblebundle.imgix.net/misc/files/hashed/c33fc82526ede7b6fbb9c1a32103e4785a885fab.png?auto=format&amp;fit=crop&amp;fm=png&amp;h=218&amp;w=150&amp;s=7d620f70e7bffcaed17396cdf9f64215\"/>\n",
       " </div>\n",
       " <span class=\"hover-black-overlay u-hide-onerror\"></span>\n",
       " <div class=\"hover-icon-holder u-hide-onerror\">\n",
       " <i class=\"hb hb-search hover-icon u-center\"></i>\n",
       " </div>\n",
       " <div class=\"dd-gradient-overlay u-hide-onerror\"></div>\n",
       " </div>\n",
       " <div class=\"dd-image-box-caption-container\">\n",
       " <div class=\"dd-captions s-no-platform-icons\">\n",
       " <div class=\"dd-image-box-caption dd-image-box-text dd-image-box-white \">\n",
       " <i class=\"hb hb-lock dd-caption-lock\"></i>\n",
       "     \n",
       "     Hadoop Real-World Solutions Cookbook\n",
       "   </div>\n",
       " <div class=\"dd-callout subtitle\"><div class=\"accolades\">Second Edition</div></div>\n",
       " </div>\n",
       " </div>\n",
       " </div>\n",
       " <div class=\"dd-image-box game-boxes hoverable desktop\">\n",
       " <div class=\"dd-image-box-figure u-lazy-load\" data-slideout=\"buildscalableapplicationswithapachekafka_video\">\n",
       " <div class=\"dd-image-box-badge-holder u-hide-onerror\">\n",
       " </div>\n",
       " <div class=\"dd-image-holder\">\n",
       " <img class=\"dd-image-box-figure-img\" data-retina-src=\"https://humblebundle.imgix.net/misc/files/hashed/6e99e372a7e8615270c59b594f9d13d59fdca358.png?auto=format&amp;dpr=2&amp;fit=clip&amp;h=240&amp;w=180&amp;s=ca52e45b2eb67ffaa6f9826218c390a8\" data-src=\"https://humblebundle.imgix.net/misc/files/hashed/6e99e372a7e8615270c59b594f9d13d59fdca358.png?auto=format&amp;fit=crop&amp;fm=png&amp;h=218&amp;w=150&amp;s=1960c5b78077d3ea9a5d9b49e09844f5\"/>\n",
       " </div>\n",
       " <span class=\"hover-black-overlay u-hide-onerror\"></span>\n",
       " <div class=\"hover-icon-holder u-hide-onerror\">\n",
       " <i class=\"hb hb-search hover-icon u-center\"></i>\n",
       " </div>\n",
       " <div class=\"dd-gradient-overlay u-hide-onerror\"></div>\n",
       " </div>\n",
       " <div class=\"dd-image-box-caption-container\">\n",
       " <div class=\"dd-captions s-no-platform-icons\">\n",
       " <div class=\"dd-image-box-caption dd-image-box-text dd-image-box-white \">\n",
       " <i class=\"hb hb-lock dd-caption-lock\"></i>\n",
       "     \n",
       "     Build scalable applications with Apache Kafka\n",
       "   </div>\n",
       " <div class=\"dd-callout subtitle\">Video</div>\n",
       " </div>\n",
       " </div>\n",
       " </div>\n",
       " <div class=\"dd-image-box game-boxes hoverable desktop\">\n",
       " <div class=\"dd-image-box-figure u-lazy-load\" data-slideout=\"learningapachecassandra_video\">\n",
       " <div class=\"dd-image-box-badge-holder u-hide-onerror\">\n",
       " </div>\n",
       " <div class=\"dd-image-holder\">\n",
       " <img class=\"dd-image-box-figure-img\" data-retina-src=\"https://humblebundle.imgix.net/misc/files/hashed/97e863caef8c1b8125e4783e6a70789caeaeca67.png?auto=format&amp;dpr=2&amp;fit=clip&amp;h=240&amp;w=180&amp;s=166e6298add0068794398ea05840b5c0\" data-src=\"https://humblebundle.imgix.net/misc/files/hashed/97e863caef8c1b8125e4783e6a70789caeaeca67.png?auto=format&amp;fit=crop&amp;fm=png&amp;h=218&amp;w=150&amp;s=9be4b49ead094b37e8a97e7e20b614cb\"/>\n",
       " </div>\n",
       " <span class=\"hover-black-overlay u-hide-onerror\"></span>\n",
       " <div class=\"hover-icon-holder u-hide-onerror\">\n",
       " <i class=\"hb hb-search hover-icon u-center\"></i>\n",
       " </div>\n",
       " <div class=\"dd-gradient-overlay u-hide-onerror\"></div>\n",
       " </div>\n",
       " <div class=\"dd-image-box-caption-container\">\n",
       " <div class=\"dd-captions s-no-platform-icons\">\n",
       " <div class=\"dd-image-box-caption dd-image-box-text dd-image-box-white \">\n",
       " <i class=\"hb hb-lock dd-caption-lock\"></i>\n",
       "     \n",
       "     Learning Apache Cassandra\n",
       "   </div>\n",
       " <div class=\"dd-callout subtitle\">Video</div>\n",
       " </div>\n",
       " </div>\n",
       " </div>\n",
       " <div class=\"dd-image-box game-boxes hoverable desktop\">\n",
       " <div class=\"dd-image-box-figure u-lazy-load\" data-slideout=\"datasciencealgorithmsinaweek\">\n",
       " <div class=\"dd-image-box-badge-holder u-hide-onerror\">\n",
       " </div>\n",
       " <div class=\"dd-image-holder\">\n",
       " <img class=\"dd-image-box-figure-img\" data-retina-src=\"https://humblebundle.imgix.net/misc/files/hashed/0925f563469d423c32284e80da292afb65789090.png?auto=format&amp;dpr=2&amp;fit=clip&amp;h=240&amp;w=180&amp;s=ef3831fe0efb74fc0bc7f1ff7183b02e\" data-src=\"https://humblebundle.imgix.net/misc/files/hashed/0925f563469d423c32284e80da292afb65789090.png?auto=format&amp;fit=crop&amp;fm=png&amp;h=218&amp;w=150&amp;s=5c61411759b7dd6757f6bfbd170be6b1\"/>\n",
       " </div>\n",
       " <span class=\"hover-black-overlay u-hide-onerror\"></span>\n",
       " <div class=\"hover-icon-holder u-hide-onerror\">\n",
       " <i class=\"hb hb-search hover-icon u-center\"></i>\n",
       " </div>\n",
       " <div class=\"dd-gradient-overlay u-hide-onerror\"></div>\n",
       " </div>\n",
       " <div class=\"dd-image-box-caption-container\">\n",
       " <div class=\"dd-captions s-no-platform-icons\">\n",
       " <div class=\"dd-image-box-caption dd-image-box-text dd-image-box-white \">\n",
       " <i class=\"hb hb-lock dd-caption-lock\"></i>\n",
       "     \n",
       "     Data Science Algorithms in a Week\n",
       "   </div>\n",
       " </div>\n",
       " </div>\n",
       " </div>\n",
       " <div class=\"dd-image-box game-boxes hoverable desktop\">\n",
       " <div class=\"dd-image-box-figure u-lazy-load\" data-slideout=\"pythondatascienceessentials\">\n",
       " <div class=\"dd-image-box-badge-holder u-hide-onerror\">\n",
       " </div>\n",
       " <div class=\"dd-image-holder\">\n",
       " <img class=\"dd-image-box-figure-img\" data-retina-src=\"https://humblebundle.imgix.net/misc/files/hashed/33b1d756f4a2fa548ea137f41a4589193050f169.png?auto=format&amp;dpr=2&amp;fit=clip&amp;h=240&amp;w=180&amp;s=c3fa44f7cc73ea60894931f66b703dfb\" data-src=\"https://humblebundle.imgix.net/misc/files/hashed/33b1d756f4a2fa548ea137f41a4589193050f169.png?auto=format&amp;fit=crop&amp;fm=png&amp;h=218&amp;w=150&amp;s=2d508000a5043d4970116449ce305f84\"/>\n",
       " </div>\n",
       " <span class=\"hover-black-overlay u-hide-onerror\"></span>\n",
       " <div class=\"hover-icon-holder u-hide-onerror\">\n",
       " <i class=\"hb hb-search hover-icon u-center\"></i>\n",
       " </div>\n",
       " <div class=\"dd-gradient-overlay u-hide-onerror\"></div>\n",
       " </div>\n",
       " <div class=\"dd-image-box-caption-container\">\n",
       " <div class=\"dd-captions s-no-platform-icons\">\n",
       " <div class=\"dd-image-box-caption dd-image-box-text dd-image-box-white \">\n",
       " <i class=\"hb hb-lock dd-caption-lock\"></i>\n",
       "     \n",
       "     Python Data Science Essentials\n",
       "   </div>\n",
       " <div class=\"dd-callout subtitle\">Second Edition</div>\n",
       " </div>\n",
       " </div>\n",
       " </div>\n",
       " <div class=\"dd-image-box game-boxes hoverable desktop\">\n",
       " <div class=\"dd-image-box-figure u-lazy-load\" data-slideout=\"masteringtableau10_video\">\n",
       " <div class=\"dd-image-box-badge-holder u-hide-onerror\">\n",
       " </div>\n",
       " <div class=\"dd-image-holder\">\n",
       " <img class=\"dd-image-box-figure-img\" data-retina-src=\"https://humblebundle.imgix.net/misc/files/hashed/23ad1fca23a22042a4a5d0d2c290306208765c09.png?auto=format&amp;dpr=2&amp;fit=clip&amp;h=240&amp;w=180&amp;s=3c082b192b92a323e9fa2c4219a31121\" data-src=\"https://humblebundle.imgix.net/misc/files/hashed/23ad1fca23a22042a4a5d0d2c290306208765c09.png?auto=format&amp;fit=crop&amp;fm=png&amp;h=218&amp;w=150&amp;s=3638df41c275f1db693690a96ca0f703\"/>\n",
       " </div>\n",
       " <span class=\"hover-black-overlay u-hide-onerror\"></span>\n",
       " <div class=\"hover-icon-holder u-hide-onerror\">\n",
       " <i class=\"hb hb-search hover-icon u-center\"></i>\n",
       " </div>\n",
       " <div class=\"dd-gradient-overlay u-hide-onerror\"></div>\n",
       " </div>\n",
       " <div class=\"dd-image-box-caption-container\">\n",
       " <div class=\"dd-captions s-no-platform-icons\">\n",
       " <div class=\"dd-image-box-caption dd-image-box-text dd-image-box-white \">\n",
       " <i class=\"hb hb-lock dd-caption-lock\"></i>\n",
       "     \n",
       "     Mastering Tableau 10\n",
       "   </div>\n",
       " <div class=\"dd-callout subtitle\">Video</div>\n",
       " </div>\n",
       " </div>\n",
       " </div>\n",
       " <div class=\"dd-image-box game-boxes hoverable desktop\">\n",
       " <div class=\"dd-image-box-figure u-lazy-load\" data-slideout=\"javafordatascience\">\n",
       " <div class=\"dd-image-box-badge-holder u-hide-onerror\">\n",
       " </div>\n",
       " <div class=\"dd-image-holder\">\n",
       " <img class=\"dd-image-box-figure-img\" data-retina-src=\"https://humblebundle.imgix.net/misc/files/hashed/54b9251a30c36afc7671179411e3d4cb1484ed88.png?auto=format&amp;dpr=2&amp;fit=clip&amp;h=240&amp;w=180&amp;s=ad2b60286a440ef14fc2747dcc63ccb0\" data-src=\"https://humblebundle.imgix.net/misc/files/hashed/54b9251a30c36afc7671179411e3d4cb1484ed88.png?auto=format&amp;fit=crop&amp;fm=png&amp;h=218&amp;w=150&amp;s=0c2d13e982769972f427ff6c94976a59\"/>\n",
       " </div>\n",
       " <span class=\"hover-black-overlay u-hide-onerror\"></span>\n",
       " <div class=\"hover-icon-holder u-hide-onerror\">\n",
       " <i class=\"hb hb-search hover-icon u-center\"></i>\n",
       " </div>\n",
       " <div class=\"dd-gradient-overlay u-hide-onerror\"></div>\n",
       " </div>\n",
       " <div class=\"dd-image-box-caption-container\">\n",
       " <div class=\"dd-captions s-no-platform-icons\">\n",
       " <div class=\"dd-image-box-caption dd-image-box-text dd-image-box-white \">\n",
       " <i class=\"hb hb-lock dd-caption-lock\"></i>\n",
       "     \n",
       "     Java for Data Science\n",
       "   </div>\n",
       " </div>\n",
       " </div>\n",
       " </div>\n",
       " </div>\n",
       " </div>\n",
       " </div>, <div class=\"main-content-row dd-game-row\">\n",
       " <div class=\"u-constrain-width\">\n",
       " <div class=\"fi-row desktop\">\n",
       " <div class=\"fi-image u-lazy-load\">\n",
       " <img alt=\"Humble Trekkie Bundle Promo\" data-retina-src=\"https://humblebundle.imgix.net/misc/files/hashed/f703cd0527e80bfeec62629795c0cd1052bde060.jpg?auto=format&amp;dpr=2&amp;fit=clip&amp;h=240&amp;w=180&amp;s=1e8f89792f6a8527ad7bb5dc7e9d13ff\" data-src=\"https://humblebundle.imgix.net/misc/files/hashed/f703cd0527e80bfeec62629795c0cd1052bde060.jpg?auto=format&amp;fit=clip&amp;h=240&amp;w=180&amp;s=8545d2536be576bccecc7baa447fe8df\"/>\n",
       " </div>\n",
       " <div class=\"fi-content\">\n",
       " <h1 class=\"fi-content-header\"><p><b>FREE Humble exclusive for <i>Star Trek Online</i>!</b></p></h1>\n",
       " <div class=\"fi-content-body\">\n",
       " <p><em>Star Trek Online </em>is the premier free-to-play MMORPG. Explore the stories and expanded universe of Star Trek in space and on the ground with fully customizable captains, ships, and crew.</p>\n",
       " <p>Join a galaxy full of players with the <strong>Humble Trekkie Pack</strong> – a bundle of goodies including Phoenix Lock Boxes, Mercenary Uniform, XP Boost, and Bridge Officer. Beam up and enjoy, Captains!<br/><br/>NOTE: Please note that if you redeem your code for this game, Humble Bundle may receive a commission or fee.</p>\n",
       " </div>\n",
       " <form action=\"/humbler/submit\" class=\"fi-form\" method=\"post\">\n",
       " <div class=\"fi-signup-box\">\n",
       " <input name=\"amount\" type=\"hidden\" value=\"0\"/>\n",
       " <input name=\"product\" type=\"hidden\" value=\"bigdata_bookbundle\">\n",
       " <input name=\"split-humblebundle\" type=\"hidden\" value=\"100\"/>\n",
       " <input name=\"processor\" type=\"hidden\" value=\"free\"/>\n",
       " <div id=\"free-purchase-popup-captcha\"></div>\n",
       " <div class=\"standard-signup-box\">\n",
       " <input class=\"standard-signup-box-input\" name=\"email\" placeholder=\"youremail@example.com\" type=\"email\"/>\n",
       " <button class=\"standard-signup-box-submit js-free-purchase-submit\" type=\"submit\">Submit</button>\n",
       " </div>\n",
       " <div class=\"fi-subscribe-checkboxes\">\n",
       " <div class=\"fi-subscribe-checkbox\">\n",
       " <input checked=\"\" class=\"fi-subscribe-checkbox-input\" id=\"fi-subscribe\" name=\"subscribe\" type=\"checkbox\"/>\n",
       " <label class=\"fi-subscribe-checkbox-label\" for=\"fi-subscribe\">\n",
       "                 Subscribe me to the Humble Bundle newsletter!\n",
       "                 </label>\n",
       " </div>\n",
       " </div>\n",
       " </input></div>\n",
       " </form>\n",
       " </div>\n",
       " </div>\n",
       " </div>\n",
       " </div>]"
      ]
     },
     "execution_count": 60,
     "metadata": {},
     "output_type": "execute_result"
    }
   ],
   "source": [
    "bundles = beautsoup_object.select('.dd-game-row')\n",
    "bundles"
   ]
  },
  {
   "cell_type": "code",
   "execution_count": 61,
   "metadata": {},
   "outputs": [
    {
     "data": {
      "text/plain": [
       "'Mastering Apache Spark 2.x'"
      ]
     },
     "execution_count": 61,
     "metadata": {},
     "output_type": "execute_result"
    }
   ],
   "source": [
    "product_names = beautsoup_object.select(\".dd-image-box-caption\")[0].text.strip()\n",
    "product_names"
   ]
  },
  {
   "cell_type": "code",
   "execution_count": 41,
   "metadata": {},
   "outputs": [],
   "source": [
    "url = \"https://www.humblebundle.com/books/big-data-books\"\n",
    "response = requests.get(url)\n",
    "\n",
    "bundle_dict = {}\n",
    "\n",
    "for bundle in bundles:\n",
    "    if bundle.select('.dd-header-headline'):\n",
    "        \n",
    "        # Getting bundle name\n",
    "        bundle_name = bundle.select('.dd-header-headline')[0].text.strip()\n",
    "        \n",
    "        # Getting product names\n",
    "        prod_names = bundle.select('.dd-image-box-caption')\n",
    "        prod_names = [prodname.text.strip() for prodname in prod_names]\n",
    "        \n",
    "        # Add a product tier to our data structure\n",
    "        bundle_dict[bundle_name] = {'products':prod_names}"
   ]
  },
  {
   "cell_type": "code",
   "execution_count": 42,
   "metadata": {},
   "outputs": [
    {
     "data": {
      "text/plain": [
       "{'Pay $1 or more!': {'products': ['Mastering Apache Spark 2.x',\n",
       "   'Splunk Essentials',\n",
       "   'MongoDB Cookbook',\n",
       "   'Getting Started with Hadoop 2.x',\n",
       "   'Learning ElasticSearch 5.0',\n",
       "   'Three Months of Mapt Pro for $30 Coupon']},\n",
       " 'Pay $8 or more to also unlock!': {'products': ['Modern Big Data Processing with Hadoop',\n",
       "   'Apache Hive Essentials',\n",
       "   'Learning Elastic Stack 6.0',\n",
       "   'Learning Hadoop 2',\n",
       "   'Apache Spark with Scala',\n",
       "   'Working with Big Data in Python',\n",
       "   'Statistics for Data Science',\n",
       "   'Python Data Analysis',\n",
       "   'Learning R for Data Visualization']},\n",
       " 'Pay $15 or more to also unlock!': {'products': ['Big Data Analytics with Hadoop 3',\n",
       "   'Mastering MongoDB 3.x',\n",
       "   'Artificial Intelligence for Big Data',\n",
       "   \"Big Data Architect's Handbook\",\n",
       "   'Hadoop Real-World Solutions Cookbook',\n",
       "   'Build scalable applications with Apache Kafka',\n",
       "   'Learning Apache Cassandra',\n",
       "   'Data Science Algorithms in a Week',\n",
       "   'Python Data Science Essentials',\n",
       "   'Mastering Tableau 10',\n",
       "   'Java for Data Science']}}"
      ]
     },
     "execution_count": 42,
     "metadata": {},
     "output_type": "execute_result"
    }
   ],
   "source": [
    "bundle_dict"
   ]
  },
  {
   "cell_type": "code",
   "execution_count": 48,
   "metadata": {},
   "outputs": [
    {
     "data": {
      "text/plain": [
       "dict_keys(['Pay $1 or more!', 'Pay $8 or more to also unlock!', 'Pay $15 or more to also unlock!'])"
      ]
     },
     "execution_count": 48,
     "metadata": {},
     "output_type": "execute_result"
    }
   ],
   "source": [
    "bundle_dict.keys()"
   ]
  },
  {
   "cell_type": "markdown",
   "metadata": {},
   "source": [
    "### If we wanted to break this down:"
   ]
  },
  {
   "cell_type": "code",
   "execution_count": 50,
   "metadata": {},
   "outputs": [
    {
     "name": "stdout",
     "output_type": "stream",
     "text": [
      "Pay $1 or more!\n",
      "Products:\n",
      "Mastering Apache Spark 2.x, Splunk Essentials, MongoDB Cookbook, Getting Started with Hadoop 2.x, Learning ElasticSearch 5.0, Three Months of Mapt Pro for $30 Coupon\n",
      "\n",
      "\n",
      "\n",
      "Pay $8 or more to also unlock!\n",
      "Products:\n",
      "Modern Big Data Processing with Hadoop, Apache Hive Essentials, Learning Elastic Stack 6.0, Learning Hadoop 2, Apache Spark with Scala, Working with Big Data in Python, Statistics for Data Science, Python Data Analysis, Learning R for Data Visualization\n",
      "\n",
      "\n",
      "\n",
      "Pay $15 or more to also unlock!\n",
      "Products:\n",
      "Big Data Analytics with Hadoop 3, Mastering MongoDB 3.x, Artificial Intelligence for Big Data, Big Data Architect's Handbook, Hadoop Real-World Solutions Cookbook, Build scalable applications with Apache Kafka, Learning Apache Cassandra, Data Science Algorithms in a Week, Python Data Science Essentials, Mastering Tableau 10, Java for Data Science\n",
      "\n",
      "\n",
      "\n"
     ]
    }
   ],
   "source": [
    "for bundle_name, bundle_info in bundle_dict.items(): \n",
    "    print(bundle_name)\n",
    "    print('Products:')\n",
    "    print(', '.join(bundle_info['products']))\n",
    "    print('\\n\\n')"
   ]
  },
  {
   "cell_type": "markdown",
   "metadata": {},
   "source": [
    "**.items()** is like the **enumerate()** function for ***dictionaries***. It returns a list of dict's (key, value) tuple pairs. The method **.join()** returns a string in which the string elements of sequence have been joined by str separator.\n",
    "\n"
   ]
  },
  {
   "cell_type": "markdown",
   "metadata": {},
   "source": [
    "## Paired Programming"
   ]
  },
  {
   "cell_type": "markdown",
   "metadata": {},
   "source": [
    "Use Plotly's documentation to try and come up with some cool visual. Perhaps we can count how many times 'Apache', 'Spark', 'Scala', and other big data buzz words are used in each of our bundles."
   ]
  },
  {
   "cell_type": "code",
   "execution_count": null,
   "metadata": {},
   "outputs": [],
   "source": []
  },
  {
   "cell_type": "code",
   "execution_count": null,
   "metadata": {},
   "outputs": [],
   "source": []
  },
  {
   "cell_type": "code",
   "execution_count": null,
   "metadata": {},
   "outputs": [],
   "source": []
  },
  {
   "cell_type": "code",
   "execution_count": null,
   "metadata": {},
   "outputs": [],
   "source": []
  },
  {
   "cell_type": "code",
   "execution_count": null,
   "metadata": {},
   "outputs": [],
   "source": []
  },
  {
   "cell_type": "markdown",
   "metadata": {},
   "source": [
    "## Classification Overview"
   ]
  },
  {
   "cell_type": "markdown",
   "metadata": {},
   "source": [
    "We went over regression basics the other day. Today we'll do the same for classification. What is classification, you ask?\n",
    "\n",
    "\"It is customary to refer to problems with a ***continuous or quantitative response*** as **regression** problems. In contrast, when the response variable is **categorical** or **qualitative** in nature, we are dealing with ***classification*** problems. A statistical learning technique to preduct a **qualitative response** is called a ***classifier***.\n",
    "\n",
    "Today, we're going to look at a classifying technique that is a natural extension of linear regression: **logistic regression**."
   ]
  },
  {
   "cell_type": "markdown",
   "metadata": {},
   "source": [
    "***NOTE***: much of the below terminology (especially in the second paragraph) is going to be completely foreign to you. Do not stress over it. I only include it here because this is, technically, what separates a **GLM** from a **linear model**. Much of this will make more sense to you when we finally get into **statistics and modeling techniques**.\n",
    "\n",
    "**Logistic Regression** is a type of ***Generalized* Linear Model (GLM)**. There are a couple differences between ***generalized* linear regression models** and **linear regression models**. \n",
    "\n",
    "The first is that **generalized** models allow our response, or 'y,' variable to follow distributions that are not **normal**. We haven't gone over distributions yet, and so you'll have to hold your breath on that point's further elaboration. What I'll give you now is an example. Say we're trying to predict whether or not someone will sign up for a special promotion. We have data on their income level, their gender, and their age. We want to predict whether or not they'll sign up for our promotion. That response variable will be one of two things: **yes** or **no**. We can translate the yes to **1** and the no to **0**, a sort of ***binary dummy variable***. But in order to predict a response variable that follows a ***Bernoulli*** distribution (more on that later), we have to make sure our output is between 0 and 1. In order to do that, we apply a nonlinear transformation to the right hand side of our regression equation. I'll show more on that on the board.\n",
    "\n",
    "The second is that **GLM**s use ***link*** functions. Instead of equating the mean of the response to the linear combination of explanatory variables, in **GLM** it is a **function** of the response mean, not necessarily the mean itself, that is linearly related to the predictors. The **link function** does just this, \"***linking*** the mean of the response to a linear combination of the explanatory variables."
   ]
  },
  {
   "cell_type": "markdown",
   "metadata": {},
   "source": [
    "#### But so –– textbooks aside –– what is a logistic regression model actually, and how can we use it to perform classification? "
   ]
  },
  {
   "cell_type": "markdown",
   "metadata": {},
   "source": [
    "* Bernoulli response + Logit link = Logistic regression model"
   ]
  },
  {
   "cell_type": "markdown",
   "metadata": {},
   "source": [
    "Let's take a look at the board: "
   ]
  },
  {
   "cell_type": "markdown",
   "metadata": {},
   "source": [
    "## Quasi-homework: SQL for Next Tuesday's Class"
   ]
  },
  {
   "cell_type": "markdown",
   "metadata": {},
   "source": [
    "Please have MySQL downloaded and the sample datasets that I email you uploaded by Thursday's class. Matt will be here to help with your projects, but he can also help you troubleshoot through any MySQL downloading/data uploading issues. It's important that we get this done before meeting next week.\n",
    "\n",
    "For **Windows**:\n",
    "https://www.youtube.com/watch?v=iHTI_Nk7uwo\n",
    "\n",
    "\n",
    "For **Mac**:\n",
    "https://www.youtube.com/watch?v=iOlJxOkp6sI\n",
    "\n"
   ]
  },
  {
   "cell_type": "code",
   "execution_count": null,
   "metadata": {},
   "outputs": [],
   "source": []
  },
  {
   "cell_type": "markdown",
   "metadata": {},
   "source": [
    "## Helpful Links"
   ]
  },
  {
   "cell_type": "markdown",
   "metadata": {},
   "source": [
    "\"Using BeautifulSoup to parse HTML and extract press briefings URLs\": http://www.compjour.org/warmups/govt-text-releases/intro-to-bs4-lxml-parsing-wh-press-briefings/\n",
    "\n"
   ]
  }
 ],
 "metadata": {
  "kernelspec": {
   "display_name": "Python 3",
   "language": "python",
   "name": "python3"
  },
  "language_info": {
   "codemirror_mode": {
    "name": "ipython",
    "version": 3
   },
   "file_extension": ".py",
   "mimetype": "text/x-python",
   "name": "python",
   "nbconvert_exporter": "python",
   "pygments_lexer": "ipython3",
   "version": "3.6.4"
  }
 },
 "nbformat": 4,
 "nbformat_minor": 2
}
